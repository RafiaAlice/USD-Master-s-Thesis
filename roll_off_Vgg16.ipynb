{
 "cells": [
  {
   "cell_type": "code",
   "execution_count": 1,
   "id": "3092498b",
   "metadata": {},
   "outputs": [],
   "source": [
    "import numpy as np\n",
    "import pandas as pd\n",
    "import matplotlib.pyplot as plt\n",
    "from glob import glob\n",
    "from keras import optimizers, losses, activations, models\n",
    "from PIL import ImageFile\n",
    "ImageFile.LOAD_TRUNCATED_IMAGES = True"
   ]
  },
  {
   "cell_type": "code",
   "execution_count": 2,
   "id": "fc4958f4",
   "metadata": {},
   "outputs": [],
   "source": [
    "training_dir = 'C:/Users/ASUS/Desktop/VRolloff/train'\n",
    "validation_dir = 'C:/Users/ASUS/Desktop/VRolloff/valid'\n",
    "test_dir = 'C:/Users/ASUS/Desktop/VRolloff/test'"
   ]
  },
  {
   "cell_type": "code",
   "execution_count": 3,
   "id": "c2947ded",
   "metadata": {},
   "outputs": [],
   "source": [
    "image_files = glob(training_dir + '/*/*.png')\n",
    "valid_image_files = glob(validation_dir + '/*/*.png')"
   ]
  },
  {
   "cell_type": "code",
   "execution_count": 4,
   "id": "eace7ea7",
   "metadata": {},
   "outputs": [
    {
     "name": "stdout",
     "output_type": "stream",
     "text": [
      "Total Classes = 2\n"
     ]
    }
   ],
   "source": [
    "folders = glob(training_dir + '/*')\n",
    "num_classes = len(folders)\n",
    "print ('Total Classes = ' + str(num_classes))"
   ]
  },
  {
   "cell_type": "code",
   "execution_count": 5,
   "id": "ea6ddf8e",
   "metadata": {},
   "outputs": [],
   "source": [
    "import tensorflow as tf \n",
    "from keras.applications.vgg16 import VGG16\n",
    "from keras.models import Model\n",
    "from keras.layers import Flatten, Dense\n",
    "#from keras.preprocessing import image\n",
    "\n",
    "IMAGE_SIZE = [64, 64]  # we will keep the image size as (64,64). You can increase the size for better results. \n",
    "\n",
    "# loading the weights of VGG16 without the top layer. These weights are trained on Imagenet dataset.\n",
    "vgg = VGG16(input_shape = IMAGE_SIZE + [3], weights = 'imagenet', include_top = False)  # input_shape = (64,64,3) as required by VGG\n",
    "\n",
    "for layer in vgg.layers:\n",
    "    layer.trainable = False\n",
    "\n",
    "x = Flatten()(vgg.output)\n",
    "#x = Dense(128, activation = 'relu')(x)   # we can add a new fully connected layer but it will increase the execution time.\n",
    "x = Dense(num_classes, activation = 'softmax')(x)  # adding the output layer with softmax function as this is a multi label classification problem.\n",
    "\n",
    "model = Model(inputs = vgg.input, outputs = x)\n",
    "\n",
    "model.compile(loss='categorical_crossentropy', optimizer='adam', metrics=['accuracy'])"
   ]
  },
  {
   "cell_type": "code",
   "execution_count": 6,
   "id": "8a6f2bd5",
   "metadata": {},
   "outputs": [
    {
     "name": "stdout",
     "output_type": "stream",
     "text": [
      "Model: \"model\"\n",
      "_________________________________________________________________\n",
      " Layer (type)                Output Shape              Param #   \n",
      "=================================================================\n",
      " input_1 (InputLayer)        [(None, 64, 64, 3)]       0         \n",
      "                                                                 \n",
      " block1_conv1 (Conv2D)       (None, 64, 64, 64)        1792      \n",
      "                                                                 \n",
      " block1_conv2 (Conv2D)       (None, 64, 64, 64)        36928     \n",
      "                                                                 \n",
      " block1_pool (MaxPooling2D)  (None, 32, 32, 64)        0         \n",
      "                                                                 \n",
      " block2_conv1 (Conv2D)       (None, 32, 32, 128)       73856     \n",
      "                                                                 \n",
      " block2_conv2 (Conv2D)       (None, 32, 32, 128)       147584    \n",
      "                                                                 \n",
      " block2_pool (MaxPooling2D)  (None, 16, 16, 128)       0         \n",
      "                                                                 \n",
      " block3_conv1 (Conv2D)       (None, 16, 16, 256)       295168    \n",
      "                                                                 \n",
      " block3_conv2 (Conv2D)       (None, 16, 16, 256)       590080    \n",
      "                                                                 \n",
      " block3_conv3 (Conv2D)       (None, 16, 16, 256)       590080    \n",
      "                                                                 \n",
      " block3_pool (MaxPooling2D)  (None, 8, 8, 256)         0         \n",
      "                                                                 \n",
      " block4_conv1 (Conv2D)       (None, 8, 8, 512)         1180160   \n",
      "                                                                 \n",
      " block4_conv2 (Conv2D)       (None, 8, 8, 512)         2359808   \n",
      "                                                                 \n",
      " block4_conv3 (Conv2D)       (None, 8, 8, 512)         2359808   \n",
      "                                                                 \n",
      " block4_pool (MaxPooling2D)  (None, 4, 4, 512)         0         \n",
      "                                                                 \n",
      " block5_conv1 (Conv2D)       (None, 4, 4, 512)         2359808   \n",
      "                                                                 \n",
      " block5_conv2 (Conv2D)       (None, 4, 4, 512)         2359808   \n",
      "                                                                 \n",
      " block5_conv3 (Conv2D)       (None, 4, 4, 512)         2359808   \n",
      "                                                                 \n",
      " block5_pool (MaxPooling2D)  (None, 2, 2, 512)         0         \n",
      "                                                                 \n",
      " flatten (Flatten)           (None, 2048)              0         \n",
      "                                                                 \n",
      " dense (Dense)               (None, 2)                 4098      \n",
      "                                                                 \n",
      "=================================================================\n",
      "Total params: 14,718,786\n",
      "Trainable params: 4,098\n",
      "Non-trainable params: 14,714,688\n",
      "_________________________________________________________________\n"
     ]
    }
   ],
   "source": [
    "model.summary()"
   ]
  },
  {
   "cell_type": "code",
   "execution_count": 7,
   "id": "636cb394",
   "metadata": {},
   "outputs": [
    {
     "name": "stdout",
     "output_type": "stream",
     "text": [
      "Found 495 images belonging to 2 classes.\n",
      "Found 145 images belonging to 2 classes.\n",
      "Found 66 images belonging to 2 classes.\n"
     ]
    }
   ],
   "source": [
    "from keras.preprocessing.image import ImageDataGenerator\n",
    "from keras.applications.vgg16 import preprocess_input\n",
    "\n",
    "training_datagen = ImageDataGenerator(\n",
    "                                    rescale=1./255,   # all pixel values will be between 0 an 1\n",
    "                                    shear_range=0, \n",
    "                                    zoom_range=0,\n",
    "                                    horizontal_flip=False,\n",
    "                                    preprocessing_function=preprocess_input)\n",
    "\n",
    "validation_datagen = ImageDataGenerator(rescale = 1./255, preprocessing_function=preprocess_input)\n",
    "test_datagen = ImageDataGenerator(rescale = 1./255, preprocessing_function=preprocess_input)\n",
    "\n",
    "training_generator = training_datagen.flow_from_directory(training_dir, target_size = IMAGE_SIZE, batch_size = 200, class_mode = 'categorical')\n",
    "validation_generator = validation_datagen.flow_from_directory(validation_dir, target_size = IMAGE_SIZE, batch_size = 200, class_mode = 'categorical')\n",
    "test_generator = test_datagen.flow_from_directory(test_dir, target_size = IMAGE_SIZE, batch_size = 200, class_mode = 'categorical')"
   ]
  },
  {
   "cell_type": "code",
   "execution_count": 8,
   "id": "8bb88276",
   "metadata": {},
   "outputs": [
    {
     "name": "stderr",
     "output_type": "stream",
     "text": [
      "C:\\Users\\ASUS\\anaconda3\\lib\\site-packages\\keras\\optimizer_v2\\adam.py:105: UserWarning: The `lr` argument is deprecated, use `learning_rate` instead.\n",
      "  super(Adam, self).__init__(name, **kwargs)\n"
     ]
    }
   ],
   "source": [
    "import tensorflow as tf\n",
    "from keras.models import *\n",
    "from keras.layers import *\n",
    "opt = tf.optimizers.Adam(lr=1e-3)\n",
    "model.compile(optimizer=opt, \n",
    "    loss=losses.binary_crossentropy, \n",
    "    metrics=['accuracy', 'Precision', 'AUC', tf.keras.metrics.Recall(), tf.keras.metrics.TrueNegatives()])"
   ]
  },
  {
   "cell_type": "code",
   "execution_count": 9,
   "id": "862b0170",
   "metadata": {},
   "outputs": [
    {
     "name": "stdout",
     "output_type": "stream",
     "text": [
      "Epoch 1/100\n",
      "3/3 [==============================] - 22s 8s/step - loss: 0.7744 - accuracy: 0.5253 - precision: 0.5253 - auc: 0.5405 - recall: 0.5253 - true_negatives: 260.0000 - val_loss: 0.7446 - val_accuracy: 0.5172 - val_precision: 0.5172 - val_auc: 0.4081 - val_recall: 0.5172 - val_true_negatives: 75.0000\n",
      "Epoch 2/100\n",
      "3/3 [==============================] - 17s 7s/step - loss: 0.6723 - accuracy: 0.5919 - precision: 0.5919 - auc: 0.6433 - recall: 0.5919 - true_negatives: 293.0000 - val_loss: 0.7425 - val_accuracy: 0.3172 - val_precision: 0.3172 - val_auc: 0.2734 - val_recall: 0.3172 - val_true_negatives: 46.0000\n",
      "Epoch 3/100\n",
      "3/3 [==============================] - 16s 5s/step - loss: 0.6585 - accuracy: 0.6929 - precision: 0.6929 - auc: 0.7166 - recall: 0.6929 - true_negatives: 343.0000 - val_loss: 0.7726 - val_accuracy: 0.3448 - val_precision: 0.3448 - val_auc: 0.3063 - val_recall: 0.3448 - val_true_negatives: 50.0000\n",
      "Epoch 4/100\n",
      "3/3 [==============================] - 18s 8s/step - loss: 0.6434 - accuracy: 0.7010 - precision: 0.7010 - auc: 0.7285 - recall: 0.7010 - true_negatives: 347.0000 - val_loss: 0.7865 - val_accuracy: 0.3241 - val_precision: 0.3241 - val_auc: 0.2973 - val_recall: 0.3241 - val_true_negatives: 47.0000\n",
      "Epoch 5/100\n",
      "3/3 [==============================] - 19s 8s/step - loss: 0.6177 - accuracy: 0.6909 - precision: 0.6909 - auc: 0.7502 - recall: 0.6909 - true_negatives: 342.0000 - val_loss: 0.7955 - val_accuracy: 0.3310 - val_precision: 0.3310 - val_auc: 0.2965 - val_recall: 0.3310 - val_true_negatives: 48.0000\n",
      "Epoch 6/100\n",
      "3/3 [==============================] - 20s 7s/step - loss: 0.6027 - accuracy: 0.6828 - precision: 0.6828 - auc: 0.7548 - recall: 0.6828 - true_negatives: 338.0000 - val_loss: 0.8109 - val_accuracy: 0.3034 - val_precision: 0.3034 - val_auc: 0.3026 - val_recall: 0.3034 - val_true_negatives: 44.0000\n",
      "Epoch 7/100\n",
      "3/3 [==============================] - 20s 6s/step - loss: 0.5957 - accuracy: 0.6566 - precision: 0.6566 - auc: 0.7540 - recall: 0.6566 - true_negatives: 325.0000 - val_loss: 0.8234 - val_accuracy: 0.3241 - val_precision: 0.3241 - val_auc: 0.3119 - val_recall: 0.3241 - val_true_negatives: 47.0000\n",
      "Epoch 8/100\n",
      "3/3 [==============================] - 17s 5s/step - loss: 0.5916 - accuracy: 0.6566 - precision: 0.6566 - auc: 0.7547 - recall: 0.6566 - true_negatives: 325.0000 - val_loss: 0.8288 - val_accuracy: 0.3310 - val_precision: 0.3310 - val_auc: 0.3141 - val_recall: 0.3310 - val_true_negatives: 48.0000\n",
      "Epoch 9/100\n",
      "3/3 [==============================] - 19s 7s/step - loss: 0.5833 - accuracy: 0.6687 - precision: 0.6687 - auc: 0.7618 - recall: 0.6687 - true_negatives: 331.0000 - val_loss: 0.8299 - val_accuracy: 0.3172 - val_precision: 0.3172 - val_auc: 0.3137 - val_recall: 0.3172 - val_true_negatives: 46.0000\n",
      "Epoch 10/100\n",
      "3/3 [==============================] - 20s 7s/step - loss: 0.5746 - accuracy: 0.6929 - precision: 0.6929 - auc: 0.7721 - recall: 0.6929 - true_negatives: 343.0000 - val_loss: 0.8320 - val_accuracy: 0.3172 - val_precision: 0.3172 - val_auc: 0.3150 - val_recall: 0.3172 - val_true_negatives: 46.0000\n",
      "Epoch 11/100\n",
      "3/3 [==============================] - 20s 8s/step - loss: 0.5707 - accuracy: 0.7111 - precision: 0.7111 - auc: 0.7764 - recall: 0.7111 - true_negatives: 352.0000 - val_loss: 0.8333 - val_accuracy: 0.3379 - val_precision: 0.3379 - val_auc: 0.3274 - val_recall: 0.3379 - val_true_negatives: 49.0000\n",
      "Epoch 12/100\n",
      "3/3 [==============================] - 17s 6s/step - loss: 0.5670 - accuracy: 0.7172 - precision: 0.7172 - auc: 0.7801 - recall: 0.7172 - true_negatives: 355.0000 - val_loss: 0.8298 - val_accuracy: 0.3310 - val_precision: 0.3310 - val_auc: 0.3306 - val_recall: 0.3310 - val_true_negatives: 48.0000\n",
      "Epoch 13/100\n",
      "3/3 [==============================] - 17s 6s/step - loss: 0.5616 - accuracy: 0.7212 - precision: 0.7212 - auc: 0.7850 - recall: 0.7212 - true_negatives: 357.0000 - val_loss: 0.8245 - val_accuracy: 0.3310 - val_precision: 0.3310 - val_auc: 0.3340 - val_recall: 0.3310 - val_true_negatives: 48.0000\n",
      "Epoch 14/100\n",
      "3/3 [==============================] - 18s 8s/step - loss: 0.5559 - accuracy: 0.7212 - precision: 0.7212 - auc: 0.7900 - recall: 0.7212 - true_negatives: 357.0000 - val_loss: 0.8189 - val_accuracy: 0.3310 - val_precision: 0.3310 - val_auc: 0.3410 - val_recall: 0.3310 - val_true_negatives: 48.0000\n",
      "Epoch 15/100\n",
      "3/3 [==============================] - 18s 6s/step - loss: 0.5537 - accuracy: 0.7111 - precision: 0.7111 - auc: 0.7915 - recall: 0.7111 - true_negatives: 352.0000 - val_loss: 0.8144 - val_accuracy: 0.3586 - val_precision: 0.3586 - val_auc: 0.3499 - val_recall: 0.3586 - val_true_negatives: 52.0000\n",
      "Epoch 16/100\n",
      "3/3 [==============================] - 19s 6s/step - loss: 0.5493 - accuracy: 0.7152 - precision: 0.7152 - auc: 0.7963 - recall: 0.7152 - true_negatives: 354.0000 - val_loss: 0.8109 - val_accuracy: 0.3586 - val_precision: 0.3586 - val_auc: 0.3534 - val_recall: 0.3586 - val_true_negatives: 52.0000\n",
      "Epoch 17/100\n",
      "3/3 [==============================] - 17s 6s/step - loss: 0.5456 - accuracy: 0.7313 - precision: 0.7313 - auc: 0.8009 - recall: 0.7313 - true_negatives: 362.0000 - val_loss: 0.8078 - val_accuracy: 0.3586 - val_precision: 0.3586 - val_auc: 0.3592 - val_recall: 0.3586 - val_true_negatives: 52.0000\n",
      "Epoch 18/100\n",
      "3/3 [==============================] - 18s 6s/step - loss: 0.5416 - accuracy: 0.7232 - precision: 0.7232 - auc: 0.8046 - recall: 0.7232 - true_negatives: 358.0000 - val_loss: 0.8047 - val_accuracy: 0.3655 - val_precision: 0.3655 - val_auc: 0.3654 - val_recall: 0.3655 - val_true_negatives: 53.0000\n",
      "Epoch 19/100\n",
      "3/3 [==============================] - 18s 7s/step - loss: 0.5383 - accuracy: 0.7273 - precision: 0.7273 - auc: 0.8082 - recall: 0.7273 - true_negatives: 360.0000 - val_loss: 0.8035 - val_accuracy: 0.3724 - val_precision: 0.3724 - val_auc: 0.3689 - val_recall: 0.3724 - val_true_negatives: 54.0000\n",
      "Epoch 20/100\n",
      "3/3 [==============================] - 17s 6s/step - loss: 0.5353 - accuracy: 0.7313 - precision: 0.7313 - auc: 0.8112 - recall: 0.7313 - true_negatives: 362.0000 - val_loss: 0.8011 - val_accuracy: 0.3724 - val_precision: 0.3724 - val_auc: 0.3718 - val_recall: 0.3724 - val_true_negatives: 54.0000\n",
      "Epoch 21/100\n",
      "3/3 [==============================] - 19s 8s/step - loss: 0.5317 - accuracy: 0.7313 - precision: 0.7313 - auc: 0.8146 - recall: 0.7313 - true_negatives: 362.0000 - val_loss: 0.7999 - val_accuracy: 0.3862 - val_precision: 0.3862 - val_auc: 0.3757 - val_recall: 0.3862 - val_true_negatives: 56.0000\n",
      "Epoch 22/100\n",
      "3/3 [==============================] - 20s 7s/step - loss: 0.5290 - accuracy: 0.7333 - precision: 0.7333 - auc: 0.8174 - recall: 0.7333 - true_negatives: 363.0000 - val_loss: 0.7989 - val_accuracy: 0.4000 - val_precision: 0.4000 - val_auc: 0.3853 - val_recall: 0.4000 - val_true_negatives: 58.0000\n",
      "Epoch 23/100\n",
      "3/3 [==============================] - 20s 9s/step - loss: 0.5273 - accuracy: 0.7394 - precision: 0.7394 - auc: 0.8188 - recall: 0.7394 - true_negatives: 366.0000 - val_loss: 0.7972 - val_accuracy: 0.4138 - val_precision: 0.4138 - val_auc: 0.4043 - val_recall: 0.4138 - val_true_negatives: 60.0000\n",
      "Epoch 24/100\n",
      "3/3 [==============================] - 20s 6s/step - loss: 0.5249 - accuracy: 0.7394 - precision: 0.7394 - auc: 0.8208 - recall: 0.7394 - true_negatives: 366.0000 - val_loss: 0.7934 - val_accuracy: 0.4207 - val_precision: 0.4207 - val_auc: 0.4018 - val_recall: 0.4207 - val_true_negatives: 61.0000\n",
      "Epoch 25/100\n",
      "3/3 [==============================] - 19s 6s/step - loss: 0.5220 - accuracy: 0.7434 - precision: 0.7434 - auc: 0.8239 - recall: 0.7434 - true_negatives: 368.0000 - val_loss: 0.7914 - val_accuracy: 0.3793 - val_precision: 0.3793 - val_auc: 0.3924 - val_recall: 0.3793 - val_true_negatives: 55.0000\n",
      "Epoch 26/100\n",
      "3/3 [==============================] - 17s 5s/step - loss: 0.5201 - accuracy: 0.7354 - precision: 0.7354 - auc: 0.8263 - recall: 0.7354 - true_negatives: 364.0000 - val_loss: 0.7903 - val_accuracy: 0.3724 - val_precision: 0.3724 - val_auc: 0.3945 - val_recall: 0.3724 - val_true_negatives: 54.0000\n",
      "Epoch 27/100\n"
     ]
    },
    {
     "name": "stdout",
     "output_type": "stream",
     "text": [
      "3/3 [==============================] - 17s 6s/step - loss: 0.5171 - accuracy: 0.7374 - precision: 0.7374 - auc: 0.8292 - recall: 0.7374 - true_negatives: 365.0000 - val_loss: 0.7922 - val_accuracy: 0.4276 - val_precision: 0.4276 - val_auc: 0.4065 - val_recall: 0.4276 - val_true_negatives: 62.0000\n",
      "Epoch 28/100\n",
      "3/3 [==============================] - 19s 6s/step - loss: 0.5155 - accuracy: 0.7475 - precision: 0.7475 - auc: 0.8300 - recall: 0.7475 - true_negatives: 370.0000 - val_loss: 0.7924 - val_accuracy: 0.4483 - val_precision: 0.4483 - val_auc: 0.4168 - val_recall: 0.4483 - val_true_negatives: 65.0000\n",
      "Epoch 29/100\n",
      "3/3 [==============================] - 20s 8s/step - loss: 0.5122 - accuracy: 0.7495 - precision: 0.7495 - auc: 0.8330 - recall: 0.7495 - true_negatives: 371.0000 - val_loss: 0.7880 - val_accuracy: 0.4414 - val_precision: 0.4414 - val_auc: 0.4112 - val_recall: 0.4414 - val_true_negatives: 64.0000\n",
      "Epoch 30/100\n",
      "3/3 [==============================] - 19s 6s/step - loss: 0.5100 - accuracy: 0.7455 - precision: 0.7455 - auc: 0.8360 - recall: 0.7455 - true_negatives: 369.0000 - val_loss: 0.7868 - val_accuracy: 0.4276 - val_precision: 0.4276 - val_auc: 0.4104 - val_recall: 0.4276 - val_true_negatives: 62.0000\n",
      "Epoch 31/100\n",
      "3/3 [==============================] - 18s 7s/step - loss: 0.5079 - accuracy: 0.7455 - precision: 0.7455 - auc: 0.8376 - recall: 0.7455 - true_negatives: 369.0000 - val_loss: 0.7880 - val_accuracy: 0.4552 - val_precision: 0.4552 - val_auc: 0.4191 - val_recall: 0.4552 - val_true_negatives: 66.0000\n",
      "Epoch 32/100\n",
      "3/3 [==============================] - 18s 8s/step - loss: 0.5058 - accuracy: 0.7495 - precision: 0.7495 - auc: 0.8388 - recall: 0.7495 - true_negatives: 371.0000 - val_loss: 0.7913 - val_accuracy: 0.4621 - val_precision: 0.4621 - val_auc: 0.4250 - val_recall: 0.4621 - val_true_negatives: 67.0000\n",
      "Epoch 33/100\n",
      "3/3 [==============================] - 18s 7s/step - loss: 0.5036 - accuracy: 0.7495 - precision: 0.7495 - auc: 0.8404 - recall: 0.7495 - true_negatives: 371.0000 - val_loss: 0.7904 - val_accuracy: 0.4345 - val_precision: 0.4345 - val_auc: 0.4166 - val_recall: 0.4345 - val_true_negatives: 63.0000\n",
      "Epoch 34/100\n",
      "3/3 [==============================] - 19s 6s/step - loss: 0.5017 - accuracy: 0.7495 - precision: 0.7495 - auc: 0.8418 - recall: 0.7495 - true_negatives: 371.0000 - val_loss: 0.7905 - val_accuracy: 0.4276 - val_precision: 0.4276 - val_auc: 0.4146 - val_recall: 0.4276 - val_true_negatives: 62.0000\n",
      "Epoch 35/100\n",
      "3/3 [==============================] - 19s 6s/step - loss: 0.4998 - accuracy: 0.7576 - precision: 0.7576 - auc: 0.8433 - recall: 0.7576 - true_negatives: 375.0000 - val_loss: 0.7916 - val_accuracy: 0.4276 - val_precision: 0.4276 - val_auc: 0.4147 - val_recall: 0.4276 - val_true_negatives: 62.0000\n",
      "Epoch 36/100\n",
      "3/3 [==============================] - 19s 6s/step - loss: 0.4979 - accuracy: 0.7576 - precision: 0.7576 - auc: 0.8448 - recall: 0.7576 - true_negatives: 375.0000 - val_loss: 0.7927 - val_accuracy: 0.4276 - val_precision: 0.4276 - val_auc: 0.4169 - val_recall: 0.4276 - val_true_negatives: 62.0000\n",
      "Epoch 37/100\n",
      "3/3 [==============================] - 19s 6s/step - loss: 0.4960 - accuracy: 0.7576 - precision: 0.7576 - auc: 0.8460 - recall: 0.7576 - true_negatives: 375.0000 - val_loss: 0.7944 - val_accuracy: 0.4483 - val_precision: 0.4483 - val_auc: 0.4189 - val_recall: 0.4483 - val_true_negatives: 65.0000\n",
      "Epoch 38/100\n",
      "3/3 [==============================] - 18s 6s/step - loss: 0.4944 - accuracy: 0.7576 - precision: 0.7576 - auc: 0.8469 - recall: 0.7576 - true_negatives: 375.0000 - val_loss: 0.7954 - val_accuracy: 0.4276 - val_precision: 0.4276 - val_auc: 0.4163 - val_recall: 0.4276 - val_true_negatives: 62.0000\n",
      "Epoch 39/100\n",
      "3/3 [==============================] - 16s 5s/step - loss: 0.4924 - accuracy: 0.7616 - precision: 0.7616 - auc: 0.8488 - recall: 0.7616 - true_negatives: 377.0000 - val_loss: 0.7960 - val_accuracy: 0.4345 - val_precision: 0.4345 - val_auc: 0.4173 - val_recall: 0.4345 - val_true_negatives: 63.0000\n",
      "Epoch 40/100\n",
      "3/3 [==============================] - 18s 6s/step - loss: 0.4909 - accuracy: 0.7596 - precision: 0.7596 - auc: 0.8496 - recall: 0.7596 - true_negatives: 376.0000 - val_loss: 0.7964 - val_accuracy: 0.4345 - val_precision: 0.4345 - val_auc: 0.4181 - val_recall: 0.4345 - val_true_negatives: 63.0000\n",
      "Epoch 41/100\n",
      "3/3 [==============================] - 21s 7s/step - loss: 0.4890 - accuracy: 0.7616 - precision: 0.7616 - auc: 0.8506 - recall: 0.7616 - true_negatives: 377.0000 - val_loss: 0.7965 - val_accuracy: 0.4690 - val_precision: 0.4690 - val_auc: 0.4297 - val_recall: 0.4690 - val_true_negatives: 68.0000\n",
      "Epoch 42/100\n",
      "3/3 [==============================] - 20s 6s/step - loss: 0.4875 - accuracy: 0.7657 - precision: 0.7657 - auc: 0.8524 - recall: 0.7657 - true_negatives: 379.0000 - val_loss: 0.7956 - val_accuracy: 0.4621 - val_precision: 0.4621 - val_auc: 0.4313 - val_recall: 0.4621 - val_true_negatives: 67.0000\n",
      "Epoch 43/100\n",
      "3/3 [==============================] - 18s 6s/step - loss: 0.4855 - accuracy: 0.7677 - precision: 0.7677 - auc: 0.8542 - recall: 0.7677 - true_negatives: 380.0000 - val_loss: 0.7948 - val_accuracy: 0.4552 - val_precision: 0.4552 - val_auc: 0.4279 - val_recall: 0.4552 - val_true_negatives: 66.0000\n",
      "Epoch 44/100\n",
      "3/3 [==============================] - 20s 7s/step - loss: 0.4843 - accuracy: 0.7636 - precision: 0.7636 - auc: 0.8551 - recall: 0.7636 - true_negatives: 378.0000 - val_loss: 0.7963 - val_accuracy: 0.4483 - val_precision: 0.4483 - val_auc: 0.4236 - val_recall: 0.4483 - val_true_negatives: 65.0000\n",
      "Epoch 45/100\n",
      "3/3 [==============================] - 18s 6s/step - loss: 0.4821 - accuracy: 0.7657 - precision: 0.7657 - auc: 0.8568 - recall: 0.7657 - true_negatives: 379.0000 - val_loss: 0.7969 - val_accuracy: 0.4552 - val_precision: 0.4552 - val_auc: 0.4277 - val_recall: 0.4552 - val_true_negatives: 66.0000\n",
      "Epoch 46/100\n",
      "3/3 [==============================] - 17s 7s/step - loss: 0.4805 - accuracy: 0.7717 - precision: 0.7717 - auc: 0.8579 - recall: 0.7717 - true_negatives: 382.0000 - val_loss: 0.7978 - val_accuracy: 0.4621 - val_precision: 0.4621 - val_auc: 0.4328 - val_recall: 0.4621 - val_true_negatives: 67.0000\n",
      "Epoch 47/100\n",
      "3/3 [==============================] - 19s 6s/step - loss: 0.4792 - accuracy: 0.7717 - precision: 0.7717 - auc: 0.8587 - recall: 0.7717 - true_negatives: 382.0000 - val_loss: 0.7978 - val_accuracy: 0.4552 - val_precision: 0.4552 - val_auc: 0.4346 - val_recall: 0.4552 - val_true_negatives: 66.0000\n",
      "Epoch 48/100\n",
      "3/3 [==============================] - 18s 7s/step - loss: 0.4775 - accuracy: 0.7697 - precision: 0.7697 - auc: 0.8598 - recall: 0.7697 - true_negatives: 381.0000 - val_loss: 0.7987 - val_accuracy: 0.4552 - val_precision: 0.4552 - val_auc: 0.4343 - val_recall: 0.4552 - val_true_negatives: 66.0000\n",
      "Epoch 49/100\n",
      "3/3 [==============================] - 20s 9s/step - loss: 0.4760 - accuracy: 0.7697 - precision: 0.7697 - auc: 0.8609 - recall: 0.7697 - true_negatives: 381.0000 - val_loss: 0.7981 - val_accuracy: 0.4621 - val_precision: 0.4621 - val_auc: 0.4314 - val_recall: 0.4621 - val_true_negatives: 67.0000\n",
      "Epoch 50/100\n",
      "3/3 [==============================] - 20s 7s/step - loss: 0.4746 - accuracy: 0.7717 - precision: 0.7717 - auc: 0.8621 - recall: 0.7717 - true_negatives: 382.0000 - val_loss: 0.7980 - val_accuracy: 0.4621 - val_precision: 0.4621 - val_auc: 0.4320 - val_recall: 0.4621 - val_true_negatives: 67.0000\n",
      "Epoch 51/100\n",
      "3/3 [==============================] - 21s 9s/step - loss: 0.4737 - accuracy: 0.7636 - precision: 0.7636 - auc: 0.8628 - recall: 0.7636 - true_negatives: 378.0000 - val_loss: 0.7954 - val_accuracy: 0.4690 - val_precision: 0.4690 - val_auc: 0.4339 - val_recall: 0.4690 - val_true_negatives: 68.0000\n",
      "Epoch 52/100\n",
      "3/3 [==============================] - 24s 10s/step - loss: 0.4720 - accuracy: 0.7737 - precision: 0.7737 - auc: 0.8640 - recall: 0.7737 - true_negatives: 383.0000 - val_loss: 0.7975 - val_accuracy: 0.4759 - val_precision: 0.4759 - val_auc: 0.4424 - val_recall: 0.4759 - val_true_negatives: 69.0000\n",
      "Epoch 53/100\n"
     ]
    },
    {
     "name": "stdout",
     "output_type": "stream",
     "text": [
      "3/3 [==============================] - 22s 7s/step - loss: 0.4703 - accuracy: 0.7717 - precision: 0.7717 - auc: 0.8653 - recall: 0.7717 - true_negatives: 382.0000 - val_loss: 0.7984 - val_accuracy: 0.4897 - val_precision: 0.4897 - val_auc: 0.4442 - val_recall: 0.4897 - val_true_negatives: 71.0000\n",
      "Epoch 54/100\n",
      "3/3 [==============================] - 25s 10s/step - loss: 0.4689 - accuracy: 0.7717 - precision: 0.7717 - auc: 0.8660 - recall: 0.7717 - true_negatives: 382.0000 - val_loss: 0.7999 - val_accuracy: 0.4897 - val_precision: 0.4897 - val_auc: 0.4438 - val_recall: 0.4897 - val_true_negatives: 71.0000\n",
      "Epoch 55/100\n",
      "3/3 [==============================] - 27s 9s/step - loss: 0.4678 - accuracy: 0.7798 - precision: 0.7798 - auc: 0.8668 - recall: 0.7798 - true_negatives: 386.0000 - val_loss: 0.7993 - val_accuracy: 0.4690 - val_precision: 0.4690 - val_auc: 0.4393 - val_recall: 0.4690 - val_true_negatives: 68.0000\n",
      "Epoch 56/100\n",
      "3/3 [==============================] - 19s 6s/step - loss: 0.4664 - accuracy: 0.7778 - precision: 0.7778 - auc: 0.8680 - recall: 0.7778 - true_negatives: 385.0000 - val_loss: 0.7998 - val_accuracy: 0.4690 - val_precision: 0.4690 - val_auc: 0.4398 - val_recall: 0.4690 - val_true_negatives: 68.0000\n",
      "Epoch 57/100\n",
      "3/3 [==============================] - 18s 7s/step - loss: 0.4647 - accuracy: 0.7778 - precision: 0.7778 - auc: 0.8692 - recall: 0.7778 - true_negatives: 385.0000 - val_loss: 0.8002 - val_accuracy: 0.4828 - val_precision: 0.4828 - val_auc: 0.4421 - val_recall: 0.4828 - val_true_negatives: 70.0000\n",
      "Epoch 58/100\n",
      "3/3 [==============================] - 22s 9s/step - loss: 0.4657 - accuracy: 0.7778 - precision: 0.7778 - auc: 0.8679 - recall: 0.7778 - true_negatives: 385.0000 - val_loss: 0.8047 - val_accuracy: 0.5103 - val_precision: 0.5103 - val_auc: 0.4481 - val_recall: 0.5103 - val_true_negatives: 74.0000\n",
      "Epoch 59/100\n",
      "3/3 [==============================] - 22s 8s/step - loss: 0.4632 - accuracy: 0.7798 - precision: 0.7798 - auc: 0.8696 - recall: 0.7798 - true_negatives: 386.0000 - val_loss: 0.8001 - val_accuracy: 0.4828 - val_precision: 0.4828 - val_auc: 0.4454 - val_recall: 0.4828 - val_true_negatives: 70.0000\n",
      "Epoch 60/100\n",
      "3/3 [==============================] - 23s 8s/step - loss: 0.4611 - accuracy: 0.7778 - precision: 0.7778 - auc: 0.8721 - recall: 0.7778 - true_negatives: 385.0000 - val_loss: 0.7989 - val_accuracy: 0.4897 - val_precision: 0.4897 - val_auc: 0.4464 - val_recall: 0.4897 - val_true_negatives: 71.0000\n",
      "Epoch 61/100\n",
      "3/3 [==============================] - 20s 8s/step - loss: 0.4604 - accuracy: 0.7778 - precision: 0.7778 - auc: 0.8726 - recall: 0.7778 - true_negatives: 385.0000 - val_loss: 0.8006 - val_accuracy: 0.4828 - val_precision: 0.4828 - val_auc: 0.4491 - val_recall: 0.4828 - val_true_negatives: 70.0000\n",
      "Epoch 62/100\n",
      "3/3 [==============================] - 22s 10s/step - loss: 0.4589 - accuracy: 0.7838 - precision: 0.7838 - auc: 0.8732 - recall: 0.7838 - true_negatives: 388.0000 - val_loss: 0.7996 - val_accuracy: 0.4759 - val_precision: 0.4759 - val_auc: 0.4401 - val_recall: 0.4759 - val_true_negatives: 69.0000\n",
      "Epoch 63/100\n",
      "3/3 [==============================] - 23s 10s/step - loss: 0.4574 - accuracy: 0.7798 - precision: 0.7798 - auc: 0.8740 - recall: 0.7798 - true_negatives: 386.0000 - val_loss: 0.8038 - val_accuracy: 0.4690 - val_precision: 0.4690 - val_auc: 0.4380 - val_recall: 0.4690 - val_true_negatives: 68.0000\n",
      "Epoch 64/100\n",
      "3/3 [==============================] - 19s 8s/step - loss: 0.4561 - accuracy: 0.7859 - precision: 0.7859 - auc: 0.8741 - recall: 0.7859 - true_negatives: 389.0000 - val_loss: 0.8085 - val_accuracy: 0.4690 - val_precision: 0.4690 - val_auc: 0.4401 - val_recall: 0.4690 - val_true_negatives: 68.0000\n",
      "Epoch 65/100\n",
      "3/3 [==============================] - 17s 7s/step - loss: 0.4549 - accuracy: 0.7859 - precision: 0.7859 - auc: 0.8744 - recall: 0.7859 - true_negatives: 389.0000 - val_loss: 0.8100 - val_accuracy: 0.4552 - val_precision: 0.4552 - val_auc: 0.4333 - val_recall: 0.4552 - val_true_negatives: 66.0000\n",
      "Epoch 66/100\n",
      "3/3 [==============================] - 20s 9s/step - loss: 0.4534 - accuracy: 0.7859 - precision: 0.7859 - auc: 0.8756 - recall: 0.7859 - true_negatives: 389.0000 - val_loss: 0.8114 - val_accuracy: 0.4690 - val_precision: 0.4690 - val_auc: 0.4346 - val_recall: 0.4690 - val_true_negatives: 68.0000\n",
      "Epoch 67/100\n",
      "3/3 [==============================] - 18s 6s/step - loss: 0.4524 - accuracy: 0.7838 - precision: 0.7838 - auc: 0.8763 - recall: 0.7838 - true_negatives: 388.0000 - val_loss: 0.8125 - val_accuracy: 0.4690 - val_precision: 0.4690 - val_auc: 0.4361 - val_recall: 0.4690 - val_true_negatives: 68.0000\n",
      "Epoch 68/100\n",
      "3/3 [==============================] - 17s 5s/step - loss: 0.4514 - accuracy: 0.7838 - precision: 0.7838 - auc: 0.8775 - recall: 0.7838 - true_negatives: 388.0000 - val_loss: 0.8095 - val_accuracy: 0.4690 - val_precision: 0.4690 - val_auc: 0.4341 - val_recall: 0.4690 - val_true_negatives: 68.0000\n",
      "Epoch 69/100\n",
      "3/3 [==============================] - 18s 6s/step - loss: 0.4497 - accuracy: 0.7859 - precision: 0.7859 - auc: 0.8792 - recall: 0.7859 - true_negatives: 389.0000 - val_loss: 0.8092 - val_accuracy: 0.4759 - val_precision: 0.4759 - val_auc: 0.4383 - val_recall: 0.4759 - val_true_negatives: 69.0000\n",
      "Epoch 70/100\n",
      "3/3 [==============================] - 19s 6s/step - loss: 0.4485 - accuracy: 0.7859 - precision: 0.7859 - auc: 0.8801 - recall: 0.7859 - true_negatives: 389.0000 - val_loss: 0.8084 - val_accuracy: 0.4828 - val_precision: 0.4828 - val_auc: 0.4400 - val_recall: 0.4828 - val_true_negatives: 70.0000\n",
      "Epoch 71/100\n",
      "3/3 [==============================] - 20s 7s/step - loss: 0.4474 - accuracy: 0.7919 - precision: 0.7919 - auc: 0.8809 - recall: 0.7919 - true_negatives: 392.0000 - val_loss: 0.8060 - val_accuracy: 0.4690 - val_precision: 0.4690 - val_auc: 0.4398 - val_recall: 0.4690 - val_true_negatives: 68.0000\n",
      "Epoch 72/100\n",
      "3/3 [==============================] - 19s 8s/step - loss: 0.4463 - accuracy: 0.7919 - precision: 0.7919 - auc: 0.8824 - recall: 0.7919 - true_negatives: 392.0000 - val_loss: 0.8051 - val_accuracy: 0.4759 - val_precision: 0.4759 - val_auc: 0.4416 - val_recall: 0.4759 - val_true_negatives: 69.0000\n",
      "Epoch 73/100\n",
      "3/3 [==============================] - 22s 7s/step - loss: 0.4455 - accuracy: 0.7919 - precision: 0.7919 - auc: 0.8827 - recall: 0.7919 - true_negatives: 392.0000 - val_loss: 0.8086 - val_accuracy: 0.4828 - val_precision: 0.4828 - val_auc: 0.4426 - val_recall: 0.4828 - val_true_negatives: 70.0000\n",
      "Epoch 74/100\n",
      "3/3 [==============================] - 18s 6s/step - loss: 0.4443 - accuracy: 0.7899 - precision: 0.7899 - auc: 0.8832 - recall: 0.7899 - true_negatives: 391.0000 - val_loss: 0.8100 - val_accuracy: 0.4828 - val_precision: 0.4828 - val_auc: 0.4425 - val_recall: 0.4828 - val_true_negatives: 70.0000\n",
      "Epoch 75/100\n",
      "3/3 [==============================] - 20s 7s/step - loss: 0.4428 - accuracy: 0.7919 - precision: 0.7919 - auc: 0.8843 - recall: 0.7919 - true_negatives: 392.0000 - val_loss: 0.8087 - val_accuracy: 0.4759 - val_precision: 0.4759 - val_auc: 0.4400 - val_recall: 0.4759 - val_true_negatives: 69.0000\n",
      "Epoch 76/100\n",
      "3/3 [==============================] - 22s 9s/step - loss: 0.4426 - accuracy: 0.7798 - precision: 0.7798 - auc: 0.8845 - recall: 0.7798 - true_negatives: 386.0000 - val_loss: 0.8058 - val_accuracy: 0.4552 - val_precision: 0.4552 - val_auc: 0.4399 - val_recall: 0.4552 - val_true_negatives: 66.0000\n",
      "Epoch 77/100\n",
      "3/3 [==============================] - 18s 5s/step - loss: 0.4416 - accuracy: 0.7899 - precision: 0.7899 - auc: 0.8852 - recall: 0.7899 - true_negatives: 391.0000 - val_loss: 0.8077 - val_accuracy: 0.4759 - val_precision: 0.4759 - val_auc: 0.4438 - val_recall: 0.4759 - val_true_negatives: 69.0000\n",
      "Epoch 78/100\n",
      "3/3 [==============================] - 21s 9s/step - loss: 0.4395 - accuracy: 0.7899 - precision: 0.7899 - auc: 0.8872 - recall: 0.7899 - true_negatives: 391.0000 - val_loss: 0.8091 - val_accuracy: 0.4828 - val_precision: 0.4828 - val_auc: 0.4451 - val_recall: 0.4828 - val_true_negatives: 70.0000\n",
      "Epoch 79/100\n"
     ]
    },
    {
     "name": "stdout",
     "output_type": "stream",
     "text": [
      "3/3 [==============================] - 21s 7s/step - loss: 0.4389 - accuracy: 0.7919 - precision: 0.7919 - auc: 0.8874 - recall: 0.7919 - true_negatives: 392.0000 - val_loss: 0.8106 - val_accuracy: 0.4897 - val_precision: 0.4897 - val_auc: 0.4468 - val_recall: 0.4897 - val_true_negatives: 71.0000\n",
      "Epoch 80/100\n",
      "3/3 [==============================] - 18s 6s/step - loss: 0.4375 - accuracy: 0.7919 - precision: 0.7919 - auc: 0.8885 - recall: 0.7919 - true_negatives: 392.0000 - val_loss: 0.8111 - val_accuracy: 0.4759 - val_precision: 0.4759 - val_auc: 0.4446 - val_recall: 0.4759 - val_true_negatives: 69.0000\n",
      "Epoch 81/100\n",
      "3/3 [==============================] - 19s 6s/step - loss: 0.4368 - accuracy: 0.7899 - precision: 0.7899 - auc: 0.8889 - recall: 0.7899 - true_negatives: 391.0000 - val_loss: 0.8109 - val_accuracy: 0.4690 - val_precision: 0.4690 - val_auc: 0.4427 - val_recall: 0.4690 - val_true_negatives: 68.0000\n",
      "Epoch 82/100\n",
      "3/3 [==============================] - 20s 9s/step - loss: 0.4352 - accuracy: 0.7919 - precision: 0.7919 - auc: 0.8898 - recall: 0.7919 - true_negatives: 392.0000 - val_loss: 0.8111 - val_accuracy: 0.4828 - val_precision: 0.4828 - val_auc: 0.4430 - val_recall: 0.4828 - val_true_negatives: 70.0000\n",
      "Epoch 83/100\n",
      "3/3 [==============================] - 18s 6s/step - loss: 0.4344 - accuracy: 0.7899 - precision: 0.7899 - auc: 0.8907 - recall: 0.7899 - true_negatives: 391.0000 - val_loss: 0.8120 - val_accuracy: 0.4759 - val_precision: 0.4759 - val_auc: 0.4435 - val_recall: 0.4759 - val_true_negatives: 69.0000\n",
      "Epoch 84/100\n",
      "3/3 [==============================] - 18s 8s/step - loss: 0.4348 - accuracy: 0.7859 - precision: 0.7859 - auc: 0.8904 - recall: 0.7859 - true_negatives: 389.0000 - val_loss: 0.8065 - val_accuracy: 0.4552 - val_precision: 0.4552 - val_auc: 0.4422 - val_recall: 0.4552 - val_true_negatives: 66.0000\n",
      "Epoch 85/100\n",
      "3/3 [==============================] - 18s 6s/step - loss: 0.4331 - accuracy: 0.7859 - precision: 0.7859 - auc: 0.8919 - recall: 0.7859 - true_negatives: 389.0000 - val_loss: 0.8073 - val_accuracy: 0.4897 - val_precision: 0.4897 - val_auc: 0.4448 - val_recall: 0.4897 - val_true_negatives: 71.0000\n",
      "Epoch 86/100\n",
      "3/3 [==============================] - 18s 6s/step - loss: 0.4317 - accuracy: 0.7939 - precision: 0.7939 - auc: 0.8933 - recall: 0.7939 - true_negatives: 393.0000 - val_loss: 0.8092 - val_accuracy: 0.4828 - val_precision: 0.4828 - val_auc: 0.4488 - val_recall: 0.4828 - val_true_negatives: 70.0000\n",
      "Epoch 87/100\n",
      "3/3 [==============================] - 18s 6s/step - loss: 0.4310 - accuracy: 0.7960 - precision: 0.7960 - auc: 0.8933 - recall: 0.7960 - true_negatives: 394.0000 - val_loss: 0.8102 - val_accuracy: 0.4897 - val_precision: 0.4897 - val_auc: 0.4486 - val_recall: 0.4897 - val_true_negatives: 71.0000\n",
      "Epoch 88/100\n",
      "3/3 [==============================] - 20s 9s/step - loss: 0.4290 - accuracy: 0.7939 - precision: 0.7939 - auc: 0.8952 - recall: 0.7939 - true_negatives: 393.0000 - val_loss: 0.8097 - val_accuracy: 0.4828 - val_precision: 0.4828 - val_auc: 0.4475 - val_recall: 0.4828 - val_true_negatives: 70.0000\n",
      "Epoch 89/100\n",
      "3/3 [==============================] - 20s 6s/step - loss: 0.4282 - accuracy: 0.7919 - precision: 0.7919 - auc: 0.8958 - recall: 0.7919 - true_negatives: 392.0000 - val_loss: 0.8098 - val_accuracy: 0.4897 - val_precision: 0.4897 - val_auc: 0.4465 - val_recall: 0.4897 - val_true_negatives: 71.0000\n",
      "Epoch 90/100\n",
      "3/3 [==============================] - 19s 8s/step - loss: 0.4272 - accuracy: 0.7919 - precision: 0.7919 - auc: 0.8958 - recall: 0.7919 - true_negatives: 392.0000 - val_loss: 0.8138 - val_accuracy: 0.4828 - val_precision: 0.4828 - val_auc: 0.4432 - val_recall: 0.4828 - val_true_negatives: 70.0000\n",
      "Epoch 91/100\n",
      "3/3 [==============================] - 19s 6s/step - loss: 0.4261 - accuracy: 0.7919 - precision: 0.7919 - auc: 0.8963 - recall: 0.7919 - true_negatives: 392.0000 - val_loss: 0.8178 - val_accuracy: 0.4828 - val_precision: 0.4828 - val_auc: 0.4445 - val_recall: 0.4828 - val_true_negatives: 70.0000\n",
      "Epoch 92/100\n",
      "3/3 [==============================] - 19s 6s/step - loss: 0.4258 - accuracy: 0.8081 - precision: 0.8081 - auc: 0.8955 - recall: 0.8081 - true_negatives: 400.0000 - val_loss: 0.8218 - val_accuracy: 0.4897 - val_precision: 0.4897 - val_auc: 0.4459 - val_recall: 0.4897 - val_true_negatives: 71.0000\n",
      "Epoch 93/100\n",
      "3/3 [==============================] - 17s 5s/step - loss: 0.4252 - accuracy: 0.7939 - precision: 0.7939 - auc: 0.8959 - recall: 0.7939 - true_negatives: 393.0000 - val_loss: 0.8191 - val_accuracy: 0.4690 - val_precision: 0.4690 - val_auc: 0.4426 - val_recall: 0.4690 - val_true_negatives: 68.0000\n",
      "Epoch 94/100\n",
      "3/3 [==============================] - 18s 8s/step - loss: 0.4237 - accuracy: 0.7919 - precision: 0.7919 - auc: 0.8971 - recall: 0.7919 - true_negatives: 392.0000 - val_loss: 0.8176 - val_accuracy: 0.4759 - val_precision: 0.4759 - val_auc: 0.4391 - val_recall: 0.4759 - val_true_negatives: 69.0000\n",
      "Epoch 95/100\n",
      "3/3 [==============================] - 19s 8s/step - loss: 0.4224 - accuracy: 0.7939 - precision: 0.7939 - auc: 0.8981 - recall: 0.7939 - true_negatives: 393.0000 - val_loss: 0.8200 - val_accuracy: 0.4759 - val_precision: 0.4759 - val_auc: 0.4418 - val_recall: 0.4759 - val_true_negatives: 69.0000\n",
      "Epoch 96/100\n",
      "3/3 [==============================] - 19s 6s/step - loss: 0.4218 - accuracy: 0.7960 - precision: 0.7960 - auc: 0.8981 - recall: 0.7960 - true_negatives: 394.0000 - val_loss: 0.8218 - val_accuracy: 0.4759 - val_precision: 0.4759 - val_auc: 0.4406 - val_recall: 0.4759 - val_true_negatives: 69.0000\n",
      "Epoch 97/100\n",
      "3/3 [==============================] - 18s 6s/step - loss: 0.4218 - accuracy: 0.8000 - precision: 0.8000 - auc: 0.8979 - recall: 0.8000 - true_negatives: 396.0000 - val_loss: 0.8188 - val_accuracy: 0.4759 - val_precision: 0.4759 - val_auc: 0.4385 - val_recall: 0.4759 - val_true_negatives: 69.0000\n",
      "Epoch 98/100\n",
      "3/3 [==============================] - 19s 8s/step - loss: 0.4198 - accuracy: 0.7980 - precision: 0.7980 - auc: 0.8995 - recall: 0.7980 - true_negatives: 395.0000 - val_loss: 0.8206 - val_accuracy: 0.4897 - val_precision: 0.4897 - val_auc: 0.4441 - val_recall: 0.4897 - val_true_negatives: 71.0000\n",
      "Epoch 99/100\n",
      "3/3 [==============================] - 21s 7s/step - loss: 0.4187 - accuracy: 0.8081 - precision: 0.8081 - auc: 0.9006 - recall: 0.8081 - true_negatives: 400.0000 - val_loss: 0.8212 - val_accuracy: 0.4897 - val_precision: 0.4897 - val_auc: 0.4463 - val_recall: 0.4897 - val_true_negatives: 71.0000\n",
      "Epoch 100/100\n",
      "3/3 [==============================] - 19s 6s/step - loss: 0.4178 - accuracy: 0.8081 - precision: 0.8081 - auc: 0.9014 - recall: 0.8081 - true_negatives: 400.0000 - val_loss: 0.8178 - val_accuracy: 0.4828 - val_precision: 0.4828 - val_auc: 0.4469 - val_recall: 0.4828 - val_true_negatives: 70.0000\n"
     ]
    }
   ],
   "source": [
    "training_images = 495\n",
    "validation_images = 145\n",
    "\n",
    "history = model.fit(training_generator, # this should be equal to total number of images in training set. But to speed up the execution, I am only using 10000 images. Change this for better results. \n",
    "                   epochs = 100,  # change this for better results\n",
    "                   validation_data = validation_generator)  # this should be equal to total number of images in validation set."
   ]
  },
  {
   "cell_type": "code",
   "execution_count": 10,
   "id": "ea387ee7",
   "metadata": {},
   "outputs": [
    {
     "name": "stdout",
     "output_type": "stream",
     "text": [
      "0.7578787869215011\n",
      "0.43944827377796175\n"
     ]
    }
   ],
   "source": [
    "import statistics\n",
    "print (statistics.mean(history.history['accuracy']))\n",
    "print (statistics.mean(history.history['val_accuracy']))"
   ]
  },
  {
   "cell_type": "code",
   "execution_count": 11,
   "id": "af00a540",
   "metadata": {},
   "outputs": [
    {
     "name": "stdout",
     "output_type": "stream",
     "text": [
      "loss\n"
     ]
    },
    {
     "data": {
      "image/png": "[encoded data removed]",
      "text/plain": [
       "<Figure size 432x288 with 1 Axes>"
      ]
     },
     "metadata": {
      "needs_background": "light"
     },
     "output_type": "display_data"
    },
    {
     "data": {
      "image/png": "[encoded data removed]",
      "text/plain": [
       "<Figure size 432x288 with 1 Axes>"
      ]
     },
     "metadata": {
      "needs_background": "light"
     },
     "output_type": "display_data"
    }
   ],
   "source": [
    "#Some visualizations\n",
    "import matplotlib.pyplot as plt\n",
    "#Loss\n",
    "plt.plot(history.history['loss'],label='loss')\n",
    "print('loss')\n",
    "plt.plot(history.history['val_loss'],label='val_loss')\n",
    "plt.legend()\n",
    "plt.show()\n",
    "#Accuracy\n",
    "plt.plot(history.history['accuracy'],label='acc')\n",
    "plt.plot(history.history['val_accuracy'],label='val_acc')\n",
    "plt.legend()\n",
    "plt.show()"
   ]
  },
  {
   "cell_type": "code",
   "execution_count": 12,
   "id": "b7c6dd42",
   "metadata": {},
   "outputs": [
    {
     "name": "stdout",
     "output_type": "stream",
     "text": [
      "1/1 [==============================] - 2s 2s/step - loss: 0.9381 - accuracy: 0.4091 - precision: 0.4091 - auc: 0.3836 - recall: 0.4091 - true_negatives: 27.0000\n"
     ]
    },
    {
     "data": {
      "text/plain": [
       "[0.9381134510040283,\n",
       " 0.40909090638160706,\n",
       " 0.40909090638160706,\n",
       " 0.3836088180541992,\n",
       " 0.40909090638160706,\n",
       " 27.0]"
      ]
     },
     "execution_count": 12,
     "metadata": {},
     "output_type": "execute_result"
    }
   ],
   "source": [
    "model.evaluate(test_generator)"
   ]
  },
  {
   "cell_type": "code",
   "execution_count": null,
   "id": "3fca3713",
   "metadata": {},
   "outputs": [],
   "source": []
  },
  {
   "cell_type": "code",
   "execution_count": null,
   "id": "c59b54f0",
   "metadata": {},
   "outputs": [],
   "source": []
  }
 ],
 "metadata": {
  "kernelspec": {
   "display_name": "Python 3.9.13 64-bit (windows store)",
   "language": "python",
   "name": "python3"
  },
  "language_info": {
   "codemirror_mode": {
    "name": "ipython",
    "version": 3
   },
   "file_extension": ".py",
   "mimetype": "text/x-python",
   "name": "python",
   "nbconvert_exporter": "python",
   "pygments_lexer": "ipython3",
   "version": "3.9.13"
  },
  "vscode": {
   "interpreter": {
    "hash": "a5a87ee616be0254e3f1af9223138e3faeac65b2c9d91bc22a9fc5a4a8bd8eb0"
   }
  }
 },
 "nbformat": 4,
 "nbformat_minor": 5
}
