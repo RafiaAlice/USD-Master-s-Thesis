{
 "cells": [
  {
   "cell_type": "code",
   "execution_count": 1,
   "id": "3092498b",
   "metadata": {},
   "outputs": [],
   "source": [
    "import numpy as np\n",
    "import pandas as pd\n",
    "import matplotlib.pyplot as plt\n",
    "from glob import glob\n",
    "from keras import optimizers, losses, activations, models\n",
    "from PIL import ImageFile\n",
    "ImageFile.LOAD_TRUNCATED_IMAGES = True"
   ]
  },
  {
   "cell_type": "code",
   "execution_count": 2,
   "id": "fc4958f4",
   "metadata": {},
   "outputs": [],
   "source": [
    "training_dir = 'C:/Users/ASUS/Desktop/centrov/train'\n",
    "validation_dir = 'C:/Users/ASUS/Desktop/centrov/valid'\n",
    "test_dir = 'C:/Users/ASUS/Desktop/centrov/test'"
   ]
  },
  {
   "cell_type": "code",
   "execution_count": 3,
   "id": "c2947ded",
   "metadata": {},
   "outputs": [],
   "source": [
    "image_files = glob(training_dir + '/*/*.png')\n",
    "valid_image_files = glob(validation_dir + '/*/*.png')"
   ]
  },
  {
   "cell_type": "code",
   "execution_count": 4,
   "id": "eace7ea7",
   "metadata": {},
   "outputs": [
    {
     "name": "stdout",
     "output_type": "stream",
     "text": [
      "Total Classes = 2\n"
     ]
    }
   ],
   "source": [
    "folders = glob(training_dir + '/*')\n",
    "num_classes = len(folders)\n",
    "print ('Total Classes = ' + str(num_classes))"
   ]
  },
  {
   "cell_type": "code",
   "execution_count": 5,
   "id": "ea6ddf8e",
   "metadata": {},
   "outputs": [],
   "source": [
    "import tensorflow as tf \n",
    "from keras.applications.vgg16 import VGG16\n",
    "from keras.models import Model\n",
    "from keras.layers import Flatten, Dense\n",
    "#from keras.preprocessing import image\n",
    "\n",
    "IMAGE_SIZE = [64, 64]  # we will keep the image size as (64,64). You can increase the size for better results. \n",
    "\n",
    "# loading the weights of VGG16 without the top layer. These weights are trained on Imagenet dataset.\n",
    "vgg = VGG16(input_shape = IMAGE_SIZE + [3], weights = 'imagenet', include_top = False)  # input_shape = (64,64,3) as required by VGG\n",
    "\n",
    "for layer in vgg.layers:\n",
    "    layer.trainable = False\n",
    "\n",
    "x = Flatten()(vgg.output)\n",
    "#x = Dense(128, activation = 'relu')(x)   # we can add a new fully connected layer but it will increase the execution time.\n",
    "x = Dense(num_classes, activation = 'softmax')(x)  # adding the output layer with softmax function as this is a multi label classification problem.\n",
    "\n",
    "model = Model(inputs = vgg.input, outputs = x)\n",
    "\n",
    "model.compile(loss='categorical_crossentropy', optimizer='adam', metrics=['accuracy'])"
   ]
  },
  {
   "cell_type": "code",
   "execution_count": 6,
   "id": "8a6f2bd5",
   "metadata": {},
   "outputs": [
    {
     "name": "stdout",
     "output_type": "stream",
     "text": [
      "Model: \"model\"\n",
      "_________________________________________________________________\n",
      " Layer (type)                Output Shape              Param #   \n",
      "=================================================================\n",
      " input_1 (InputLayer)        [(None, 64, 64, 3)]       0         \n",
      "                                                                 \n",
      " block1_conv1 (Conv2D)       (None, 64, 64, 64)        1792      \n",
      "                                                                 \n",
      " block1_conv2 (Conv2D)       (None, 64, 64, 64)        36928     \n",
      "                                                                 \n",
      " block1_pool (MaxPooling2D)  (None, 32, 32, 64)        0         \n",
      "                                                                 \n",
      " block2_conv1 (Conv2D)       (None, 32, 32, 128)       73856     \n",
      "                                                                 \n",
      " block2_conv2 (Conv2D)       (None, 32, 32, 128)       147584    \n",
      "                                                                 \n",
      " block2_pool (MaxPooling2D)  (None, 16, 16, 128)       0         \n",
      "                                                                 \n",
      " block3_conv1 (Conv2D)       (None, 16, 16, 256)       295168    \n",
      "                                                                 \n",
      " block3_conv2 (Conv2D)       (None, 16, 16, 256)       590080    \n",
      "                                                                 \n",
      " block3_conv3 (Conv2D)       (None, 16, 16, 256)       590080    \n",
      "                                                                 \n",
      " block3_pool (MaxPooling2D)  (None, 8, 8, 256)         0         \n",
      "                                                                 \n",
      " block4_conv1 (Conv2D)       (None, 8, 8, 512)         1180160   \n",
      "                                                                 \n",
      " block4_conv2 (Conv2D)       (None, 8, 8, 512)         2359808   \n",
      "                                                                 \n",
      " block4_conv3 (Conv2D)       (None, 8, 8, 512)         2359808   \n",
      "                                                                 \n",
      " block4_pool (MaxPooling2D)  (None, 4, 4, 512)         0         \n",
      "                                                                 \n",
      " block5_conv1 (Conv2D)       (None, 4, 4, 512)         2359808   \n",
      "                                                                 \n",
      " block5_conv2 (Conv2D)       (None, 4, 4, 512)         2359808   \n",
      "                                                                 \n",
      " block5_conv3 (Conv2D)       (None, 4, 4, 512)         2359808   \n",
      "                                                                 \n",
      " block5_pool (MaxPooling2D)  (None, 2, 2, 512)         0         \n",
      "                                                                 \n",
      " flatten (Flatten)           (None, 2048)              0         \n",
      "                                                                 \n",
      " dense (Dense)               (None, 2)                 4098      \n",
      "                                                                 \n",
      "=================================================================\n",
      "Total params: 14,718,786\n",
      "Trainable params: 4,098\n",
      "Non-trainable params: 14,714,688\n",
      "_________________________________________________________________\n"
     ]
    }
   ],
   "source": [
    "model.summary()"
   ]
  },
  {
   "cell_type": "code",
   "execution_count": 7,
   "id": "636cb394",
   "metadata": {},
   "outputs": [
    {
     "name": "stdout",
     "output_type": "stream",
     "text": [
      "Found 495 images belonging to 2 classes.\n",
      "Found 145 images belonging to 2 classes.\n",
      "Found 66 images belonging to 2 classes.\n"
     ]
    }
   ],
   "source": [
    "from keras.preprocessing.image import ImageDataGenerator\n",
    "from keras.applications.vgg16 import preprocess_input\n",
    "\n",
    "training_datagen = ImageDataGenerator(\n",
    "                                    rescale=1./255,   # all pixel values will be between 0 an 1\n",
    "                                    shear_range=0, \n",
    "                                    zoom_range=0,\n",
    "                                    horizontal_flip=False,\n",
    "                                    preprocessing_function=preprocess_input)\n",
    "\n",
    "validation_datagen = ImageDataGenerator(rescale = 1./255, preprocessing_function=preprocess_input)\n",
    "test_datagen = ImageDataGenerator(rescale = 1./255, preprocessing_function=preprocess_input)\n",
    "\n",
    "training_generator = training_datagen.flow_from_directory(training_dir, target_size = IMAGE_SIZE, batch_size = 200, class_mode = 'categorical')\n",
    "validation_generator = validation_datagen.flow_from_directory(validation_dir, target_size = IMAGE_SIZE, batch_size = 200, class_mode = 'categorical')\n",
    "test_generator = test_datagen.flow_from_directory(test_dir, target_size = IMAGE_SIZE, batch_size = 200, class_mode = 'categorical')"
   ]
  },
  {
   "cell_type": "code",
   "execution_count": 8,
   "id": "8bb88276",
   "metadata": {},
   "outputs": [
    {
     "name": "stderr",
     "output_type": "stream",
     "text": [
      "C:\\Users\\ASUS\\anaconda3\\lib\\site-packages\\keras\\optimizer_v2\\adam.py:105: UserWarning: The `lr` argument is deprecated, use `learning_rate` instead.\n",
      "  super(Adam, self).__init__(name, **kwargs)\n"
     ]
    }
   ],
   "source": [
    "import tensorflow as tf\n",
    "from keras.models import *\n",
    "from keras.layers import *\n",
    "opt = tf.optimizers.Adam(lr=1e-3)\n",
    "model.compile(optimizer=opt, \n",
    "    loss=losses.binary_crossentropy, \n",
    "    metrics=['accuracy', 'Precision', 'AUC', tf.keras.metrics.Recall(), tf.keras.metrics.TrueNegatives()])"
   ]
  },
  {
   "cell_type": "code",
   "execution_count": 9,
   "id": "862b0170",
   "metadata": {},
   "outputs": [
    {
     "name": "stdout",
     "output_type": "stream",
     "text": [
      "Epoch 1/100\n",
      "3/3 [==============================] - 21s 7s/step - loss: 0.6979 - accuracy: 0.5434 - precision: 0.5434 - auc: 0.5596 - recall: 0.5434 - true_negatives: 269.0000 - val_loss: 0.7084 - val_accuracy: 0.5448 - val_precision: 0.5448 - val_auc: 0.5145 - val_recall: 0.5448 - val_true_negatives: 79.0000\n",
      "Epoch 2/100\n",
      "3/3 [==============================] - 17s 6s/step - loss: 0.6762 - accuracy: 0.6040 - precision: 0.6040 - auc: 0.6406 - recall: 0.6040 - true_negatives: 299.0000 - val_loss: 0.7009 - val_accuracy: 0.5655 - val_precision: 0.5655 - val_auc: 0.5221 - val_recall: 0.5655 - val_true_negatives: 82.0000\n",
      "Epoch 3/100\n",
      "3/3 [==============================] - 17s 7s/step - loss: 0.6550 - accuracy: 0.6465 - precision: 0.6465 - auc: 0.6905 - recall: 0.6465 - true_negatives: 320.0000 - val_loss: 0.7016 - val_accuracy: 0.5793 - val_precision: 0.5793 - val_auc: 0.5304 - val_recall: 0.5793 - val_true_negatives: 84.0000\n",
      "Epoch 4/100\n",
      "3/3 [==============================] - 18s 8s/step - loss: 0.6428 - accuracy: 0.6364 - precision: 0.6364 - auc: 0.7102 - recall: 0.6364 - true_negatives: 315.0000 - val_loss: 0.7096 - val_accuracy: 0.5310 - val_precision: 0.5310 - val_auc: 0.5370 - val_recall: 0.5310 - val_true_negatives: 77.0000\n",
      "Epoch 5/100\n",
      "3/3 [==============================] - 18s 7s/step - loss: 0.6309 - accuracy: 0.6364 - precision: 0.6364 - auc: 0.7172 - recall: 0.6364 - true_negatives: 315.0000 - val_loss: 0.7078 - val_accuracy: 0.5586 - val_precision: 0.5586 - val_auc: 0.5460 - val_recall: 0.5586 - val_true_negatives: 81.0000\n",
      "Epoch 6/100\n",
      "3/3 [==============================] - 18s 8s/step - loss: 0.6223 - accuracy: 0.6505 - precision: 0.6505 - auc: 0.7280 - recall: 0.6505 - true_negatives: 322.0000 - val_loss: 0.7054 - val_accuracy: 0.5655 - val_precision: 0.5655 - val_auc: 0.5539 - val_recall: 0.5655 - val_true_negatives: 82.0000\n",
      "Epoch 7/100\n",
      "3/3 [==============================] - 18s 6s/step - loss: 0.6161 - accuracy: 0.6646 - precision: 0.6646 - auc: 0.7347 - recall: 0.6646 - true_negatives: 329.0000 - val_loss: 0.7066 - val_accuracy: 0.5655 - val_precision: 0.5655 - val_auc: 0.5609 - val_recall: 0.5655 - val_true_negatives: 82.0000\n",
      "Epoch 8/100\n",
      "3/3 [==============================] - 19s 6s/step - loss: 0.6090 - accuracy: 0.6667 - precision: 0.6667 - auc: 0.7395 - recall: 0.6667 - true_negatives: 330.0000 - val_loss: 0.7085 - val_accuracy: 0.5586 - val_precision: 0.5586 - val_auc: 0.5673 - val_recall: 0.5586 - val_true_negatives: 81.0000\n",
      "Epoch 9/100\n",
      "3/3 [==============================] - 18s 6s/step - loss: 0.6043 - accuracy: 0.6687 - precision: 0.6687 - auc: 0.7425 - recall: 0.6687 - true_negatives: 331.0000 - val_loss: 0.7129 - val_accuracy: 0.5586 - val_precision: 0.5586 - val_auc: 0.5721 - val_recall: 0.5586 - val_true_negatives: 81.0000\n",
      "Epoch 10/100\n",
      "3/3 [==============================] - 19s 6s/step - loss: 0.6007 - accuracy: 0.6667 - precision: 0.6667 - auc: 0.7445 - recall: 0.6667 - true_negatives: 330.0000 - val_loss: 0.7136 - val_accuracy: 0.5586 - val_precision: 0.5586 - val_auc: 0.5773 - val_recall: 0.5586 - val_true_negatives: 81.0000\n",
      "Epoch 11/100\n",
      "3/3 [==============================] - 20s 7s/step - loss: 0.5970 - accuracy: 0.6667 - precision: 0.6667 - auc: 0.7463 - recall: 0.6667 - true_negatives: 330.0000 - val_loss: 0.7147 - val_accuracy: 0.5655 - val_precision: 0.5655 - val_auc: 0.5824 - val_recall: 0.5655 - val_true_negatives: 82.0000\n",
      "Epoch 12/100\n",
      "3/3 [==============================] - 19s 6s/step - loss: 0.5929 - accuracy: 0.6667 - precision: 0.6667 - auc: 0.7507 - recall: 0.6667 - true_negatives: 330.0000 - val_loss: 0.7044 - val_accuracy: 0.5655 - val_precision: 0.5655 - val_auc: 0.5844 - val_recall: 0.5655 - val_true_negatives: 82.0000\n",
      "Epoch 13/100\n",
      "3/3 [==============================] - 17s 6s/step - loss: 0.5909 - accuracy: 0.6747 - precision: 0.6747 - auc: 0.7535 - recall: 0.6747 - true_negatives: 334.0000 - val_loss: 0.6973 - val_accuracy: 0.5724 - val_precision: 0.5724 - val_auc: 0.5910 - val_recall: 0.5724 - val_true_negatives: 83.0000\n",
      "Epoch 14/100\n",
      "3/3 [==============================] - 19s 8s/step - loss: 0.5885 - accuracy: 0.6727 - precision: 0.6727 - auc: 0.7555 - recall: 0.6727 - true_negatives: 333.0000 - val_loss: 0.7031 - val_accuracy: 0.5655 - val_precision: 0.5655 - val_auc: 0.5919 - val_recall: 0.5655 - val_true_negatives: 82.0000\n",
      "Epoch 15/100\n",
      "3/3 [==============================] - 18s 6s/step - loss: 0.5848 - accuracy: 0.6768 - precision: 0.6768 - auc: 0.7571 - recall: 0.6768 - true_negatives: 335.0000 - val_loss: 0.7127 - val_accuracy: 0.5448 - val_precision: 0.5448 - val_auc: 0.5913 - val_recall: 0.5448 - val_true_negatives: 79.0000\n",
      "Epoch 16/100\n",
      "3/3 [==============================] - 18s 6s/step - loss: 0.5829 - accuracy: 0.6707 - precision: 0.6707 - auc: 0.7585 - recall: 0.6707 - true_negatives: 332.0000 - val_loss: 0.7054 - val_accuracy: 0.5724 - val_precision: 0.5724 - val_auc: 0.5938 - val_recall: 0.5724 - val_true_negatives: 83.0000\n",
      "Epoch 17/100\n",
      "3/3 [==============================] - 19s 8s/step - loss: 0.5794 - accuracy: 0.6768 - precision: 0.6768 - auc: 0.7633 - recall: 0.6768 - true_negatives: 335.0000 - val_loss: 0.6961 - val_accuracy: 0.5862 - val_precision: 0.5862 - val_auc: 0.5993 - val_recall: 0.5862 - val_true_negatives: 85.0000\n",
      "Epoch 18/100\n",
      "3/3 [==============================] - 18s 6s/step - loss: 0.5781 - accuracy: 0.6747 - precision: 0.6747 - auc: 0.7653 - recall: 0.6747 - true_negatives: 334.0000 - val_loss: 0.6918 - val_accuracy: 0.5931 - val_precision: 0.5931 - val_auc: 0.6051 - val_recall: 0.5931 - val_true_negatives: 86.0000\n",
      "Epoch 19/100\n",
      "3/3 [==============================] - 19s 7s/step - loss: 0.5775 - accuracy: 0.6768 - precision: 0.6768 - auc: 0.7654 - recall: 0.6768 - true_negatives: 335.0000 - val_loss: 0.6907 - val_accuracy: 0.5931 - val_precision: 0.5931 - val_auc: 0.6058 - val_recall: 0.5931 - val_true_negatives: 86.0000\n",
      "Epoch 20/100\n",
      "3/3 [==============================] - 19s 8s/step - loss: 0.5736 - accuracy: 0.6848 - precision: 0.6848 - auc: 0.7694 - recall: 0.6848 - true_negatives: 339.0000 - val_loss: 0.7024 - val_accuracy: 0.5379 - val_precision: 0.5379 - val_auc: 0.6027 - val_recall: 0.5379 - val_true_negatives: 78.0000\n",
      "Epoch 21/100\n",
      "3/3 [==============================] - 20s 8s/step - loss: 0.5727 - accuracy: 0.6848 - precision: 0.6848 - auc: 0.7699 - recall: 0.6848 - true_negatives: 339.0000 - val_loss: 0.6998 - val_accuracy: 0.5448 - val_precision: 0.5448 - val_auc: 0.6038 - val_recall: 0.5448 - val_true_negatives: 79.0000\n",
      "Epoch 22/100\n",
      "3/3 [==============================] - 19s 8s/step - loss: 0.5715 - accuracy: 0.6788 - precision: 0.6788 - auc: 0.7719 - recall: 0.6788 - true_negatives: 336.0000 - val_loss: 0.6870 - val_accuracy: 0.5793 - val_precision: 0.5793 - val_auc: 0.6122 - val_recall: 0.5793 - val_true_negatives: 84.0000\n",
      "Epoch 23/100\n",
      "3/3 [==============================] - 19s 7s/step - loss: 0.5696 - accuracy: 0.6828 - precision: 0.6828 - auc: 0.7736 - recall: 0.6828 - true_negatives: 338.0000 - val_loss: 0.6847 - val_accuracy: 0.5793 - val_precision: 0.5793 - val_auc: 0.6146 - val_recall: 0.5793 - val_true_negatives: 84.0000\n",
      "Epoch 24/100\n",
      "3/3 [==============================] - 21s 7s/step - loss: 0.5674 - accuracy: 0.6828 - precision: 0.6828 - auc: 0.7763 - recall: 0.6828 - true_negatives: 338.0000 - val_loss: 0.6885 - val_accuracy: 0.5586 - val_precision: 0.5586 - val_auc: 0.6111 - val_recall: 0.5586 - val_true_negatives: 81.0000\n",
      "Epoch 25/100\n",
      "3/3 [==============================] - 19s 8s/step - loss: 0.5662 - accuracy: 0.6828 - precision: 0.6828 - auc: 0.7779 - recall: 0.6828 - true_negatives: 338.0000 - val_loss: 0.6915 - val_accuracy: 0.5586 - val_precision: 0.5586 - val_auc: 0.6101 - val_recall: 0.5586 - val_true_negatives: 81.0000\n",
      "Epoch 26/100\n",
      "3/3 [==============================] - 21s 7s/step - loss: 0.5649 - accuracy: 0.6929 - precision: 0.6929 - auc: 0.7790 - recall: 0.6929 - true_negatives: 343.0000 - val_loss: 0.6920 - val_accuracy: 0.5517 - val_precision: 0.5517 - val_auc: 0.6112 - val_recall: 0.5517 - val_true_negatives: 80.0000\n",
      "Epoch 27/100\n"
     ]
    },
    {
     "name": "stdout",
     "output_type": "stream",
     "text": [
      "3/3 [==============================] - 22s 7s/step - loss: 0.5629 - accuracy: 0.6909 - precision: 0.6909 - auc: 0.7809 - recall: 0.6909 - true_negatives: 342.0000 - val_loss: 0.6826 - val_accuracy: 0.5793 - val_precision: 0.5793 - val_auc: 0.6189 - val_recall: 0.5793 - val_true_negatives: 84.0000\n",
      "Epoch 28/100\n",
      "3/3 [==============================] - 21s 9s/step - loss: 0.5623 - accuracy: 0.6970 - precision: 0.6970 - auc: 0.7814 - recall: 0.6970 - true_negatives: 345.0000 - val_loss: 0.6789 - val_accuracy: 0.6000 - val_precision: 0.6000 - val_auc: 0.6261 - val_recall: 0.6000 - val_true_negatives: 87.0000\n",
      "Epoch 29/100\n",
      "3/3 [==============================] - 19s 6s/step - loss: 0.5607 - accuracy: 0.6909 - precision: 0.6909 - auc: 0.7826 - recall: 0.6909 - true_negatives: 342.0000 - val_loss: 0.6846 - val_accuracy: 0.5655 - val_precision: 0.5655 - val_auc: 0.6182 - val_recall: 0.5655 - val_true_negatives: 82.0000\n",
      "Epoch 30/100\n",
      "3/3 [==============================] - 20s 6s/step - loss: 0.5585 - accuracy: 0.6929 - precision: 0.6929 - auc: 0.7858 - recall: 0.6929 - true_negatives: 343.0000 - val_loss: 0.6948 - val_accuracy: 0.5379 - val_precision: 0.5379 - val_auc: 0.6122 - val_recall: 0.5379 - val_true_negatives: 78.0000\n",
      "Epoch 31/100\n",
      "3/3 [==============================] - 18s 6s/step - loss: 0.5598 - accuracy: 0.7111 - precision: 0.7111 - auc: 0.7846 - recall: 0.7111 - true_negatives: 352.0000 - val_loss: 0.6986 - val_accuracy: 0.5379 - val_precision: 0.5379 - val_auc: 0.6117 - val_recall: 0.5379 - val_true_negatives: 78.0000\n",
      "Epoch 32/100\n",
      "3/3 [==============================] - 23s 10s/step - loss: 0.5567 - accuracy: 0.6990 - precision: 0.6990 - auc: 0.7877 - recall: 0.6990 - true_negatives: 346.0000 - val_loss: 0.6811 - val_accuracy: 0.5793 - val_precision: 0.5793 - val_auc: 0.6221 - val_recall: 0.5793 - val_true_negatives: 84.0000\n",
      "Epoch 33/100\n",
      "3/3 [==============================] - 19s 8s/step - loss: 0.5551 - accuracy: 0.7010 - precision: 0.7010 - auc: 0.7888 - recall: 0.7010 - true_negatives: 347.0000 - val_loss: 0.6777 - val_accuracy: 0.5931 - val_precision: 0.5931 - val_auc: 0.6288 - val_recall: 0.5931 - val_true_negatives: 86.0000\n",
      "Epoch 34/100\n",
      "3/3 [==============================] - 18s 6s/step - loss: 0.5546 - accuracy: 0.6990 - precision: 0.6990 - auc: 0.7890 - recall: 0.6990 - true_negatives: 346.0000 - val_loss: 0.6777 - val_accuracy: 0.6000 - val_precision: 0.6000 - val_auc: 0.6287 - val_recall: 0.6000 - val_true_negatives: 87.0000\n",
      "Epoch 35/100\n",
      "3/3 [==============================] - 21s 7s/step - loss: 0.5527 - accuracy: 0.7091 - precision: 0.7091 - auc: 0.7919 - recall: 0.7091 - true_negatives: 351.0000 - val_loss: 0.6920 - val_accuracy: 0.5448 - val_precision: 0.5448 - val_auc: 0.6170 - val_recall: 0.5448 - val_true_negatives: 79.0000\n",
      "Epoch 36/100\n",
      "3/3 [==============================] - 20s 7s/step - loss: 0.5526 - accuracy: 0.7192 - precision: 0.7192 - auc: 0.7933 - recall: 0.7192 - true_negatives: 356.0000 - val_loss: 0.6997 - val_accuracy: 0.5379 - val_precision: 0.5379 - val_auc: 0.6155 - val_recall: 0.5379 - val_true_negatives: 78.0000\n",
      "Epoch 37/100\n",
      "3/3 [==============================] - 18s 6s/step - loss: 0.5535 - accuracy: 0.7232 - precision: 0.7232 - auc: 0.7931 - recall: 0.7232 - true_negatives: 358.0000 - val_loss: 0.6879 - val_accuracy: 0.5724 - val_precision: 0.5724 - val_auc: 0.6206 - val_recall: 0.5724 - val_true_negatives: 83.0000\n",
      "Epoch 38/100\n",
      "3/3 [==============================] - 20s 7s/step - loss: 0.5492 - accuracy: 0.7091 - precision: 0.7091 - auc: 0.7966 - recall: 0.7091 - true_negatives: 351.0000 - val_loss: 0.6800 - val_accuracy: 0.5793 - val_precision: 0.5793 - val_auc: 0.6259 - val_recall: 0.5793 - val_true_negatives: 84.0000\n",
      "Epoch 39/100\n",
      "3/3 [==============================] - 24s 8s/step - loss: 0.5481 - accuracy: 0.7111 - precision: 0.7111 - auc: 0.7971 - recall: 0.7111 - true_negatives: 352.0000 - val_loss: 0.6741 - val_accuracy: 0.6000 - val_precision: 0.6000 - val_auc: 0.6347 - val_recall: 0.6000 - val_true_negatives: 87.0000\n",
      "Epoch 40/100\n",
      "3/3 [==============================] - 21s 7s/step - loss: 0.5477 - accuracy: 0.7131 - precision: 0.7131 - auc: 0.7967 - recall: 0.7131 - true_negatives: 353.0000 - val_loss: 0.6792 - val_accuracy: 0.5655 - val_precision: 0.5655 - val_auc: 0.6270 - val_recall: 0.5655 - val_true_negatives: 82.0000\n",
      "Epoch 41/100\n",
      "3/3 [==============================] - 22s 7s/step - loss: 0.5457 - accuracy: 0.7192 - precision: 0.7192 - auc: 0.8000 - recall: 0.7192 - true_negatives: 356.0000 - val_loss: 0.6789 - val_accuracy: 0.5793 - val_precision: 0.5793 - val_auc: 0.6279 - val_recall: 0.5793 - val_true_negatives: 84.0000\n",
      "Epoch 42/100\n",
      "3/3 [==============================] - 21s 6s/step - loss: 0.5447 - accuracy: 0.7253 - precision: 0.7253 - auc: 0.8016 - recall: 0.7253 - true_negatives: 359.0000 - val_loss: 0.6793 - val_accuracy: 0.5862 - val_precision: 0.5862 - val_auc: 0.6286 - val_recall: 0.5862 - val_true_negatives: 85.0000\n",
      "Epoch 43/100\n",
      "3/3 [==============================] - 19s 6s/step - loss: 0.5440 - accuracy: 0.7192 - precision: 0.7192 - auc: 0.8022 - recall: 0.7192 - true_negatives: 356.0000 - val_loss: 0.6743 - val_accuracy: 0.5931 - val_precision: 0.5931 - val_auc: 0.6350 - val_recall: 0.5931 - val_true_negatives: 86.0000\n",
      "Epoch 44/100\n",
      "3/3 [==============================] - 24s 8s/step - loss: 0.5435 - accuracy: 0.7152 - precision: 0.7152 - auc: 0.8019 - recall: 0.7152 - true_negatives: 354.0000 - val_loss: 0.6693 - val_accuracy: 0.6069 - val_precision: 0.6069 - val_auc: 0.6441 - val_recall: 0.6069 - val_true_negatives: 88.0000\n",
      "Epoch 45/100\n",
      "3/3 [==============================] - 21s 7s/step - loss: 0.5424 - accuracy: 0.7051 - precision: 0.7051 - auc: 0.8027 - recall: 0.7051 - true_negatives: 349.0000 - val_loss: 0.6708 - val_accuracy: 0.6000 - val_precision: 0.6000 - val_auc: 0.6419 - val_recall: 0.6000 - val_true_negatives: 87.0000\n",
      "Epoch 46/100\n",
      "3/3 [==============================] - 19s 6s/step - loss: 0.5400 - accuracy: 0.7253 - precision: 0.7253 - auc: 0.8067 - recall: 0.7253 - true_negatives: 359.0000 - val_loss: 0.6819 - val_accuracy: 0.5724 - val_precision: 0.5724 - val_auc: 0.6285 - val_recall: 0.5724 - val_true_negatives: 83.0000\n",
      "Epoch 47/100\n",
      "3/3 [==============================] - 19s 6s/step - loss: 0.5398 - accuracy: 0.7354 - precision: 0.7354 - auc: 0.8073 - recall: 0.7354 - true_negatives: 364.0000 - val_loss: 0.6867 - val_accuracy: 0.5655 - val_precision: 0.5655 - val_auc: 0.6256 - val_recall: 0.5655 - val_true_negatives: 82.0000\n",
      "Epoch 48/100\n",
      "3/3 [==============================] - 20s 6s/step - loss: 0.5407 - accuracy: 0.7212 - precision: 0.7212 - auc: 0.8063 - recall: 0.7212 - true_negatives: 357.0000 - val_loss: 0.6798 - val_accuracy: 0.5862 - val_precision: 0.5862 - val_auc: 0.6315 - val_recall: 0.5862 - val_true_negatives: 85.0000\n",
      "Epoch 49/100\n",
      "3/3 [==============================] - 22s 8s/step - loss: 0.5382 - accuracy: 0.7273 - precision: 0.7273 - auc: 0.8085 - recall: 0.7273 - true_negatives: 360.0000 - val_loss: 0.6750 - val_accuracy: 0.6000 - val_precision: 0.6000 - val_auc: 0.6360 - val_recall: 0.6000 - val_true_negatives: 87.0000\n",
      "Epoch 50/100\n",
      "3/3 [==============================] - 21s 7s/step - loss: 0.5365 - accuracy: 0.7313 - precision: 0.7313 - auc: 0.8103 - recall: 0.7313 - true_negatives: 362.0000 - val_loss: 0.6775 - val_accuracy: 0.5862 - val_precision: 0.5862 - val_auc: 0.6336 - val_recall: 0.5862 - val_true_negatives: 85.0000\n",
      "Epoch 51/100\n",
      "3/3 [==============================] - 21s 9s/step - loss: 0.5355 - accuracy: 0.7333 - precision: 0.7333 - auc: 0.8118 - recall: 0.7333 - true_negatives: 363.0000 - val_loss: 0.6760 - val_accuracy: 0.5862 - val_precision: 0.5862 - val_auc: 0.6353 - val_recall: 0.5862 - val_true_negatives: 85.0000\n",
      "Epoch 52/100\n",
      "3/3 [==============================] - 23s 7s/step - loss: 0.5345 - accuracy: 0.7333 - precision: 0.7333 - auc: 0.8125 - recall: 0.7333 - true_negatives: 363.0000 - val_loss: 0.6742 - val_accuracy: 0.6000 - val_precision: 0.6000 - val_auc: 0.6387 - val_recall: 0.6000 - val_true_negatives: 87.0000\n",
      "Epoch 53/100\n"
     ]
    },
    {
     "name": "stdout",
     "output_type": "stream",
     "text": [
      "3/3 [==============================] - 18s 6s/step - loss: 0.5338 - accuracy: 0.7313 - precision: 0.7313 - auc: 0.8129 - recall: 0.7313 - true_negatives: 362.0000 - val_loss: 0.6713 - val_accuracy: 0.6069 - val_precision: 0.6069 - val_auc: 0.6420 - val_recall: 0.6069 - val_true_negatives: 88.0000\n",
      "Epoch 54/100\n",
      "3/3 [==============================] - 22s 9s/step - loss: 0.5328 - accuracy: 0.7313 - precision: 0.7313 - auc: 0.8141 - recall: 0.7313 - true_negatives: 362.0000 - val_loss: 0.6755 - val_accuracy: 0.5931 - val_precision: 0.5931 - val_auc: 0.6364 - val_recall: 0.5931 - val_true_negatives: 86.0000\n",
      "Epoch 55/100\n",
      "3/3 [==============================] - 22s 9s/step - loss: 0.5322 - accuracy: 0.7394 - precision: 0.7394 - auc: 0.8151 - recall: 0.7394 - true_negatives: 366.0000 - val_loss: 0.6778 - val_accuracy: 0.5793 - val_precision: 0.5793 - val_auc: 0.6342 - val_recall: 0.5793 - val_true_negatives: 84.0000\n",
      "Epoch 56/100\n",
      "3/3 [==============================] - 23s 7s/step - loss: 0.5316 - accuracy: 0.7333 - precision: 0.7333 - auc: 0.8157 - recall: 0.7333 - true_negatives: 363.0000 - val_loss: 0.6719 - val_accuracy: 0.6069 - val_precision: 0.6069 - val_auc: 0.6417 - val_recall: 0.6069 - val_true_negatives: 88.0000\n",
      "Epoch 57/100\n",
      "3/3 [==============================] - 20s 6s/step - loss: 0.5300 - accuracy: 0.7273 - precision: 0.7273 - auc: 0.8167 - recall: 0.7273 - true_negatives: 360.0000 - val_loss: 0.6726 - val_accuracy: 0.6000 - val_precision: 0.6000 - val_auc: 0.6411 - val_recall: 0.6000 - val_true_negatives: 87.0000\n",
      "Epoch 58/100\n",
      "3/3 [==============================] - 21s 9s/step - loss: 0.5295 - accuracy: 0.7394 - precision: 0.7394 - auc: 0.8171 - recall: 0.7394 - true_negatives: 366.0000 - val_loss: 0.6760 - val_accuracy: 0.5931 - val_precision: 0.5931 - val_auc: 0.6358 - val_recall: 0.5931 - val_true_negatives: 86.0000\n",
      "Epoch 59/100\n",
      "3/3 [==============================] - 19s 6s/step - loss: 0.5284 - accuracy: 0.7374 - precision: 0.7374 - auc: 0.8184 - recall: 0.7374 - true_negatives: 365.0000 - val_loss: 0.6725 - val_accuracy: 0.6000 - val_precision: 0.6000 - val_auc: 0.6419 - val_recall: 0.6000 - val_true_negatives: 87.0000\n",
      "Epoch 60/100\n",
      "3/3 [==============================] - 18s 6s/step - loss: 0.5286 - accuracy: 0.7333 - precision: 0.7333 - auc: 0.8179 - recall: 0.7333 - true_negatives: 363.0000 - val_loss: 0.6649 - val_accuracy: 0.6207 - val_precision: 0.6207 - val_auc: 0.6523 - val_recall: 0.6207 - val_true_negatives: 90.0000\n",
      "Epoch 61/100\n",
      "3/3 [==============================] - 19s 8s/step - loss: 0.5268 - accuracy: 0.7273 - precision: 0.7273 - auc: 0.8189 - recall: 0.7273 - true_negatives: 360.0000 - val_loss: 0.6656 - val_accuracy: 0.6138 - val_precision: 0.6138 - val_auc: 0.6517 - val_recall: 0.6138 - val_true_negatives: 89.0000\n",
      "Epoch 62/100\n",
      "3/3 [==============================] - 18s 6s/step - loss: 0.5257 - accuracy: 0.7273 - precision: 0.7273 - auc: 0.8200 - recall: 0.7273 - true_negatives: 360.0000 - val_loss: 0.6706 - val_accuracy: 0.6000 - val_precision: 0.6000 - val_auc: 0.6434 - val_recall: 0.6000 - val_true_negatives: 87.0000\n",
      "Epoch 63/100\n",
      "3/3 [==============================] - 19s 7s/step - loss: 0.5271 - accuracy: 0.7455 - precision: 0.7455 - auc: 0.8191 - recall: 0.7455 - true_negatives: 369.0000 - val_loss: 0.6785 - val_accuracy: 0.5793 - val_precision: 0.5793 - val_auc: 0.6354 - val_recall: 0.5793 - val_true_negatives: 84.0000\n",
      "Epoch 64/100\n",
      "3/3 [==============================] - 19s 6s/step - loss: 0.5250 - accuracy: 0.7475 - precision: 0.7475 - auc: 0.8225 - recall: 0.7475 - true_negatives: 370.0000 - val_loss: 0.6685 - val_accuracy: 0.6069 - val_precision: 0.6069 - val_auc: 0.6471 - val_recall: 0.6069 - val_true_negatives: 88.0000\n",
      "Epoch 65/100\n",
      "3/3 [==============================] - 20s 6s/step - loss: 0.5228 - accuracy: 0.7333 - precision: 0.7333 - auc: 0.8237 - recall: 0.7333 - true_negatives: 363.0000 - val_loss: 0.6635 - val_accuracy: 0.6276 - val_precision: 0.6276 - val_auc: 0.6552 - val_recall: 0.6276 - val_true_negatives: 91.0000\n",
      "Epoch 66/100\n",
      "3/3 [==============================] - 19s 8s/step - loss: 0.5227 - accuracy: 0.7313 - precision: 0.7313 - auc: 0.8227 - recall: 0.7313 - true_negatives: 362.0000 - val_loss: 0.6601 - val_accuracy: 0.6414 - val_precision: 0.6414 - val_auc: 0.6622 - val_recall: 0.6414 - val_true_negatives: 93.0000\n",
      "Epoch 67/100\n",
      "3/3 [==============================] - 17s 7s/step - loss: 0.5220 - accuracy: 0.7313 - precision: 0.7313 - auc: 0.8243 - recall: 0.7313 - true_negatives: 362.0000 - val_loss: 0.6671 - val_accuracy: 0.6069 - val_precision: 0.6069 - val_auc: 0.6496 - val_recall: 0.6069 - val_true_negatives: 88.0000\n",
      "Epoch 68/100\n",
      "3/3 [==============================] - 17s 7s/step - loss: 0.5209 - accuracy: 0.7455 - precision: 0.7455 - auc: 0.8266 - recall: 0.7455 - true_negatives: 369.0000 - val_loss: 0.6698 - val_accuracy: 0.6069 - val_precision: 0.6069 - val_auc: 0.6464 - val_recall: 0.6069 - val_true_negatives: 88.0000\n",
      "Epoch 69/100\n",
      "3/3 [==============================] - 18s 7s/step - loss: 0.5203 - accuracy: 0.7455 - precision: 0.7455 - auc: 0.8266 - recall: 0.7455 - true_negatives: 369.0000 - val_loss: 0.6657 - val_accuracy: 0.6069 - val_precision: 0.6069 - val_auc: 0.6534 - val_recall: 0.6069 - val_true_negatives: 88.0000\n",
      "Epoch 70/100\n",
      "3/3 [==============================] - 20s 7s/step - loss: 0.5195 - accuracy: 0.7394 - precision: 0.7394 - auc: 0.8256 - recall: 0.7394 - true_negatives: 366.0000 - val_loss: 0.6602 - val_accuracy: 0.6414 - val_precision: 0.6414 - val_auc: 0.6624 - val_recall: 0.6414 - val_true_negatives: 93.0000\n",
      "Epoch 71/100\n",
      "3/3 [==============================] - 19s 6s/step - loss: 0.5190 - accuracy: 0.7354 - precision: 0.7354 - auc: 0.8264 - recall: 0.7354 - true_negatives: 364.0000 - val_loss: 0.6609 - val_accuracy: 0.6414 - val_precision: 0.6414 - val_auc: 0.6615 - val_recall: 0.6414 - val_true_negatives: 93.0000\n",
      "Epoch 72/100\n",
      "3/3 [==============================] - 19s 8s/step - loss: 0.5178 - accuracy: 0.7354 - precision: 0.7354 - auc: 0.8275 - recall: 0.7354 - true_negatives: 364.0000 - val_loss: 0.6639 - val_accuracy: 0.6207 - val_precision: 0.6207 - val_auc: 0.6569 - val_recall: 0.6207 - val_true_negatives: 90.0000\n",
      "Epoch 73/100\n",
      "3/3 [==============================] - 19s 6s/step - loss: 0.5173 - accuracy: 0.7394 - precision: 0.7394 - auc: 0.8277 - recall: 0.7394 - true_negatives: 366.0000 - val_loss: 0.6642 - val_accuracy: 0.6207 - val_precision: 0.6207 - val_auc: 0.6567 - val_recall: 0.6207 - val_true_negatives: 90.0000\n",
      "Epoch 74/100\n",
      "3/3 [==============================] - 21s 7s/step - loss: 0.5160 - accuracy: 0.7515 - precision: 0.7515 - auc: 0.8294 - recall: 0.7515 - true_negatives: 372.0000 - val_loss: 0.6705 - val_accuracy: 0.6069 - val_precision: 0.6069 - val_auc: 0.6489 - val_recall: 0.6069 - val_true_negatives: 88.0000\n",
      "Epoch 75/100\n",
      "3/3 [==============================] - 21s 9s/step - loss: 0.5174 - accuracy: 0.7576 - precision: 0.7576 - auc: 0.8290 - recall: 0.7576 - true_negatives: 375.0000 - val_loss: 0.6741 - val_accuracy: 0.6069 - val_precision: 0.6069 - val_auc: 0.6454 - val_recall: 0.6069 - val_true_negatives: 88.0000\n",
      "Epoch 76/100\n",
      "3/3 [==============================] - 21s 9s/step - loss: 0.5159 - accuracy: 0.7576 - precision: 0.7576 - auc: 0.8305 - recall: 0.7576 - true_negatives: 375.0000 - val_loss: 0.6682 - val_accuracy: 0.6069 - val_precision: 0.6069 - val_auc: 0.6520 - val_recall: 0.6069 - val_true_negatives: 88.0000\n",
      "Epoch 77/100\n",
      "3/3 [==============================] - 21s 7s/step - loss: 0.5146 - accuracy: 0.7495 - precision: 0.7495 - auc: 0.8308 - recall: 0.7495 - true_negatives: 371.0000 - val_loss: 0.6577 - val_accuracy: 0.6276 - val_precision: 0.6276 - val_auc: 0.6668 - val_recall: 0.6276 - val_true_negatives: 91.0000\n",
      "Epoch 78/100\n",
      "3/3 [==============================] - 18s 6s/step - loss: 0.5136 - accuracy: 0.7374 - precision: 0.7374 - auc: 0.8314 - recall: 0.7374 - true_negatives: 365.0000 - val_loss: 0.6593 - val_accuracy: 0.6345 - val_precision: 0.6345 - val_auc: 0.6648 - val_recall: 0.6345 - val_true_negatives: 92.0000\n",
      "Epoch 79/100\n"
     ]
    },
    {
     "name": "stdout",
     "output_type": "stream",
     "text": [
      "3/3 [==============================] - 21s 7s/step - loss: 0.5127 - accuracy: 0.7414 - precision: 0.7414 - auc: 0.8330 - recall: 0.7414 - true_negatives: 367.0000 - val_loss: 0.6616 - val_accuracy: 0.6345 - val_precision: 0.6345 - val_auc: 0.6610 - val_recall: 0.6345 - val_true_negatives: 92.0000\n",
      "Epoch 80/100\n",
      "3/3 [==============================] - 21s 7s/step - loss: 0.5137 - accuracy: 0.7535 - precision: 0.7535 - auc: 0.8317 - recall: 0.7535 - true_negatives: 373.0000 - val_loss: 0.6720 - val_accuracy: 0.6069 - val_precision: 0.6069 - val_auc: 0.6480 - val_recall: 0.6069 - val_true_negatives: 88.0000\n",
      "Epoch 81/100\n",
      "3/3 [==============================] - 20s 7s/step - loss: 0.5125 - accuracy: 0.7616 - precision: 0.7616 - auc: 0.8331 - recall: 0.7616 - true_negatives: 377.0000 - val_loss: 0.6656 - val_accuracy: 0.6069 - val_precision: 0.6069 - val_auc: 0.6565 - val_recall: 0.6069 - val_true_negatives: 88.0000\n",
      "Epoch 82/100\n",
      "3/3 [==============================] - 21s 7s/step - loss: 0.5110 - accuracy: 0.7636 - precision: 0.7636 - auc: 0.8343 - recall: 0.7636 - true_negatives: 378.0000 - val_loss: 0.6647 - val_accuracy: 0.6069 - val_precision: 0.6069 - val_auc: 0.6567 - val_recall: 0.6069 - val_true_negatives: 88.0000\n",
      "Epoch 83/100\n",
      "3/3 [==============================] - 18s 8s/step - loss: 0.5099 - accuracy: 0.7636 - precision: 0.7636 - auc: 0.8350 - recall: 0.7636 - true_negatives: 378.0000 - val_loss: 0.6631 - val_accuracy: 0.6345 - val_precision: 0.6345 - val_auc: 0.6592 - val_recall: 0.6345 - val_true_negatives: 92.0000\n",
      "Epoch 84/100\n",
      "3/3 [==============================] - 18s 6s/step - loss: 0.5095 - accuracy: 0.7556 - precision: 0.7556 - auc: 0.8347 - recall: 0.7556 - true_negatives: 374.0000 - val_loss: 0.6572 - val_accuracy: 0.6276 - val_precision: 0.6276 - val_auc: 0.6690 - val_recall: 0.6276 - val_true_negatives: 91.0000\n",
      "Epoch 85/100\n",
      "3/3 [==============================] - 18s 8s/step - loss: 0.5086 - accuracy: 0.7455 - precision: 0.7455 - auc: 0.8353 - recall: 0.7455 - true_negatives: 369.0000 - val_loss: 0.6581 - val_accuracy: 0.6276 - val_precision: 0.6276 - val_auc: 0.6677 - val_recall: 0.6276 - val_true_negatives: 91.0000\n",
      "Epoch 86/100\n",
      "3/3 [==============================] - 18s 8s/step - loss: 0.5076 - accuracy: 0.7556 - precision: 0.7556 - auc: 0.8364 - recall: 0.7556 - true_negatives: 374.0000 - val_loss: 0.6646 - val_accuracy: 0.6069 - val_precision: 0.6069 - val_auc: 0.6573 - val_recall: 0.6069 - val_true_negatives: 88.0000\n",
      "Epoch 87/100\n",
      "3/3 [==============================] - 21s 7s/step - loss: 0.5072 - accuracy: 0.7677 - precision: 0.7677 - auc: 0.8371 - recall: 0.7677 - true_negatives: 380.0000 - val_loss: 0.6634 - val_accuracy: 0.6276 - val_precision: 0.6276 - val_auc: 0.6594 - val_recall: 0.6276 - val_true_negatives: 91.0000\n",
      "Epoch 88/100\n",
      "3/3 [==============================] - 17s 7s/step - loss: 0.5066 - accuracy: 0.7677 - precision: 0.7677 - auc: 0.8377 - recall: 0.7677 - true_negatives: 380.0000 - val_loss: 0.6627 - val_accuracy: 0.6276 - val_precision: 0.6276 - val_auc: 0.6602 - val_recall: 0.6276 - val_true_negatives: 91.0000\n",
      "Epoch 89/100\n",
      "3/3 [==============================] - 21s 7s/step - loss: 0.5065 - accuracy: 0.7556 - precision: 0.7556 - auc: 0.8373 - recall: 0.7556 - true_negatives: 374.0000 - val_loss: 0.6618 - val_accuracy: 0.6414 - val_precision: 0.6414 - val_auc: 0.6617 - val_recall: 0.6414 - val_true_negatives: 93.0000\n",
      "Epoch 90/100\n",
      "3/3 [==============================] - 19s 8s/step - loss: 0.5054 - accuracy: 0.7596 - precision: 0.7596 - auc: 0.8385 - recall: 0.7596 - true_negatives: 376.0000 - val_loss: 0.6587 - val_accuracy: 0.6276 - val_precision: 0.6276 - val_auc: 0.6667 - val_recall: 0.6276 - val_true_negatives: 91.0000\n",
      "Epoch 91/100\n",
      "3/3 [==============================] - 21s 7s/step - loss: 0.5048 - accuracy: 0.7636 - precision: 0.7636 - auc: 0.8395 - recall: 0.7636 - true_negatives: 378.0000 - val_loss: 0.6602 - val_accuracy: 0.6276 - val_precision: 0.6276 - val_auc: 0.6637 - val_recall: 0.6276 - val_true_negatives: 91.0000\n",
      "Epoch 92/100\n",
      "3/3 [==============================] - 20s 8s/step - loss: 0.5039 - accuracy: 0.7657 - precision: 0.7657 - auc: 0.8403 - recall: 0.7657 - true_negatives: 379.0000 - val_loss: 0.6587 - val_accuracy: 0.6276 - val_precision: 0.6276 - val_auc: 0.6672 - val_recall: 0.6276 - val_true_negatives: 91.0000\n",
      "Epoch 93/100\n",
      "3/3 [==============================] - 19s 8s/step - loss: 0.5035 - accuracy: 0.7657 - precision: 0.7657 - auc: 0.8409 - recall: 0.7657 - true_negatives: 379.0000 - val_loss: 0.6582 - val_accuracy: 0.6276 - val_precision: 0.6276 - val_auc: 0.6676 - val_recall: 0.6276 - val_true_negatives: 91.0000\n",
      "Epoch 94/100\n",
      "3/3 [==============================] - 17s 6s/step - loss: 0.5030 - accuracy: 0.7657 - precision: 0.7657 - auc: 0.8409 - recall: 0.7657 - true_negatives: 379.0000 - val_loss: 0.6624 - val_accuracy: 0.6276 - val_precision: 0.6276 - val_auc: 0.6631 - val_recall: 0.6276 - val_true_negatives: 91.0000\n",
      "Epoch 95/100\n",
      "3/3 [==============================] - 18s 6s/step - loss: 0.5025 - accuracy: 0.7717 - precision: 0.7717 - auc: 0.8421 - recall: 0.7717 - true_negatives: 382.0000 - val_loss: 0.6637 - val_accuracy: 0.6138 - val_precision: 0.6138 - val_auc: 0.6606 - val_recall: 0.6138 - val_true_negatives: 89.0000\n",
      "Epoch 96/100\n",
      "3/3 [==============================] - 20s 7s/step - loss: 0.5017 - accuracy: 0.7677 - precision: 0.7677 - auc: 0.8426 - recall: 0.7677 - true_negatives: 380.0000 - val_loss: 0.6575 - val_accuracy: 0.6276 - val_precision: 0.6276 - val_auc: 0.6681 - val_recall: 0.6276 - val_true_negatives: 91.0000\n",
      "Epoch 97/100\n",
      "3/3 [==============================] - 21s 9s/step - loss: 0.5012 - accuracy: 0.7657 - precision: 0.7657 - auc: 0.8424 - recall: 0.7657 - true_negatives: 379.0000 - val_loss: 0.6609 - val_accuracy: 0.6345 - val_precision: 0.6345 - val_auc: 0.6652 - val_recall: 0.6345 - val_true_negatives: 92.0000\n",
      "Epoch 98/100\n",
      "3/3 [==============================] - 19s 6s/step - loss: 0.5006 - accuracy: 0.7677 - precision: 0.7677 - auc: 0.8423 - recall: 0.7677 - true_negatives: 380.0000 - val_loss: 0.6561 - val_accuracy: 0.6345 - val_precision: 0.6345 - val_auc: 0.6696 - val_recall: 0.6345 - val_true_negatives: 92.0000\n",
      "Epoch 99/100\n",
      "3/3 [==============================] - 17s 6s/step - loss: 0.5000 - accuracy: 0.7657 - precision: 0.7657 - auc: 0.8428 - recall: 0.7657 - true_negatives: 379.0000 - val_loss: 0.6561 - val_accuracy: 0.6345 - val_precision: 0.6345 - val_auc: 0.6699 - val_recall: 0.6345 - val_true_negatives: 92.0000\n",
      "Epoch 100/100\n",
      "3/3 [==============================] - 18s 8s/step - loss: 0.5008 - accuracy: 0.7636 - precision: 0.7636 - auc: 0.8421 - recall: 0.7636 - true_negatives: 378.0000 - val_loss: 0.6692 - val_accuracy: 0.6069 - val_precision: 0.6069 - val_auc: 0.6562 - val_recall: 0.6069 - val_true_negatives: 88.0000\n"
     ]
    }
   ],
   "source": [
    "training_images = 495\n",
    "validation_images = 145\n",
    "\n",
    "history = model.fit(training_generator, # this should be equal to total number of images in training set. But to speed up the execution, I am only using 10000 images. Change this for better results. \n",
    "                   epochs = 100,  # change this for better results\n",
    "                   validation_data = validation_generator)  # this should be equal to total number of images in validation set."
   ]
  },
  {
   "cell_type": "code",
   "execution_count": 13,
   "id": "ea387ee7",
   "metadata": {},
   "outputs": [
    {
     "name": "stdout",
     "output_type": "stream",
     "text": [
      "0.7175151520967483\n",
      "0.5934482800960541\n",
      "0.7175151520967483\n",
      "0.7175151520967483\n",
      "0.7979259645938873\n"
     ]
    }
   ],
   "source": [
    "import statistics\n",
    "print (statistics.mean(history.history['accuracy']))\n",
    "print (statistics.mean(history.history['val_accuracy']))\n",
    "print (statistics.mean(history.history['precision']))\n",
    "print (statistics.mean(history.history['recall']))\n",
    "print (statistics.mean(history.history['auc']))"
   ]
  },
  {
   "cell_type": "code",
   "execution_count": 14,
   "id": "af00a540",
   "metadata": {},
   "outputs": [
    {
     "name": "stdout",
     "output_type": "stream",
     "text": [
      "loss\n"
     ]
    },
    {
     "data": {
      "image/png": "[encoded data removed]",
      "text/plain": [
       "<Figure size 432x288 with 1 Axes>"
      ]
     },
     "metadata": {
      "needs_background": "light"
     },
     "output_type": "display_data"
    },
    {
     "data": {
      "image/png": "[encoded data removed]",
      "text/plain": [
       "<Figure size 432x288 with 1 Axes>"
      ]
     },
     "metadata": {
      "needs_background": "light"
     },
     "output_type": "display_data"
    }
   ],
   "source": [
    "#Some visualizations\n",
    "import matplotlib.pyplot as plt\n",
    "#Loss\n",
    "plt.plot(history.history['loss'],label='loss')\n",
    "print('loss')\n",
    "plt.plot(history.history['val_loss'],label='val_loss')\n",
    "plt.legend()\n",
    "plt.show()\n",
    "#Accuracy\n",
    "plt.plot(history.history['accuracy'],label='acc')\n",
    "plt.plot(history.history['val_accuracy'],label='val_acc')\n",
    "plt.legend()\n",
    "plt.show()"
   ]
  },
  {
   "cell_type": "code",
   "execution_count": 10,
   "id": "b7c6dd42",
   "metadata": {},
   "outputs": [
    {
     "ename": "NameError",
     "evalue": "name 'test_X' is not defined",
     "output_type": "error",
     "traceback": [
      "\u001b[1;31m---------------------------------------------------------------------------\u001b[0m",
      "\u001b[1;31mNameError\u001b[0m                                 Traceback (most recent call last)",
      "\u001b[1;32m~\\AppData\\Local\\Temp/ipykernel_9316/3743720188.py\u001b[0m in \u001b[0;36m<module>\u001b[1;34m\u001b[0m\n\u001b[1;32m----> 1\u001b[1;33m \u001b[0mmodel\u001b[0m\u001b[1;33m.\u001b[0m\u001b[0mevaluate\u001b[0m\u001b[1;33m(\u001b[0m\u001b[0mx\u001b[0m\u001b[1;33m=\u001b[0m\u001b[0mtest_X\u001b[0m\u001b[1;33m,\u001b[0m \u001b[0my\u001b[0m\u001b[1;33m=\u001b[0m\u001b[0mtest_y\u001b[0m\u001b[1;33m)\u001b[0m\u001b[1;33m\u001b[0m\u001b[1;33m\u001b[0m\u001b[0m\n\u001b[0m",
      "\u001b[1;31mNameError\u001b[0m: name 'test_X' is not defined"
     ]
    }
   ],
   "source": []
  },
  {
   "cell_type": "code",
   "execution_count": 15,
   "id": "3fca3713",
   "metadata": {},
   "outputs": [
    {
     "name": "stdout",
     "output_type": "stream",
     "text": [
      "1/1 [==============================] - 2s 2s/step - loss: 0.8622 - accuracy: 0.5455 - precision: 0.5455 - auc: 0.6233 - recall: 0.5455 - true_negatives: 36.0000\n"
     ]
    },
    {
     "data": {
      "text/plain": [
       "[0.8621824383735657,\n",
       " 0.5454545617103577,\n",
       " 0.5454545617103577,\n",
       " 0.6232782602310181,\n",
       " 0.5454545617103577,\n",
       " 36.0]"
      ]
     },
     "execution_count": 15,
     "metadata": {},
     "output_type": "execute_result"
    }
   ],
   "source": [
    "model.evaluate(test_generator)"
   ]
  },
  {
   "cell_type": "code",
   "execution_count": null,
   "id": "c59b54f0",
   "metadata": {},
   "outputs": [],
   "source": []
  }
 ],
 "metadata": {
  "kernelspec": {
   "display_name": "Python 3 (ipykernel)",
   "language": "python",
   "name": "python3"
  },
  "language_info": {
   "codemirror_mode": {
    "name": "ipython",
    "version": 3
   },
   "file_extension": ".py",
   "mimetype": "text/x-python",
   "name": "python",
   "nbconvert_exporter": "python",
   "pygments_lexer": "ipython3",
   "version": "3.8.11"
  }
 },
 "nbformat": 4,
 "nbformat_minor": 5
}
