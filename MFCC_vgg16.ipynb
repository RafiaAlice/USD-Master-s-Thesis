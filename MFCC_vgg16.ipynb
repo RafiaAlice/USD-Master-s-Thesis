{
 "cells": [
  {
   "cell_type": "markdown",
   "id": "ac98f976",
   "metadata": {},
   "source": [
    "# MFCC_vgg16"
   ]
  },
  {
   "cell_type": "code",
   "execution_count": 24,
   "id": "3092498b",
   "metadata": {},
   "outputs": [],
   "source": [
    "import numpy as np\n",
    "import pandas as pd\n",
    "import matplotlib.pyplot as plt\n",
    "from glob import glob\n",
    "from keras import optimizers, losses, activations, models\n",
    "from PIL import ImageFile\n",
    "ImageFile.LOAD_TRUNCATED_IMAGES = True"
   ]
  },
  {
   "cell_type": "code",
   "execution_count": 25,
   "id": "fc4958f4",
   "metadata": {},
   "outputs": [],
   "source": [
    "training_dir = 'C:/Users/ASUS/Desktop/mMFCC/Train'\n",
    "validation_dir = 'C:/Users/ASUS/Desktop/mMFCC/Valid'\n",
    "test_dir = 'C:/Users/ASUS/Desktop/mMFCC/Test'"
   ]
  },
  {
   "cell_type": "code",
   "execution_count": 26,
   "id": "c2947ded",
   "metadata": {},
   "outputs": [],
   "source": [
    "image_files = glob(training_dir + '/*/*.png')\n",
    "valid_image_files = glob(validation_dir + '/*/*.png')"
   ]
  },
  {
   "cell_type": "code",
   "execution_count": 13,
   "id": "eace7ea7",
   "metadata": {},
   "outputs": [
    {
     "name": "stdout",
     "output_type": "stream",
     "text": [
      "Total Classes = 2\n"
     ]
    }
   ],
   "source": [
    "folders = glob(training_dir + '/*')\n",
    "num_classes = len(folders)\n",
    "print ('Total Classes = ' + str(num_classes))"
   ]
  },
  {
   "cell_type": "code",
   "execution_count": 14,
   "id": "ea6ddf8e",
   "metadata": {},
   "outputs": [],
   "source": [
    "import tensorflow as tf \n",
    "from keras.applications.vgg16 import VGG16\n",
    "from keras.models import Model\n",
    "from keras.layers import Flatten, Dense\n",
    "#from keras.preprocessing import image\n",
    "\n",
    "IMAGE_SIZE = [64, 64]  # we will keep the image size as (64,64). You can increase the size for better results. \n",
    "\n",
    "# loading the weights of VGG16 without the top layer. These weights are trained on Imagenet dataset.\n",
    "vgg = VGG16(input_shape = IMAGE_SIZE + [3], weights = 'imagenet', include_top = False)  # input_shape = (64,64,3) as required by VGG\n",
    "\n",
    "for layer in vgg.layers:\n",
    "    layer.trainable = False\n",
    "\n",
    "x = Flatten()(vgg.output)\n",
    "#x = Dense(128, activation = 'relu')(x)   # we can add a new fully connected layer but it will increase the execution time.\n",
    "x = Dense(num_classes, activation = 'softmax')(x)  # adding the output layer with softmax function as this is a multi label classification problem.\n",
    "\n",
    "model = Model(inputs = vgg.input, outputs = x)\n",
    "\n",
    "model.compile(loss='categorical_crossentropy', optimizer='adam', metrics=['accuracy'])"
   ]
  },
  {
   "cell_type": "code",
   "execution_count": 15,
   "id": "8a6f2bd5",
   "metadata": {},
   "outputs": [
    {
     "name": "stdout",
     "output_type": "stream",
     "text": [
      "Model: \"model_1\"\n",
      "_________________________________________________________________\n",
      " Layer (type)                Output Shape              Param #   \n",
      "=================================================================\n",
      " input_2 (InputLayer)        [(None, 64, 64, 3)]       0         \n",
      "                                                                 \n",
      " block1_conv1 (Conv2D)       (None, 64, 64, 64)        1792      \n",
      "                                                                 \n",
      " block1_conv2 (Conv2D)       (None, 64, 64, 64)        36928     \n",
      "                                                                 \n",
      " block1_pool (MaxPooling2D)  (None, 32, 32, 64)        0         \n",
      "                                                                 \n",
      " block2_conv1 (Conv2D)       (None, 32, 32, 128)       73856     \n",
      "                                                                 \n",
      " block2_conv2 (Conv2D)       (None, 32, 32, 128)       147584    \n",
      "                                                                 \n",
      " block2_pool (MaxPooling2D)  (None, 16, 16, 128)       0         \n",
      "                                                                 \n",
      " block3_conv1 (Conv2D)       (None, 16, 16, 256)       295168    \n",
      "                                                                 \n",
      " block3_conv2 (Conv2D)       (None, 16, 16, 256)       590080    \n",
      "                                                                 \n",
      " block3_conv3 (Conv2D)       (None, 16, 16, 256)       590080    \n",
      "                                                                 \n",
      " block3_pool (MaxPooling2D)  (None, 8, 8, 256)         0         \n",
      "                                                                 \n",
      " block4_conv1 (Conv2D)       (None, 8, 8, 512)         1180160   \n",
      "                                                                 \n",
      " block4_conv2 (Conv2D)       (None, 8, 8, 512)         2359808   \n",
      "                                                                 \n",
      " block4_conv3 (Conv2D)       (None, 8, 8, 512)         2359808   \n",
      "                                                                 \n",
      " block4_pool (MaxPooling2D)  (None, 4, 4, 512)         0         \n",
      "                                                                 \n",
      " block5_conv1 (Conv2D)       (None, 4, 4, 512)         2359808   \n",
      "                                                                 \n",
      " block5_conv2 (Conv2D)       (None, 4, 4, 512)         2359808   \n",
      "                                                                 \n",
      " block5_conv3 (Conv2D)       (None, 4, 4, 512)         2359808   \n",
      "                                                                 \n",
      " block5_pool (MaxPooling2D)  (None, 2, 2, 512)         0         \n",
      "                                                                 \n",
      " flatten_1 (Flatten)         (None, 2048)              0         \n",
      "                                                                 \n",
      " dense_1 (Dense)             (None, 2)                 4098      \n",
      "                                                                 \n",
      "=================================================================\n",
      "Total params: 14,718,786\n",
      "Trainable params: 4,098\n",
      "Non-trainable params: 14,714,688\n",
      "_________________________________________________________________\n"
     ]
    }
   ],
   "source": [
    "model.summary()"
   ]
  },
  {
   "cell_type": "code",
   "execution_count": 16,
   "id": "636cb394",
   "metadata": {},
   "outputs": [
    {
     "name": "stdout",
     "output_type": "stream",
     "text": [
      "Found 495 images belonging to 2 classes.\n",
      "Found 145 images belonging to 2 classes.\n",
      "Found 66 images belonging to 2 classes.\n"
     ]
    }
   ],
   "source": [
    "from keras.preprocessing.image import ImageDataGenerator\n",
    "from keras.applications.vgg16 import preprocess_input\n",
    "\n",
    "training_datagen = ImageDataGenerator(\n",
    "                                    rescale=1./255,   # all pixel values will be between 0 an 1\n",
    "                                    shear_range=0, \n",
    "                                    zoom_range=0,\n",
    "                                    horizontal_flip=False,\n",
    "                                    preprocessing_function=preprocess_input)\n",
    "\n",
    "validation_datagen = ImageDataGenerator(rescale = 1./255, preprocessing_function=preprocess_input)\n",
    "test_datagen = ImageDataGenerator(rescale = 1./255, preprocessing_function=preprocess_input)\n",
    "\n",
    "training_generator = training_datagen.flow_from_directory(training_dir, target_size = IMAGE_SIZE, batch_size = 200, class_mode = 'categorical')\n",
    "validation_generator = validation_datagen.flow_from_directory(validation_dir, target_size = IMAGE_SIZE, batch_size = 200, class_mode = 'categorical')\n",
    "test_generator = test_datagen.flow_from_directory(test_dir, target_size = IMAGE_SIZE, batch_size = 200, class_mode = 'categorical')"
   ]
  },
  {
   "cell_type": "code",
   "execution_count": 17,
   "id": "8bb88276",
   "metadata": {},
   "outputs": [],
   "source": [
    "import tensorflow as tf\n",
    "from keras.models import *\n",
    "from keras.layers import *\n",
    "opt = tf.optimizers.Adam(lr=1e-3)\n",
    "model.compile(optimizer=opt, \n",
    "    loss=losses.binary_crossentropy, \n",
    "    metrics=['accuracy', 'Precision', 'AUC', tf.keras.metrics.Recall(), tf.keras.metrics.TrueNegatives()])"
   ]
  },
  {
   "cell_type": "code",
   "execution_count": 18,
   "id": "862b0170",
   "metadata": {},
   "outputs": [
    {
     "name": "stdout",
     "output_type": "stream",
     "text": [
      "Epoch 1/100\n",
      "3/3 [==============================] - 22s 9s/step - loss: 0.7053 - accuracy: 0.4707 - precision: 0.4707 - auc: 0.4454 - recall_1: 0.4707 - true_negatives_1: 233.0000 - val_loss: 0.6594 - val_accuracy: 0.7241 - val_precision: 0.7241 - val_auc: 0.8130 - val_recall_1: 0.7241 - val_true_negatives_1: 105.0000\n",
      "Epoch 2/100\n",
      "3/3 [==============================] - 17s 6s/step - loss: 0.6924 - accuracy: 0.5152 - precision: 0.5152 - auc: 0.5445 - recall_1: 0.5152 - true_negatives_1: 255.0000 - val_loss: 0.6489 - val_accuracy: 0.6207 - val_precision: 0.6207 - val_auc: 0.7332 - val_recall_1: 0.6207 - val_true_negatives_1: 90.0000\n",
      "Epoch 3/100\n",
      "3/3 [==============================] - 16s 7s/step - loss: 0.6747 - accuracy: 0.5535 - precision: 0.5535 - auc: 0.6298 - recall_1: 0.5535 - true_negatives_1: 274.0000 - val_loss: 0.6390 - val_accuracy: 0.6759 - val_precision: 0.6759 - val_auc: 0.8111 - val_recall_1: 0.6759 - val_true_negatives_1: 98.0000\n",
      "Epoch 4/100\n",
      "3/3 [==============================] - 15s 5s/step - loss: 0.6612 - accuracy: 0.6768 - precision: 0.6768 - auc: 0.7350 - recall_1: 0.6768 - true_negatives_1: 335.0000 - val_loss: 0.6304 - val_accuracy: 0.7862 - val_precision: 0.7862 - val_auc: 0.8747 - val_recall_1: 0.7862 - val_true_negatives_1: 114.0000\n",
      "Epoch 5/100\n",
      "3/3 [==============================] - 16s 7s/step - loss: 0.6511 - accuracy: 0.7030 - precision: 0.7030 - auc: 0.7603 - recall_1: 0.7030 - true_negatives_1: 348.0000 - val_loss: 0.6217 - val_accuracy: 0.7655 - val_precision: 0.7655 - val_auc: 0.8661 - val_recall_1: 0.7655 - val_true_negatives_1: 111.0000\n",
      "Epoch 6/100\n",
      "3/3 [==============================] - 16s 7s/step - loss: 0.6391 - accuracy: 0.7232 - precision: 0.7232 - auc: 0.7709 - recall_1: 0.7232 - true_negatives_1: 358.0000 - val_loss: 0.6173 - val_accuracy: 0.6276 - val_precision: 0.6276 - val_auc: 0.7624 - val_recall_1: 0.6276 - val_true_negatives_1: 91.0000\n",
      "Epoch 7/100\n",
      "3/3 [==============================] - 17s 5s/step - loss: 0.6297 - accuracy: 0.7192 - precision: 0.7192 - auc: 0.7650 - recall_1: 0.7192 - true_negatives_1: 356.0000 - val_loss: 0.6120 - val_accuracy: 0.6276 - val_precision: 0.6276 - val_auc: 0.7633 - val_recall_1: 0.6276 - val_true_negatives_1: 91.0000\n",
      "Epoch 8/100\n",
      "3/3 [==============================] - 17s 6s/step - loss: 0.6207 - accuracy: 0.7273 - precision: 0.7273 - auc: 0.7743 - recall_1: 0.7273 - true_negatives_1: 360.0000 - val_loss: 0.6059 - val_accuracy: 0.6414 - val_precision: 0.6414 - val_auc: 0.7742 - val_recall_1: 0.6414 - val_true_negatives_1: 93.0000\n",
      "Epoch 9/100\n",
      "3/3 [==============================] - 16s 7s/step - loss: 0.6115 - accuracy: 0.7354 - precision: 0.7354 - auc: 0.7866 - recall_1: 0.7354 - true_negatives_1: 364.0000 - val_loss: 0.5995 - val_accuracy: 0.6621 - val_precision: 0.6621 - val_auc: 0.7975 - val_recall_1: 0.6621 - val_true_negatives_1: 96.0000\n",
      "Epoch 10/100\n",
      "3/3 [==============================] - 17s 6s/step - loss: 0.6056 - accuracy: 0.7394 - precision: 0.7394 - auc: 0.7863 - recall_1: 0.7394 - true_negatives_1: 366.0000 - val_loss: 0.6011 - val_accuracy: 0.6207 - val_precision: 0.6207 - val_auc: 0.7706 - val_recall_1: 0.6207 - val_true_negatives_1: 90.0000\n",
      "Epoch 11/100\n",
      "3/3 [==============================] - 19s 8s/step - loss: 0.5969 - accuracy: 0.7434 - precision: 0.7434 - auc: 0.7870 - recall_1: 0.7434 - true_negatives_1: 368.0000 - val_loss: 0.6059 - val_accuracy: 0.6138 - val_precision: 0.6138 - val_auc: 0.7522 - val_recall_1: 0.6138 - val_true_negatives_1: 89.0000\n",
      "Epoch 12/100\n",
      "3/3 [==============================] - 17s 7s/step - loss: 0.5905 - accuracy: 0.7475 - precision: 0.7475 - auc: 0.7883 - recall_1: 0.7475 - true_negatives_1: 370.0000 - val_loss: 0.6050 - val_accuracy: 0.6069 - val_precision: 0.6069 - val_auc: 0.7518 - val_recall_1: 0.6069 - val_true_negatives_1: 88.0000\n",
      "Epoch 13/100\n",
      "3/3 [==============================] - 16s 5s/step - loss: 0.5854 - accuracy: 0.7495 - precision: 0.7495 - auc: 0.7923 - recall_1: 0.7495 - true_negatives_1: 371.0000 - val_loss: 0.6016 - val_accuracy: 0.6069 - val_precision: 0.6069 - val_auc: 0.7552 - val_recall_1: 0.6069 - val_true_negatives_1: 88.0000\n",
      "Epoch 14/100\n",
      "3/3 [==============================] - 17s 5s/step - loss: 0.5804 - accuracy: 0.7455 - precision: 0.7455 - auc: 0.7964 - recall_1: 0.7455 - true_negatives_1: 369.0000 - val_loss: 0.6000 - val_accuracy: 0.6069 - val_precision: 0.6069 - val_auc: 0.7563 - val_recall_1: 0.6069 - val_true_negatives_1: 88.0000\n",
      "Epoch 15/100\n",
      "3/3 [==============================] - 16s 5s/step - loss: 0.5757 - accuracy: 0.7455 - precision: 0.7455 - auc: 0.7994 - recall_1: 0.7455 - true_negatives_1: 369.0000 - val_loss: 0.6084 - val_accuracy: 0.6069 - val_precision: 0.6069 - val_auc: 0.7434 - val_recall_1: 0.6069 - val_true_negatives_1: 88.0000\n",
      "Epoch 16/100\n",
      "3/3 [==============================] - 16s 5s/step - loss: 0.5709 - accuracy: 0.7495 - precision: 0.7495 - auc: 0.7978 - recall_1: 0.7495 - true_negatives_1: 371.0000 - val_loss: 0.6154 - val_accuracy: 0.5931 - val_precision: 0.5931 - val_auc: 0.7366 - val_recall_1: 0.5931 - val_true_negatives_1: 86.0000\n",
      "Epoch 17/100\n",
      "3/3 [==============================] - 17s 5s/step - loss: 0.5670 - accuracy: 0.7515 - precision: 0.7515 - auc: 0.7971 - recall_1: 0.7515 - true_negatives_1: 372.0000 - val_loss: 0.6179 - val_accuracy: 0.5931 - val_precision: 0.5931 - val_auc: 0.7318 - val_recall_1: 0.5931 - val_true_negatives_1: 86.0000\n",
      "Epoch 18/100\n",
      "3/3 [==============================] - 16s 5s/step - loss: 0.5633 - accuracy: 0.7535 - precision: 0.7535 - auc: 0.8006 - recall_1: 0.7535 - true_negatives_1: 373.0000 - val_loss: 0.6151 - val_accuracy: 0.6069 - val_precision: 0.6069 - val_auc: 0.7331 - val_recall_1: 0.6069 - val_true_negatives_1: 88.0000\n",
      "Epoch 19/100\n",
      "3/3 [==============================] - 16s 7s/step - loss: 0.5607 - accuracy: 0.7495 - precision: 0.7495 - auc: 0.8043 - recall_1: 0.7495 - true_negatives_1: 371.0000 - val_loss: 0.6078 - val_accuracy: 0.6069 - val_precision: 0.6069 - val_auc: 0.7372 - val_recall_1: 0.6069 - val_true_negatives_1: 88.0000\n",
      "Epoch 20/100\n",
      "3/3 [==============================] - 18s 6s/step - loss: 0.5575 - accuracy: 0.7515 - precision: 0.7515 - auc: 0.8066 - recall_1: 0.7515 - true_negatives_1: 372.0000 - val_loss: 0.6208 - val_accuracy: 0.6000 - val_precision: 0.6000 - val_auc: 0.7268 - val_recall_1: 0.6000 - val_true_negatives_1: 87.0000\n",
      "Epoch 21/100\n",
      "3/3 [==============================] - 19s 6s/step - loss: 0.5549 - accuracy: 0.7535 - precision: 0.7535 - auc: 0.8035 - recall_1: 0.7535 - true_negatives_1: 373.0000 - val_loss: 0.6381 - val_accuracy: 0.5862 - val_precision: 0.5862 - val_auc: 0.7161 - val_recall_1: 0.5862 - val_true_negatives_1: 85.0000\n",
      "Epoch 22/100\n",
      "3/3 [==============================] - 18s 6s/step - loss: 0.5527 - accuracy: 0.7556 - precision: 0.7556 - auc: 0.8047 - recall_1: 0.7556 - true_negatives_1: 374.0000 - val_loss: 0.6305 - val_accuracy: 0.5931 - val_precision: 0.5931 - val_auc: 0.7159 - val_recall_1: 0.5931 - val_true_negatives_1: 86.0000\n",
      "Epoch 23/100\n",
      "3/3 [==============================] - 19s 8s/step - loss: 0.5484 - accuracy: 0.7535 - precision: 0.7535 - auc: 0.8105 - recall_1: 0.7535 - true_negatives_1: 373.0000 - val_loss: 0.6354 - val_accuracy: 0.5931 - val_precision: 0.5931 - val_auc: 0.7132 - val_recall_1: 0.5931 - val_true_negatives_1: 86.0000\n",
      "Epoch 24/100\n",
      "3/3 [==============================] - 20s 8s/step - loss: 0.5464 - accuracy: 0.7556 - precision: 0.7556 - auc: 0.8118 - recall_1: 0.7556 - true_negatives_1: 374.0000 - val_loss: 0.6369 - val_accuracy: 0.5862 - val_precision: 0.5862 - val_auc: 0.7100 - val_recall_1: 0.5862 - val_true_negatives_1: 85.0000\n",
      "Epoch 25/100\n",
      "3/3 [==============================] - 17s 5s/step - loss: 0.5444 - accuracy: 0.7495 - precision: 0.7495 - auc: 0.8132 - recall_1: 0.7495 - true_negatives_1: 371.0000 - val_loss: 0.6392 - val_accuracy: 0.5862 - val_precision: 0.5862 - val_auc: 0.7088 - val_recall_1: 0.5862 - val_true_negatives_1: 85.0000\n",
      "Epoch 26/100\n",
      "3/3 [==============================] - 16s 5s/step - loss: 0.5423 - accuracy: 0.7535 - precision: 0.7535 - auc: 0.8153 - recall_1: 0.7535 - true_negatives_1: 373.0000 - val_loss: 0.6472 - val_accuracy: 0.5931 - val_precision: 0.5931 - val_auc: 0.7038 - val_recall_1: 0.5931 - val_true_negatives_1: 86.0000\n"
     ]
    },
    {
     "name": "stdout",
     "output_type": "stream",
     "text": [
      "Epoch 27/100\n",
      "3/3 [==============================] - 18s 7s/step - loss: 0.5398 - accuracy: 0.7596 - precision: 0.7596 - auc: 0.8157 - recall_1: 0.7596 - true_negatives_1: 376.0000 - val_loss: 0.6650 - val_accuracy: 0.5862 - val_precision: 0.5862 - val_auc: 0.6962 - val_recall_1: 0.5862 - val_true_negatives_1: 85.0000\n",
      "Epoch 28/100\n",
      "3/3 [==============================] - 17s 7s/step - loss: 0.5403 - accuracy: 0.7576 - precision: 0.7576 - auc: 0.8102 - recall_1: 0.7576 - true_negatives_1: 375.0000 - val_loss: 0.6795 - val_accuracy: 0.5793 - val_precision: 0.5793 - val_auc: 0.6907 - val_recall_1: 0.5793 - val_true_negatives_1: 84.0000\n",
      "Epoch 29/100\n",
      "3/3 [==============================] - 18s 7s/step - loss: 0.5366 - accuracy: 0.7576 - precision: 0.7576 - auc: 0.8174 - recall_1: 0.7576 - true_negatives_1: 375.0000 - val_loss: 0.6545 - val_accuracy: 0.5862 - val_precision: 0.5862 - val_auc: 0.7000 - val_recall_1: 0.5862 - val_true_negatives_1: 85.0000\n",
      "Epoch 30/100\n",
      "3/3 [==============================] - 19s 6s/step - loss: 0.5373 - accuracy: 0.7535 - precision: 0.7535 - auc: 0.8180 - recall_1: 0.7535 - true_negatives_1: 373.0000 - val_loss: 0.6381 - val_accuracy: 0.6069 - val_precision: 0.6069 - val_auc: 0.7107 - val_recall_1: 0.6069 - val_true_negatives_1: 88.0000\n",
      "Epoch 31/100\n",
      "3/3 [==============================] - 18s 8s/step - loss: 0.5356 - accuracy: 0.7495 - precision: 0.7495 - auc: 0.8195 - recall_1: 0.7495 - true_negatives_1: 371.0000 - val_loss: 0.6657 - val_accuracy: 0.5862 - val_precision: 0.5862 - val_auc: 0.6947 - val_recall_1: 0.5862 - val_true_negatives_1: 85.0000\n",
      "Epoch 32/100\n",
      "3/3 [==============================] - 17s 5s/step - loss: 0.5319 - accuracy: 0.7596 - precision: 0.7596 - auc: 0.8221 - recall_1: 0.7596 - true_negatives_1: 376.0000 - val_loss: 0.6907 - val_accuracy: 0.5793 - val_precision: 0.5793 - val_auc: 0.6860 - val_recall_1: 0.5793 - val_true_negatives_1: 84.0000\n",
      "Epoch 33/100\n",
      "3/3 [==============================] - 15s 7s/step - loss: 0.5304 - accuracy: 0.7576 - precision: 0.7576 - auc: 0.8221 - recall_1: 0.7576 - true_negatives_1: 375.0000 - val_loss: 0.6726 - val_accuracy: 0.5862 - val_precision: 0.5862 - val_auc: 0.6927 - val_recall_1: 0.5862 - val_true_negatives_1: 85.0000\n",
      "Epoch 34/100\n",
      "3/3 [==============================] - 17s 7s/step - loss: 0.5277 - accuracy: 0.7596 - precision: 0.7596 - auc: 0.8266 - recall_1: 0.7596 - true_negatives_1: 376.0000 - val_loss: 0.6692 - val_accuracy: 0.5793 - val_precision: 0.5793 - val_auc: 0.6936 - val_recall_1: 0.5793 - val_true_negatives_1: 84.0000\n",
      "Epoch 35/100\n",
      "3/3 [==============================] - 16s 7s/step - loss: 0.5263 - accuracy: 0.7576 - precision: 0.7576 - auc: 0.8278 - recall_1: 0.7576 - true_negatives_1: 375.0000 - val_loss: 0.6763 - val_accuracy: 0.5862 - val_precision: 0.5862 - val_auc: 0.6914 - val_recall_1: 0.5862 - val_true_negatives_1: 85.0000\n",
      "Epoch 36/100\n",
      "3/3 [==============================] - 15s 5s/step - loss: 0.5250 - accuracy: 0.7616 - precision: 0.7616 - auc: 0.8288 - recall_1: 0.7616 - true_negatives_1: 377.0000 - val_loss: 0.6893 - val_accuracy: 0.5862 - val_precision: 0.5862 - val_auc: 0.6873 - val_recall_1: 0.5862 - val_true_negatives_1: 85.0000\n",
      "Epoch 37/100\n",
      "3/3 [==============================] - 19s 7s/step - loss: 0.5233 - accuracy: 0.7616 - precision: 0.7616 - auc: 0.8300 - recall_1: 0.7616 - true_negatives_1: 377.0000 - val_loss: 0.6904 - val_accuracy: 0.5862 - val_precision: 0.5862 - val_auc: 0.6870 - val_recall_1: 0.5862 - val_true_negatives_1: 85.0000\n",
      "Epoch 38/100\n",
      "3/3 [==============================] - 18s 6s/step - loss: 0.5228 - accuracy: 0.7636 - precision: 0.7636 - auc: 0.8299 - recall_1: 0.7636 - true_negatives_1: 378.0000 - val_loss: 0.6862 - val_accuracy: 0.5862 - val_precision: 0.5862 - val_auc: 0.6886 - val_recall_1: 0.5862 - val_true_negatives_1: 85.0000\n",
      "Epoch 39/100\n",
      "3/3 [==============================] - 18s 7s/step - loss: 0.5204 - accuracy: 0.7616 - precision: 0.7616 - auc: 0.8317 - recall_1: 0.7616 - true_negatives_1: 377.0000 - val_loss: 0.6985 - val_accuracy: 0.5862 - val_precision: 0.5862 - val_auc: 0.6855 - val_recall_1: 0.5862 - val_true_negatives_1: 85.0000\n",
      "Epoch 40/100\n",
      "3/3 [==============================] - 17s 5s/step - loss: 0.5203 - accuracy: 0.7657 - precision: 0.7657 - auc: 0.8312 - recall_1: 0.7657 - true_negatives_1: 379.0000 - val_loss: 0.6973 - val_accuracy: 0.5862 - val_precision: 0.5862 - val_auc: 0.6856 - val_recall_1: 0.5862 - val_true_negatives_1: 85.0000\n",
      "Epoch 41/100\n",
      "3/3 [==============================] - 18s 6s/step - loss: 0.5186 - accuracy: 0.7657 - precision: 0.7657 - auc: 0.8336 - recall_1: 0.7657 - true_negatives_1: 379.0000 - val_loss: 0.6743 - val_accuracy: 0.5931 - val_precision: 0.5931 - val_auc: 0.6946 - val_recall_1: 0.5931 - val_true_negatives_1: 86.0000\n",
      "Epoch 42/100\n",
      "3/3 [==============================] - 18s 6s/step - loss: 0.5175 - accuracy: 0.7535 - precision: 0.7535 - auc: 0.8342 - recall_1: 0.7535 - true_negatives_1: 373.0000 - val_loss: 0.6813 - val_accuracy: 0.5793 - val_precision: 0.5793 - val_auc: 0.6917 - val_recall_1: 0.5793 - val_true_negatives_1: 84.0000\n",
      "Epoch 43/100\n",
      "3/3 [==============================] - 19s 6s/step - loss: 0.5164 - accuracy: 0.7657 - precision: 0.7657 - auc: 0.8350 - recall_1: 0.7657 - true_negatives_1: 379.0000 - val_loss: 0.7080 - val_accuracy: 0.5862 - val_precision: 0.5862 - val_auc: 0.6834 - val_recall_1: 0.5862 - val_true_negatives_1: 85.0000\n",
      "Epoch 44/100\n",
      "3/3 [==============================] - 17s 7s/step - loss: 0.5143 - accuracy: 0.7697 - precision: 0.7697 - auc: 0.8360 - recall_1: 0.7697 - true_negatives_1: 381.0000 - val_loss: 0.7115 - val_accuracy: 0.5862 - val_precision: 0.5862 - val_auc: 0.6823 - val_recall_1: 0.5862 - val_true_negatives_1: 85.0000\n",
      "Epoch 45/100\n",
      "3/3 [==============================] - 16s 5s/step - loss: 0.5123 - accuracy: 0.7677 - precision: 0.7677 - auc: 0.8385 - recall_1: 0.7677 - true_negatives_1: 380.0000 - val_loss: 0.6962 - val_accuracy: 0.5862 - val_precision: 0.5862 - val_auc: 0.6860 - val_recall_1: 0.5862 - val_true_negatives_1: 85.0000\n",
      "Epoch 46/100\n",
      "3/3 [==============================] - 18s 8s/step - loss: 0.5110 - accuracy: 0.7657 - precision: 0.7657 - auc: 0.8408 - recall_1: 0.7657 - true_negatives_1: 379.0000 - val_loss: 0.6907 - val_accuracy: 0.5862 - val_precision: 0.5862 - val_auc: 0.6886 - val_recall_1: 0.5862 - val_true_negatives_1: 85.0000\n",
      "Epoch 47/100\n",
      "3/3 [==============================] - 16s 5s/step - loss: 0.5105 - accuracy: 0.7657 - precision: 0.7657 - auc: 0.8405 - recall_1: 0.7657 - true_negatives_1: 379.0000 - val_loss: 0.6870 - val_accuracy: 0.5862 - val_precision: 0.5862 - val_auc: 0.6915 - val_recall_1: 0.5862 - val_true_negatives_1: 85.0000\n",
      "Epoch 48/100\n",
      "3/3 [==============================] - 18s 6s/step - loss: 0.5094 - accuracy: 0.7657 - precision: 0.7657 - auc: 0.8413 - recall_1: 0.7657 - true_negatives_1: 379.0000 - val_loss: 0.6994 - val_accuracy: 0.5862 - val_precision: 0.5862 - val_auc: 0.6846 - val_recall_1: 0.5862 - val_true_negatives_1: 85.0000\n",
      "Epoch 49/100\n",
      "3/3 [==============================] - 17s 6s/step - loss: 0.5073 - accuracy: 0.7677 - precision: 0.7677 - auc: 0.8436 - recall_1: 0.7677 - true_negatives_1: 380.0000 - val_loss: 0.7049 - val_accuracy: 0.5862 - val_precision: 0.5862 - val_auc: 0.6842 - val_recall_1: 0.5862 - val_true_negatives_1: 85.0000\n",
      "Epoch 50/100\n",
      "3/3 [==============================] - 18s 7s/step - loss: 0.5066 - accuracy: 0.7677 - precision: 0.7677 - auc: 0.8437 - recall_1: 0.7677 - true_negatives_1: 380.0000 - val_loss: 0.7086 - val_accuracy: 0.5862 - val_precision: 0.5862 - val_auc: 0.6827 - val_recall_1: 0.5862 - val_true_negatives_1: 85.0000\n",
      "Epoch 51/100\n",
      "3/3 [==============================] - 18s 6s/step - loss: 0.5053 - accuracy: 0.7697 - precision: 0.7697 - auc: 0.8455 - recall_1: 0.7697 - true_negatives_1: 381.0000 - val_loss: 0.7025 - val_accuracy: 0.5862 - val_precision: 0.5862 - val_auc: 0.6853 - val_recall_1: 0.5862 - val_true_negatives_1: 85.0000\n",
      "Epoch 52/100\n",
      "3/3 [==============================] - 18s 6s/step - loss: 0.5040 - accuracy: 0.7697 - precision: 0.7697 - auc: 0.8461 - recall_1: 0.7697 - true_negatives_1: 381.0000 - val_loss: 0.6973 - val_accuracy: 0.5931 - val_precision: 0.5931 - val_auc: 0.6873 - val_recall_1: 0.5931 - val_true_negatives_1: 86.0000\n"
     ]
    },
    {
     "name": "stdout",
     "output_type": "stream",
     "text": [
      "Epoch 53/100\n",
      "3/3 [==============================] - 15s 6s/step - loss: 0.5029 - accuracy: 0.7697 - precision: 0.7697 - auc: 0.8477 - recall_1: 0.7697 - true_negatives_1: 381.0000 - val_loss: 0.7140 - val_accuracy: 0.5862 - val_precision: 0.5862 - val_auc: 0.6799 - val_recall_1: 0.5862 - val_true_negatives_1: 85.0000\n",
      "Epoch 54/100\n",
      "3/3 [==============================] - 15s 6s/step - loss: 0.5027 - accuracy: 0.7697 - precision: 0.7697 - auc: 0.8468 - recall_1: 0.7697 - true_negatives_1: 381.0000 - val_loss: 0.7367 - val_accuracy: 0.5931 - val_precision: 0.5931 - val_auc: 0.6742 - val_recall_1: 0.5931 - val_true_negatives_1: 86.0000\n",
      "Epoch 55/100\n",
      "3/3 [==============================] - 17s 6s/step - loss: 0.5034 - accuracy: 0.7677 - precision: 0.7677 - auc: 0.8440 - recall_1: 0.7677 - true_negatives_1: 380.0000 - val_loss: 0.7301 - val_accuracy: 0.5931 - val_precision: 0.5931 - val_auc: 0.6778 - val_recall_1: 0.5931 - val_true_negatives_1: 86.0000\n",
      "Epoch 56/100\n",
      "3/3 [==============================] - 17s 7s/step - loss: 0.5018 - accuracy: 0.7677 - precision: 0.7677 - auc: 0.8471 - recall_1: 0.7677 - true_negatives_1: 380.0000 - val_loss: 0.6912 - val_accuracy: 0.5931 - val_precision: 0.5931 - val_auc: 0.6911 - val_recall_1: 0.5931 - val_true_negatives_1: 86.0000\n",
      "Epoch 57/100\n",
      "3/3 [==============================] - 16s 6s/step - loss: 0.5017 - accuracy: 0.7556 - precision: 0.7556 - auc: 0.8455 - recall_1: 0.7556 - true_negatives_1: 374.0000 - val_loss: 0.7015 - val_accuracy: 0.6000 - val_precision: 0.6000 - val_auc: 0.6864 - val_recall_1: 0.6000 - val_true_negatives_1: 87.0000\n",
      "Epoch 58/100\n",
      "3/3 [==============================] - 18s 6s/step - loss: 0.4996 - accuracy: 0.7677 - precision: 0.7677 - auc: 0.8492 - recall_1: 0.7677 - true_negatives_1: 380.0000 - val_loss: 0.7492 - val_accuracy: 0.5931 - val_precision: 0.5931 - val_auc: 0.6723 - val_recall_1: 0.5931 - val_true_negatives_1: 86.0000\n",
      "Epoch 59/100\n",
      "3/3 [==============================] - 19s 8s/step - loss: 0.4979 - accuracy: 0.7677 - precision: 0.7677 - auc: 0.8488 - recall_1: 0.7677 - true_negatives_1: 380.0000 - val_loss: 0.7493 - val_accuracy: 0.5931 - val_precision: 0.5931 - val_auc: 0.6722 - val_recall_1: 0.5931 - val_true_negatives_1: 86.0000\n",
      "Epoch 60/100\n",
      "3/3 [==============================] - 19s 6s/step - loss: 0.4965 - accuracy: 0.7717 - precision: 0.7717 - auc: 0.8518 - recall_1: 0.7717 - true_negatives_1: 382.0000 - val_loss: 0.7249 - val_accuracy: 0.5862 - val_precision: 0.5862 - val_auc: 0.6768 - val_recall_1: 0.5862 - val_true_negatives_1: 85.0000\n",
      "Epoch 61/100\n",
      "3/3 [==============================] - 18s 6s/step - loss: 0.4964 - accuracy: 0.7697 - precision: 0.7697 - auc: 0.8527 - recall_1: 0.7697 - true_negatives_1: 381.0000 - val_loss: 0.7207 - val_accuracy: 0.5862 - val_precision: 0.5862 - val_auc: 0.6777 - val_recall_1: 0.5862 - val_true_negatives_1: 85.0000\n",
      "Epoch 62/100\n",
      "3/3 [==============================] - 19s 7s/step - loss: 0.4930 - accuracy: 0.7717 - precision: 0.7717 - auc: 0.8557 - recall_1: 0.7717 - true_negatives_1: 382.0000 - val_loss: 0.7353 - val_accuracy: 0.5931 - val_precision: 0.5931 - val_auc: 0.6745 - val_recall_1: 0.5931 - val_true_negatives_1: 86.0000\n",
      "Epoch 63/100\n",
      "3/3 [==============================] - 19s 7s/step - loss: 0.4930 - accuracy: 0.7758 - precision: 0.7758 - auc: 0.8552 - recall_1: 0.7758 - true_negatives_1: 384.0000 - val_loss: 0.7387 - val_accuracy: 0.5931 - val_precision: 0.5931 - val_auc: 0.6737 - val_recall_1: 0.5931 - val_true_negatives_1: 86.0000\n",
      "Epoch 64/100\n",
      "3/3 [==============================] - 18s 7s/step - loss: 0.4940 - accuracy: 0.7657 - precision: 0.7657 - auc: 0.8539 - recall_1: 0.7657 - true_negatives_1: 379.0000 - val_loss: 0.7121 - val_accuracy: 0.6000 - val_precision: 0.6000 - val_auc: 0.6827 - val_recall_1: 0.6000 - val_true_negatives_1: 87.0000\n",
      "Epoch 65/100\n",
      "3/3 [==============================] - 18s 6s/step - loss: 0.4919 - accuracy: 0.7636 - precision: 0.7636 - auc: 0.8551 - recall_1: 0.7636 - true_negatives_1: 378.0000 - val_loss: 0.7302 - val_accuracy: 0.5862 - val_precision: 0.5862 - val_auc: 0.6755 - val_recall_1: 0.5862 - val_true_negatives_1: 85.0000\n",
      "Epoch 66/100\n",
      "3/3 [==============================] - 18s 6s/step - loss: 0.4895 - accuracy: 0.7758 - precision: 0.7758 - auc: 0.8584 - recall_1: 0.7758 - true_negatives_1: 384.0000 - val_loss: 0.7591 - val_accuracy: 0.5931 - val_precision: 0.5931 - val_auc: 0.6693 - val_recall_1: 0.5931 - val_true_negatives_1: 86.0000\n",
      "Epoch 67/100\n",
      "3/3 [==============================] - 17s 5s/step - loss: 0.4910 - accuracy: 0.7677 - precision: 0.7677 - auc: 0.8547 - recall_1: 0.7677 - true_negatives_1: 380.0000 - val_loss: 0.7591 - val_accuracy: 0.5931 - val_precision: 0.5931 - val_auc: 0.6688 - val_recall_1: 0.5931 - val_true_negatives_1: 86.0000\n",
      "Epoch 68/100\n",
      "3/3 [==============================] - 17s 5s/step - loss: 0.4885 - accuracy: 0.7717 - precision: 0.7717 - auc: 0.8579 - recall_1: 0.7717 - true_negatives_1: 382.0000 - val_loss: 0.7220 - val_accuracy: 0.5931 - val_precision: 0.5931 - val_auc: 0.6786 - val_recall_1: 0.5931 - val_true_negatives_1: 86.0000\n",
      "Epoch 69/100\n",
      "3/3 [==============================] - 18s 6s/step - loss: 0.4884 - accuracy: 0.7657 - precision: 0.7657 - auc: 0.8582 - recall_1: 0.7657 - true_negatives_1: 379.0000 - val_loss: 0.7287 - val_accuracy: 0.5931 - val_precision: 0.5931 - val_auc: 0.6770 - val_recall_1: 0.5931 - val_true_negatives_1: 86.0000\n",
      "Epoch 70/100\n",
      "3/3 [==============================] - 15s 5s/step - loss: 0.4860 - accuracy: 0.7697 - precision: 0.7697 - auc: 0.8615 - recall_1: 0.7697 - true_negatives_1: 381.0000 - val_loss: 0.7522 - val_accuracy: 0.5931 - val_precision: 0.5931 - val_auc: 0.6710 - val_recall_1: 0.5931 - val_true_negatives_1: 86.0000\n",
      "Epoch 71/100\n",
      "3/3 [==============================] - 15s 6s/step - loss: 0.4856 - accuracy: 0.7737 - precision: 0.7737 - auc: 0.8608 - recall_1: 0.7737 - true_negatives_1: 383.0000 - val_loss: 0.7620 - val_accuracy: 0.5931 - val_precision: 0.5931 - val_auc: 0.6686 - val_recall_1: 0.5931 - val_true_negatives_1: 86.0000\n",
      "Epoch 72/100\n",
      "3/3 [==============================] - 15s 5s/step - loss: 0.4849 - accuracy: 0.7737 - precision: 0.7737 - auc: 0.8614 - recall_1: 0.7737 - true_negatives_1: 383.0000 - val_loss: 0.7482 - val_accuracy: 0.5931 - val_precision: 0.5931 - val_auc: 0.6719 - val_recall_1: 0.5931 - val_true_negatives_1: 86.0000\n",
      "Epoch 73/100\n",
      "3/3 [==============================] - 17s 7s/step - loss: 0.4851 - accuracy: 0.7737 - precision: 0.7737 - auc: 0.8610 - recall_1: 0.7737 - true_negatives_1: 383.0000 - val_loss: 0.7628 - val_accuracy: 0.5931 - val_precision: 0.5931 - val_auc: 0.6680 - val_recall_1: 0.5931 - val_true_negatives_1: 86.0000\n",
      "Epoch 74/100\n",
      "3/3 [==============================] - 17s 5s/step - loss: 0.4827 - accuracy: 0.7737 - precision: 0.7737 - auc: 0.8632 - recall_1: 0.7737 - true_negatives_1: 383.0000 - val_loss: 0.7456 - val_accuracy: 0.5931 - val_precision: 0.5931 - val_auc: 0.6722 - val_recall_1: 0.5931 - val_true_negatives_1: 86.0000\n",
      "Epoch 75/100\n",
      "3/3 [==============================] - 15s 5s/step - loss: 0.4820 - accuracy: 0.7717 - precision: 0.7717 - auc: 0.8639 - recall_1: 0.7717 - true_negatives_1: 382.0000 - val_loss: 0.7230 - val_accuracy: 0.5931 - val_precision: 0.5931 - val_auc: 0.6813 - val_recall_1: 0.5931 - val_true_negatives_1: 86.0000\n",
      "Epoch 76/100\n",
      "3/3 [==============================] - 16s 5s/step - loss: 0.4821 - accuracy: 0.7697 - precision: 0.7697 - auc: 0.8630 - recall_1: 0.7697 - true_negatives_1: 381.0000 - val_loss: 0.7302 - val_accuracy: 0.6000 - val_precision: 0.6000 - val_auc: 0.6779 - val_recall_1: 0.6000 - val_true_negatives_1: 87.0000\n",
      "Epoch 77/100\n",
      "3/3 [==============================] - 16s 7s/step - loss: 0.4802 - accuracy: 0.7697 - precision: 0.7697 - auc: 0.8660 - recall_1: 0.7697 - true_negatives_1: 381.0000 - val_loss: 0.7625 - val_accuracy: 0.5931 - val_precision: 0.5931 - val_auc: 0.6688 - val_recall_1: 0.5931 - val_true_negatives_1: 86.0000\n",
      "Epoch 78/100\n",
      "3/3 [==============================] - 17s 7s/step - loss: 0.4800 - accuracy: 0.7798 - precision: 0.7798 - auc: 0.8651 - recall_1: 0.7798 - true_negatives_1: 386.0000 - val_loss: 0.7727 - val_accuracy: 0.5931 - val_precision: 0.5931 - val_auc: 0.6659 - val_recall_1: 0.5931 - val_true_negatives_1: 86.0000\n"
     ]
    },
    {
     "name": "stdout",
     "output_type": "stream",
     "text": [
      "Epoch 79/100\n",
      "3/3 [==============================] - 17s 7s/step - loss: 0.4795 - accuracy: 0.7778 - precision: 0.7778 - auc: 0.8649 - recall_1: 0.7778 - true_negatives_1: 385.0000 - val_loss: 0.7659 - val_accuracy: 0.5931 - val_precision: 0.5931 - val_auc: 0.6675 - val_recall_1: 0.5931 - val_true_negatives_1: 86.0000\n",
      "Epoch 80/100\n",
      "3/3 [==============================] - 17s 5s/step - loss: 0.4791 - accuracy: 0.7737 - precision: 0.7737 - auc: 0.8657 - recall_1: 0.7737 - true_negatives_1: 383.0000 - val_loss: 0.7416 - val_accuracy: 0.6000 - val_precision: 0.6000 - val_auc: 0.6734 - val_recall_1: 0.6000 - val_true_negatives_1: 87.0000\n",
      "Epoch 81/100\n",
      "3/3 [==============================] - 19s 6s/step - loss: 0.4768 - accuracy: 0.7717 - precision: 0.7717 - auc: 0.8683 - recall_1: 0.7717 - true_negatives_1: 382.0000 - val_loss: 0.7495 - val_accuracy: 0.6000 - val_precision: 0.6000 - val_auc: 0.6715 - val_recall_1: 0.6000 - val_true_negatives_1: 87.0000\n",
      "Epoch 82/100\n",
      "3/3 [==============================] - 19s 6s/step - loss: 0.4757 - accuracy: 0.7737 - precision: 0.7737 - auc: 0.8691 - recall_1: 0.7737 - true_negatives_1: 383.0000 - val_loss: 0.7491 - val_accuracy: 0.6000 - val_precision: 0.6000 - val_auc: 0.6718 - val_recall_1: 0.6000 - val_true_negatives_1: 87.0000\n",
      "Epoch 83/100\n",
      "3/3 [==============================] - 17s 5s/step - loss: 0.4750 - accuracy: 0.7737 - precision: 0.7737 - auc: 0.8695 - recall_1: 0.7737 - true_negatives_1: 383.0000 - val_loss: 0.7551 - val_accuracy: 0.6000 - val_precision: 0.6000 - val_auc: 0.6704 - val_recall_1: 0.6000 - val_true_negatives_1: 87.0000\n",
      "Epoch 84/100\n",
      "3/3 [==============================] - 22s 7s/step - loss: 0.4743 - accuracy: 0.7737 - precision: 0.7737 - auc: 0.8700 - recall_1: 0.7737 - true_negatives_1: 383.0000 - val_loss: 0.7514 - val_accuracy: 0.6000 - val_precision: 0.6000 - val_auc: 0.6727 - val_recall_1: 0.6000 - val_true_negatives_1: 87.0000\n",
      "Epoch 85/100\n",
      "3/3 [==============================] - 20s 8s/step - loss: 0.4738 - accuracy: 0.7778 - precision: 0.7778 - auc: 0.8699 - recall_1: 0.7778 - true_negatives_1: 385.0000 - val_loss: 0.7640 - val_accuracy: 0.5931 - val_precision: 0.5931 - val_auc: 0.6693 - val_recall_1: 0.5931 - val_true_negatives_1: 86.0000\n",
      "Epoch 86/100\n",
      "3/3 [==============================] - 20s 9s/step - loss: 0.4733 - accuracy: 0.7798 - precision: 0.7798 - auc: 0.8702 - recall_1: 0.7798 - true_negatives_1: 386.0000 - val_loss: 0.7691 - val_accuracy: 0.5931 - val_precision: 0.5931 - val_auc: 0.6701 - val_recall_1: 0.5931 - val_true_negatives_1: 86.0000\n",
      "Epoch 87/100\n",
      "3/3 [==============================] - 19s 6s/step - loss: 0.4720 - accuracy: 0.7758 - precision: 0.7758 - auc: 0.8715 - recall_1: 0.7758 - true_negatives_1: 384.0000 - val_loss: 0.7564 - val_accuracy: 0.6000 - val_precision: 0.6000 - val_auc: 0.6725 - val_recall_1: 0.6000 - val_true_negatives_1: 87.0000\n",
      "Epoch 88/100\n",
      "3/3 [==============================] - 18s 6s/step - loss: 0.4737 - accuracy: 0.7758 - precision: 0.7758 - auc: 0.8694 - recall_1: 0.7758 - true_negatives_1: 384.0000 - val_loss: 0.7328 - val_accuracy: 0.6069 - val_precision: 0.6069 - val_auc: 0.6832 - val_recall_1: 0.6069 - val_true_negatives_1: 88.0000\n",
      "Epoch 89/100\n",
      "3/3 [==============================] - 18s 7s/step - loss: 0.4719 - accuracy: 0.7818 - precision: 0.7818 - auc: 0.8698 - recall_1: 0.7818 - true_negatives_1: 387.0000 - val_loss: 0.7436 - val_accuracy: 0.6000 - val_precision: 0.6000 - val_auc: 0.6786 - val_recall_1: 0.6000 - val_true_negatives_1: 87.0000\n",
      "Epoch 90/100\n",
      "3/3 [==============================] - 17s 6s/step - loss: 0.4709 - accuracy: 0.7859 - precision: 0.7859 - auc: 0.8709 - recall_1: 0.7859 - true_negatives_1: 389.0000 - val_loss: 0.7715 - val_accuracy: 0.5931 - val_precision: 0.5931 - val_auc: 0.6726 - val_recall_1: 0.5931 - val_true_negatives_1: 86.0000\n",
      "Epoch 91/100\n",
      "3/3 [==============================] - 16s 7s/step - loss: 0.4689 - accuracy: 0.7798 - precision: 0.7798 - auc: 0.8738 - recall_1: 0.7798 - true_negatives_1: 386.0000 - val_loss: 0.7655 - val_accuracy: 0.6000 - val_precision: 0.6000 - val_auc: 0.6732 - val_recall_1: 0.6000 - val_true_negatives_1: 87.0000\n",
      "Epoch 92/100\n",
      "3/3 [==============================] - 17s 6s/step - loss: 0.4680 - accuracy: 0.7778 - precision: 0.7778 - auc: 0.8745 - recall_1: 0.7778 - true_negatives_1: 385.0000 - val_loss: 0.7550 - val_accuracy: 0.6000 - val_precision: 0.6000 - val_auc: 0.6745 - val_recall_1: 0.6000 - val_true_negatives_1: 87.0000\n",
      "Epoch 93/100\n",
      "3/3 [==============================] - 17s 6s/step - loss: 0.4673 - accuracy: 0.7758 - precision: 0.7758 - auc: 0.8748 - recall_1: 0.7758 - true_negatives_1: 384.0000 - val_loss: 0.7580 - val_accuracy: 0.6000 - val_precision: 0.6000 - val_auc: 0.6741 - val_recall_1: 0.6000 - val_true_negatives_1: 87.0000\n",
      "Epoch 94/100\n",
      "3/3 [==============================] - 18s 6s/step - loss: 0.4665 - accuracy: 0.7818 - precision: 0.7818 - auc: 0.8757 - recall_1: 0.7818 - true_negatives_1: 387.0000 - val_loss: 0.7633 - val_accuracy: 0.6000 - val_precision: 0.6000 - val_auc: 0.6735 - val_recall_1: 0.6000 - val_true_negatives_1: 87.0000\n",
      "Epoch 95/100\n",
      "3/3 [==============================] - 17s 6s/step - loss: 0.4658 - accuracy: 0.7818 - precision: 0.7818 - auc: 0.8758 - recall_1: 0.7818 - true_negatives_1: 387.0000 - val_loss: 0.7610 - val_accuracy: 0.6000 - val_precision: 0.6000 - val_auc: 0.6741 - val_recall_1: 0.6000 - val_true_negatives_1: 87.0000\n",
      "Epoch 96/100\n",
      "3/3 [==============================] - 19s 8s/step - loss: 0.4650 - accuracy: 0.7758 - precision: 0.7758 - auc: 0.8760 - recall_1: 0.7758 - true_negatives_1: 384.0000 - val_loss: 0.7521 - val_accuracy: 0.6000 - val_precision: 0.6000 - val_auc: 0.6770 - val_recall_1: 0.6000 - val_true_negatives_1: 87.0000\n",
      "Epoch 97/100\n",
      "3/3 [==============================] - 17s 5s/step - loss: 0.4645 - accuracy: 0.7778 - precision: 0.7778 - auc: 0.8762 - recall_1: 0.7778 - true_negatives_1: 385.0000 - val_loss: 0.7574 - val_accuracy: 0.6000 - val_precision: 0.6000 - val_auc: 0.6756 - val_recall_1: 0.6000 - val_true_negatives_1: 87.0000\n",
      "Epoch 98/100\n",
      "3/3 [==============================] - 16s 5s/step - loss: 0.4636 - accuracy: 0.7798 - precision: 0.7798 - auc: 0.8769 - recall_1: 0.7798 - true_negatives_1: 386.0000 - val_loss: 0.7576 - val_accuracy: 0.6000 - val_precision: 0.6000 - val_auc: 0.6756 - val_recall_1: 0.6000 - val_true_negatives_1: 87.0000\n",
      "Epoch 99/100\n",
      "3/3 [==============================] - 18s 6s/step - loss: 0.4635 - accuracy: 0.7778 - precision: 0.7778 - auc: 0.8770 - recall_1: 0.7778 - true_negatives_1: 385.0000 - val_loss: 0.7662 - val_accuracy: 0.6000 - val_precision: 0.6000 - val_auc: 0.6740 - val_recall_1: 0.6000 - val_true_negatives_1: 87.0000\n",
      "Epoch 100/100\n",
      "3/3 [==============================] - 17s 6s/step - loss: 0.4631 - accuracy: 0.7758 - precision: 0.7758 - auc: 0.8770 - recall_1: 0.7758 - true_negatives_1: 384.0000 - val_loss: 0.7526 - val_accuracy: 0.6000 - val_precision: 0.6000 - val_auc: 0.6763 - val_recall_1: 0.6000 - val_true_negatives_1: 87.0000\n"
     ]
    }
   ],
   "source": [
    "training_images = 495\n",
    "validation_images = 145\n",
    "\n",
    "history = model.fit(training_generator, # this should be equal to total number of images in training set. But to speed up the execution, I am only using 10000 images. Change this for better results. \n",
    "                   epochs = 100,  # change this for better results\n",
    "                   validation_data = validation_generator)  # this should be equal to total number of images in validation set."
   ]
  },
  {
   "cell_type": "code",
   "execution_count": 21,
   "id": "ea387ee7",
   "metadata": {},
   "outputs": [
    {
     "name": "stdout",
     "output_type": "stream",
     "text": [
      "0.7551717162132263\n",
      "0.6017241543531417\n"
     ]
    }
   ],
   "source": [
    "import statistics\n",
    "print (statistics.mean(history.history['accuracy']))\n",
    "print (statistics.mean(history.history['val_accuracy']))"
   ]
  },
  {
   "cell_type": "code",
   "execution_count": 22,
   "id": "af00a540",
   "metadata": {},
   "outputs": [
    {
     "name": "stdout",
     "output_type": "stream",
     "text": [
      "loss\n"
     ]
    },
    {
     "data": {
      "image/png": "[encoded data removed]",
      "text/plain": [
       "<Figure size 432x288 with 1 Axes>"
      ]
     },
     "metadata": {
      "needs_background": "light"
     },
     "output_type": "display_data"
    },
    {
     "data": {
      "image/png": "[encoded data removed]",
      "text/plain": [
       "<Figure size 432x288 with 1 Axes>"
      ]
     },
     "metadata": {
      "needs_background": "light"
     },
     "output_type": "display_data"
    }
   ],
   "source": [
    "#Some visualizations\n",
    "import matplotlib.pyplot as plt\n",
    "#Loss\n",
    "plt.plot(history.history['loss'],label='loss')\n",
    "print('loss')\n",
    "plt.plot(history.history['val_loss'],label='val_loss')\n",
    "plt.legend()\n",
    "plt.show()\n",
    "#Accuracy\n",
    "plt.plot(history.history['accuracy'],label='acc')\n",
    "plt.plot(history.history['val_accuracy'],label='val_acc')\n",
    "plt.legend()\n",
    "plt.show()"
   ]
  },
  {
   "cell_type": "code",
   "execution_count": 23,
   "id": "b7c6dd42",
   "metadata": {},
   "outputs": [
    {
     "name": "stdout",
     "output_type": "stream",
     "text": [
      "1/1 [==============================] - 2s 2s/step - loss: 0.8426 - accuracy: 0.4545 - precision: 0.4545 - auc: 0.5315 - recall_1: 0.4545 - true_negatives_1: 30.0000\n"
     ]
    },
    {
     "data": {
      "text/plain": [
       "[0.8425806760787964,\n",
       " 0.4545454680919647,\n",
       " 0.4545454680919647,\n",
       " 0.5314508676528931,\n",
       " 0.4545454680919647,\n",
       " 30.0]"
      ]
     },
     "execution_count": 23,
     "metadata": {},
     "output_type": "execute_result"
    }
   ],
   "source": [
    "model.evaluate(test_generator)"
   ]
  },
  {
   "cell_type": "code",
   "execution_count": null,
   "id": "3fca3713",
   "metadata": {},
   "outputs": [],
   "source": []
  },
  {
   "cell_type": "code",
   "execution_count": null,
   "id": "c59b54f0",
   "metadata": {},
   "outputs": [],
   "source": []
  }
 ],
 "metadata": {
  "kernelspec": {
   "display_name": "Python 3 (ipykernel)",
   "language": "python",
   "name": "python3"
  },
  "language_info": {
   "codemirror_mode": {
    "name": "ipython",
    "version": 3
   },
   "file_extension": ".py",
   "mimetype": "text/x-python",
   "name": "python",
   "nbconvert_exporter": "python",
   "pygments_lexer": "ipython3",
   "version": "3.8.11"
  }
 },
 "nbformat": 4,
 "nbformat_minor": 5
}
