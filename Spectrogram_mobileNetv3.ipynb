{
 "cells": [
  {
   "cell_type": "markdown",
   "id": "3b38fcec",
   "metadata": {},
   "source": [
    "# Spectrogram_mobileNetv3"
   ]
  },
  {
   "cell_type": "code",
   "execution_count": 100,
   "id": "cdf70ba3",
   "metadata": {},
   "outputs": [],
   "source": [
    "import cv2\n",
    "import numpy as np\n",
    "import os\n",
    "from keras.preprocessing.image import ImageDataGenerator\n",
    "from keras import backend as K\n",
    "import keras\n",
    "from keras.models import Sequential, Model,load_model\n",
    "from keras import optimizers, losses, activations, models\n",
    "from keras.callbacks import EarlyStopping,ModelCheckpoint\n",
    "from keras.layers import Input, Add, Dense, Activation, ZeroPadding2D, BatchNormalization, Flatten, Conv2D, AveragePooling2D, MaxPooling2D, GlobalMaxPooling2D,MaxPool2D\n",
    "from keras.preprocessing import image\n",
    "from keras.initializers import glorot_uniform\n",
    "import numpy as np\n",
    "import pandas as pd\n",
    "import matplotlib.pyplot as plt\n",
    "from glob import glob\n",
    "import tensorflow as tf\n",
    "from tensorflow.keras.layers import Input, DepthwiseConv2D\n",
    "from tensorflow.keras.layers import Conv2D, BatchNormalization\n",
    "from tensorflow.keras.layers import ReLU, AvgPool2D, Flatten, Dense\n",
    "from tensorflow.keras import Model\n",
    "import matplotlib.pyplot as plt\n",
    "from keras.preprocessing.image import ImageDataGenerator\n",
    "from tensorflow.keras.applications.mobilenet import MobileNet\n",
    "from keras.layers import Dense\n",
    "from keras import Model\n",
    "from keras.callbacks import ModelCheckpoint\n",
    "from keras.models import load_model"
   ]
  },
  {
   "cell_type": "code",
   "execution_count": 101,
   "id": "2edf6397",
   "metadata": {},
   "outputs": [],
   "source": [
    "train_path= 'C:/Users/ASUS/Desktop/spectrogram/train'\n",
    "test_path= 'C:/Users/ASUS/Desktop/spectrogram/test'\n",
    "class_names=os.listdir(train_path)\n",
    "class_names_test=os.listdir(test_path)"
   ]
  },
  {
   "cell_type": "code",
   "execution_count": 102,
   "id": "bd79d127",
   "metadata": {},
   "outputs": [
    {
     "name": "stdout",
     "output_type": "stream",
     "text": [
      "['abnormal', 'normal']\n",
      "['abnormal', 'normal']\n"
     ]
    }
   ],
   "source": [
    "print(class_names)\n",
    "print(class_names_test)"
   ]
  },
  {
   "cell_type": "code",
   "execution_count": 103,
   "id": "61459779",
   "metadata": {},
   "outputs": [],
   "source": [
    "train_datagen = ImageDataGenerator(zoom_range=0.15,width_shift_range=0.2,height_shift_range=0.2,shear_range=0.15)\n",
    "test_datagen = ImageDataGenerator()"
   ]
  },
  {
   "cell_type": "code",
   "execution_count": 104,
   "id": "78860d05",
   "metadata": {},
   "outputs": [
    {
     "name": "stdout",
     "output_type": "stream",
     "text": [
      "Found 495 images belonging to 2 classes.\n",
      "Found 211 images belonging to 2 classes.\n"
     ]
    }
   ],
   "source": [
    "train_generator = train_datagen.flow_from_directory('C:/Users/ASUS/Desktop/spectrogram/train',target_size=(224, 224),batch_size=32,shuffle=True,class_mode='binary')\n",
    "test_generator = test_datagen.flow_from_directory('C:/Users/ASUS/Desktop/spectrogram/test',target_size=(224,224),batch_size=32,shuffle=False,class_mode='binary')"
   ]
  },
  {
   "cell_type": "code",
   "execution_count": 112,
   "id": "a967a4f9",
   "metadata": {},
   "outputs": [
    {
     "name": "stdout",
     "output_type": "stream",
     "text": [
      "Model: \"sequential_2\"\n",
      "_________________________________________________________________\n",
      " Layer (type)                Output Shape              Param #   \n",
      "=================================================================\n",
      " mobilenetv2_1.00_224 (Funct  (None, 7, 7, 1280)       2257984   \n",
      " ional)                                                          \n",
      "                                                                 \n",
      " dense_12 (Dense)            (None, 7, 7, 128)         163968    \n",
      "                                                                 \n",
      " dense_13 (Dense)            (None, 7, 7, 128)         16512     \n",
      "                                                                 \n",
      " dense_14 (Dense)            (None, 7, 7, 128)         16512     \n",
      "                                                                 \n",
      " dropout (Dropout)           (None, 7, 7, 128)         0         \n",
      "                                                                 \n",
      " dense_15 (Dense)            (None, 7, 7, 128)         16512     \n",
      "                                                                 \n",
      " flatten_4 (Flatten)         (None, 6272)              0         \n",
      "                                                                 \n",
      " dense_16 (Dense)            (None, 1)                 6273      \n",
      "                                                                 \n",
      "=================================================================\n",
      "Total params: 2,477,761\n",
      "Trainable params: 219,777\n",
      "Non-trainable params: 2,257,984\n",
      "_________________________________________________________________\n"
     ]
    }
   ],
   "source": [
    "from tensorflow.keras.applications.mobilenet_v2 import MobileNetV2\n",
    "\n",
    "mobilenet = MobileNetV2(weights = \"imagenet\",include_top = False,input_shape=(224,224,3))\n",
    "for layer in mobilenet.layers:\n",
    "    layer.trainable = False\n",
    "    \n",
    "    \n",
    "model = Sequential()\n",
    "model.add(mobilenet)\n",
    "model.add(Dense(128,activation='relu'))\n",
    "model.add(Dense(128,activation='relu'))\n",
    "model.add(Dense(128,activation='relu'))\n",
    "model.add(Dropout(0.2))\n",
    "model.add(Dense(128,activation='relu'))\n",
    "model.add(Flatten())\n",
    "model.add(Dense(1,activation='sigmoid'))\n",
    "model.summary()"
   ]
  },
  {
   "cell_type": "code",
   "execution_count": 113,
   "id": "dcb8f753",
   "metadata": {},
   "outputs": [],
   "source": [
    "from keras.callbacks import ModelCheckpoint, ReduceLROnPlateau, EarlyStopping\n",
    "# weight_path=\"{}_weights.best.hdf5\".format('spectro_sound_model')\n",
    "checkpoint = ModelCheckpoint(filepath =\"./check.hDf5\", monitor='val_loss', verbose=1, \n",
    "                             save_best_only=True, mode='min', save_weights_only = True)\n",
    "# reduceLROnPlat = ReduceLROnPlateau(monitor='val_loss', \n",
    "#                                    factor=0.8, patience=5, \n",
    "#                                    verbose=1, mode='auto', \n",
    "#                                    epsilon=0.0001, cooldown=5, \n",
    "#                                    min_lr=0.0001)\n",
    "early = EarlyStopping(monitor=\"val_loss\", \n",
    "                      mode=\"min\", \n",
    "                      patience=15) # probably needs to be more patient, but kaggle time is limited\n",
    "callbacks_list = [checkpoint, early]"
   ]
  },
  {
   "cell_type": "code",
   "execution_count": 114,
   "id": "22ce8d8f",
   "metadata": {},
   "outputs": [],
   "source": [
    "import tensorflow as tf\n",
    "from keras.models import *\n",
    "from keras.layers import *\n",
    "opt = tf.optimizers.Adam(lr=1e-3)\n",
    "model.compile(optimizer=opt, \n",
    "    loss=losses.binary_crossentropy, \n",
    "    metrics=['accuracy', 'Precision', 'AUC', tf.keras.metrics.Recall(), tf.keras.metrics.TrueNegatives()])"
   ]
  },
  {
   "cell_type": "code",
   "execution_count": 115,
   "id": "6d3084f8",
   "metadata": {},
   "outputs": [
    {
     "name": "stderr",
     "output_type": "stream",
     "text": [
      "C:\\Users\\ASUS\\AppData\\Local\\Temp/ipykernel_22904/615836474.py:4: UserWarning: `Model.fit_generator` is deprecated and will be removed in a future version. Please use `Model.fit`, which supports generators.\n",
      "  history = model.fit_generator(train_generator, # this should be equal to total number of images in training set. But to speed up the execution, I am only using 10000 images. Change this for better results.\n"
     ]
    },
    {
     "name": "stdout",
     "output_type": "stream",
     "text": [
      "Epoch 1/50\n",
      "16/16 [==============================] - 38s 2s/step - loss: 0.7389 - accuracy: 0.5071 - precision: 0.5280 - auc: 0.5100 - recall_6: 0.5808 - true_negatives_6: 100.0000 - val_loss: 0.6958 - val_accuracy: 0.5355 - val_precision: 0.6512 - val_auc: 0.5212 - val_recall_6: 0.2523 - val_true_negatives_6: 85.0000\n",
      "Epoch 2/50\n",
      "16/16 [==============================] - 31s 2s/step - loss: 0.6559 - accuracy: 0.5859 - precision: 0.5979 - auc: 0.6449 - recall_6: 0.6462 - true_negatives_6: 122.0000 - val_loss: 0.6824 - val_accuracy: 0.5498 - val_precision: 0.5580 - val_auc: 0.5867 - val_recall_6: 0.6937 - val_true_negatives_6: 39.0000\n",
      "Epoch 3/50\n",
      "16/16 [==============================] - 34s 2s/step - loss: 0.6417 - accuracy: 0.6283 - precision: 0.6624 - auc: 0.6840 - recall_6: 0.5962 - true_negatives_6: 156.0000 - val_loss: 0.6884 - val_accuracy: 0.5450 - val_precision: 0.5630 - val_auc: 0.5676 - val_recall_6: 0.6036 - val_true_negatives_6: 48.0000\n",
      "Epoch 4/50\n",
      "16/16 [==============================] - 43s 3s/step - loss: 0.6395 - accuracy: 0.6222 - precision: 0.6308 - auc: 0.6748 - recall_6: 0.6769 - true_negatives_6: 132.0000 - val_loss: 0.7815 - val_accuracy: 0.4929 - val_precision: 0.6250 - val_auc: 0.4670 - val_recall_6: 0.0901 - val_true_negatives_6: 94.0000\n",
      "Epoch 5/50\n",
      "16/16 [==============================] - 41s 3s/step - loss: 0.6315 - accuracy: 0.6343 - precision: 0.6561 - auc: 0.6919 - recall_6: 0.6385 - true_negatives_6: 148.0000 - val_loss: 0.7899 - val_accuracy: 0.5308 - val_precision: 0.5291 - val_auc: 0.5557 - val_recall_6: 0.9820 - val_true_negatives_6: 3.0000\n",
      "Epoch 6/50\n",
      "16/16 [==============================] - 42s 3s/step - loss: 0.6488 - accuracy: 0.6242 - precision: 0.6350 - auc: 0.6740 - recall_6: 0.6692 - true_negatives_6: 135.0000 - val_loss: 0.6960 - val_accuracy: 0.5308 - val_precision: 0.5375 - val_auc: 0.5555 - val_recall_6: 0.7748 - val_true_negatives_6: 26.0000\n",
      "Epoch 7/50\n",
      "16/16 [==============================] - 43s 3s/step - loss: 0.6186 - accuracy: 0.6525 - precision: 0.6571 - auc: 0.7143 - recall_6: 0.7077 - true_negatives_6: 139.0000 - val_loss: 0.7208 - val_accuracy: 0.5166 - val_precision: 0.5294 - val_auc: 0.4733 - val_recall_6: 0.7297 - val_true_negatives_6: 28.0000\n",
      "Epoch 8/50\n",
      "16/16 [==============================] - 44s 3s/step - loss: 0.6515 - accuracy: 0.6343 - precision: 0.6756 - auc: 0.6778 - recall_6: 0.5846 - true_negatives_6: 162.0000 - val_loss: 0.7231 - val_accuracy: 0.5450 - val_precision: 0.5369 - val_auc: 0.5259 - val_recall_6: 0.9820 - val_true_negatives_6: 6.0000\n",
      "Epoch 9/50\n",
      "16/16 [==============================] - 43s 3s/step - loss: 0.6497 - accuracy: 0.5717 - precision: 0.5863 - auc: 0.6484 - recall_6: 0.6269 - true_negatives_6: 120.0000 - val_loss: 0.6959 - val_accuracy: 0.5403 - val_precision: 0.5412 - val_auc: 0.5435 - val_recall_6: 0.8288 - val_true_negatives_6: 22.0000\n",
      "Epoch 10/50\n",
      "16/16 [==============================] - 39s 2s/step - loss: 0.6283 - accuracy: 0.6424 - precision: 0.6416 - auc: 0.7004 - recall_6: 0.7231 - true_negatives_6: 130.0000 - val_loss: 0.6887 - val_accuracy: 0.5450 - val_precision: 0.5434 - val_auc: 0.5745 - val_recall_6: 0.8468 - val_true_negatives_6: 21.0000\n",
      "Epoch 11/50\n",
      "16/16 [==============================] - 40s 3s/step - loss: 0.5964 - accuracy: 0.6889 - precision: 0.7345 - auc: 0.7486 - recall_6: 0.6385 - true_negatives_6: 175.0000 - val_loss: 1.0402 - val_accuracy: 0.5308 - val_precision: 0.5294 - val_auc: 0.5623 - val_recall_6: 0.9730 - val_true_negatives_6: 4.0000\n",
      "Epoch 12/50\n",
      "16/16 [==============================] - 43s 3s/step - loss: 0.6514 - accuracy: 0.6202 - precision: 0.6417 - auc: 0.6786 - recall_6: 0.6269 - true_negatives_6: 144.0000 - val_loss: 0.7342 - val_accuracy: 0.5450 - val_precision: 0.5373 - val_auc: 0.5480 - val_recall_6: 0.9730 - val_true_negatives_6: 7.0000\n",
      "Epoch 13/50\n",
      "16/16 [==============================] - 41s 3s/step - loss: 0.6469 - accuracy: 0.6444 - precision: 0.6469 - auc: 0.6859 - recall_6: 0.7115 - true_negatives_6: 134.0000 - val_loss: 0.8060 - val_accuracy: 0.5592 - val_precision: 0.5450 - val_auc: 0.5913 - val_recall_6: 0.9820 - val_true_negatives_6: 9.0000\n",
      "Epoch 14/50\n",
      "16/16 [==============================] - 37s 2s/step - loss: 0.6353 - accuracy: 0.6384 - precision: 0.6494 - auc: 0.6882 - recall_6: 0.6769 - true_negatives_6: 140.0000 - val_loss: 0.7051 - val_accuracy: 0.4834 - val_precision: 0.5082 - val_auc: 0.4877 - val_recall_6: 0.5586 - val_true_negatives_6: 40.0000\n",
      "Epoch 15/50\n",
      "16/16 [==============================] - 39s 2s/step - loss: 0.6183 - accuracy: 0.6707 - precision: 0.7046 - auc: 0.7246 - recall_6: 0.6423 - true_negatives_6: 165.0000 - val_loss: 0.7306 - val_accuracy: 0.5498 - val_precision: 0.5412 - val_auc: 0.4621 - val_recall_6: 0.9459 - val_true_negatives_6: 11.0000\n",
      "Epoch 16/50\n",
      "16/16 [==============================] - 37s 2s/step - loss: 0.5935 - accuracy: 0.6808 - precision: 0.6645 - auc: 0.7538 - recall_6: 0.7923 - true_negatives_6: 131.0000 - val_loss: 0.7911 - val_accuracy: 0.5498 - val_precision: 0.5417 - val_auc: 0.4820 - val_recall_6: 0.9369 - val_true_negatives_6: 12.0000\n",
      "Epoch 17/50\n",
      "16/16 [==============================] - 36s 2s/step - loss: 0.6094 - accuracy: 0.6586 - precision: 0.6574 - auc: 0.7247 - recall_6: 0.7308 - true_negatives_6: 136.0000 - val_loss: 0.8207 - val_accuracy: 0.5403 - val_precision: 0.5340 - val_auc: 0.4785 - val_recall_6: 0.9910 - val_true_negatives_6: 4.0000\n",
      "Epoch 18/50\n",
      "16/16 [==============================] - 35s 2s/step - loss: 0.5953 - accuracy: 0.6808 - precision: 0.6889 - auc: 0.7391 - recall_6: 0.7154 - true_negatives_6: 151.0000 - val_loss: 0.8116 - val_accuracy: 0.5498 - val_precision: 0.5408 - val_auc: 0.4574 - val_recall_6: 0.9550 - val_true_negatives_6: 10.0000\n",
      "Epoch 19/50\n",
      "16/16 [==============================] - 40s 3s/step - loss: 0.6067 - accuracy: 0.6788 - precision: 0.7095 - auc: 0.7282 - recall_6: 0.6577 - true_negatives_6: 165.0000 - val_loss: 0.7635 - val_accuracy: 0.5308 - val_precision: 0.5319 - val_auc: 0.4736 - val_recall_6: 0.9009 - val_true_negatives_6: 12.0000\n",
      "Epoch 20/50\n",
      "16/16 [==============================] - 36s 2s/step - loss: 0.5769 - accuracy: 0.7232 - precision: 0.7236 - auc: 0.7755 - recall_6: 0.7654 - true_negatives_6: 159.0000 - val_loss: 0.8035 - val_accuracy: 0.5545 - val_precision: 0.5431 - val_auc: 0.5001 - val_recall_6: 0.9640 - val_true_negatives_6: 10.0000\n",
      "Epoch 21/50\n",
      "16/16 [==============================] - 35s 2s/step - loss: 0.5775 - accuracy: 0.6687 - precision: 0.6678 - auc: 0.7548 - recall_6: 0.7346 - true_negatives_6: 140.0000 - val_loss: 0.7538 - val_accuracy: 0.5355 - val_precision: 0.5351 - val_auc: 0.4874 - val_recall_6: 0.8919 - val_true_negatives_6: 14.0000\n",
      "Epoch 22/50\n",
      "16/16 [==============================] - 36s 2s/step - loss: 0.5840 - accuracy: 0.6788 - precision: 0.6797 - auc: 0.7498 - recall_6: 0.7346 - true_negatives_6: 145.0000 - val_loss: 0.8008 - val_accuracy: 0.5403 - val_precision: 0.5368 - val_auc: 0.4772 - val_recall_6: 0.9189 - val_true_negatives_6: 12.0000\n",
      "Epoch 23/50\n",
      "16/16 [==============================] - 35s 2s/step - loss: 0.5552 - accuracy: 0.7071 - precision: 0.7076 - auc: 0.7850 - recall_6: 0.7538 - true_negatives_6: 154.0000 - val_loss: 0.7623 - val_accuracy: 0.5213 - val_precision: 0.5272 - val_auc: 0.5316 - val_recall_6: 0.8739 - val_true_negatives_6: 13.0000\n",
      "Epoch 24/50\n",
      "16/16 [==============================] - 34s 2s/step - loss: 0.5830 - accuracy: 0.6768 - precision: 0.6852 - auc: 0.7473 - recall_6: 0.7115 - true_negatives_6: 150.0000 - val_loss: 0.7742 - val_accuracy: 0.5592 - val_precision: 0.5469 - val_auc: 0.4549 - val_recall_6: 0.9459 - val_true_negatives_6: 13.0000\n",
      "Epoch 25/50\n",
      "16/16 [==============================] - 32s 2s/step - loss: 0.5842 - accuracy: 0.6990 - precision: 0.7079 - auc: 0.7592 - recall_6: 0.7269 - true_negatives_6: 157.0000 - val_loss: 0.8038 - val_accuracy: 0.5071 - val_precision: 0.5202 - val_auc: 0.4245 - val_recall_6: 0.8108 - val_true_negatives_6: 17.0000\n",
      "Epoch 26/50\n",
      "16/16 [==============================] - 35s 2s/step - loss: 0.5890 - accuracy: 0.7030 - precision: 0.7148 - auc: 0.7602 - recall_6: 0.7231 - true_negatives_6: 160.0000 - val_loss: 0.7238 - val_accuracy: 0.5024 - val_precision: 0.5170 - val_auc: 0.5212 - val_recall_6: 0.8198 - val_true_negatives_6: 15.0000\n"
     ]
    },
    {
     "name": "stdout",
     "output_type": "stream",
     "text": [
      "Epoch 27/50\n",
      "16/16 [==============================] - 36s 2s/step - loss: 0.5850 - accuracy: 0.6788 - precision: 0.6906 - auc: 0.7553 - recall_6: 0.7038 - true_negatives_6: 153.0000 - val_loss: 0.7585 - val_accuracy: 0.5355 - val_precision: 0.5363 - val_auc: 0.5303 - val_recall_6: 0.8649 - val_true_negatives_6: 17.0000\n",
      "Epoch 28/50\n",
      "16/16 [==============================] - 32s 2s/step - loss: 0.5917 - accuracy: 0.6848 - precision: 0.6940 - auc: 0.7505 - recall_6: 0.7154 - true_negatives_6: 153.0000 - val_loss: 0.7421 - val_accuracy: 0.5261 - val_precision: 0.5279 - val_auc: 0.4760 - val_recall_6: 0.9369 - val_true_negatives_6: 7.0000\n",
      "Epoch 29/50\n",
      "16/16 [==============================] - 44s 3s/step - loss: 0.5679 - accuracy: 0.7172 - precision: 0.7128 - auc: 0.7779 - recall_6: 0.7731 - true_negatives_6: 154.0000 - val_loss: 0.7862 - val_accuracy: 0.5024 - val_precision: 0.5172 - val_auc: 0.4832 - val_recall_6: 0.8108 - val_true_negatives_6: 16.0000\n",
      "Epoch 30/50\n",
      "16/16 [==============================] - 28s 2s/step - loss: 0.5778 - accuracy: 0.6788 - precision: 0.6772 - auc: 0.7567 - recall_6: 0.7423 - true_negatives_6: 143.0000 - val_loss: 0.7359 - val_accuracy: 0.5118 - val_precision: 0.5225 - val_auc: 0.4945 - val_recall_6: 0.8378 - val_true_negatives_6: 15.0000\n",
      "Epoch 31/50\n",
      "16/16 [==============================] - 27s 2s/step - loss: 0.5767 - accuracy: 0.6949 - precision: 0.7154 - auc: 0.7588 - recall_6: 0.6962 - true_negatives_6: 163.0000 - val_loss: 0.8064 - val_accuracy: 0.5308 - val_precision: 0.5306 - val_auc: 0.4911 - val_recall_6: 0.9369 - val_true_negatives_6: 8.0000\n",
      "Epoch 32/50\n",
      "16/16 [==============================] - 29s 2s/step - loss: 0.5420 - accuracy: 0.7212 - precision: 0.7276 - auc: 0.7994 - recall_6: 0.7500 - true_negatives_6: 162.0000 - val_loss: 0.8560 - val_accuracy: 0.5166 - val_precision: 0.5236 - val_auc: 0.5231 - val_recall_6: 0.9009 - val_true_negatives_6: 9.0000\n",
      "Epoch 33/50\n",
      "16/16 [==============================] - 28s 2s/step - loss: 0.5778 - accuracy: 0.6970 - precision: 0.7083 - auc: 0.7583 - recall_6: 0.7192 - true_negatives_6: 158.0000 - val_loss: 0.7542 - val_accuracy: 0.4929 - val_precision: 0.5130 - val_auc: 0.4422 - val_recall_6: 0.7117 - val_true_negatives_6: 25.0000\n",
      "Epoch 34/50\n",
      "16/16 [==============================] - 29s 2s/step - loss: 0.5658 - accuracy: 0.6929 - precision: 0.6824 - auc: 0.7614 - recall_6: 0.7769 - true_negatives_6: 141.0000 - val_loss: 0.7927 - val_accuracy: 0.5308 - val_precision: 0.5309 - val_auc: 0.4896 - val_recall_6: 0.9279 - val_true_negatives_6: 9.0000\n",
      "Epoch 35/50\n",
      "16/16 [==============================] - 28s 2s/step - loss: 0.5764 - accuracy: 0.6848 - precision: 0.6844 - auc: 0.7646 - recall_6: 0.7423 - true_negatives_6: 146.0000 - val_loss: 0.7500 - val_accuracy: 0.5355 - val_precision: 0.5351 - val_auc: 0.5206 - val_recall_6: 0.8919 - val_true_negatives_6: 14.0000\n",
      "Epoch 36/50\n",
      "16/16 [==============================] - 29s 2s/step - loss: 0.5947 - accuracy: 0.6687 - precision: 0.6791 - auc: 0.7382 - recall_6: 0.7000 - true_negatives_6: 149.0000 - val_loss: 0.7398 - val_accuracy: 0.5071 - val_precision: 0.5202 - val_auc: 0.5084 - val_recall_6: 0.8108 - val_true_negatives_6: 17.0000\n",
      "Epoch 37/50\n",
      "16/16 [==============================] - 30s 2s/step - loss: 0.5726 - accuracy: 0.6768 - precision: 0.6923 - auc: 0.7598 - recall_6: 0.6923 - true_negatives_6: 155.0000 - val_loss: 0.7740 - val_accuracy: 0.5261 - val_precision: 0.5304 - val_auc: 0.4532 - val_recall_6: 0.8649 - val_true_negatives_6: 15.0000\n",
      "Epoch 38/50\n",
      "16/16 [==============================] - 30s 2s/step - loss: 0.5638 - accuracy: 0.6889 - precision: 0.6667 - auc: 0.7733 - recall_6: 0.8154 - true_negatives_6: 129.0000 - val_loss: 0.8451 - val_accuracy: 0.5308 - val_precision: 0.5312 - val_auc: 0.4116 - val_recall_6: 0.9189 - val_true_negatives_6: 10.0000\n",
      "Epoch 39/50\n",
      "16/16 [==============================] - 29s 2s/step - loss: 0.6065 - accuracy: 0.6505 - precision: 0.6629 - auc: 0.7206 - recall_6: 0.6808 - true_negatives_6: 145.0000 - val_loss: 0.7508 - val_accuracy: 0.5213 - val_precision: 0.5272 - val_auc: 0.4237 - val_recall_6: 0.8739 - val_true_negatives_6: 13.0000\n",
      "Epoch 40/50\n",
      "16/16 [==============================] - 41s 3s/step - loss: 0.5849 - accuracy: 0.6808 - precision: 0.6992 - auc: 0.7586 - recall_6: 0.6885 - true_negatives_6: 158.0000 - val_loss: 0.8066 - val_accuracy: 0.5308 - val_precision: 0.5306 - val_auc: 0.4596 - val_recall_6: 0.9369 - val_true_negatives_6: 8.0000\n",
      "Epoch 41/50\n",
      "16/16 [==============================] - 52s 3s/step - loss: 0.5891 - accuracy: 0.6808 - precision: 0.6875 - auc: 0.7504 - recall_6: 0.7192 - true_negatives_6: 150.0000 - val_loss: 0.7374 - val_accuracy: 0.5355 - val_precision: 0.5337 - val_auc: 0.5189 - val_recall_6: 0.9279 - val_true_negatives_6: 10.0000\n",
      "Epoch 42/50\n",
      "16/16 [==============================] - 54s 3s/step - loss: 0.5630 - accuracy: 0.6990 - precision: 0.7018 - auc: 0.7667 - recall_6: 0.7423 - true_negatives_6: 153.0000 - val_loss: 0.8308 - val_accuracy: 0.5450 - val_precision: 0.5377 - val_auc: 0.5319 - val_recall_6: 0.9640 - val_true_negatives_6: 8.0000\n",
      "Epoch 43/50\n",
      "16/16 [==============================] - 52s 3s/step - loss: 0.5498 - accuracy: 0.7192 - precision: 0.7093 - auc: 0.7856 - recall_6: 0.7885 - true_negatives_6: 151.0000 - val_loss: 0.7865 - val_accuracy: 0.5403 - val_precision: 0.5357 - val_auc: 0.4861 - val_recall_6: 0.9459 - val_true_negatives_6: 9.0000\n",
      "Epoch 44/50\n",
      "16/16 [==============================] - 53s 3s/step - loss: 0.5574 - accuracy: 0.7030 - precision: 0.7100 - auc: 0.7832 - recall_6: 0.7346 - true_negatives_6: 157.0000 - val_loss: 0.9402 - val_accuracy: 0.5355 - val_precision: 0.5320 - val_auc: 0.5291 - val_recall_6: 0.9730 - val_true_negatives_6: 5.0000\n",
      "Epoch 45/50\n",
      "16/16 [==============================] - 53s 3s/step - loss: 0.5488 - accuracy: 0.7091 - precision: 0.7248 - auc: 0.7906 - recall_6: 0.7192 - true_negatives_6: 164.0000 - val_loss: 0.8057 - val_accuracy: 0.5498 - val_precision: 0.5404 - val_auc: 0.5864 - val_recall_6: 0.9640 - val_true_negatives_6: 9.0000\n",
      "Epoch 46/50\n",
      "16/16 [==============================] - 52s 3s/step - loss: 0.5698 - accuracy: 0.6929 - precision: 0.7015 - auc: 0.7649 - recall_6: 0.7231 - true_negatives_6: 155.0000 - val_loss: 0.8827 - val_accuracy: 0.5355 - val_precision: 0.5314 - val_auc: 0.5585 - val_recall_6: 0.9910 - val_true_negatives_6: 3.0000\n",
      "Epoch 47/50\n",
      "16/16 [==============================] - 53s 3s/step - loss: 0.5736 - accuracy: 0.6788 - precision: 0.6863 - auc: 0.7629 - recall_6: 0.7154 - true_negatives_6: 150.0000 - val_loss: 0.7955 - val_accuracy: 0.5166 - val_precision: 0.5276 - val_auc: 0.5193 - val_recall_6: 0.7748 - val_true_negatives_6: 23.0000\n",
      "Epoch 48/50\n",
      "16/16 [==============================] - 49s 3s/step - loss: 0.5603 - accuracy: 0.7192 - precision: 0.7373 - auc: 0.7848 - recall_6: 0.7231 - true_negatives_6: 168.0000 - val_loss: 0.7591 - val_accuracy: 0.5071 - val_precision: 0.5207 - val_auc: 0.5038 - val_recall_6: 0.7928 - val_true_negatives_6: 19.0000\n",
      "Epoch 49/50\n",
      "16/16 [==============================] - 51s 3s/step - loss: 0.5311 - accuracy: 0.7212 - precision: 0.7328 - auc: 0.8087 - recall_6: 0.7385 - true_negatives_6: 165.0000 - val_loss: 0.9725 - val_accuracy: 0.5403 - val_precision: 0.5347 - val_auc: 0.5184 - val_recall_6: 0.9730 - val_true_negatives_6: 6.0000\n",
      "Epoch 50/50\n",
      "16/16 [==============================] - 51s 3s/step - loss: 0.5428 - accuracy: 0.7253 - precision: 0.7109 - auc: 0.7937 - recall_6: 0.8038 - true_negatives_6: 150.0000 - val_loss: 0.8080 - val_accuracy: 0.5071 - val_precision: 0.5193 - val_auc: 0.4516 - val_recall_6: 0.8468 - val_true_negatives_6: 13.0000\n"
     ]
    }
   ],
   "source": [
    "training_images = 456\n",
    "validation_images = 144 \n",
    "\n",
    "history = model.fit_generator(train_generator, # this should be equal to total number of images in training set. But to speed up the execution, I am only using 10000 images. Change this for better results. \n",
    "                   epochs = 50,  # change this for better results\n",
    "                   validation_data = test_generator)  # this should be equal to total number of images in validation set."
   ]
  },
  {
   "cell_type": "code",
   "execution_count": 116,
   "id": "613d19c9",
   "metadata": {},
   "outputs": [
    {
     "name": "stdout",
     "output_type": "stream",
     "text": [
      "0.6717171716690064\n",
      "0.5300473928451538\n"
     ]
    }
   ],
   "source": [
    "import statistics\n",
    "print (statistics.mean(history.history['accuracy']))\n",
    "print (statistics.mean(history.history['val_accuracy']))"
   ]
  },
  {
   "cell_type": "code",
   "execution_count": 117,
   "id": "72c4d522",
   "metadata": {},
   "outputs": [
    {
     "data": {
      "image/png": "[encoded data removed]",
      "text/plain": [
       "<Figure size 432x288 with 1 Axes>"
      ]
     },
     "metadata": {
      "needs_background": "light"
     },
     "output_type": "display_data"
    },
    {
     "data": {
      "image/png": "[encoded data removed]",
      "text/plain": [
       "<Figure size 432x288 with 1 Axes>"
      ]
     },
     "metadata": {
      "needs_background": "light"
     },
     "output_type": "display_data"
    }
   ],
   "source": [
    "#Some visualizations\n",
    "import matplotlib.pyplot as plt\n",
    "#Loss\n",
    "plt.plot(history.history['loss'],label='loss')\n",
    "plt.plot(history.history['val_loss'],label='val_loss')\n",
    "plt.legend()\n",
    "plt.show()\n",
    "#Accuracy\n",
    "plt.plot(history.history['accuracy'],label='acc')\n",
    "plt.plot(history.history['val_accuracy'],label='val_acc')\n",
    "plt.legend()\n",
    "plt.show()"
   ]
  },
  {
   "cell_type": "code",
   "execution_count": 119,
   "id": "a0a10ce7",
   "metadata": {},
   "outputs": [
    {
     "name": "stdout",
     "output_type": "stream",
     "text": [
      "7/7 [==============================] - 14s 2s/step - loss: 0.8080 - accuracy: 0.5071 - precision: 0.5193 - auc: 0.4516 - recall_6: 0.8468 - true_negatives_6: 13.0000    \n"
     ]
    },
    {
     "data": {
      "text/plain": [
       "[0.8080183863639832,\n",
       " 0.5071089863777161,\n",
       " 0.519336998462677,\n",
       " 0.4515765607357025,\n",
       " 0.8468468189239502,\n",
       " 13.0]"
      ]
     },
     "execution_count": 119,
     "metadata": {},
     "output_type": "execute_result"
    }
   ],
   "source": [
    "model.evaluate(test_generator)"
   ]
  },
  {
   "cell_type": "code",
   "execution_count": null,
   "id": "3552a818",
   "metadata": {},
   "outputs": [],
   "source": []
  }
 ],
 "metadata": {
  "kernelspec": {
   "display_name": "Python 3 (ipykernel)",
   "language": "python",
   "name": "python3"
  },
  "language_info": {
   "codemirror_mode": {
    "name": "ipython",
    "version": 3
   },
   "file_extension": ".py",
   "mimetype": "text/x-python",
   "name": "python",
   "nbconvert_exporter": "python",
   "pygments_lexer": "ipython3",
   "version": "3.8.11"
  }
 },
 "nbformat": 4,
 "nbformat_minor": 5
}
