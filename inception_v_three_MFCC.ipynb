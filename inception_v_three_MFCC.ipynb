{
 "cells": [
  {
   "cell_type": "markdown",
   "id": "b985e7ba",
   "metadata": {},
   "source": [
    "# MFCC_inceptionv3"
   ]
  },
  {
   "cell_type": "code",
   "execution_count": 1,
   "id": "63e75f24",
   "metadata": {},
   "outputs": [],
   "source": [
    "import cv2\n",
    "import numpy as np\n",
    "import os\n",
    "from keras.preprocessing.image import ImageDataGenerator\n",
    "from keras import backend as K\n",
    "import keras\n",
    "from keras.models import Sequential, Model,load_model\n",
    "from keras import optimizers, losses, activations, models\n",
    "from keras.callbacks import EarlyStopping,ModelCheckpoint\n",
    "from keras.layers import Input, Add, Dense, Activation, ZeroPadding2D, BatchNormalization, Flatten, Conv2D, AveragePooling2D, MaxPooling2D, GlobalMaxPooling2D,MaxPool2D\n",
    "from keras.preprocessing import image\n",
    "from keras.initializers import glorot_uniform\n",
    "import numpy as np\n",
    "import pandas as pd\n",
    "import matplotlib.pyplot as plt\n",
    "from glob import glob"
   ]
  },
  {
   "cell_type": "code",
   "execution_count": 2,
   "id": "535c6ae5",
   "metadata": {},
   "outputs": [],
   "source": [
    "train_path= 'C:/Users/ASUS/Desktop/resMFCC/train'\n",
    "test_path= \"C:/Users/ASUS/Desktop/resMFCC/test\"\n",
    "class_names=os.listdir(train_path)\n",
    "class_names_test=os.listdir(test_path)"
   ]
  },
  {
   "cell_type": "code",
   "execution_count": 3,
   "id": "14645c62",
   "metadata": {},
   "outputs": [
    {
     "name": "stdout",
     "output_type": "stream",
     "text": [
      "['abonormal', 'normal']\n",
      "['abnormal', 'normal']\n"
     ]
    }
   ],
   "source": [
    "print(class_names)\n",
    "print(class_names_test)"
   ]
  },
  {
   "cell_type": "code",
   "execution_count": 4,
   "id": "c4df85eb",
   "metadata": {},
   "outputs": [],
   "source": [
    "train_datagen = ImageDataGenerator(zoom_range=0.15,width_shift_range=0.2,height_shift_range=0.2,shear_range=0.15)\n",
    "test_datagen = ImageDataGenerator()"
   ]
  },
  {
   "cell_type": "code",
   "execution_count": 5,
   "id": "20d5bd51",
   "metadata": {},
   "outputs": [
    {
     "name": "stdout",
     "output_type": "stream",
     "text": [
      "Found 495 images belonging to 2 classes.\n",
      "Found 211 images belonging to 2 classes.\n"
     ]
    }
   ],
   "source": [
    "train_generator = train_datagen.flow_from_directory('C:/Users/ASUS/Desktop/resMFCC/train',target_size=(224, 224),batch_size=32,shuffle=True,class_mode='binary')\n",
    "test_generator = test_datagen.flow_from_directory('C:/Users/ASUS/Desktop/resMFCC/test',target_size=(224,224),batch_size=32,shuffle=False,class_mode='binary')"
   ]
  },
  {
   "cell_type": "code",
   "execution_count": 6,
   "id": "20438834",
   "metadata": {},
   "outputs": [],
   "source": [
    "ROWS=224\n",
    "COLS=224"
   ]
  },
  {
   "cell_type": "code",
   "execution_count": 7,
   "id": "1b5106f6",
   "metadata": {},
   "outputs": [
    {
     "name": "stdout",
     "output_type": "stream",
     "text": [
      "Model: \"sequential\"\n",
      "_________________________________________________________________\n",
      " Layer (type)                Output Shape              Param #   \n",
      "=================================================================\n",
      " inception_v3 (Functional)   (None, 5, 5, 2048)        21802784  \n",
      "                                                                 \n",
      " global_average_pooling2d (G  (None, 2048)             0         \n",
      " lobalAveragePooling2D)                                          \n",
      "                                                                 \n",
      " dropout (Dropout)           (None, 2048)              0         \n",
      "                                                                 \n",
      " dense (Dense)               (None, 1)                 2049      \n",
      "                                                                 \n",
      "=================================================================\n",
      "Total params: 21,804,833\n",
      "Trainable params: 2,049\n",
      "Non-trainable params: 21,802,784\n",
      "_________________________________________________________________\n"
     ]
    }
   ],
   "source": [
    "from keras.models import Sequential\n",
    "from keras.models import Model\n",
    "from keras.callbacks import ModelCheckpoint, LearningRateScheduler, EarlyStopping, ReduceLROnPlateau, TensorBoard\n",
    "from keras import optimizers, losses, activations, models\n",
    "from keras.layers import Convolution2D, Dense, Input, Flatten, Dropout, MaxPooling2D, BatchNormalization, GlobalAveragePooling2D, Concatenate\n",
    "from tensorflow.keras import applications\n",
    "\n",
    "input_shape = (ROWS, COLS, 3)\n",
    "nclass = 1\n",
    "\n",
    "base_model = applications.InceptionV3(weights='imagenet', \n",
    "                                include_top=False, \n",
    "                                input_shape=(ROWS, COLS,3))\n",
    "base_model.trainable = False\n",
    "\n",
    "add_model = Sequential()\n",
    "add_model.add(base_model)\n",
    "add_model.add(GlobalAveragePooling2D())\n",
    "add_model.add(Dropout(0.5))\n",
    "add_model.add(Dense(nclass, \n",
    "                    activation='softmax'))\n",
    "\n",
    "model = add_model\n",
    "\n",
    "model.summary()"
   ]
  },
  {
   "cell_type": "code",
   "execution_count": 8,
   "id": "2bb9822c",
   "metadata": {},
   "outputs": [],
   "source": [
    "from keras.callbacks import ModelCheckpoint, ReduceLROnPlateau, EarlyStopping\n",
    "# weight_path=\"{}_weights.best.hdf5\".format('spectro_sound_model')\n",
    "checkpoint = ModelCheckpoint(filepath =\"./check.hDf5\", monitor='val_loss', verbose=1, \n",
    "                             save_best_only=True, mode='min', save_weights_only = True)\n",
    "# reduceLROnPlat = ReduceLROnPlateau(monitor='val_loss', \n",
    "#                                    factor=0.8, patience=5, \n",
    "#                                    verbose=1, mode='auto', \n",
    "#                                    epsilon=0.0001, cooldown=5, \n",
    "#                                    min_lr=0.0001)\n",
    "early = EarlyStopping(monitor=\"val_loss\", \n",
    "                      mode=\"min\", \n",
    "                      patience=15) # probably needs to be more patient, but kaggle time is limited\n",
    "callbacks_list = [checkpoint, early]"
   ]
  },
  {
   "cell_type": "code",
   "execution_count": 9,
   "id": "08d8b5c8",
   "metadata": {},
   "outputs": [
    {
     "name": "stderr",
     "output_type": "stream",
     "text": [
      "C:\\Users\\ASUS\\anaconda3\\lib\\site-packages\\keras\\optimizer_v2\\adam.py:105: UserWarning: The `lr` argument is deprecated, use `learning_rate` instead.\n",
      "  super(Adam, self).__init__(name, **kwargs)\n"
     ]
    }
   ],
   "source": [
    "import tensorflow as tf\n",
    "from keras.models import *\n",
    "from keras.layers import *\n",
    "opt = tf.optimizers.Adam(lr=1e-3)\n",
    "model.compile(optimizer=opt, \n",
    "    loss=losses.binary_crossentropy, \n",
    "    metrics=['accuracy', 'Precision', 'AUC', tf.keras.metrics.Recall(), tf.keras.metrics.TrueNegatives()])"
   ]
  },
  {
   "cell_type": "code",
   "execution_count": 10,
   "id": "b67705c1",
   "metadata": {},
   "outputs": [
    {
     "name": "stderr",
     "output_type": "stream",
     "text": [
      "C:\\Users\\ASUS\\AppData\\Local\\Temp/ipykernel_3488/615836474.py:4: UserWarning: `Model.fit_generator` is deprecated and will be removed in a future version. Please use `Model.fit`, which supports generators.\n",
      "  history = model.fit_generator(train_generator, # this should be equal to total number of images in training set. But to speed up the execution, I am only using 10000 images. Change this for better results.\n"
     ]
    },
    {
     "name": "stdout",
     "output_type": "stream",
     "text": [
      "Epoch 1/50\n",
      "16/16 [==============================] - 39s 2s/step - loss: 9.0798 - accuracy: 0.5253 - precision: 0.5253 - auc: 0.5000 - recall: 1.0000 - true_negatives: 0.0000e+00 - val_loss: 5.7831 - val_accuracy: 0.5261 - val_precision: 0.5261 - val_auc: 0.5000 - val_recall: 1.0000 - val_true_negatives: 0.0000e+00\n",
      "Epoch 2/50\n",
      "16/16 [==============================] - 34s 2s/step - loss: 8.9112 - accuracy: 0.5253 - precision: 0.5253 - auc: 0.5000 - recall: 1.0000 - true_negatives: 0.0000e+00 - val_loss: 4.9723 - val_accuracy: 0.5261 - val_precision: 0.5261 - val_auc: 0.5000 - val_recall: 1.0000 - val_true_negatives: 0.0000e+00\n",
      "Epoch 3/50\n",
      "16/16 [==============================] - 39s 2s/step - loss: 7.8010 - accuracy: 0.5253 - precision: 0.5253 - auc: 0.5000 - recall: 1.0000 - true_negatives: 0.0000e+00 - val_loss: 3.1154 - val_accuracy: 0.5261 - val_precision: 0.5261 - val_auc: 0.5000 - val_recall: 1.0000 - val_true_negatives: 0.0000e+00\n",
      "Epoch 4/50\n",
      "16/16 [==============================] - 39s 2s/step - loss: 7.4689 - accuracy: 0.5253 - precision: 0.5253 - auc: 0.5000 - recall: 1.0000 - true_negatives: 0.0000e+00 - val_loss: 3.4875 - val_accuracy: 0.5261 - val_precision: 0.5261 - val_auc: 0.5000 - val_recall: 1.0000 - val_true_negatives: 0.0000e+00\n",
      "Epoch 5/50\n",
      "16/16 [==============================] - 38s 2s/step - loss: 6.0624 - accuracy: 0.5253 - precision: 0.5253 - auc: 0.5000 - recall: 1.0000 - true_negatives: 0.0000e+00 - val_loss: 2.3245 - val_accuracy: 0.5261 - val_precision: 0.5261 - val_auc: 0.5000 - val_recall: 1.0000 - val_true_negatives: 0.0000e+00\n",
      "Epoch 6/50\n",
      "16/16 [==============================] - 38s 2s/step - loss: 4.8423 - accuracy: 0.5253 - precision: 0.5253 - auc: 0.5000 - recall: 1.0000 - true_negatives: 0.0000e+00 - val_loss: 1.3285 - val_accuracy: 0.5261 - val_precision: 0.5261 - val_auc: 0.5000 - val_recall: 1.0000 - val_true_negatives: 0.0000e+00\n",
      "Epoch 7/50\n",
      "16/16 [==============================] - 39s 2s/step - loss: 5.4648 - accuracy: 0.5253 - precision: 0.5253 - auc: 0.5000 - recall: 1.0000 - true_negatives: 0.0000e+00 - val_loss: 1.9892 - val_accuracy: 0.5261 - val_precision: 0.5261 - val_auc: 0.5000 - val_recall: 1.0000 - val_true_negatives: 0.0000e+00\n",
      "Epoch 8/50\n",
      "16/16 [==============================] - 36s 2s/step - loss: 5.1755 - accuracy: 0.5253 - precision: 0.5253 - auc: 0.5000 - recall: 1.0000 - true_negatives: 0.0000e+00 - val_loss: 3.3061 - val_accuracy: 0.5261 - val_precision: 0.5261 - val_auc: 0.5000 - val_recall: 1.0000 - val_true_negatives: 0.0000e+00\n",
      "Epoch 9/50\n",
      "16/16 [==============================] - 36s 2s/step - loss: 4.6961 - accuracy: 0.5253 - precision: 0.5253 - auc: 0.5000 - recall: 1.0000 - true_negatives: 0.0000e+00 - val_loss: 3.6796 - val_accuracy: 0.5261 - val_precision: 0.5261 - val_auc: 0.5000 - val_recall: 1.0000 - val_true_negatives: 0.0000e+00\n",
      "Epoch 10/50\n",
      "16/16 [==============================] - 36s 2s/step - loss: 3.9698 - accuracy: 0.5253 - precision: 0.5253 - auc: 0.5000 - recall: 1.0000 - true_negatives: 0.0000e+00 - val_loss: 1.6115 - val_accuracy: 0.5261 - val_precision: 0.5261 - val_auc: 0.5000 - val_recall: 1.0000 - val_true_negatives: 0.0000e+00\n",
      "Epoch 11/50\n",
      "16/16 [==============================] - 37s 2s/step - loss: 3.6391 - accuracy: 0.5253 - precision: 0.5253 - auc: 0.5000 - recall: 1.0000 - true_negatives: 0.0000e+00 - val_loss: 1.5880 - val_accuracy: 0.5261 - val_precision: 0.5261 - val_auc: 0.5000 - val_recall: 1.0000 - val_true_negatives: 0.0000e+00\n",
      "Epoch 12/50\n",
      "16/16 [==============================] - 36s 2s/step - loss: 3.6075 - accuracy: 0.5253 - precision: 0.5253 - auc: 0.5000 - recall: 1.0000 - true_negatives: 0.0000e+00 - val_loss: 3.2256 - val_accuracy: 0.5261 - val_precision: 0.5261 - val_auc: 0.5000 - val_recall: 1.0000 - val_true_negatives: 0.0000e+00\n",
      "Epoch 13/50\n",
      "16/16 [==============================] - 37s 2s/step - loss: 2.8145 - accuracy: 0.5253 - precision: 0.5253 - auc: 0.5000 - recall: 1.0000 - true_negatives: 0.0000e+00 - val_loss: 2.1858 - val_accuracy: 0.5261 - val_precision: 0.5261 - val_auc: 0.5000 - val_recall: 1.0000 - val_true_negatives: 0.0000e+00\n",
      "Epoch 14/50\n",
      "16/16 [==============================] - 37s 2s/step - loss: 2.7053 - accuracy: 0.5253 - precision: 0.5253 - auc: 0.5000 - recall: 1.0000 - true_negatives: 0.0000e+00 - val_loss: 1.5392 - val_accuracy: 0.5261 - val_precision: 0.5261 - val_auc: 0.5000 - val_recall: 1.0000 - val_true_negatives: 0.0000e+00\n",
      "Epoch 15/50\n",
      "16/16 [==============================] - 35s 2s/step - loss: 2.8081 - accuracy: 0.5253 - precision: 0.5253 - auc: 0.5000 - recall: 1.0000 - true_negatives: 0.0000e+00 - val_loss: 1.7797 - val_accuracy: 0.5261 - val_precision: 0.5261 - val_auc: 0.5000 - val_recall: 1.0000 - val_true_negatives: 0.0000e+00\n",
      "Epoch 16/50\n",
      "16/16 [==============================] - 36s 2s/step - loss: 2.1521 - accuracy: 0.5253 - precision: 0.5253 - auc: 0.5000 - recall: 1.0000 - true_negatives: 0.0000e+00 - val_loss: 1.5789 - val_accuracy: 0.5261 - val_precision: 0.5261 - val_auc: 0.5000 - val_recall: 1.0000 - val_true_negatives: 0.0000e+00\n",
      "Epoch 17/50\n",
      "16/16 [==============================] - 39s 2s/step - loss: 2.3152 - accuracy: 0.5253 - precision: 0.5253 - auc: 0.5000 - recall: 1.0000 - true_negatives: 0.0000e+00 - val_loss: 1.3686 - val_accuracy: 0.5261 - val_precision: 0.5261 - val_auc: 0.5000 - val_recall: 1.0000 - val_true_negatives: 0.0000e+00\n",
      "Epoch 18/50\n",
      "16/16 [==============================] - 38s 2s/step - loss: 2.4009 - accuracy: 0.5253 - precision: 0.5253 - auc: 0.5000 - recall: 1.0000 - true_negatives: 0.0000e+00 - val_loss: 1.5498 - val_accuracy: 0.5261 - val_precision: 0.5261 - val_auc: 0.5000 - val_recall: 1.0000 - val_true_negatives: 0.0000e+00\n",
      "Epoch 19/50\n",
      "16/16 [==============================] - 37s 2s/step - loss: 2.0317 - accuracy: 0.5253 - precision: 0.5253 - auc: 0.5000 - recall: 1.0000 - true_negatives: 0.0000e+00 - val_loss: 1.3049 - val_accuracy: 0.5261 - val_precision: 0.5261 - val_auc: 0.5000 - val_recall: 1.0000 - val_true_negatives: 0.0000e+00\n",
      "Epoch 20/50\n",
      "16/16 [==============================] - 38s 2s/step - loss: 2.3160 - accuracy: 0.5253 - precision: 0.5253 - auc: 0.5000 - recall: 1.0000 - true_negatives: 0.0000e+00 - val_loss: 1.3600 - val_accuracy: 0.5261 - val_precision: 0.5261 - val_auc: 0.5000 - val_recall: 1.0000 - val_true_negatives: 0.0000e+00\n",
      "Epoch 21/50\n",
      "16/16 [==============================] - 38s 2s/step - loss: 2.2997 - accuracy: 0.5253 - precision: 0.5253 - auc: 0.5000 - recall: 1.0000 - true_negatives: 0.0000e+00 - val_loss: 1.4971 - val_accuracy: 0.5261 - val_precision: 0.5261 - val_auc: 0.5000 - val_recall: 1.0000 - val_true_negatives: 0.0000e+00\n",
      "Epoch 22/50\n",
      "16/16 [==============================] - 37s 2s/step - loss: 1.9186 - accuracy: 0.5253 - precision: 0.5253 - auc: 0.5000 - recall: 1.0000 - true_negatives: 0.0000e+00 - val_loss: 1.3234 - val_accuracy: 0.5261 - val_precision: 0.5261 - val_auc: 0.5000 - val_recall: 1.0000 - val_true_negatives: 0.0000e+00\n",
      "Epoch 23/50\n",
      "16/16 [==============================] - 37s 2s/step - loss: 1.9031 - accuracy: 0.5253 - precision: 0.5253 - auc: 0.5000 - recall: 1.0000 - true_negatives: 0.0000e+00 - val_loss: 1.4304 - val_accuracy: 0.5261 - val_precision: 0.5261 - val_auc: 0.5000 - val_recall: 1.0000 - val_true_negatives: 0.0000e+00\n",
      "Epoch 24/50\n",
      "16/16 [==============================] - 39s 2s/step - loss: 1.8127 - accuracy: 0.5253 - precision: 0.5253 - auc: 0.5000 - recall: 1.0000 - true_negatives: 0.0000e+00 - val_loss: 1.5055 - val_accuracy: 0.5261 - val_precision: 0.5261 - val_auc: 0.5000 - val_recall: 1.0000 - val_true_negatives: 0.0000e+00\n",
      "Epoch 25/50\n",
      "16/16 [==============================] - 39s 2s/step - loss: 2.2675 - accuracy: 0.5253 - precision: 0.5253 - auc: 0.5000 - recall: 1.0000 - true_negatives: 0.0000e+00 - val_loss: 1.4728 - val_accuracy: 0.5261 - val_precision: 0.5261 - val_auc: 0.5000 - val_recall: 1.0000 - val_true_negatives: 0.0000e+00\n",
      "Epoch 26/50\n",
      "16/16 [==============================] - 37s 2s/step - loss: 1.8381 - accuracy: 0.5253 - precision: 0.5253 - auc: 0.5000 - recall: 1.0000 - true_negatives: 0.0000e+00 - val_loss: 1.2931 - val_accuracy: 0.5261 - val_precision: 0.5261 - val_auc: 0.5000 - val_recall: 1.0000 - val_true_negatives: 0.0000e+00\n"
     ]
    },
    {
     "name": "stdout",
     "output_type": "stream",
     "text": [
      "Epoch 27/50\n",
      "16/16 [==============================] - 36s 2s/step - loss: 1.7953 - accuracy: 0.5253 - precision: 0.5253 - auc: 0.5000 - recall: 1.0000 - true_negatives: 0.0000e+00 - val_loss: 1.6269 - val_accuracy: 0.5261 - val_precision: 0.5261 - val_auc: 0.5000 - val_recall: 1.0000 - val_true_negatives: 0.0000e+00\n",
      "Epoch 28/50\n",
      "16/16 [==============================] - 35s 2s/step - loss: 1.4709 - accuracy: 0.5253 - precision: 0.5253 - auc: 0.5000 - recall: 1.0000 - true_negatives: 0.0000e+00 - val_loss: 1.9383 - val_accuracy: 0.5261 - val_precision: 0.5261 - val_auc: 0.5000 - val_recall: 1.0000 - val_true_negatives: 0.0000e+00\n",
      "Epoch 29/50\n",
      "16/16 [==============================] - 36s 2s/step - loss: 1.5810 - accuracy: 0.5253 - precision: 0.5253 - auc: 0.5000 - recall: 1.0000 - true_negatives: 0.0000e+00 - val_loss: 1.3449 - val_accuracy: 0.5261 - val_precision: 0.5261 - val_auc: 0.5000 - val_recall: 1.0000 - val_true_negatives: 0.0000e+00\n",
      "Epoch 30/50\n",
      "16/16 [==============================] - 36s 2s/step - loss: 1.6313 - accuracy: 0.5253 - precision: 0.5253 - auc: 0.5000 - recall: 1.0000 - true_negatives: 0.0000e+00 - val_loss: 1.3207 - val_accuracy: 0.5261 - val_precision: 0.5261 - val_auc: 0.5000 - val_recall: 1.0000 - val_true_negatives: 0.0000e+00\n",
      "Epoch 31/50\n",
      "16/16 [==============================] - 38s 2s/step - loss: 1.4587 - accuracy: 0.5253 - precision: 0.5253 - auc: 0.5000 - recall: 1.0000 - true_negatives: 0.0000e+00 - val_loss: 1.4225 - val_accuracy: 0.5261 - val_precision: 0.5261 - val_auc: 0.5000 - val_recall: 1.0000 - val_true_negatives: 0.0000e+00\n",
      "Epoch 32/50\n",
      "16/16 [==============================] - 36s 2s/step - loss: 1.9308 - accuracy: 0.5253 - precision: 0.5253 - auc: 0.5000 - recall: 1.0000 - true_negatives: 0.0000e+00 - val_loss: 1.2954 - val_accuracy: 0.5261 - val_precision: 0.5261 - val_auc: 0.5000 - val_recall: 1.0000 - val_true_negatives: 0.0000e+00\n",
      "Epoch 33/50\n",
      "16/16 [==============================] - 37s 2s/step - loss: 1.5555 - accuracy: 0.5253 - precision: 0.5253 - auc: 0.5000 - recall: 1.0000 - true_negatives: 0.0000e+00 - val_loss: 1.3544 - val_accuracy: 0.5261 - val_precision: 0.5261 - val_auc: 0.5000 - val_recall: 1.0000 - val_true_negatives: 0.0000e+00\n",
      "Epoch 34/50\n",
      "16/16 [==============================] - 38s 2s/step - loss: 1.5813 - accuracy: 0.5253 - precision: 0.5253 - auc: 0.5000 - recall: 1.0000 - true_negatives: 0.0000e+00 - val_loss: 1.5955 - val_accuracy: 0.5261 - val_precision: 0.5261 - val_auc: 0.5000 - val_recall: 1.0000 - val_true_negatives: 0.0000e+00\n",
      "Epoch 35/50\n",
      "16/16 [==============================] - 38s 2s/step - loss: 1.5988 - accuracy: 0.5253 - precision: 0.5253 - auc: 0.5000 - recall: 1.0000 - true_negatives: 0.0000e+00 - val_loss: 1.6141 - val_accuracy: 0.5261 - val_precision: 0.5261 - val_auc: 0.5000 - val_recall: 1.0000 - val_true_negatives: 0.0000e+00\n",
      "Epoch 36/50\n",
      "16/16 [==============================] - 37s 2s/step - loss: 1.4030 - accuracy: 0.5253 - precision: 0.5253 - auc: 0.5000 - recall: 1.0000 - true_negatives: 0.0000e+00 - val_loss: 1.3704 - val_accuracy: 0.5261 - val_precision: 0.5261 - val_auc: 0.5000 - val_recall: 1.0000 - val_true_negatives: 0.0000e+00\n",
      "Epoch 37/50\n",
      "16/16 [==============================] - 38s 2s/step - loss: 1.4797 - accuracy: 0.5253 - precision: 0.5253 - auc: 0.5000 - recall: 1.0000 - true_negatives: 0.0000e+00 - val_loss: 1.9651 - val_accuracy: 0.5261 - val_precision: 0.5261 - val_auc: 0.5000 - val_recall: 1.0000 - val_true_negatives: 0.0000e+00\n",
      "Epoch 38/50\n",
      "16/16 [==============================] - 37s 2s/step - loss: 1.2762 - accuracy: 0.5253 - precision: 0.5253 - auc: 0.5000 - recall: 1.0000 - true_negatives: 0.0000e+00 - val_loss: 1.9735 - val_accuracy: 0.5261 - val_precision: 0.5261 - val_auc: 0.5000 - val_recall: 1.0000 - val_true_negatives: 0.0000e+00\n",
      "Epoch 39/50\n",
      "16/16 [==============================] - 39s 2s/step - loss: 1.2970 - accuracy: 0.5253 - precision: 0.5253 - auc: 0.5000 - recall: 1.0000 - true_negatives: 0.0000e+00 - val_loss: 1.9279 - val_accuracy: 0.5261 - val_precision: 0.5261 - val_auc: 0.5000 - val_recall: 1.0000 - val_true_negatives: 0.0000e+00\n",
      "Epoch 40/50\n",
      "16/16 [==============================] - 36s 2s/step - loss: 1.4937 - accuracy: 0.5253 - precision: 0.5253 - auc: 0.5000 - recall: 1.0000 - true_negatives: 0.0000e+00 - val_loss: 2.0368 - val_accuracy: 0.5261 - val_precision: 0.5261 - val_auc: 0.5000 - val_recall: 1.0000 - val_true_negatives: 0.0000e+00\n",
      "Epoch 41/50\n",
      "16/16 [==============================] - 38s 2s/step - loss: 1.6454 - accuracy: 0.5253 - precision: 0.5253 - auc: 0.5000 - recall: 1.0000 - true_negatives: 0.0000e+00 - val_loss: 2.6896 - val_accuracy: 0.5261 - val_precision: 0.5261 - val_auc: 0.5000 - val_recall: 1.0000 - val_true_negatives: 0.0000e+00\n",
      "Epoch 42/50\n",
      "16/16 [==============================] - 38s 2s/step - loss: 1.6146 - accuracy: 0.5253 - precision: 0.5253 - auc: 0.5000 - recall: 1.0000 - true_negatives: 0.0000e+00 - val_loss: 1.2708 - val_accuracy: 0.5261 - val_precision: 0.5261 - val_auc: 0.5000 - val_recall: 1.0000 - val_true_negatives: 0.0000e+00\n",
      "Epoch 43/50\n",
      "16/16 [==============================] - 36s 2s/step - loss: 1.3581 - accuracy: 0.5253 - precision: 0.5253 - auc: 0.5000 - recall: 1.0000 - true_negatives: 0.0000e+00 - val_loss: 1.7278 - val_accuracy: 0.5261 - val_precision: 0.5261 - val_auc: 0.5000 - val_recall: 1.0000 - val_true_negatives: 0.0000e+00\n",
      "Epoch 44/50\n",
      "16/16 [==============================] - 37s 2s/step - loss: 1.2706 - accuracy: 0.5253 - precision: 0.5253 - auc: 0.5000 - recall: 1.0000 - true_negatives: 0.0000e+00 - val_loss: 1.3631 - val_accuracy: 0.5261 - val_precision: 0.5261 - val_auc: 0.5000 - val_recall: 1.0000 - val_true_negatives: 0.0000e+00\n",
      "Epoch 45/50\n",
      "16/16 [==============================] - 36s 2s/step - loss: 1.4726 - accuracy: 0.5253 - precision: 0.5253 - auc: 0.5000 - recall: 1.0000 - true_negatives: 0.0000e+00 - val_loss: 1.4783 - val_accuracy: 0.5261 - val_precision: 0.5261 - val_auc: 0.5000 - val_recall: 1.0000 - val_true_negatives: 0.0000e+00\n",
      "Epoch 46/50\n",
      "16/16 [==============================] - 36s 2s/step - loss: 1.4338 - accuracy: 0.5253 - precision: 0.5253 - auc: 0.5000 - recall: 1.0000 - true_negatives: 0.0000e+00 - val_loss: 1.9970 - val_accuracy: 0.5261 - val_precision: 0.5261 - val_auc: 0.5000 - val_recall: 1.0000 - val_true_negatives: 0.0000e+00\n",
      "Epoch 47/50\n",
      "16/16 [==============================] - 35s 2s/step - loss: 1.4089 - accuracy: 0.5253 - precision: 0.5253 - auc: 0.5000 - recall: 1.0000 - true_negatives: 0.0000e+00 - val_loss: 1.3099 - val_accuracy: 0.5261 - val_precision: 0.5261 - val_auc: 0.5000 - val_recall: 1.0000 - val_true_negatives: 0.0000e+00\n",
      "Epoch 48/50\n",
      "16/16 [==============================] - 38s 2s/step - loss: 1.3010 - accuracy: 0.5253 - precision: 0.5253 - auc: 0.5000 - recall: 1.0000 - true_negatives: 0.0000e+00 - val_loss: 2.1556 - val_accuracy: 0.5261 - val_precision: 0.5261 - val_auc: 0.5000 - val_recall: 1.0000 - val_true_negatives: 0.0000e+00\n",
      "Epoch 49/50\n",
      "16/16 [==============================] - 39s 2s/step - loss: 1.2572 - accuracy: 0.5253 - precision: 0.5253 - auc: 0.5000 - recall: 1.0000 - true_negatives: 0.0000e+00 - val_loss: 1.3545 - val_accuracy: 0.5261 - val_precision: 0.5261 - val_auc: 0.5000 - val_recall: 1.0000 - val_true_negatives: 0.0000e+00\n",
      "Epoch 50/50\n",
      "16/16 [==============================] - 35s 2s/step - loss: 1.2580 - accuracy: 0.5253 - precision: 0.5253 - auc: 0.5000 - recall: 1.0000 - true_negatives: 0.0000e+00 - val_loss: 1.5779 - val_accuracy: 0.5261 - val_precision: 0.5261 - val_auc: 0.5000 - val_recall: 1.0000 - val_true_negatives: 0.0000e+00\n"
     ]
    }
   ],
   "source": [
    "training_images = 456\n",
    "validation_images = 144 \n",
    "\n",
    "history = model.fit_generator(train_generator, # this should be equal to total number of images in training set. But to speed up the execution, I am only using 10000 images. Change this for better results. \n",
    "                   epochs = 50,  # change this for better results\n",
    "                   validation_data = test_generator)  # this should be equal to total number of images in validation set."
   ]
  },
  {
   "cell_type": "code",
   "execution_count": 11,
   "id": "71b2cd9d",
   "metadata": {},
   "outputs": [
    {
     "name": "stdout",
     "output_type": "stream",
     "text": [
      "0.5252525210380554\n",
      "0.5260663628578186\n"
     ]
    }
   ],
   "source": [
    "import statistics\n",
    "print (statistics.mean(history.history['accuracy']))\n",
    "print (statistics.mean(history.history['val_accuracy']))"
   ]
  },
  {
   "cell_type": "code",
   "execution_count": 12,
   "id": "fce46b46",
   "metadata": {},
   "outputs": [
    {
     "data": {
      "image/png": "[encoded data removed]",
      "text/plain": [
       "<Figure size 432x288 with 1 Axes>"
      ]
     },
     "metadata": {
      "needs_background": "light"
     },
     "output_type": "display_data"
    },
    {
     "data": {
      "image/png": "[encoded data removed]",
      "text/plain": [
       "<Figure size 432x288 with 1 Axes>"
      ]
     },
     "metadata": {
      "needs_background": "light"
     },
     "output_type": "display_data"
    }
   ],
   "source": [
    "#Some visualizations\n",
    "import matplotlib.pyplot as plt\n",
    "#Loss\n",
    "plt.plot(history.history['loss'],label='loss')\n",
    "plt.plot(history.history['val_loss'],label='val_loss')\n",
    "plt.legend()\n",
    "plt.show()\n",
    "#Accuracy\n",
    "plt.plot(history.history['accuracy'],label='acc')\n",
    "plt.plot(history.history['val_accuracy'],label='val_acc')\n",
    "plt.legend()\n",
    "plt.show()"
   ]
  },
  {
   "cell_type": "code",
   "execution_count": 13,
   "id": "5248577a",
   "metadata": {},
   "outputs": [
    {
     "name": "stdout",
     "output_type": "stream",
     "text": [
      "7/7 [==============================] - 9s 1s/step - loss: 1.5779 - accuracy: 0.5261 - precision: 0.5261 - auc: 0.5000 - recall: 1.0000 - true_negatives: 0.0000e+00     \n"
     ]
    },
    {
     "data": {
      "text/plain": [
       "[1.5779376029968262, 0.5260663628578186, 0.5260663628578186, 0.5, 1.0, 0.0]"
      ]
     },
     "execution_count": 13,
     "metadata": {},
     "output_type": "execute_result"
    }
   ],
   "source": [
    "model.evaluate(test_generator)"
   ]
  }
 ],
 "metadata": {
  "kernelspec": {
   "display_name": "Python 3 (ipykernel)",
   "language": "python",
   "name": "python3"
  },
  "language_info": {
   "codemirror_mode": {
    "name": "ipython",
    "version": 3
   },
   "file_extension": ".py",
   "mimetype": "text/x-python",
   "name": "python",
   "nbconvert_exporter": "python",
   "pygments_lexer": "ipython3",
   "version": "3.8.11"
  }
 },
 "nbformat": 4,
 "nbformat_minor": 5
}
