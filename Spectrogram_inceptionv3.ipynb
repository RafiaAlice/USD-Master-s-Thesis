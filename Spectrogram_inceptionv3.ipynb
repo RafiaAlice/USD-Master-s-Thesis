{
 "cells": [
  {
   "cell_type": "markdown",
   "id": "0aed3ce2",
   "metadata": {},
   "source": [
    "# Spectrogram_inceptionv3"
   ]
  },
  {
   "cell_type": "code",
   "execution_count": 27,
   "id": "63e75f24",
   "metadata": {},
   "outputs": [],
   "source": [
    "import cv2\n",
    "import numpy as np\n",
    "import os\n",
    "from keras.preprocessing.image import ImageDataGenerator\n",
    "from keras import backend as K\n",
    "import keras\n",
    "from keras.models import Sequential, Model,load_model\n",
    "from keras import optimizers, losses, activations, models\n",
    "from keras.callbacks import EarlyStopping,ModelCheckpoint\n",
    "from keras.layers import Input, Add, Dense, Activation, ZeroPadding2D, BatchNormalization, Flatten, Conv2D, AveragePooling2D, MaxPooling2D, GlobalMaxPooling2D,MaxPool2D\n",
    "from keras.preprocessing import image\n",
    "from keras.initializers import glorot_uniform\n",
    "import numpy as np\n",
    "import pandas as pd\n",
    "import matplotlib.pyplot as plt\n",
    "from glob import glob\n",
    "from PIL import ImageFile\n",
    "ImageFile.LOAD_TRUNCATED_IMAGES = True"
   ]
  },
  {
   "cell_type": "code",
   "execution_count": 28,
   "id": "535c6ae5",
   "metadata": {},
   "outputs": [],
   "source": [
    "train_path= 'C:/Users/ASUS/Desktop/Spectrogram/train'\n",
    "test_path= 'C:/Users/ASUS/Desktop/Spectrogram/test'\n",
    "class_names=os.listdir(train_path)\n",
    "class_names_test=os.listdir(test_path)"
   ]
  },
  {
   "cell_type": "code",
   "execution_count": 29,
   "id": "14645c62",
   "metadata": {},
   "outputs": [
    {
     "name": "stdout",
     "output_type": "stream",
     "text": [
      "['abnormal', 'normal']\n",
      "['abnormal', 'normal']\n"
     ]
    }
   ],
   "source": [
    "print(class_names)\n",
    "print(class_names_test)"
   ]
  },
  {
   "cell_type": "code",
   "execution_count": 30,
   "id": "c4df85eb",
   "metadata": {},
   "outputs": [],
   "source": [
    "train_datagen = ImageDataGenerator(zoom_range=0.15,width_shift_range=0.2,height_shift_range=0.2,shear_range=0.15)\n",
    "test_datagen = ImageDataGenerator()"
   ]
  },
  {
   "cell_type": "code",
   "execution_count": 31,
   "id": "20d5bd51",
   "metadata": {},
   "outputs": [
    {
     "name": "stdout",
     "output_type": "stream",
     "text": [
      "Found 495 images belonging to 2 classes.\n",
      "Found 211 images belonging to 2 classes.\n"
     ]
    }
   ],
   "source": [
    "train_generator = train_datagen.flow_from_directory('C:/Users/ASUS/Desktop/Spectrogram/train',target_size=(224, 224),batch_size=32,shuffle=True,class_mode='binary')\n",
    "test_generator = test_datagen.flow_from_directory('C:/Users/ASUS/Desktop/Spectrogram/test',target_size=(224,224),batch_size=32,shuffle=False,class_mode='binary')"
   ]
  },
  {
   "cell_type": "code",
   "execution_count": 32,
   "id": "20438834",
   "metadata": {},
   "outputs": [],
   "source": [
    "ROWS=224\n",
    "COLS=224"
   ]
  },
  {
   "cell_type": "code",
   "execution_count": 33,
   "id": "1b5106f6",
   "metadata": {},
   "outputs": [
    {
     "name": "stdout",
     "output_type": "stream",
     "text": [
      "Model: \"sequential_2\"\n",
      "_________________________________________________________________\n",
      " Layer (type)                Output Shape              Param #   \n",
      "=================================================================\n",
      " inception_v3 (Functional)   (None, 5, 5, 2048)        21802784  \n",
      "                                                                 \n",
      " global_average_pooling2d_2   (None, 2048)             0         \n",
      " (GlobalAveragePooling2D)                                        \n",
      "                                                                 \n",
      " dropout_2 (Dropout)         (None, 2048)              0         \n",
      "                                                                 \n",
      " dense_2 (Dense)             (None, 1)                 2049      \n",
      "                                                                 \n",
      "=================================================================\n",
      "Total params: 21,804,833\n",
      "Trainable params: 2,049\n",
      "Non-trainable params: 21,802,784\n",
      "_________________________________________________________________\n"
     ]
    }
   ],
   "source": [
    "from keras.models import Sequential\n",
    "from keras.models import Model\n",
    "from keras.callbacks import ModelCheckpoint, LearningRateScheduler, EarlyStopping, ReduceLROnPlateau, TensorBoard\n",
    "from keras import optimizers, losses, activations, models\n",
    "from keras.layers import Convolution2D, Dense, Input, Flatten, Dropout, MaxPooling2D, BatchNormalization, GlobalAveragePooling2D, Concatenate\n",
    "from tensorflow.keras import applications\n",
    "\n",
    "input_shape = (ROWS, COLS, 3)\n",
    "nclass = 1\n",
    "\n",
    "base_model = applications.InceptionV3(weights='imagenet', \n",
    "                                include_top=False, \n",
    "                                input_shape=(ROWS, COLS,3))\n",
    "base_model.trainable = False\n",
    "\n",
    "add_model = Sequential()\n",
    "add_model.add(base_model)\n",
    "add_model.add(GlobalAveragePooling2D())\n",
    "add_model.add(Dropout(0.5))\n",
    "add_model.add(Dense(nclass, \n",
    "                    activation='softmax'))\n",
    "\n",
    "model = add_model\n",
    "\n",
    "model.summary()"
   ]
  },
  {
   "cell_type": "code",
   "execution_count": 34,
   "id": "2bb9822c",
   "metadata": {},
   "outputs": [],
   "source": [
    "from keras.callbacks import ModelCheckpoint, ReduceLROnPlateau, EarlyStopping\n",
    "# weight_path=\"{}_weights.best.hdf5\".format('spectro_sound_model')\n",
    "checkpoint = ModelCheckpoint(filepath =\"./check.hDf5\", monitor='val_loss', verbose=1, \n",
    "                             save_best_only=True, mode='min', save_weights_only = True)\n",
    "# reduceLROnPlat = ReduceLROnPlateau(monitor='val_loss', \n",
    "#                                    factor=0.8, patience=5, \n",
    "#                                    verbose=1, mode='auto', \n",
    "#                                    epsilon=0.0001, cooldown=5, \n",
    "#                                    min_lr=0.0001)\n",
    "early = EarlyStopping(monitor=\"val_loss\", \n",
    "                      mode=\"min\", \n",
    "                      patience=15) # probably needs to be more patient, but kaggle time is limited\n",
    "callbacks_list = [checkpoint, early]"
   ]
  },
  {
   "cell_type": "code",
   "execution_count": 35,
   "id": "08d8b5c8",
   "metadata": {},
   "outputs": [],
   "source": [
    "import tensorflow as tf\n",
    "from keras.models import *\n",
    "from keras.layers import *\n",
    "opt = tf.optimizers.Adam(lr=1e-3)\n",
    "model.compile(optimizer=opt, \n",
    "    loss=losses.binary_crossentropy, \n",
    "    metrics=['accuracy', 'Precision', 'AUC', tf.keras.metrics.Recall(), tf.keras.metrics.TrueNegatives()])"
   ]
  },
  {
   "cell_type": "code",
   "execution_count": 36,
   "id": "b67705c1",
   "metadata": {},
   "outputs": [
    {
     "name": "stderr",
     "output_type": "stream",
     "text": [
      "C:\\Users\\ASUS\\AppData\\Local\\Temp/ipykernel_6776/615836474.py:4: UserWarning: `Model.fit_generator` is deprecated and will be removed in a future version. Please use `Model.fit`, which supports generators.\n",
      "  history = model.fit_generator(train_generator, # this should be equal to total number of images in training set. But to speed up the execution, I am only using 10000 images. Change this for better results.\n"
     ]
    },
    {
     "name": "stdout",
     "output_type": "stream",
     "text": [
      "Epoch 1/50\n",
      "16/16 [==============================] - 41s 2s/step - loss: 13.8218 - accuracy: 0.5253 - precision: 0.5253 - auc: 0.5000 - recall_2: 1.0000 - true_negatives_2: 0.0000e+00 - val_loss: 9.6939 - val_accuracy: 0.5355 - val_precision: 0.5355 - val_auc: 0.5000 - val_recall_2: 1.0000 - val_true_negatives_2: 0.0000e+00\n",
      "Epoch 2/50\n",
      "16/16 [==============================] - 38s 2s/step - loss: 11.8094 - accuracy: 0.5253 - precision: 0.5253 - auc: 0.5000 - recall_2: 1.0000 - true_negatives_2: 0.0000e+00 - val_loss: 9.5177 - val_accuracy: 0.5355 - val_precision: 0.5355 - val_auc: 0.5000 - val_recall_2: 1.0000 - val_true_negatives_2: 0.0000e+00\n",
      "Epoch 3/50\n",
      "16/16 [==============================] - 37s 2s/step - loss: 11.4208 - accuracy: 0.5253 - precision: 0.5253 - auc: 0.5000 - recall_2: 1.0000 - true_negatives_2: 0.0000e+00 - val_loss: 6.4379 - val_accuracy: 0.5355 - val_precision: 0.5355 - val_auc: 0.5000 - val_recall_2: 1.0000 - val_true_negatives_2: 0.0000e+00\n",
      "Epoch 4/50\n",
      "16/16 [==============================] - 40s 3s/step - loss: 11.4278 - accuracy: 0.5253 - precision: 0.5253 - auc: 0.5000 - recall_2: 1.0000 - true_negatives_2: 0.0000e+00 - val_loss: 7.1424 - val_accuracy: 0.5355 - val_precision: 0.5355 - val_auc: 0.5000 - val_recall_2: 1.0000 - val_true_negatives_2: 0.0000e+00\n",
      "Epoch 5/50\n",
      "16/16 [==============================] - 39s 2s/step - loss: 9.3014 - accuracy: 0.5253 - precision: 0.5253 - auc: 0.5000 - recall_2: 1.0000 - true_negatives_2: 0.0000e+00 - val_loss: 5.5078 - val_accuracy: 0.5355 - val_precision: 0.5355 - val_auc: 0.5000 - val_recall_2: 1.0000 - val_true_negatives_2: 0.0000e+00\n",
      "Epoch 6/50\n",
      "16/16 [==============================] - 39s 2s/step - loss: 8.5437 - accuracy: 0.5253 - precision: 0.5253 - auc: 0.5000 - recall_2: 1.0000 - true_negatives_2: 0.0000e+00 - val_loss: 5.6201 - val_accuracy: 0.5355 - val_precision: 0.5355 - val_auc: 0.5000 - val_recall_2: 1.0000 - val_true_negatives_2: 0.0000e+00\n",
      "Epoch 7/50\n",
      "16/16 [==============================] - 38s 2s/step - loss: 7.9972 - accuracy: 0.5253 - precision: 0.5253 - auc: 0.5000 - recall_2: 1.0000 - true_negatives_2: 0.0000e+00 - val_loss: 4.4540 - val_accuracy: 0.5355 - val_precision: 0.5355 - val_auc: 0.5000 - val_recall_2: 1.0000 - val_true_negatives_2: 0.0000e+00\n",
      "Epoch 8/50\n",
      "16/16 [==============================] - 38s 2s/step - loss: 6.3432 - accuracy: 0.5253 - precision: 0.5253 - auc: 0.5000 - recall_2: 1.0000 - true_negatives_2: 0.0000e+00 - val_loss: 4.7225 - val_accuracy: 0.5355 - val_precision: 0.5355 - val_auc: 0.5000 - val_recall_2: 1.0000 - val_true_negatives_2: 0.0000e+00\n",
      "Epoch 9/50\n",
      "16/16 [==============================] - 37s 2s/step - loss: 6.5611 - accuracy: 0.5253 - precision: 0.5253 - auc: 0.5000 - recall_2: 1.0000 - true_negatives_2: 0.0000e+00 - val_loss: 3.5941 - val_accuracy: 0.5355 - val_precision: 0.5355 - val_auc: 0.5000 - val_recall_2: 1.0000 - val_true_negatives_2: 0.0000e+00\n",
      "Epoch 10/50\n",
      "16/16 [==============================] - 39s 2s/step - loss: 5.8038 - accuracy: 0.5253 - precision: 0.5253 - auc: 0.5000 - recall_2: 1.0000 - true_negatives_2: 0.0000e+00 - val_loss: 3.6885 - val_accuracy: 0.5355 - val_precision: 0.5355 - val_auc: 0.5000 - val_recall_2: 1.0000 - val_true_negatives_2: 0.0000e+00\n",
      "Epoch 11/50\n",
      "16/16 [==============================] - 39s 2s/step - loss: 5.6866 - accuracy: 0.5253 - precision: 0.5253 - auc: 0.5000 - recall_2: 1.0000 - true_negatives_2: 0.0000e+00 - val_loss: 3.8605 - val_accuracy: 0.5355 - val_precision: 0.5355 - val_auc: 0.5000 - val_recall_2: 1.0000 - val_true_negatives_2: 0.0000e+00\n",
      "Epoch 12/50\n",
      "16/16 [==============================] - 41s 3s/step - loss: 4.3653 - accuracy: 0.5253 - precision: 0.5253 - auc: 0.5000 - recall_2: 1.0000 - true_negatives_2: 0.0000e+00 - val_loss: 6.5220 - val_accuracy: 0.5355 - val_precision: 0.5355 - val_auc: 0.5000 - val_recall_2: 1.0000 - val_true_negatives_2: 0.0000e+00\n",
      "Epoch 13/50\n",
      "16/16 [==============================] - 41s 3s/step - loss: 4.9161 - accuracy: 0.5253 - precision: 0.5253 - auc: 0.5000 - recall_2: 1.0000 - true_negatives_2: 0.0000e+00 - val_loss: 5.6983 - val_accuracy: 0.5355 - val_precision: 0.5355 - val_auc: 0.5000 - val_recall_2: 1.0000 - val_true_negatives_2: 0.0000e+00\n",
      "Epoch 14/50\n",
      "16/16 [==============================] - 37s 2s/step - loss: 4.8067 - accuracy: 0.5253 - precision: 0.5253 - auc: 0.5000 - recall_2: 1.0000 - true_negatives_2: 0.0000e+00 - val_loss: 2.4529 - val_accuracy: 0.5355 - val_precision: 0.5355 - val_auc: 0.5000 - val_recall_2: 1.0000 - val_true_negatives_2: 0.0000e+00\n",
      "Epoch 15/50\n",
      "16/16 [==============================] - 37s 2s/step - loss: 3.8826 - accuracy: 0.5253 - precision: 0.5253 - auc: 0.5000 - recall_2: 1.0000 - true_negatives_2: 0.0000e+00 - val_loss: 2.6112 - val_accuracy: 0.5355 - val_precision: 0.5355 - val_auc: 0.5000 - val_recall_2: 1.0000 - val_true_negatives_2: 0.0000e+00\n",
      "Epoch 16/50\n",
      "16/16 [==============================] - 38s 2s/step - loss: 4.4024 - accuracy: 0.5253 - precision: 0.5253 - auc: 0.5000 - recall_2: 1.0000 - true_negatives_2: 0.0000e+00 - val_loss: 2.8202 - val_accuracy: 0.5355 - val_precision: 0.5355 - val_auc: 0.5000 - val_recall_2: 1.0000 - val_true_negatives_2: 0.0000e+00\n",
      "Epoch 17/50\n",
      "16/16 [==============================] - 39s 2s/step - loss: 4.0357 - accuracy: 0.5253 - precision: 0.5253 - auc: 0.5000 - recall_2: 1.0000 - true_negatives_2: 0.0000e+00 - val_loss: 5.2900 - val_accuracy: 0.5355 - val_precision: 0.5355 - val_auc: 0.5000 - val_recall_2: 1.0000 - val_true_negatives_2: 0.0000e+00\n",
      "Epoch 18/50\n",
      "16/16 [==============================] - 38s 2s/step - loss: 4.2934 - accuracy: 0.5253 - precision: 0.5253 - auc: 0.5000 - recall_2: 1.0000 - true_negatives_2: 0.0000e+00 - val_loss: 3.7451 - val_accuracy: 0.5355 - val_precision: 0.5355 - val_auc: 0.5000 - val_recall_2: 1.0000 - val_true_negatives_2: 0.0000e+00\n",
      "Epoch 19/50\n",
      "16/16 [==============================] - 39s 2s/step - loss: 3.9101 - accuracy: 0.5253 - precision: 0.5253 - auc: 0.5000 - recall_2: 1.0000 - true_negatives_2: 0.0000e+00 - val_loss: 4.0382 - val_accuracy: 0.5355 - val_precision: 0.5355 - val_auc: 0.5000 - val_recall_2: 1.0000 - val_true_negatives_2: 0.0000e+00\n",
      "Epoch 20/50\n",
      "16/16 [==============================] - 39s 3s/step - loss: 3.2186 - accuracy: 0.5253 - precision: 0.5253 - auc: 0.5000 - recall_2: 1.0000 - true_negatives_2: 0.0000e+00 - val_loss: 5.2233 - val_accuracy: 0.5355 - val_precision: 0.5355 - val_auc: 0.5000 - val_recall_2: 1.0000 - val_true_negatives_2: 0.0000e+00\n",
      "Epoch 21/50\n",
      "16/16 [==============================] - 39s 2s/step - loss: 3.2493 - accuracy: 0.5253 - precision: 0.5253 - auc: 0.5000 - recall_2: 1.0000 - true_negatives_2: 0.0000e+00 - val_loss: 2.7037 - val_accuracy: 0.5355 - val_precision: 0.5355 - val_auc: 0.5000 - val_recall_2: 1.0000 - val_true_negatives_2: 0.0000e+00\n",
      "Epoch 22/50\n",
      "16/16 [==============================] - 37s 2s/step - loss: 3.1858 - accuracy: 0.5253 - precision: 0.5253 - auc: 0.5000 - recall_2: 1.0000 - true_negatives_2: 0.0000e+00 - val_loss: 4.4228 - val_accuracy: 0.5355 - val_precision: 0.5355 - val_auc: 0.5000 - val_recall_2: 1.0000 - val_true_negatives_2: 0.0000e+00\n",
      "Epoch 23/50\n",
      "16/16 [==============================] - 35s 2s/step - loss: 3.5427 - accuracy: 0.5253 - precision: 0.5253 - auc: 0.5000 - recall_2: 1.0000 - true_negatives_2: 0.0000e+00 - val_loss: 2.0990 - val_accuracy: 0.5355 - val_precision: 0.5355 - val_auc: 0.5000 - val_recall_2: 1.0000 - val_true_negatives_2: 0.0000e+00\n",
      "Epoch 24/50\n",
      "16/16 [==============================] - 38s 2s/step - loss: 2.9530 - accuracy: 0.5253 - precision: 0.5253 - auc: 0.5000 - recall_2: 1.0000 - true_negatives_2: 0.0000e+00 - val_loss: 3.8477 - val_accuracy: 0.5355 - val_precision: 0.5355 - val_auc: 0.5000 - val_recall_2: 1.0000 - val_true_negatives_2: 0.0000e+00\n",
      "Epoch 25/50\n",
      "16/16 [==============================] - 39s 3s/step - loss: 2.9748 - accuracy: 0.5253 - precision: 0.5253 - auc: 0.5000 - recall_2: 1.0000 - true_negatives_2: 0.0000e+00 - val_loss: 1.6851 - val_accuracy: 0.5355 - val_precision: 0.5355 - val_auc: 0.5000 - val_recall_2: 1.0000 - val_true_negatives_2: 0.0000e+00\n",
      "Epoch 26/50\n",
      "16/16 [==============================] - 40s 3s/step - loss: 2.5326 - accuracy: 0.5253 - precision: 0.5253 - auc: 0.5000 - recall_2: 1.0000 - true_negatives_2: 0.0000e+00 - val_loss: 2.1028 - val_accuracy: 0.5355 - val_precision: 0.5355 - val_auc: 0.5000 - val_recall_2: 1.0000 - val_true_negatives_2: 0.0000e+00\n",
      "Epoch 27/50\n",
      "16/16 [==============================] - 39s 2s/step - loss: 3.4180 - accuracy: 0.5253 - precision: 0.5253 - auc: 0.5000 - recall_2: 1.0000 - true_negatives_2: 0.0000e+00 - val_loss: 2.4300 - val_accuracy: 0.5355 - val_precision: 0.5355 - val_auc: 0.5000 - val_recall_2: 1.0000 - val_true_negatives_2: 0.0000e+00\n",
      "Epoch 28/50\n",
      "16/16 [==============================] - 38s 2s/step - loss: 3.4040 - accuracy: 0.5253 - precision: 0.5253 - auc: 0.5000 - recall_2: 1.0000 - true_negatives_2: 0.0000e+00 - val_loss: 2.6135 - val_accuracy: 0.5355 - val_precision: 0.5355 - val_auc: 0.5000 - val_recall_2: 1.0000 - val_true_negatives_2: 0.0000e+00\n",
      "Epoch 29/50\n",
      "16/16 [==============================] - 41s 3s/step - loss: 2.5548 - accuracy: 0.5253 - precision: 0.5253 - auc: 0.5000 - recall_2: 1.0000 - true_negatives_2: 0.0000e+00 - val_loss: 2.8794 - val_accuracy: 0.5355 - val_precision: 0.5355 - val_auc: 0.5000 - val_recall_2: 1.0000 - val_true_negatives_2: 0.0000e+00\n",
      "Epoch 30/50\n",
      "16/16 [==============================] - 40s 3s/step - loss: 3.1657 - accuracy: 0.5253 - precision: 0.5253 - auc: 0.5000 - recall_2: 1.0000 - true_negatives_2: 0.0000e+00 - val_loss: 1.5638 - val_accuracy: 0.5355 - val_precision: 0.5355 - val_auc: 0.5000 - val_recall_2: 1.0000 - val_true_negatives_2: 0.0000e+00\n",
      "Epoch 31/50\n",
      "16/16 [==============================] - 36s 2s/step - loss: 2.7837 - accuracy: 0.5253 - precision: 0.5253 - auc: 0.5000 - recall_2: 1.0000 - true_negatives_2: 0.0000e+00 - val_loss: 4.1176 - val_accuracy: 0.5355 - val_precision: 0.5355 - val_auc: 0.5000 - val_recall_2: 1.0000 - val_true_negatives_2: 0.0000e+00\n",
      "Epoch 32/50\n",
      "16/16 [==============================] - 41s 3s/step - loss: 3.4273 - accuracy: 0.5253 - precision: 0.5253 - auc: 0.5000 - recall_2: 1.0000 - true_negatives_2: 0.0000e+00 - val_loss: 4.7154 - val_accuracy: 0.5355 - val_precision: 0.5355 - val_auc: 0.5000 - val_recall_2: 1.0000 - val_true_negatives_2: 0.0000e+00\n",
      "Epoch 33/50\n",
      "16/16 [==============================] - 38s 2s/step - loss: 3.3110 - accuracy: 0.5253 - precision: 0.5253 - auc: 0.5000 - recall_2: 1.0000 - true_negatives_2: 0.0000e+00 - val_loss: 3.6093 - val_accuracy: 0.5355 - val_precision: 0.5355 - val_auc: 0.5000 - val_recall_2: 1.0000 - val_true_negatives_2: 0.0000e+00\n",
      "Epoch 34/50\n",
      "16/16 [==============================] - 39s 2s/step - loss: 2.2107 - accuracy: 0.5253 - precision: 0.5253 - auc: 0.5000 - recall_2: 1.0000 - true_negatives_2: 0.0000e+00 - val_loss: 1.3573 - val_accuracy: 0.5355 - val_precision: 0.5355 - val_auc: 0.5000 - val_recall_2: 1.0000 - val_true_negatives_2: 0.0000e+00\n",
      "Epoch 35/50\n",
      "16/16 [==============================] - 39s 2s/step - loss: 2.8582 - accuracy: 0.5253 - precision: 0.5253 - auc: 0.5000 - recall_2: 1.0000 - true_negatives_2: 0.0000e+00 - val_loss: 3.1796 - val_accuracy: 0.5355 - val_precision: 0.5355 - val_auc: 0.5000 - val_recall_2: 1.0000 - val_true_negatives_2: 0.0000e+00\n",
      "Epoch 36/50\n",
      "16/16 [==============================] - 38s 2s/step - loss: 2.4475 - accuracy: 0.5253 - precision: 0.5253 - auc: 0.5000 - recall_2: 1.0000 - true_negatives_2: 0.0000e+00 - val_loss: 1.5759 - val_accuracy: 0.5355 - val_precision: 0.5355 - val_auc: 0.5000 - val_recall_2: 1.0000 - val_true_negatives_2: 0.0000e+00\n",
      "Epoch 37/50\n",
      "16/16 [==============================] - 40s 3s/step - loss: 1.8966 - accuracy: 0.5253 - precision: 0.5253 - auc: 0.5000 - recall_2: 1.0000 - true_negatives_2: 0.0000e+00 - val_loss: 1.6683 - val_accuracy: 0.5355 - val_precision: 0.5355 - val_auc: 0.5000 - val_recall_2: 1.0000 - val_true_negatives_2: 0.0000e+00\n",
      "Epoch 38/50\n",
      "16/16 [==============================] - 38s 2s/step - loss: 2.5655 - accuracy: 0.5253 - precision: 0.5253 - auc: 0.5000 - recall_2: 1.0000 - true_negatives_2: 0.0000e+00 - val_loss: 1.5133 - val_accuracy: 0.5355 - val_precision: 0.5355 - val_auc: 0.5000 - val_recall_2: 1.0000 - val_true_negatives_2: 0.0000e+00\n",
      "Epoch 39/50\n",
      "16/16 [==============================] - 39s 2s/step - loss: 2.2139 - accuracy: 0.5253 - precision: 0.5253 - auc: 0.5000 - recall_2: 1.0000 - true_negatives_2: 0.0000e+00 - val_loss: 2.3557 - val_accuracy: 0.5355 - val_precision: 0.5355 - val_auc: 0.5000 - val_recall_2: 1.0000 - val_true_negatives_2: 0.0000e+00\n",
      "Epoch 40/50\n",
      "16/16 [==============================] - 38s 2s/step - loss: 2.4027 - accuracy: 0.5253 - precision: 0.5253 - auc: 0.5000 - recall_2: 1.0000 - true_negatives_2: 0.0000e+00 - val_loss: 1.5564 - val_accuracy: 0.5355 - val_precision: 0.5355 - val_auc: 0.5000 - val_recall_2: 1.0000 - val_true_negatives_2: 0.0000e+00\n",
      "Epoch 41/50\n",
      "16/16 [==============================] - 39s 3s/step - loss: 2.6094 - accuracy: 0.5253 - precision: 0.5253 - auc: 0.5000 - recall_2: 1.0000 - true_negatives_2: 0.0000e+00 - val_loss: 2.0180 - val_accuracy: 0.5355 - val_precision: 0.5355 - val_auc: 0.5000 - val_recall_2: 1.0000 - val_true_negatives_2: 0.0000e+00\n",
      "Epoch 42/50\n",
      "16/16 [==============================] - 40s 3s/step - loss: 2.0578 - accuracy: 0.5253 - precision: 0.5253 - auc: 0.5000 - recall_2: 1.0000 - true_negatives_2: 0.0000e+00 - val_loss: 1.2640 - val_accuracy: 0.5355 - val_precision: 0.5355 - val_auc: 0.5000 - val_recall_2: 1.0000 - val_true_negatives_2: 0.0000e+00\n",
      "Epoch 43/50\n",
      "16/16 [==============================] - 49s 3s/step - loss: 1.8823 - accuracy: 0.5253 - precision: 0.5253 - auc: 0.5000 - recall_2: 1.0000 - true_negatives_2: 0.0000e+00 - val_loss: 2.0082 - val_accuracy: 0.5355 - val_precision: 0.5355 - val_auc: 0.5000 - val_recall_2: 1.0000 - val_true_negatives_2: 0.0000e+00\n",
      "Epoch 44/50\n",
      "16/16 [==============================] - 44s 3s/step - loss: 1.8988 - accuracy: 0.5253 - precision: 0.5253 - auc: 0.5000 - recall_2: 1.0000 - true_negatives_2: 0.0000e+00 - val_loss: 1.6471 - val_accuracy: 0.5355 - val_precision: 0.5355 - val_auc: 0.5000 - val_recall_2: 1.0000 - val_true_negatives_2: 0.0000e+00\n",
      "Epoch 45/50\n",
      "16/16 [==============================] - 38s 2s/step - loss: 2.3446 - accuracy: 0.5253 - precision: 0.5253 - auc: 0.5000 - recall_2: 1.0000 - true_negatives_2: 0.0000e+00 - val_loss: 2.1618 - val_accuracy: 0.5355 - val_precision: 0.5355 - val_auc: 0.5000 - val_recall_2: 1.0000 - val_true_negatives_2: 0.0000e+00\n",
      "Epoch 46/50\n",
      "16/16 [==============================] - 38s 2s/step - loss: 2.1973 - accuracy: 0.5253 - precision: 0.5253 - auc: 0.5000 - recall_2: 1.0000 - true_negatives_2: 0.0000e+00 - val_loss: 1.5128 - val_accuracy: 0.5355 - val_precision: 0.5355 - val_auc: 0.5000 - val_recall_2: 1.0000 - val_true_negatives_2: 0.0000e+00\n",
      "Epoch 47/50\n",
      "16/16 [==============================] - 38s 2s/step - loss: 2.4439 - accuracy: 0.5253 - precision: 0.5253 - auc: 0.5000 - recall_2: 1.0000 - true_negatives_2: 0.0000e+00 - val_loss: 1.7296 - val_accuracy: 0.5355 - val_precision: 0.5355 - val_auc: 0.5000 - val_recall_2: 1.0000 - val_true_negatives_2: 0.0000e+00\n",
      "Epoch 48/50\n",
      "16/16 [==============================] - 39s 2s/step - loss: 1.8013 - accuracy: 0.5253 - precision: 0.5253 - auc: 0.5000 - recall_2: 1.0000 - true_negatives_2: 0.0000e+00 - val_loss: 1.7776 - val_accuracy: 0.5355 - val_precision: 0.5355 - val_auc: 0.5000 - val_recall_2: 1.0000 - val_true_negatives_2: 0.0000e+00\n",
      "Epoch 49/50\n",
      "16/16 [==============================] - 39s 2s/step - loss: 2.1520 - accuracy: 0.5253 - precision: 0.5253 - auc: 0.5000 - recall_2: 1.0000 - true_negatives_2: 0.0000e+00 - val_loss: 1.4658 - val_accuracy: 0.5355 - val_precision: 0.5355 - val_auc: 0.5000 - val_recall_2: 1.0000 - val_true_negatives_2: 0.0000e+00\n",
      "Epoch 50/50\n",
      "16/16 [==============================] - 42s 3s/step - loss: 2.1842 - accuracy: 0.5253 - precision: 0.5253 - auc: 0.5000 - recall_2: 1.0000 - true_negatives_2: 0.0000e+00 - val_loss: 2.1134 - val_accuracy: 0.5355 - val_precision: 0.5355 - val_auc: 0.5000 - val_recall_2: 1.0000 - val_true_negatives_2: 0.0000e+00\n"
     ]
    }
   ],
   "source": [
    "training_images = 456\n",
    "validation_images = 144 \n",
    "\n",
    "history = model.fit_generator(train_generator, # this should be equal to total number of images in training set. But to speed up the execution, I am only using 10000 images. Change this for better results. \n",
    "                   epochs = 50,  # change this for better results\n",
    "                   validation_data = test_generator)  # this should be equal to total number of images in validation set."
   ]
  },
  {
   "cell_type": "code",
   "execution_count": 37,
   "id": "71b2cd9d",
   "metadata": {},
   "outputs": [
    {
     "name": "stdout",
     "output_type": "stream",
     "text": [
      "0.5252525210380554\n",
      "0.5355450510978699\n"
     ]
    }
   ],
   "source": [
    "import statistics\n",
    "print (statistics.mean(history.history['accuracy']))\n",
    "print (statistics.mean(history.history['val_accuracy']))"
   ]
  },
  {
   "cell_type": "code",
   "execution_count": 38,
   "id": "fce46b46",
   "metadata": {},
   "outputs": [
    {
     "data": {
      "image/png": "[encoded data removed]",
      "text/plain": [
       "<Figure size 432x288 with 1 Axes>"
      ]
     },
     "metadata": {
      "needs_background": "light"
     },
     "output_type": "display_data"
    },
    {
     "data": {
      "image/png": "[encoded data removed]",
      "text/plain": [
       "<Figure size 432x288 with 1 Axes>"
      ]
     },
     "metadata": {
      "needs_background": "light"
     },
     "output_type": "display_data"
    }
   ],
   "source": [
    "#Some visualizations\n",
    "import matplotlib.pyplot as plt\n",
    "#Loss\n",
    "plt.plot(history.history['loss'],label='loss')\n",
    "plt.plot(history.history['val_loss'],label='val_loss')\n",
    "plt.legend()\n",
    "plt.show()\n",
    "#Accuracy\n",
    "plt.plot(history.history['accuracy'],label='acc')\n",
    "plt.plot(history.history['val_accuracy'],label='val_acc')\n",
    "plt.legend()\n",
    "plt.show()"
   ]
  },
  {
   "cell_type": "code",
   "execution_count": 39,
   "id": "5248577a",
   "metadata": {},
   "outputs": [
    {
     "name": "stdout",
     "output_type": "stream",
     "text": [
      "7/7 [==============================] - 11s 1s/step - loss: 2.1134 - accuracy: 0.5355 - precision: 0.5355 - auc: 0.5000 - recall_2: 1.0000 - true_negatives_2: 0.0000e+00    \n"
     ]
    },
    {
     "data": {
      "text/plain": [
       "[2.1134018898010254, 0.5355450510978699, 0.5355450510978699, 0.5, 1.0, 0.0]"
      ]
     },
     "execution_count": 39,
     "metadata": {},
     "output_type": "execute_result"
    }
   ],
   "source": [
    "model.evaluate(test_generator)"
   ]
  },
  {
   "cell_type": "code",
   "execution_count": null,
   "id": "21d949b8",
   "metadata": {},
   "outputs": [],
   "source": []
  },
  {
   "cell_type": "code",
   "execution_count": null,
   "id": "b4401a16",
   "metadata": {},
   "outputs": [],
   "source": []
  }
 ],
 "metadata": {
  "kernelspec": {
   "display_name": "Python 3 (ipykernel)",
   "language": "python",
   "name": "python3"
  },
  "language_info": {
   "codemirror_mode": {
    "name": "ipython",
    "version": 3
   },
   "file_extension": ".py",
   "mimetype": "text/x-python",
   "name": "python",
   "nbconvert_exporter": "python",
   "pygments_lexer": "ipython3",
   "version": "3.8.11"
  }
 },
 "nbformat": 4,
 "nbformat_minor": 5
}
