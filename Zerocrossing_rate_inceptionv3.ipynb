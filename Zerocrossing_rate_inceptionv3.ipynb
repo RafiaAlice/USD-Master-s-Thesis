{
 "cells": [
  {
   "cell_type": "code",
   "execution_count": 1,
   "id": "63e75f24",
   "metadata": {},
   "outputs": [],
   "source": [
    "import cv2\n",
    "import numpy as np\n",
    "import os\n",
    "from keras.preprocessing.image import ImageDataGenerator\n",
    "from keras import backend as K\n",
    "import keras\n",
    "from keras.models import Sequential, Model,load_model\n",
    "from keras import optimizers, losses, activations, models\n",
    "from keras.callbacks import EarlyStopping,ModelCheckpoint\n",
    "from keras.layers import Input, Add, Dense, Activation, ZeroPadding2D, BatchNormalization, Flatten, Conv2D, AveragePooling2D, MaxPooling2D, GlobalMaxPooling2D,MaxPool2D\n",
    "from keras.preprocessing import image\n",
    "from keras.initializers import glorot_uniform\n",
    "import numpy as np\n",
    "import pandas as pd\n",
    "import matplotlib.pyplot as plt\n",
    "from glob import glob"
   ]
  },
  {
   "cell_type": "code",
   "execution_count": 2,
   "id": "535c6ae5",
   "metadata": {},
   "outputs": [],
   "source": [
    "train_path= 'C:/Users/ASUS/Desktop/zero_res/train'\n",
    "test_path= 'C:/Users/ASUS/Desktop/zero_res/test'\n",
    "class_names=os.listdir(train_path)\n",
    "class_names_test=os.listdir(test_path)"
   ]
  },
  {
   "cell_type": "code",
   "execution_count": 3,
   "id": "14645c62",
   "metadata": {},
   "outputs": [
    {
     "name": "stdout",
     "output_type": "stream",
     "text": [
      "['abnormal', 'normal']\n",
      "['abnormal', 'normal']\n"
     ]
    }
   ],
   "source": [
    "print(class_names)\n",
    "print(class_names_test)"
   ]
  },
  {
   "cell_type": "code",
   "execution_count": 4,
   "id": "c4df85eb",
   "metadata": {},
   "outputs": [],
   "source": [
    "train_datagen = ImageDataGenerator(zoom_range=0.15,width_shift_range=0.2,height_shift_range=0.2,shear_range=0.15)\n",
    "test_datagen = ImageDataGenerator()"
   ]
  },
  {
   "cell_type": "code",
   "execution_count": 5,
   "id": "20d5bd51",
   "metadata": {},
   "outputs": [
    {
     "name": "stdout",
     "output_type": "stream",
     "text": [
      "Found 495 images belonging to 2 classes.\n",
      "Found 211 images belonging to 2 classes.\n"
     ]
    }
   ],
   "source": [
    "train_generator = train_datagen.flow_from_directory('C:/Users/ASUS/Desktop/zero_res/train',target_size=(224, 224),batch_size=32,shuffle=True,class_mode='binary')\n",
    "test_generator = test_datagen.flow_from_directory('C:/Users/ASUS/Desktop/zero_res/test',target_size=(224,224),batch_size=32,shuffle=False,class_mode='binary')"
   ]
  },
  {
   "cell_type": "code",
   "execution_count": 6,
   "id": "20438834",
   "metadata": {},
   "outputs": [],
   "source": [
    "ROWS=224\n",
    "COLS=224"
   ]
  },
  {
   "cell_type": "code",
   "execution_count": 7,
   "id": "1b5106f6",
   "metadata": {},
   "outputs": [
    {
     "name": "stdout",
     "output_type": "stream",
     "text": [
      "Model: \"sequential\"\n",
      "_________________________________________________________________\n",
      " Layer (type)                Output Shape              Param #   \n",
      "=================================================================\n",
      " inception_v3 (Functional)   (None, 5, 5, 2048)        21802784  \n",
      "                                                                 \n",
      " global_average_pooling2d (G  (None, 2048)             0         \n",
      " lobalAveragePooling2D)                                          \n",
      "                                                                 \n",
      " dropout (Dropout)           (None, 2048)              0         \n",
      "                                                                 \n",
      " dense (Dense)               (None, 1)                 2049      \n",
      "                                                                 \n",
      "=================================================================\n",
      "Total params: 21,804,833\n",
      "Trainable params: 2,049\n",
      "Non-trainable params: 21,802,784\n",
      "_________________________________________________________________\n"
     ]
    }
   ],
   "source": [
    "from keras.models import Sequential\n",
    "from keras.models import Model\n",
    "from keras.callbacks import ModelCheckpoint, LearningRateScheduler, EarlyStopping, ReduceLROnPlateau, TensorBoard\n",
    "from keras import optimizers, losses, activations, models\n",
    "from keras.layers import Convolution2D, Dense, Input, Flatten, Dropout, MaxPooling2D, BatchNormalization, GlobalAveragePooling2D, Concatenate\n",
    "from tensorflow.keras import applications\n",
    "\n",
    "input_shape = (ROWS, COLS, 3)\n",
    "nclass = 1\n",
    "\n",
    "base_model = applications.InceptionV3(weights='imagenet', \n",
    "                                include_top=False, \n",
    "                                input_shape=(ROWS, COLS,3))\n",
    "base_model.trainable = False\n",
    "\n",
    "add_model = Sequential()\n",
    "add_model.add(base_model)\n",
    "add_model.add(GlobalAveragePooling2D())\n",
    "add_model.add(Dropout(0.5))\n",
    "add_model.add(Dense(nclass, \n",
    "                    activation='softmax'))\n",
    "\n",
    "model = add_model\n",
    "\n",
    "model.summary()"
   ]
  },
  {
   "cell_type": "code",
   "execution_count": 8,
   "id": "2bb9822c",
   "metadata": {},
   "outputs": [],
   "source": [
    "from keras.callbacks import ModelCheckpoint, ReduceLROnPlateau, EarlyStopping\n",
    "# weight_path=\"{}_weights.best.hdf5\".format('spectro_sound_model')\n",
    "checkpoint = ModelCheckpoint(filepath =\"./check.hDf5\", monitor='val_loss', verbose=1, \n",
    "                             save_best_only=True, mode='min', save_weights_only = True)\n",
    "# reduceLROnPlat = ReduceLROnPlateau(monitor='val_loss', \n",
    "#                                    factor=0.8, patience=5, \n",
    "#                                    verbose=1, mode='auto', \n",
    "#                                    epsilon=0.0001, cooldown=5, \n",
    "#                                    min_lr=0.0001)\n",
    "early = EarlyStopping(monitor=\"val_loss\", \n",
    "                      mode=\"min\", \n",
    "                      patience=15) # probably needs to be more patient, but kaggle time is limited\n",
    "callbacks_list = [checkpoint, early]"
   ]
  },
  {
   "cell_type": "code",
   "execution_count": 9,
   "id": "08d8b5c8",
   "metadata": {},
   "outputs": [
    {
     "name": "stderr",
     "output_type": "stream",
     "text": [
      "C:\\Users\\ASUS\\anaconda3\\lib\\site-packages\\keras\\optimizer_v2\\adam.py:105: UserWarning: The `lr` argument is deprecated, use `learning_rate` instead.\n",
      "  super(Adam, self).__init__(name, **kwargs)\n"
     ]
    }
   ],
   "source": [
    "import tensorflow as tf\n",
    "from keras.models import *\n",
    "from keras.layers import *\n",
    "opt = tf.optimizers.Adam(lr=1e-3)\n",
    "model.compile(optimizer=opt, \n",
    "    loss=losses.binary_crossentropy, \n",
    "    metrics=['accuracy', 'Precision', 'AUC', tf.keras.metrics.Recall(), tf.keras.metrics.TrueNegatives()])"
   ]
  },
  {
   "cell_type": "code",
   "execution_count": 10,
   "id": "b67705c1",
   "metadata": {},
   "outputs": [
    {
     "name": "stderr",
     "output_type": "stream",
     "text": [
      "C:\\Users\\ASUS\\AppData\\Local\\Temp/ipykernel_4880/615836474.py:4: UserWarning: `Model.fit_generator` is deprecated and will be removed in a future version. Please use `Model.fit`, which supports generators.\n",
      "  history = model.fit_generator(train_generator, # this should be equal to total number of images in training set. But to speed up the execution, I am only using 10000 images. Change this for better results.\n"
     ]
    },
    {
     "name": "stdout",
     "output_type": "stream",
     "text": [
      "Epoch 1/50\n",
      "16/16 [==============================] - 45s 3s/step - loss: 16.4861 - accuracy: 0.5253 - precision: 0.5253 - auc: 0.5000 - recall: 1.0000 - true_negatives: 0.0000e+00 - val_loss: 3.6942 - val_accuracy: 0.5355 - val_precision: 0.5355 - val_auc: 0.5000 - val_recall: 1.0000 - val_true_negatives: 0.0000e+00\n",
      "Epoch 2/50\n",
      "16/16 [==============================] - 44s 3s/step - loss: 15.3090 - accuracy: 0.5253 - precision: 0.5253 - auc: 0.5000 - recall: 1.0000 - true_negatives: 0.0000e+00 - val_loss: 2.0864 - val_accuracy: 0.5355 - val_precision: 0.5355 - val_auc: 0.5000 - val_recall: 1.0000 - val_true_negatives: 0.0000e+00\n",
      "Epoch 3/50\n",
      "16/16 [==============================] - 42s 3s/step - loss: 14.2558 - accuracy: 0.5253 - precision: 0.5253 - auc: 0.5000 - recall: 1.0000 - true_negatives: 0.0000e+00 - val_loss: 1.8927 - val_accuracy: 0.5355 - val_precision: 0.5355 - val_auc: 0.5000 - val_recall: 1.0000 - val_true_negatives: 0.0000e+00\n",
      "Epoch 4/50\n",
      "16/16 [==============================] - 47s 3s/step - loss: 12.8332 - accuracy: 0.5253 - precision: 0.5253 - auc: 0.5000 - recall: 1.0000 - true_negatives: 0.0000e+00 - val_loss: 3.0433 - val_accuracy: 0.5355 - val_precision: 0.5355 - val_auc: 0.5000 - val_recall: 1.0000 - val_true_negatives: 0.0000e+00\n",
      "Epoch 5/50\n",
      "16/16 [==============================] - 49s 3s/step - loss: 10.5873 - accuracy: 0.5253 - precision: 0.5253 - auc: 0.5000 - recall: 1.0000 - true_negatives: 0.0000e+00 - val_loss: 4.0411 - val_accuracy: 0.5355 - val_precision: 0.5355 - val_auc: 0.5000 - val_recall: 1.0000 - val_true_negatives: 0.0000e+00\n",
      "Epoch 6/50\n",
      "16/16 [==============================] - 43s 3s/step - loss: 11.3803 - accuracy: 0.5253 - precision: 0.5253 - auc: 0.5000 - recall: 1.0000 - true_negatives: 0.0000e+00 - val_loss: 2.2030 - val_accuracy: 0.5355 - val_precision: 0.5355 - val_auc: 0.5000 - val_recall: 1.0000 - val_true_negatives: 0.0000e+00\n",
      "Epoch 7/50\n",
      "16/16 [==============================] - 39s 2s/step - loss: 7.9424 - accuracy: 0.5253 - precision: 0.5253 - auc: 0.5000 - recall: 1.0000 - true_negatives: 0.0000e+00 - val_loss: 5.7758 - val_accuracy: 0.5355 - val_precision: 0.5355 - val_auc: 0.5000 - val_recall: 1.0000 - val_true_negatives: 0.0000e+00\n",
      "Epoch 8/50\n",
      "16/16 [==============================] - 40s 3s/step - loss: 9.0760 - accuracy: 0.5253 - precision: 0.5253 - auc: 0.5000 - recall: 1.0000 - true_negatives: 0.0000e+00 - val_loss: 2.5599 - val_accuracy: 0.5355 - val_precision: 0.5355 - val_auc: 0.5000 - val_recall: 1.0000 - val_true_negatives: 0.0000e+00\n",
      "Epoch 9/50\n",
      "16/16 [==============================] - 45s 3s/step - loss: 7.1817 - accuracy: 0.5253 - precision: 0.5253 - auc: 0.5000 - recall: 1.0000 - true_negatives: 0.0000e+00 - val_loss: 3.8206 - val_accuracy: 0.5355 - val_precision: 0.5355 - val_auc: 0.5000 - val_recall: 1.0000 - val_true_negatives: 0.0000e+00\n",
      "Epoch 10/50\n",
      "16/16 [==============================] - 45s 3s/step - loss: 6.7392 - accuracy: 0.5253 - precision: 0.5253 - auc: 0.5000 - recall: 1.0000 - true_negatives: 0.0000e+00 - val_loss: 4.6233 - val_accuracy: 0.5355 - val_precision: 0.5355 - val_auc: 0.5000 - val_recall: 1.0000 - val_true_negatives: 0.0000e+00\n",
      "Epoch 11/50\n",
      "16/16 [==============================] - 45s 3s/step - loss: 6.1393 - accuracy: 0.5253 - precision: 0.5253 - auc: 0.5000 - recall: 1.0000 - true_negatives: 0.0000e+00 - val_loss: 1.4328 - val_accuracy: 0.5355 - val_precision: 0.5355 - val_auc: 0.5000 - val_recall: 1.0000 - val_true_negatives: 0.0000e+00\n",
      "Epoch 12/50\n",
      "16/16 [==============================] - 46s 3s/step - loss: 5.5000 - accuracy: 0.5253 - precision: 0.5253 - auc: 0.5000 - recall: 1.0000 - true_negatives: 0.0000e+00 - val_loss: 1.6288 - val_accuracy: 0.5355 - val_precision: 0.5355 - val_auc: 0.5000 - val_recall: 1.0000 - val_true_negatives: 0.0000e+00\n",
      "Epoch 13/50\n",
      "16/16 [==============================] - 43s 3s/step - loss: 5.1384 - accuracy: 0.5253 - precision: 0.5253 - auc: 0.5000 - recall: 1.0000 - true_negatives: 0.0000e+00 - val_loss: 1.2235 - val_accuracy: 0.5355 - val_precision: 0.5355 - val_auc: 0.5000 - val_recall: 1.0000 - val_true_negatives: 0.0000e+00\n",
      "Epoch 14/50\n",
      "16/16 [==============================] - 46s 3s/step - loss: 4.8251 - accuracy: 0.5253 - precision: 0.5253 - auc: 0.5000 - recall: 1.0000 - true_negatives: 0.0000e+00 - val_loss: 2.1147 - val_accuracy: 0.5355 - val_precision: 0.5355 - val_auc: 0.5000 - val_recall: 1.0000 - val_true_negatives: 0.0000e+00\n",
      "Epoch 15/50\n",
      "16/16 [==============================] - 43s 3s/step - loss: 4.4439 - accuracy: 0.5253 - precision: 0.5253 - auc: 0.5000 - recall: 1.0000 - true_negatives: 0.0000e+00 - val_loss: 1.3982 - val_accuracy: 0.5355 - val_precision: 0.5355 - val_auc: 0.5000 - val_recall: 1.0000 - val_true_negatives: 0.0000e+00\n",
      "Epoch 16/50\n",
      "16/16 [==============================] - 46s 3s/step - loss: 4.2704 - accuracy: 0.5253 - precision: 0.5253 - auc: 0.5000 - recall: 1.0000 - true_negatives: 0.0000e+00 - val_loss: 1.2779 - val_accuracy: 0.5355 - val_precision: 0.5355 - val_auc: 0.5000 - val_recall: 1.0000 - val_true_negatives: 0.0000e+00\n",
      "Epoch 17/50\n",
      "16/16 [==============================] - 46s 3s/step - loss: 3.3037 - accuracy: 0.5253 - precision: 0.5253 - auc: 0.5000 - recall: 1.0000 - true_negatives: 0.0000e+00 - val_loss: 1.9655 - val_accuracy: 0.5355 - val_precision: 0.5355 - val_auc: 0.5000 - val_recall: 1.0000 - val_true_negatives: 0.0000e+00\n",
      "Epoch 18/50\n",
      "16/16 [==============================] - 44s 3s/step - loss: 3.3511 - accuracy: 0.5253 - precision: 0.5253 - auc: 0.5000 - recall: 1.0000 - true_negatives: 0.0000e+00 - val_loss: 1.5922 - val_accuracy: 0.5355 - val_precision: 0.5355 - val_auc: 0.5000 - val_recall: 1.0000 - val_true_negatives: 0.0000e+00\n",
      "Epoch 19/50\n",
      "16/16 [==============================] - 47s 3s/step - loss: 3.2445 - accuracy: 0.5253 - precision: 0.5253 - auc: 0.5000 - recall: 1.0000 - true_negatives: 0.0000e+00 - val_loss: 1.2740 - val_accuracy: 0.5355 - val_precision: 0.5355 - val_auc: 0.5000 - val_recall: 1.0000 - val_true_negatives: 0.0000e+00\n",
      "Epoch 20/50\n",
      "16/16 [==============================] - 44s 3s/step - loss: 3.7380 - accuracy: 0.5253 - precision: 0.5253 - auc: 0.5000 - recall: 1.0000 - true_negatives: 0.0000e+00 - val_loss: 1.6882 - val_accuracy: 0.5355 - val_precision: 0.5355 - val_auc: 0.5000 - val_recall: 1.0000 - val_true_negatives: 0.0000e+00\n",
      "Epoch 21/50\n",
      "16/16 [==============================] - 45s 3s/step - loss: 3.5992 - accuracy: 0.5253 - precision: 0.5253 - auc: 0.5000 - recall: 1.0000 - true_negatives: 0.0000e+00 - val_loss: 1.0810 - val_accuracy: 0.5355 - val_precision: 0.5355 - val_auc: 0.5000 - val_recall: 1.0000 - val_true_negatives: 0.0000e+00\n",
      "Epoch 22/50\n",
      "16/16 [==============================] - 43s 3s/step - loss: 3.6498 - accuracy: 0.5253 - precision: 0.5253 - auc: 0.5000 - recall: 1.0000 - true_negatives: 0.0000e+00 - val_loss: 1.0949 - val_accuracy: 0.5355 - val_precision: 0.5355 - val_auc: 0.5000 - val_recall: 1.0000 - val_true_negatives: 0.0000e+00\n",
      "Epoch 23/50\n",
      "16/16 [==============================] - 45s 3s/step - loss: 2.8206 - accuracy: 0.5253 - precision: 0.5253 - auc: 0.5000 - recall: 1.0000 - true_negatives: 0.0000e+00 - val_loss: 3.1388 - val_accuracy: 0.5355 - val_precision: 0.5355 - val_auc: 0.5000 - val_recall: 1.0000 - val_true_negatives: 0.0000e+00\n",
      "Epoch 24/50\n",
      "16/16 [==============================] - 46s 3s/step - loss: 3.1392 - accuracy: 0.5253 - precision: 0.5253 - auc: 0.5000 - recall: 1.0000 - true_negatives: 0.0000e+00 - val_loss: 3.1388 - val_accuracy: 0.5355 - val_precision: 0.5355 - val_auc: 0.5000 - val_recall: 1.0000 - val_true_negatives: 0.0000e+00\n",
      "Epoch 25/50\n",
      "16/16 [==============================] - 44s 3s/step - loss: 2.5999 - accuracy: 0.5253 - precision: 0.5253 - auc: 0.5000 - recall: 1.0000 - true_negatives: 0.0000e+00 - val_loss: 1.1558 - val_accuracy: 0.5355 - val_precision: 0.5355 - val_auc: 0.5000 - val_recall: 1.0000 - val_true_negatives: 0.0000e+00\n",
      "Epoch 26/50\n",
      "16/16 [==============================] - 44s 3s/step - loss: 2.7384 - accuracy: 0.5253 - precision: 0.5253 - auc: 0.5000 - recall: 1.0000 - true_negatives: 0.0000e+00 - val_loss: 2.5790 - val_accuracy: 0.5355 - val_precision: 0.5355 - val_auc: 0.5000 - val_recall: 1.0000 - val_true_negatives: 0.0000e+00\n"
     ]
    },
    {
     "name": "stdout",
     "output_type": "stream",
     "text": [
      "Epoch 27/50\n",
      "16/16 [==============================] - 46s 3s/step - loss: 2.7199 - accuracy: 0.5253 - precision: 0.5253 - auc: 0.5000 - recall: 1.0000 - true_negatives: 0.0000e+00 - val_loss: 1.2470 - val_accuracy: 0.5355 - val_precision: 0.5355 - val_auc: 0.5000 - val_recall: 1.0000 - val_true_negatives: 0.0000e+00\n",
      "Epoch 28/50\n",
      "16/16 [==============================] - 44s 3s/step - loss: 2.4687 - accuracy: 0.5253 - precision: 0.5253 - auc: 0.5000 - recall: 1.0000 - true_negatives: 0.0000e+00 - val_loss: 1.0353 - val_accuracy: 0.5355 - val_precision: 0.5355 - val_auc: 0.5000 - val_recall: 1.0000 - val_true_negatives: 0.0000e+00\n",
      "Epoch 29/50\n",
      "16/16 [==============================] - 44s 3s/step - loss: 2.7925 - accuracy: 0.5253 - precision: 0.5253 - auc: 0.5000 - recall: 1.0000 - true_negatives: 0.0000e+00 - val_loss: 2.3509 - val_accuracy: 0.5355 - val_precision: 0.5355 - val_auc: 0.5000 - val_recall: 1.0000 - val_true_negatives: 0.0000e+00\n",
      "Epoch 30/50\n",
      "16/16 [==============================] - 44s 3s/step - loss: 2.5773 - accuracy: 0.5253 - precision: 0.5253 - auc: 0.5000 - recall: 1.0000 - true_negatives: 0.0000e+00 - val_loss: 0.9831 - val_accuracy: 0.5355 - val_precision: 0.5355 - val_auc: 0.5000 - val_recall: 1.0000 - val_true_negatives: 0.0000e+00\n",
      "Epoch 31/50\n",
      "16/16 [==============================] - 47s 3s/step - loss: 2.4232 - accuracy: 0.5253 - precision: 0.5253 - auc: 0.5000 - recall: 1.0000 - true_negatives: 0.0000e+00 - val_loss: 1.4840 - val_accuracy: 0.5355 - val_precision: 0.5355 - val_auc: 0.5000 - val_recall: 1.0000 - val_true_negatives: 0.0000e+00\n",
      "Epoch 32/50\n",
      "16/16 [==============================] - 43s 3s/step - loss: 2.9336 - accuracy: 0.5253 - precision: 0.5253 - auc: 0.5000 - recall: 1.0000 - true_negatives: 0.0000e+00 - val_loss: 2.3713 - val_accuracy: 0.5355 - val_precision: 0.5355 - val_auc: 0.5000 - val_recall: 1.0000 - val_true_negatives: 0.0000e+00\n",
      "Epoch 33/50\n",
      "16/16 [==============================] - 44s 3s/step - loss: 3.2331 - accuracy: 0.5253 - precision: 0.5253 - auc: 0.5000 - recall: 1.0000 - true_negatives: 0.0000e+00 - val_loss: 1.2086 - val_accuracy: 0.5355 - val_precision: 0.5355 - val_auc: 0.5000 - val_recall: 1.0000 - val_true_negatives: 0.0000e+00\n",
      "Epoch 34/50\n",
      "16/16 [==============================] - 47s 3s/step - loss: 2.4668 - accuracy: 0.5253 - precision: 0.5253 - auc: 0.5000 - recall: 1.0000 - true_negatives: 0.0000e+00 - val_loss: 1.4074 - val_accuracy: 0.5355 - val_precision: 0.5355 - val_auc: 0.5000 - val_recall: 1.0000 - val_true_negatives: 0.0000e+00\n",
      "Epoch 35/50\n",
      "16/16 [==============================] - 42s 3s/step - loss: 2.2391 - accuracy: 0.5253 - precision: 0.5253 - auc: 0.5000 - recall: 1.0000 - true_negatives: 0.0000e+00 - val_loss: 1.3714 - val_accuracy: 0.5355 - val_precision: 0.5355 - val_auc: 0.5000 - val_recall: 1.0000 - val_true_negatives: 0.0000e+00\n",
      "Epoch 36/50\n",
      "16/16 [==============================] - 44s 3s/step - loss: 2.0976 - accuracy: 0.5253 - precision: 0.5253 - auc: 0.5000 - recall: 1.0000 - true_negatives: 0.0000e+00 - val_loss: 1.0975 - val_accuracy: 0.5355 - val_precision: 0.5355 - val_auc: 0.5000 - val_recall: 1.0000 - val_true_negatives: 0.0000e+00\n",
      "Epoch 37/50\n",
      "16/16 [==============================] - 44s 3s/step - loss: 2.1920 - accuracy: 0.5253 - precision: 0.5253 - auc: 0.5000 - recall: 1.0000 - true_negatives: 0.0000e+00 - val_loss: 1.0539 - val_accuracy: 0.5355 - val_precision: 0.5355 - val_auc: 0.5000 - val_recall: 1.0000 - val_true_negatives: 0.0000e+00\n",
      "Epoch 38/50\n",
      "16/16 [==============================] - 45s 3s/step - loss: 2.0941 - accuracy: 0.5253 - precision: 0.5253 - auc: 0.5000 - recall: 1.0000 - true_negatives: 0.0000e+00 - val_loss: 1.1640 - val_accuracy: 0.5355 - val_precision: 0.5355 - val_auc: 0.5000 - val_recall: 1.0000 - val_true_negatives: 0.0000e+00\n",
      "Epoch 39/50\n",
      "16/16 [==============================] - 44s 3s/step - loss: 2.2668 - accuracy: 0.5253 - precision: 0.5253 - auc: 0.5000 - recall: 1.0000 - true_negatives: 0.0000e+00 - val_loss: 1.1007 - val_accuracy: 0.5355 - val_precision: 0.5355 - val_auc: 0.5000 - val_recall: 1.0000 - val_true_negatives: 0.0000e+00\n",
      "Epoch 40/50\n",
      "16/16 [==============================] - 41s 3s/step - loss: 2.2152 - accuracy: 0.5253 - precision: 0.5253 - auc: 0.5000 - recall: 1.0000 - true_negatives: 0.0000e+00 - val_loss: 1.7066 - val_accuracy: 0.5355 - val_precision: 0.5355 - val_auc: 0.5000 - val_recall: 1.0000 - val_true_negatives: 0.0000e+00\n",
      "Epoch 41/50\n",
      "16/16 [==============================] - 49s 3s/step - loss: 1.8430 - accuracy: 0.5253 - precision: 0.5253 - auc: 0.5000 - recall: 1.0000 - true_negatives: 0.0000e+00 - val_loss: 1.3332 - val_accuracy: 0.5355 - val_precision: 0.5355 - val_auc: 0.5000 - val_recall: 1.0000 - val_true_negatives: 0.0000e+00\n",
      "Epoch 42/50\n",
      "16/16 [==============================] - 40s 2s/step - loss: 2.4582 - accuracy: 0.5253 - precision: 0.5253 - auc: 0.5000 - recall: 1.0000 - true_negatives: 0.0000e+00 - val_loss: 1.8221 - val_accuracy: 0.5355 - val_precision: 0.5355 - val_auc: 0.5000 - val_recall: 1.0000 - val_true_negatives: 0.0000e+00\n",
      "Epoch 43/50\n",
      "16/16 [==============================] - 45s 3s/step - loss: 2.5771 - accuracy: 0.5253 - precision: 0.5253 - auc: 0.5000 - recall: 1.0000 - true_negatives: 0.0000e+00 - val_loss: 0.9701 - val_accuracy: 0.5355 - val_precision: 0.5355 - val_auc: 0.5000 - val_recall: 1.0000 - val_true_negatives: 0.0000e+00\n",
      "Epoch 44/50\n",
      "16/16 [==============================] - 47s 3s/step - loss: 2.2301 - accuracy: 0.5253 - precision: 0.5253 - auc: 0.5000 - recall: 1.0000 - true_negatives: 0.0000e+00 - val_loss: 1.1479 - val_accuracy: 0.5355 - val_precision: 0.5355 - val_auc: 0.5000 - val_recall: 1.0000 - val_true_negatives: 0.0000e+00\n",
      "Epoch 45/50\n",
      "16/16 [==============================] - 46s 3s/step - loss: 2.1160 - accuracy: 0.5253 - precision: 0.5253 - auc: 0.5000 - recall: 1.0000 - true_negatives: 0.0000e+00 - val_loss: 1.0839 - val_accuracy: 0.5355 - val_precision: 0.5355 - val_auc: 0.5000 - val_recall: 1.0000 - val_true_negatives: 0.0000e+00\n",
      "Epoch 46/50\n",
      "16/16 [==============================] - 49s 3s/step - loss: 2.1128 - accuracy: 0.5253 - precision: 0.5253 - auc: 0.5000 - recall: 1.0000 - true_negatives: 0.0000e+00 - val_loss: 1.2060 - val_accuracy: 0.5355 - val_precision: 0.5355 - val_auc: 0.5000 - val_recall: 1.0000 - val_true_negatives: 0.0000e+00\n",
      "Epoch 47/50\n",
      "16/16 [==============================] - 46s 3s/step - loss: 1.9279 - accuracy: 0.5253 - precision: 0.5253 - auc: 0.5000 - recall: 1.0000 - true_negatives: 0.0000e+00 - val_loss: 1.0314 - val_accuracy: 0.5355 - val_precision: 0.5355 - val_auc: 0.5000 - val_recall: 1.0000 - val_true_negatives: 0.0000e+00\n",
      "Epoch 48/50\n",
      "16/16 [==============================] - 45s 3s/step - loss: 2.1011 - accuracy: 0.5253 - precision: 0.5253 - auc: 0.5000 - recall: 1.0000 - true_negatives: 0.0000e+00 - val_loss: 2.8422 - val_accuracy: 0.5355 - val_precision: 0.5355 - val_auc: 0.5000 - val_recall: 1.0000 - val_true_negatives: 0.0000e+00\n",
      "Epoch 49/50\n",
      "16/16 [==============================] - 45s 3s/step - loss: 1.7755 - accuracy: 0.5253 - precision: 0.5253 - auc: 0.5000 - recall: 1.0000 - true_negatives: 0.0000e+00 - val_loss: 1.1792 - val_accuracy: 0.5355 - val_precision: 0.5355 - val_auc: 0.5000 - val_recall: 1.0000 - val_true_negatives: 0.0000e+00\n",
      "Epoch 50/50\n",
      "16/16 [==============================] - 48s 3s/step - loss: 1.7767 - accuracy: 0.5253 - precision: 0.5253 - auc: 0.5000 - recall: 1.0000 - true_negatives: 0.0000e+00 - val_loss: 3.2235 - val_accuracy: 0.5355 - val_precision: 0.5355 - val_auc: 0.5000 - val_recall: 1.0000 - val_true_negatives: 0.0000e+00\n"
     ]
    }
   ],
   "source": [
    "training_images = 456\n",
    "validation_images = 144 \n",
    "\n",
    "history = model.fit_generator(train_generator, # this should be equal to total number of images in training set. But to speed up the execution, I am only using 10000 images. Change this for better results. \n",
    "                   epochs = 50,  # change this for better results\n",
    "                   validation_data = test_generator)  # this should be equal to total number of images in validation set."
   ]
  },
  {
   "cell_type": "code",
   "execution_count": 11,
   "id": "71b2cd9d",
   "metadata": {},
   "outputs": [
    {
     "name": "stdout",
     "output_type": "stream",
     "text": [
      "0.5252525210380554\n",
      "0.5355450510978699\n"
     ]
    }
   ],
   "source": [
    "import statistics\n",
    "print (statistics.mean(history.history['accuracy']))\n",
    "print (statistics.mean(history.history['val_accuracy']))"
   ]
  },
  {
   "cell_type": "code",
   "execution_count": 12,
   "id": "fce46b46",
   "metadata": {},
   "outputs": [
    {
     "data": {
      "image/png": "[encoded data removed]",
      "text/plain": [
       "<Figure size 432x288 with 1 Axes>"
      ]
     },
     "metadata": {
      "needs_background": "light"
     },
     "output_type": "display_data"
    },
    {
     "data": {
      "image/png": "[encoded data removed]",
      "text/plain": [
       "<Figure size 432x288 with 1 Axes>"
      ]
     },
     "metadata": {
      "needs_background": "light"
     },
     "output_type": "display_data"
    }
   ],
   "source": [
    "#Some visualizations\n",
    "import matplotlib.pyplot as plt\n",
    "#Loss\n",
    "plt.plot(history.history['loss'],label='loss')\n",
    "plt.plot(history.history['val_loss'],label='val_loss')\n",
    "plt.legend()\n",
    "plt.show()\n",
    "#Accuracy\n",
    "plt.plot(history.history['accuracy'],label='acc')\n",
    "plt.plot(history.history['val_accuracy'],label='val_acc')\n",
    "plt.legend()\n",
    "plt.show()"
   ]
  },
  {
   "cell_type": "code",
   "execution_count": 13,
   "id": "5248577a",
   "metadata": {},
   "outputs": [
    {
     "name": "stdout",
     "output_type": "stream",
     "text": [
      "7/7 [==============================] - 12s 2s/step - loss: 3.2235 - accuracy: 0.5355 - precision: 0.5355 - auc: 0.5000 - recall: 1.0000 - true_negatives: 0.0000e+00    \n"
     ]
    },
    {
     "data": {
      "text/plain": [
       "[3.2234814167022705, 0.5355450510978699, 0.5355450510978699, 0.5, 1.0, 0.0]"
      ]
     },
     "execution_count": 13,
     "metadata": {},
     "output_type": "execute_result"
    }
   ],
   "source": [
    "model.evaluate(test_generator)"
   ]
  },
  {
   "cell_type": "code",
   "execution_count": null,
   "id": "21d949b8",
   "metadata": {},
   "outputs": [],
   "source": []
  },
  {
   "cell_type": "code",
   "execution_count": null,
   "id": "b4401a16",
   "metadata": {},
   "outputs": [],
   "source": []
  }
 ],
 "metadata": {
  "kernelspec": {
   "display_name": "Python 3 (ipykernel)",
   "language": "python",
   "name": "python3"
  },
  "language_info": {
   "codemirror_mode": {
    "name": "ipython",
    "version": 3
   },
   "file_extension": ".py",
   "mimetype": "text/x-python",
   "name": "python",
   "nbconvert_exporter": "python",
   "pygments_lexer": "ipython3",
   "version": "3.8.11"
  }
 },
 "nbformat": 4,
 "nbformat_minor": 5
}
