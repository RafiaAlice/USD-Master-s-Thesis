{
 "cells": [
  {
   "cell_type": "markdown",
   "id": "7bf77592",
   "metadata": {},
   "source": [
    "# Raw_data_vgg16"
   ]
  },
  {
   "cell_type": "code",
   "execution_count": 1,
   "id": "3092498b",
   "metadata": {},
   "outputs": [],
   "source": [
    "import numpy as np\n",
    "import pandas as pd\n",
    "import matplotlib.pyplot as plt\n",
    "from glob import glob\n",
    "from keras import optimizers, losses, activations, models\n",
    "from PIL import ImageFile\n",
    "ImageFile.LOAD_TRUNCATED_IMAGES = True"
   ]
  },
  {
   "cell_type": "code",
   "execution_count": 2,
   "id": "fc4958f4",
   "metadata": {},
   "outputs": [],
   "source": [
    "training_dir = 'C:/Users/ASUS/Desktop/waveVgg/train'\n",
    "validation_dir = 'C:/Users/ASUS/Desktop/waveVgg/valid'\n",
    "test_dir = 'C:/Users/ASUS/Desktop/waveVgg/test'"
   ]
  },
  {
   "cell_type": "code",
   "execution_count": 3,
   "id": "c2947ded",
   "metadata": {},
   "outputs": [],
   "source": [
    "image_files = glob(training_dir + '/*/*.png')\n",
    "valid_image_files = glob(validation_dir + '/*/*.png')"
   ]
  },
  {
   "cell_type": "code",
   "execution_count": 4,
   "id": "eace7ea7",
   "metadata": {},
   "outputs": [
    {
     "name": "stdout",
     "output_type": "stream",
     "text": [
      "Total Classes = 2\n"
     ]
    }
   ],
   "source": [
    "folders = glob(training_dir + '/*')\n",
    "num_classes = len(folders)\n",
    "print ('Total Classes = ' + str(num_classes))"
   ]
  },
  {
   "cell_type": "code",
   "execution_count": 5,
   "id": "ea6ddf8e",
   "metadata": {},
   "outputs": [],
   "source": [
    "import tensorflow as tf \n",
    "from keras.applications.vgg16 import VGG16\n",
    "from keras.models import Model\n",
    "from keras.layers import Flatten, Dense\n",
    "#from keras.preprocessing import image\n",
    "\n",
    "IMAGE_SIZE = [64, 64]  # we will keep the image size as (64,64). You can increase the size for better results. \n",
    "\n",
    "# loading the weights of VGG16 without the top layer. These weights are trained on Imagenet dataset.\n",
    "vgg = VGG16(input_shape = IMAGE_SIZE + [3], weights = 'imagenet', include_top = False)  # input_shape = (64,64,3) as required by VGG\n",
    "\n",
    "for layer in vgg.layers:\n",
    "    layer.trainable = False\n",
    "\n",
    "x = Flatten()(vgg.output)\n",
    "#x = Dense(128, activation = 'relu')(x)   # we can add a new fully connected layer but it will increase the execution time.\n",
    "x = Dense(num_classes, activation = 'softmax')(x)  # adding the output layer with softmax function as this is a multi label classification problem.\n",
    "\n",
    "model = Model(inputs = vgg.input, outputs = x)\n",
    "\n",
    "model.compile(loss='categorical_crossentropy', optimizer='adam', metrics=['accuracy'])"
   ]
  },
  {
   "cell_type": "code",
   "execution_count": 6,
   "id": "8a6f2bd5",
   "metadata": {},
   "outputs": [
    {
     "name": "stdout",
     "output_type": "stream",
     "text": [
      "Model: \"model\"\n",
      "_________________________________________________________________\n",
      " Layer (type)                Output Shape              Param #   \n",
      "=================================================================\n",
      " input_1 (InputLayer)        [(None, 64, 64, 3)]       0         \n",
      "                                                                 \n",
      " block1_conv1 (Conv2D)       (None, 64, 64, 64)        1792      \n",
      "                                                                 \n",
      " block1_conv2 (Conv2D)       (None, 64, 64, 64)        36928     \n",
      "                                                                 \n",
      " block1_pool (MaxPooling2D)  (None, 32, 32, 64)        0         \n",
      "                                                                 \n",
      " block2_conv1 (Conv2D)       (None, 32, 32, 128)       73856     \n",
      "                                                                 \n",
      " block2_conv2 (Conv2D)       (None, 32, 32, 128)       147584    \n",
      "                                                                 \n",
      " block2_pool (MaxPooling2D)  (None, 16, 16, 128)       0         \n",
      "                                                                 \n",
      " block3_conv1 (Conv2D)       (None, 16, 16, 256)       295168    \n",
      "                                                                 \n",
      " block3_conv2 (Conv2D)       (None, 16, 16, 256)       590080    \n",
      "                                                                 \n",
      " block3_conv3 (Conv2D)       (None, 16, 16, 256)       590080    \n",
      "                                                                 \n",
      " block3_pool (MaxPooling2D)  (None, 8, 8, 256)         0         \n",
      "                                                                 \n",
      " block4_conv1 (Conv2D)       (None, 8, 8, 512)         1180160   \n",
      "                                                                 \n",
      " block4_conv2 (Conv2D)       (None, 8, 8, 512)         2359808   \n",
      "                                                                 \n",
      " block4_conv3 (Conv2D)       (None, 8, 8, 512)         2359808   \n",
      "                                                                 \n",
      " block4_pool (MaxPooling2D)  (None, 4, 4, 512)         0         \n",
      "                                                                 \n",
      " block5_conv1 (Conv2D)       (None, 4, 4, 512)         2359808   \n",
      "                                                                 \n",
      " block5_conv2 (Conv2D)       (None, 4, 4, 512)         2359808   \n",
      "                                                                 \n",
      " block5_conv3 (Conv2D)       (None, 4, 4, 512)         2359808   \n",
      "                                                                 \n",
      " block5_pool (MaxPooling2D)  (None, 2, 2, 512)         0         \n",
      "                                                                 \n",
      " flatten (Flatten)           (None, 2048)              0         \n",
      "                                                                 \n",
      " dense (Dense)               (None, 2)                 4098      \n",
      "                                                                 \n",
      "=================================================================\n",
      "Total params: 14,718,786\n",
      "Trainable params: 4,098\n",
      "Non-trainable params: 14,714,688\n",
      "_________________________________________________________________\n"
     ]
    }
   ],
   "source": [
    "model.summary()"
   ]
  },
  {
   "cell_type": "code",
   "execution_count": 7,
   "id": "636cb394",
   "metadata": {},
   "outputs": [
    {
     "name": "stdout",
     "output_type": "stream",
     "text": [
      "Found 495 images belonging to 2 classes.\n",
      "Found 145 images belonging to 2 classes.\n",
      "Found 66 images belonging to 2 classes.\n"
     ]
    }
   ],
   "source": [
    "from keras.preprocessing.image import ImageDataGenerator\n",
    "from keras.applications.vgg16 import preprocess_input\n",
    "\n",
    "training_datagen = ImageDataGenerator(\n",
    "                                    rescale=1./255,   # all pixel values will be between 0 an 1\n",
    "                                    shear_range=0, \n",
    "                                    zoom_range=0,\n",
    "                                    horizontal_flip=False,\n",
    "                                    preprocessing_function=preprocess_input)\n",
    "\n",
    "validation_datagen = ImageDataGenerator(rescale = 1./255, preprocessing_function=preprocess_input)\n",
    "test_datagen = ImageDataGenerator(rescale = 1./255, preprocessing_function=preprocess_input)\n",
    "\n",
    "training_generator = training_datagen.flow_from_directory(training_dir, target_size = IMAGE_SIZE, batch_size = 200, class_mode = 'categorical')\n",
    "validation_generator = validation_datagen.flow_from_directory(validation_dir, target_size = IMAGE_SIZE, batch_size = 200, class_mode = 'categorical')\n",
    "test_generator = test_datagen.flow_from_directory(test_dir, target_size = IMAGE_SIZE, batch_size = 200, class_mode = 'categorical')"
   ]
  },
  {
   "cell_type": "code",
   "execution_count": 8,
   "id": "8bb88276",
   "metadata": {},
   "outputs": [
    {
     "name": "stderr",
     "output_type": "stream",
     "text": [
      "C:\\Users\\ASUS\\anaconda3\\lib\\site-packages\\keras\\optimizer_v2\\adam.py:105: UserWarning: The `lr` argument is deprecated, use `learning_rate` instead.\n",
      "  super(Adam, self).__init__(name, **kwargs)\n"
     ]
    }
   ],
   "source": [
    "import tensorflow as tf\n",
    "from keras.models import *\n",
    "from keras.layers import *\n",
    "opt = tf.optimizers.Adam(lr=1e-3)\n",
    "model.compile(optimizer=opt, \n",
    "    loss=losses.binary_crossentropy, \n",
    "    metrics=['accuracy', 'Precision', 'AUC', tf.keras.metrics.Recall(), tf.keras.metrics.TrueNegatives()])"
   ]
  },
  {
   "cell_type": "code",
   "execution_count": 9,
   "id": "862b0170",
   "metadata": {},
   "outputs": [
    {
     "name": "stdout",
     "output_type": "stream",
     "text": [
      "Epoch 1/100\n",
      "3/3 [==============================] - 10s 3s/step - loss: 0.7664 - accuracy: 0.5253 - precision: 0.5253 - auc: 0.5336 - recall: 0.5253 - true_negatives: 260.0000 - val_loss: 0.7341 - val_accuracy: 0.5241 - val_precision: 0.5241 - val_auc: 0.4461 - val_recall: 0.5241 - val_true_negatives: 76.0000\n",
      "Epoch 2/100\n",
      "3/3 [==============================] - 8s 3s/step - loss: 0.6857 - accuracy: 0.5293 - precision: 0.5293 - auc: 0.5792 - recall: 0.5293 - true_negatives: 262.0000 - val_loss: 0.7358 - val_accuracy: 0.3724 - val_precision: 0.3724 - val_auc: 0.3186 - val_recall: 0.3724 - val_true_negatives: 54.0000\n",
      "Epoch 3/100\n",
      "3/3 [==============================] - 8s 3s/step - loss: 0.6783 - accuracy: 0.6222 - precision: 0.6222 - auc: 0.6461 - recall: 0.6222 - true_negatives: 308.0000 - val_loss: 0.7514 - val_accuracy: 0.3655 - val_precision: 0.3655 - val_auc: 0.3034 - val_recall: 0.3655 - val_true_negatives: 53.0000\n",
      "Epoch 4/100\n",
      "3/3 [==============================] - 8s 4s/step - loss: 0.6707 - accuracy: 0.6283 - precision: 0.6283 - auc: 0.6750 - recall: 0.6283 - true_negatives: 311.0000 - val_loss: 0.7449 - val_accuracy: 0.3862 - val_precision: 0.3862 - val_auc: 0.3576 - val_recall: 0.3862 - val_true_negatives: 56.0000\n",
      "Epoch 5/100\n",
      "3/3 [==============================] - 8s 3s/step - loss: 0.6486 - accuracy: 0.6646 - precision: 0.6646 - auc: 0.7490 - recall: 0.6646 - true_negatives: 329.0000 - val_loss: 0.7383 - val_accuracy: 0.4966 - val_precision: 0.4966 - val_auc: 0.4369 - val_recall: 0.4966 - val_true_negatives: 72.0000\n",
      "Epoch 6/100\n",
      "3/3 [==============================] - 9s 3s/step - loss: 0.6326 - accuracy: 0.7051 - precision: 0.7051 - auc: 0.7648 - recall: 0.7051 - true_negatives: 349.0000 - val_loss: 0.7442 - val_accuracy: 0.5103 - val_precision: 0.5103 - val_auc: 0.4751 - val_recall: 0.5103 - val_true_negatives: 74.0000\n",
      "Epoch 7/100\n",
      "3/3 [==============================] - 8s 3s/step - loss: 0.6233 - accuracy: 0.7051 - precision: 0.7051 - auc: 0.7615 - recall: 0.7051 - true_negatives: 349.0000 - val_loss: 0.7532 - val_accuracy: 0.4966 - val_precision: 0.4966 - val_auc: 0.4790 - val_recall: 0.4966 - val_true_negatives: 72.0000\n",
      "Epoch 8/100\n",
      "3/3 [==============================] - 9s 4s/step - loss: 0.6157 - accuracy: 0.7030 - precision: 0.7030 - auc: 0.7625 - recall: 0.7030 - true_negatives: 348.0000 - val_loss: 0.7611 - val_accuracy: 0.4966 - val_precision: 0.4966 - val_auc: 0.4845 - val_recall: 0.4966 - val_true_negatives: 72.0000\n",
      "Epoch 9/100\n",
      "3/3 [==============================] - 9s 4s/step - loss: 0.6045 - accuracy: 0.7111 - precision: 0.7111 - auc: 0.7733 - recall: 0.7111 - true_negatives: 352.0000 - val_loss: 0.7652 - val_accuracy: 0.4897 - val_precision: 0.4897 - val_auc: 0.4737 - val_recall: 0.4897 - val_true_negatives: 71.0000\n",
      "Epoch 10/100\n",
      "3/3 [==============================] - 12s 4s/step - loss: 0.5951 - accuracy: 0.7152 - precision: 0.7152 - auc: 0.7884 - recall: 0.7152 - true_negatives: 354.0000 - val_loss: 0.7693 - val_accuracy: 0.4690 - val_precision: 0.4690 - val_auc: 0.4477 - val_recall: 0.4690 - val_true_negatives: 68.0000\n",
      "Epoch 11/100\n",
      "3/3 [==============================] - 9s 4s/step - loss: 0.5922 - accuracy: 0.7273 - precision: 0.7273 - auc: 0.7845 - recall: 0.7273 - true_negatives: 360.0000 - val_loss: 0.7759 - val_accuracy: 0.4207 - val_precision: 0.4207 - val_auc: 0.4154 - val_recall: 0.4207 - val_true_negatives: 61.0000\n",
      "Epoch 12/100\n",
      "3/3 [==============================] - 10s 3s/step - loss: 0.5857 - accuracy: 0.7152 - precision: 0.7152 - auc: 0.7913 - recall: 0.7152 - true_negatives: 354.0000 - val_loss: 0.7870 - val_accuracy: 0.4414 - val_precision: 0.4414 - val_auc: 0.4353 - val_recall: 0.4414 - val_true_negatives: 64.0000\n",
      "Epoch 13/100\n",
      "3/3 [==============================] - 9s 3s/step - loss: 0.5770 - accuracy: 0.7313 - precision: 0.7313 - auc: 0.8050 - recall: 0.7313 - true_negatives: 362.0000 - val_loss: 0.8041 - val_accuracy: 0.4690 - val_precision: 0.4690 - val_auc: 0.4638 - val_recall: 0.4690 - val_true_negatives: 68.0000\n",
      "Epoch 14/100\n",
      "3/3 [==============================] - 9s 3s/step - loss: 0.5735 - accuracy: 0.7374 - precision: 0.7374 - auc: 0.8002 - recall: 0.7374 - true_negatives: 365.0000 - val_loss: 0.8169 - val_accuracy: 0.5103 - val_precision: 0.5103 - val_auc: 0.4707 - val_recall: 0.5103 - val_true_negatives: 74.0000\n",
      "Epoch 15/100\n",
      "3/3 [==============================] - 9s 3s/step - loss: 0.5679 - accuracy: 0.7374 - precision: 0.7374 - auc: 0.8011 - recall: 0.7374 - true_negatives: 365.0000 - val_loss: 0.8201 - val_accuracy: 0.4828 - val_precision: 0.4828 - val_auc: 0.4591 - val_recall: 0.4828 - val_true_negatives: 70.0000\n",
      "Epoch 16/100\n",
      "3/3 [==============================] - 9s 3s/step - loss: 0.5626 - accuracy: 0.7333 - precision: 0.7333 - auc: 0.8103 - recall: 0.7333 - true_negatives: 363.0000 - val_loss: 0.8226 - val_accuracy: 0.4483 - val_precision: 0.4483 - val_auc: 0.4403 - val_recall: 0.4483 - val_true_negatives: 65.0000\n",
      "Epoch 17/100\n",
      "3/3 [==============================] - 11s 3s/step - loss: 0.5586 - accuracy: 0.7374 - precision: 0.7374 - auc: 0.8164 - recall: 0.7374 - true_negatives: 365.0000 - val_loss: 0.8293 - val_accuracy: 0.4414 - val_precision: 0.4414 - val_auc: 0.4310 - val_recall: 0.4414 - val_true_negatives: 64.0000\n",
      "Epoch 18/100\n",
      "3/3 [==============================] - 10s 3s/step - loss: 0.5533 - accuracy: 0.7354 - precision: 0.7354 - auc: 0.8195 - recall: 0.7354 - true_negatives: 364.0000 - val_loss: 0.8401 - val_accuracy: 0.4414 - val_precision: 0.4414 - val_auc: 0.4315 - val_recall: 0.4414 - val_true_negatives: 64.0000\n",
      "Epoch 19/100\n",
      "3/3 [==============================] - 10s 3s/step - loss: 0.5500 - accuracy: 0.7354 - precision: 0.7354 - auc: 0.8219 - recall: 0.7354 - true_negatives: 364.0000 - val_loss: 0.8522 - val_accuracy: 0.4414 - val_precision: 0.4414 - val_auc: 0.4355 - val_recall: 0.4414 - val_true_negatives: 64.0000\n",
      "Epoch 20/100\n",
      "3/3 [==============================] - 9s 4s/step - loss: 0.5456 - accuracy: 0.7313 - precision: 0.7313 - auc: 0.8244 - recall: 0.7313 - true_negatives: 362.0000 - val_loss: 0.8602 - val_accuracy: 0.4552 - val_precision: 0.4552 - val_auc: 0.4354 - val_recall: 0.4552 - val_true_negatives: 66.0000\n",
      "Epoch 21/100\n",
      "3/3 [==============================] - 9s 4s/step - loss: 0.5417 - accuracy: 0.7374 - precision: 0.7374 - auc: 0.8273 - recall: 0.7374 - true_negatives: 365.0000 - val_loss: 0.8639 - val_accuracy: 0.4138 - val_precision: 0.4138 - val_auc: 0.4246 - val_recall: 0.4138 - val_true_negatives: 60.0000\n",
      "Epoch 22/100\n",
      "3/3 [==============================] - 11s 3s/step - loss: 0.5389 - accuracy: 0.7374 - precision: 0.7374 - auc: 0.8295 - recall: 0.7374 - true_negatives: 365.0000 - val_loss: 0.8745 - val_accuracy: 0.4345 - val_precision: 0.4345 - val_auc: 0.4296 - val_recall: 0.4345 - val_true_negatives: 63.0000\n",
      "Epoch 23/100\n",
      "3/3 [==============================] - 10s 3s/step - loss: 0.5352 - accuracy: 0.7374 - precision: 0.7374 - auc: 0.8312 - recall: 0.7374 - true_negatives: 365.0000 - val_loss: 0.8831 - val_accuracy: 0.4345 - val_precision: 0.4345 - val_auc: 0.4325 - val_recall: 0.4345 - val_true_negatives: 63.0000\n",
      "Epoch 24/100\n",
      "3/3 [==============================] - 9s 4s/step - loss: 0.5320 - accuracy: 0.7434 - precision: 0.7434 - auc: 0.8316 - recall: 0.7434 - true_negatives: 368.0000 - val_loss: 0.8951 - val_accuracy: 0.4690 - val_precision: 0.4690 - val_auc: 0.4393 - val_recall: 0.4690 - val_true_negatives: 68.0000\n",
      "Epoch 25/100\n",
      "3/3 [==============================] - 9s 3s/step - loss: 0.5292 - accuracy: 0.7495 - precision: 0.7495 - auc: 0.8336 - recall: 0.7495 - true_negatives: 371.0000 - val_loss: 0.8954 - val_accuracy: 0.4345 - val_precision: 0.4345 - val_auc: 0.4278 - val_recall: 0.4345 - val_true_negatives: 63.0000\n",
      "Epoch 26/100\n",
      "3/3 [==============================] - 9s 4s/step - loss: 0.5261 - accuracy: 0.7414 - precision: 0.7414 - auc: 0.8366 - recall: 0.7414 - true_negatives: 367.0000 - val_loss: 0.8981 - val_accuracy: 0.4138 - val_precision: 0.4138 - val_auc: 0.4161 - val_recall: 0.4138 - val_true_negatives: 60.0000\n",
      "Epoch 27/100\n",
      "3/3 [==============================] - 10s 3s/step - loss: 0.5237 - accuracy: 0.7455 - precision: 0.7455 - auc: 0.8382 - recall: 0.7455 - true_negatives: 369.0000 - val_loss: 0.9069 - val_accuracy: 0.4345 - val_precision: 0.4345 - val_auc: 0.4201 - val_recall: 0.4345 - val_true_negatives: 63.0000\n",
      "Epoch 28/100\n",
      "3/3 [==============================] - 9s 3s/step - loss: 0.5208 - accuracy: 0.7475 - precision: 0.7475 - auc: 0.8403 - recall: 0.7475 - true_negatives: 370.0000 - val_loss: 0.9154 - val_accuracy: 0.4276 - val_precision: 0.4276 - val_auc: 0.4229 - val_recall: 0.4276 - val_true_negatives: 62.0000\n",
      "Epoch 29/100\n",
      "3/3 [==============================] - 9s 3s/step - loss: 0.5177 - accuracy: 0.7576 - precision: 0.7576 - auc: 0.8428 - recall: 0.7576 - true_negatives: 375.0000 - val_loss: 0.9292 - val_accuracy: 0.4483 - val_precision: 0.4483 - val_auc: 0.4343 - val_recall: 0.4483 - val_true_negatives: 65.0000\n",
      "Epoch 30/100\n",
      "3/3 [==============================] - 9s 4s/step - loss: 0.5156 - accuracy: 0.7657 - precision: 0.7657 - auc: 0.8423 - recall: 0.7657 - true_negatives: 379.0000 - val_loss: 0.9389 - val_accuracy: 0.4690 - val_precision: 0.4690 - val_auc: 0.4358 - val_recall: 0.4690 - val_true_negatives: 68.0000\n",
      "Epoch 31/100\n",
      "3/3 [==============================] - 10s 4s/step - loss: 0.5130 - accuracy: 0.7657 - precision: 0.7657 - auc: 0.8445 - recall: 0.7657 - true_negatives: 379.0000 - val_loss: 0.9398 - val_accuracy: 0.4345 - val_precision: 0.4345 - val_auc: 0.4272 - val_recall: 0.4345 - val_true_negatives: 63.0000\n",
      "Epoch 32/100\n",
      "3/3 [==============================] - 11s 3s/step - loss: 0.5104 - accuracy: 0.7636 - precision: 0.7636 - auc: 0.8469 - recall: 0.7636 - true_negatives: 378.0000 - val_loss: 0.9440 - val_accuracy: 0.4276 - val_precision: 0.4276 - val_auc: 0.4240 - val_recall: 0.4276 - val_true_negatives: 62.0000\n",
      "Epoch 33/100\n",
      "3/3 [==============================] - 10s 3s/step - loss: 0.5083 - accuracy: 0.7657 - precision: 0.7657 - auc: 0.8488 - recall: 0.7657 - true_negatives: 379.0000 - val_loss: 0.9496 - val_accuracy: 0.4276 - val_precision: 0.4276 - val_auc: 0.4242 - val_recall: 0.4276 - val_true_negatives: 62.0000\n",
      "Epoch 34/100\n",
      "3/3 [==============================] - 11s 3s/step - loss: 0.5066 - accuracy: 0.7657 - precision: 0.7657 - auc: 0.8481 - recall: 0.7657 - true_negatives: 379.0000 - val_loss: 0.9632 - val_accuracy: 0.4552 - val_precision: 0.4552 - val_auc: 0.4368 - val_recall: 0.4552 - val_true_negatives: 66.0000\n",
      "Epoch 35/100\n",
      "3/3 [==============================] - 11s 5s/step - loss: 0.5039 - accuracy: 0.7697 - precision: 0.7697 - auc: 0.8498 - recall: 0.7697 - true_negatives: 381.0000 - val_loss: 0.9662 - val_accuracy: 0.4483 - val_precision: 0.4483 - val_auc: 0.4344 - val_recall: 0.4483 - val_true_negatives: 65.0000\n",
      "Epoch 36/100\n",
      "3/3 [==============================] - 10s 3s/step - loss: 0.5019 - accuracy: 0.7677 - precision: 0.7677 - auc: 0.8514 - recall: 0.7677 - true_negatives: 380.0000 - val_loss: 0.9651 - val_accuracy: 0.4414 - val_precision: 0.4414 - val_auc: 0.4261 - val_recall: 0.4414 - val_true_negatives: 64.0000\n",
      "Epoch 37/100\n",
      "3/3 [==============================] - 10s 3s/step - loss: 0.4995 - accuracy: 0.7758 - precision: 0.7758 - auc: 0.8540 - recall: 0.7758 - true_negatives: 384.0000 - val_loss: 0.9732 - val_accuracy: 0.4552 - val_precision: 0.4552 - val_auc: 0.4306 - val_recall: 0.4552 - val_true_negatives: 66.0000\n",
      "Epoch 38/100\n",
      "3/3 [==============================] - 10s 3s/step - loss: 0.4973 - accuracy: 0.7737 - precision: 0.7737 - auc: 0.8552 - recall: 0.7737 - true_negatives: 383.0000 - val_loss: 0.9752 - val_accuracy: 0.4345 - val_precision: 0.4345 - val_auc: 0.4271 - val_recall: 0.4345 - val_true_negatives: 63.0000\n",
      "Epoch 39/100\n",
      "3/3 [==============================] - 11s 4s/step - loss: 0.4962 - accuracy: 0.7697 - precision: 0.7697 - auc: 0.8566 - recall: 0.7697 - true_negatives: 381.0000 - val_loss: 0.9760 - val_accuracy: 0.4207 - val_precision: 0.4207 - val_auc: 0.4214 - val_recall: 0.4207 - val_true_negatives: 61.0000\n",
      "Epoch 40/100\n",
      "3/3 [==============================] - 10s 3s/step - loss: 0.4937 - accuracy: 0.7737 - precision: 0.7737 - auc: 0.8581 - recall: 0.7737 - true_negatives: 383.0000 - val_loss: 0.9857 - val_accuracy: 0.4414 - val_precision: 0.4414 - val_auc: 0.4305 - val_recall: 0.4414 - val_true_negatives: 64.0000\n",
      "Epoch 41/100\n",
      "3/3 [==============================] - 10s 3s/step - loss: 0.4915 - accuracy: 0.7697 - precision: 0.7697 - auc: 0.8598 - recall: 0.7697 - true_negatives: 381.0000 - val_loss: 0.9962 - val_accuracy: 0.4552 - val_precision: 0.4552 - val_auc: 0.4369 - val_recall: 0.4552 - val_true_negatives: 66.0000\n",
      "Epoch 42/100\n",
      "3/3 [==============================] - 10s 3s/step - loss: 0.4900 - accuracy: 0.7778 - precision: 0.7778 - auc: 0.8597 - recall: 0.7778 - true_negatives: 385.0000 - val_loss: 1.0042 - val_accuracy: 0.4552 - val_precision: 0.4552 - val_auc: 0.4387 - val_recall: 0.4552 - val_true_negatives: 66.0000\n",
      "Epoch 43/100\n",
      "3/3 [==============================] - 9s 4s/step - loss: 0.4884 - accuracy: 0.7758 - precision: 0.7758 - auc: 0.8605 - recall: 0.7758 - true_negatives: 384.0000 - val_loss: 1.0076 - val_accuracy: 0.4552 - val_precision: 0.4552 - val_auc: 0.4369 - val_recall: 0.4552 - val_true_negatives: 66.0000\n",
      "Epoch 44/100\n",
      "3/3 [==============================] - 11s 4s/step - loss: 0.4869 - accuracy: 0.7677 - precision: 0.7677 - auc: 0.8626 - recall: 0.7677 - true_negatives: 380.0000 - val_loss: 1.0063 - val_accuracy: 0.4414 - val_precision: 0.4414 - val_auc: 0.4307 - val_recall: 0.4414 - val_true_negatives: 64.0000\n",
      "Epoch 45/100\n",
      "3/3 [==============================] - 10s 4s/step - loss: 0.4846 - accuracy: 0.7758 - precision: 0.7758 - auc: 0.8649 - recall: 0.7758 - true_negatives: 384.0000 - val_loss: 1.0165 - val_accuracy: 0.4483 - val_precision: 0.4483 - val_auc: 0.4352 - val_recall: 0.4483 - val_true_negatives: 65.0000\n",
      "Epoch 46/100\n",
      "3/3 [==============================] - 10s 4s/step - loss: 0.4833 - accuracy: 0.7737 - precision: 0.7737 - auc: 0.8647 - recall: 0.7737 - true_negatives: 383.0000 - val_loss: 1.0200 - val_accuracy: 0.4483 - val_precision: 0.4483 - val_auc: 0.4341 - val_recall: 0.4483 - val_true_negatives: 65.0000\n",
      "Epoch 47/100\n",
      "3/3 [==============================] - 10s 3s/step - loss: 0.4816 - accuracy: 0.7717 - precision: 0.7717 - auc: 0.8666 - recall: 0.7717 - true_negatives: 382.0000 - val_loss: 1.0125 - val_accuracy: 0.4276 - val_precision: 0.4276 - val_auc: 0.4205 - val_recall: 0.4276 - val_true_negatives: 62.0000\n",
      "Epoch 48/100\n",
      "3/3 [==============================] - 10s 3s/step - loss: 0.4799 - accuracy: 0.7717 - precision: 0.7717 - auc: 0.8674 - recall: 0.7717 - true_negatives: 382.0000 - val_loss: 1.0145 - val_accuracy: 0.4276 - val_precision: 0.4276 - val_auc: 0.4216 - val_recall: 0.4276 - val_true_negatives: 62.0000\n",
      "Epoch 49/100\n",
      "3/3 [==============================] - 11s 4s/step - loss: 0.4787 - accuracy: 0.7737 - precision: 0.7737 - auc: 0.8677 - recall: 0.7737 - true_negatives: 383.0000 - val_loss: 1.0178 - val_accuracy: 0.4345 - val_precision: 0.4345 - val_auc: 0.4229 - val_recall: 0.4345 - val_true_negatives: 63.0000\n",
      "Epoch 50/100\n",
      "3/3 [==============================] - 11s 4s/step - loss: 0.4767 - accuracy: 0.7758 - precision: 0.7758 - auc: 0.8693 - recall: 0.7758 - true_negatives: 384.0000 - val_loss: 1.0306 - val_accuracy: 0.4483 - val_precision: 0.4483 - val_auc: 0.4341 - val_recall: 0.4483 - val_true_negatives: 65.0000\n",
      "Epoch 51/100\n",
      "3/3 [==============================] - 9s 4s/step - loss: 0.4742 - accuracy: 0.7798 - precision: 0.7798 - auc: 0.8715 - recall: 0.7798 - true_negatives: 386.0000 - val_loss: 1.0338 - val_accuracy: 0.4483 - val_precision: 0.4483 - val_auc: 0.4345 - val_recall: 0.4483 - val_true_negatives: 65.0000\n",
      "Epoch 52/100\n",
      "3/3 [==============================] - 9s 3s/step - loss: 0.4744 - accuracy: 0.7778 - precision: 0.7778 - auc: 0.8705 - recall: 0.7778 - true_negatives: 385.0000 - val_loss: 1.0411 - val_accuracy: 0.4414 - val_precision: 0.4414 - val_auc: 0.4385 - val_recall: 0.4414 - val_true_negatives: 64.0000\n",
      "Epoch 53/100\n"
     ]
    },
    {
     "name": "stdout",
     "output_type": "stream",
     "text": [
      "3/3 [==============================] - 11s 4s/step - loss: 0.4711 - accuracy: 0.7778 - precision: 0.7778 - auc: 0.8734 - recall: 0.7778 - true_negatives: 385.0000 - val_loss: 1.0345 - val_accuracy: 0.4276 - val_precision: 0.4276 - val_auc: 0.4260 - val_recall: 0.4276 - val_true_negatives: 62.0000\n",
      "Epoch 54/100\n",
      "3/3 [==============================] - 11s 3s/step - loss: 0.4706 - accuracy: 0.7798 - precision: 0.7798 - auc: 0.8736 - recall: 0.7798 - true_negatives: 386.0000 - val_loss: 1.0338 - val_accuracy: 0.4345 - val_precision: 0.4345 - val_auc: 0.4220 - val_recall: 0.4345 - val_true_negatives: 63.0000\n",
      "Epoch 55/100\n",
      "3/3 [==============================] - 11s 4s/step - loss: 0.4686 - accuracy: 0.7737 - precision: 0.7737 - auc: 0.8749 - recall: 0.7737 - true_negatives: 383.0000 - val_loss: 1.0426 - val_accuracy: 0.4414 - val_precision: 0.4414 - val_auc: 0.4253 - val_recall: 0.4414 - val_true_negatives: 64.0000\n",
      "Epoch 56/100\n",
      "3/3 [==============================] - 9s 4s/step - loss: 0.4665 - accuracy: 0.7919 - precision: 0.7919 - auc: 0.8766 - recall: 0.7919 - true_negatives: 392.0000 - val_loss: 1.0546 - val_accuracy: 0.4483 - val_precision: 0.4483 - val_auc: 0.4322 - val_recall: 0.4483 - val_true_negatives: 65.0000\n",
      "Epoch 57/100\n",
      "3/3 [==============================] - 9s 3s/step - loss: 0.4652 - accuracy: 0.7838 - precision: 0.7838 - auc: 0.8772 - recall: 0.7838 - true_negatives: 388.0000 - val_loss: 1.0626 - val_accuracy: 0.4414 - val_precision: 0.4414 - val_auc: 0.4348 - val_recall: 0.4414 - val_true_negatives: 64.0000\n",
      "Epoch 58/100\n",
      "3/3 [==============================] - 10s 3s/step - loss: 0.4644 - accuracy: 0.7859 - precision: 0.7859 - auc: 0.8772 - recall: 0.7859 - true_negatives: 389.0000 - val_loss: 1.0647 - val_accuracy: 0.4483 - val_precision: 0.4483 - val_auc: 0.4318 - val_recall: 0.4483 - val_true_negatives: 65.0000\n",
      "Epoch 59/100\n",
      "3/3 [==============================] - 10s 3s/step - loss: 0.4626 - accuracy: 0.7859 - precision: 0.7859 - auc: 0.8787 - recall: 0.7859 - true_negatives: 389.0000 - val_loss: 1.0701 - val_accuracy: 0.4483 - val_precision: 0.4483 - val_auc: 0.4327 - val_recall: 0.4483 - val_true_negatives: 65.0000\n",
      "Epoch 60/100\n",
      "3/3 [==============================] - 11s 4s/step - loss: 0.4611 - accuracy: 0.7859 - precision: 0.7859 - auc: 0.8795 - recall: 0.7859 - true_negatives: 389.0000 - val_loss: 1.0717 - val_accuracy: 0.4552 - val_precision: 0.4552 - val_auc: 0.4308 - val_recall: 0.4552 - val_true_negatives: 66.0000\n",
      "Epoch 61/100\n",
      "3/3 [==============================] - 10s 3s/step - loss: 0.4595 - accuracy: 0.7838 - precision: 0.7838 - auc: 0.8808 - recall: 0.7838 - true_negatives: 388.0000 - val_loss: 1.0699 - val_accuracy: 0.4483 - val_precision: 0.4483 - val_auc: 0.4265 - val_recall: 0.4483 - val_true_negatives: 65.0000\n",
      "Epoch 62/100\n",
      "3/3 [==============================] - 10s 3s/step - loss: 0.4592 - accuracy: 0.7818 - precision: 0.7818 - auc: 0.8809 - recall: 0.7818 - true_negatives: 387.0000 - val_loss: 1.0667 - val_accuracy: 0.4414 - val_precision: 0.4414 - val_auc: 0.4195 - val_recall: 0.4414 - val_true_negatives: 64.0000\n",
      "Epoch 63/100\n",
      "3/3 [==============================] - 10s 3s/step - loss: 0.4575 - accuracy: 0.7899 - precision: 0.7899 - auc: 0.8822 - recall: 0.7899 - true_negatives: 391.0000 - val_loss: 1.0752 - val_accuracy: 0.4483 - val_precision: 0.4483 - val_auc: 0.4260 - val_recall: 0.4483 - val_true_negatives: 65.0000\n",
      "Epoch 64/100\n",
      "3/3 [==============================] - 10s 4s/step - loss: 0.4558 - accuracy: 0.7919 - precision: 0.7919 - auc: 0.8830 - recall: 0.7919 - true_negatives: 392.0000 - val_loss: 1.0778 - val_accuracy: 0.4483 - val_precision: 0.4483 - val_auc: 0.4285 - val_recall: 0.4483 - val_true_negatives: 65.0000\n",
      "Epoch 65/100\n",
      "3/3 [==============================] - 12s 3s/step - loss: 0.4544 - accuracy: 0.7879 - precision: 0.7879 - auc: 0.8838 - recall: 0.7879 - true_negatives: 390.0000 - val_loss: 1.0852 - val_accuracy: 0.4552 - val_precision: 0.4552 - val_auc: 0.4340 - val_recall: 0.4552 - val_true_negatives: 66.0000\n",
      "Epoch 66/100\n",
      "3/3 [==============================] - 10s 4s/step - loss: 0.4539 - accuracy: 0.7899 - precision: 0.7899 - auc: 0.8832 - recall: 0.7899 - true_negatives: 391.0000 - val_loss: 1.0930 - val_accuracy: 0.4552 - val_precision: 0.4552 - val_auc: 0.4393 - val_recall: 0.4552 - val_true_negatives: 66.0000\n",
      "Epoch 67/100\n",
      "3/3 [==============================] - 11s 4s/step - loss: 0.4527 - accuracy: 0.7939 - precision: 0.7939 - auc: 0.8834 - recall: 0.7939 - true_negatives: 393.0000 - val_loss: 1.0905 - val_accuracy: 0.4552 - val_precision: 0.4552 - val_auc: 0.4361 - val_recall: 0.4552 - val_true_negatives: 66.0000\n",
      "Epoch 68/100\n",
      "3/3 [==============================] - 11s 5s/step - loss: 0.4499 - accuracy: 0.7899 - precision: 0.7899 - auc: 0.8866 - recall: 0.7899 - true_negatives: 391.0000 - val_loss: 1.0854 - val_accuracy: 0.4414 - val_precision: 0.4414 - val_auc: 0.4264 - val_recall: 0.4414 - val_true_negatives: 64.0000\n",
      "Epoch 69/100\n",
      "3/3 [==============================] - 13s 4s/step - loss: 0.4502 - accuracy: 0.8000 - precision: 0.8000 - auc: 0.8864 - recall: 0.8000 - true_negatives: 396.0000 - val_loss: 1.0856 - val_accuracy: 0.4345 - val_precision: 0.4345 - val_auc: 0.4218 - val_recall: 0.4345 - val_true_negatives: 63.0000\n",
      "Epoch 70/100\n",
      "3/3 [==============================] - 10s 4s/step - loss: 0.4496 - accuracy: 0.8020 - precision: 0.8020 - auc: 0.8866 - recall: 0.8020 - true_negatives: 397.0000 - val_loss: 1.0898 - val_accuracy: 0.4345 - val_precision: 0.4345 - val_auc: 0.4246 - val_recall: 0.4345 - val_true_negatives: 63.0000\n",
      "Epoch 71/100\n",
      "3/3 [==============================] - 11s 3s/step - loss: 0.4472 - accuracy: 0.7980 - precision: 0.7980 - auc: 0.8884 - recall: 0.7980 - true_negatives: 395.0000 - val_loss: 1.1042 - val_accuracy: 0.4483 - val_precision: 0.4483 - val_auc: 0.4380 - val_recall: 0.4483 - val_true_negatives: 65.0000\n",
      "Epoch 72/100\n",
      "3/3 [==============================] - 10s 4s/step - loss: 0.4460 - accuracy: 0.7960 - precision: 0.7960 - auc: 0.8881 - recall: 0.7960 - true_negatives: 394.0000 - val_loss: 1.1110 - val_accuracy: 0.4552 - val_precision: 0.4552 - val_auc: 0.4410 - val_recall: 0.4552 - val_true_negatives: 66.0000\n",
      "Epoch 73/100\n",
      "3/3 [==============================] - 10s 3s/step - loss: 0.4446 - accuracy: 0.7980 - precision: 0.7980 - auc: 0.8894 - recall: 0.7980 - true_negatives: 395.0000 - val_loss: 1.1113 - val_accuracy: 0.4552 - val_precision: 0.4552 - val_auc: 0.4387 - val_recall: 0.4552 - val_true_negatives: 66.0000\n",
      "Epoch 74/100\n",
      "3/3 [==============================] - 9s 4s/step - loss: 0.4445 - accuracy: 0.7939 - precision: 0.7939 - auc: 0.8895 - recall: 0.7939 - true_negatives: 393.0000 - val_loss: 1.1050 - val_accuracy: 0.4483 - val_precision: 0.4483 - val_auc: 0.4297 - val_recall: 0.4483 - val_true_negatives: 65.0000\n",
      "Epoch 75/100\n",
      "3/3 [==============================] - 11s 4s/step - loss: 0.4426 - accuracy: 0.7960 - precision: 0.7960 - auc: 0.8906 - recall: 0.7960 - true_negatives: 394.0000 - val_loss: 1.1133 - val_accuracy: 0.4552 - val_precision: 0.4552 - val_auc: 0.4362 - val_recall: 0.4552 - val_true_negatives: 66.0000\n",
      "Epoch 76/100\n",
      "3/3 [==============================] - 10s 3s/step - loss: 0.4410 - accuracy: 0.7960 - precision: 0.7960 - auc: 0.8917 - recall: 0.7960 - true_negatives: 394.0000 - val_loss: 1.1192 - val_accuracy: 0.4552 - val_precision: 0.4552 - val_auc: 0.4380 - val_recall: 0.4552 - val_true_negatives: 66.0000\n",
      "Epoch 77/100\n",
      "3/3 [==============================] - 9s 4s/step - loss: 0.4411 - accuracy: 0.8040 - precision: 0.8040 - auc: 0.8907 - recall: 0.8040 - true_negatives: 398.0000 - val_loss: 1.1319 - val_accuracy: 0.4552 - val_precision: 0.4552 - val_auc: 0.4462 - val_recall: 0.4552 - val_true_negatives: 66.0000\n",
      "Epoch 78/100\n",
      "3/3 [==============================] - 10s 4s/step - loss: 0.4402 - accuracy: 0.8020 - precision: 0.8020 - auc: 0.8910 - recall: 0.8020 - true_negatives: 397.0000 - val_loss: 1.1359 - val_accuracy: 0.4552 - val_precision: 0.4552 - val_auc: 0.4453 - val_recall: 0.4552 - val_true_negatives: 66.0000\n",
      "Epoch 79/100\n",
      "3/3 [==============================] - 10s 3s/step - loss: 0.4382 - accuracy: 0.8000 - precision: 0.8000 - auc: 0.8929 - recall: 0.8000 - true_negatives: 396.0000 - val_loss: 1.1226 - val_accuracy: 0.4483 - val_precision: 0.4483 - val_auc: 0.4316 - val_recall: 0.4483 - val_true_negatives: 65.0000\n",
      "Epoch 80/100\n",
      "3/3 [==============================] - 11s 3s/step - loss: 0.4369 - accuracy: 0.8040 - precision: 0.8040 - auc: 0.8948 - recall: 0.8040 - true_negatives: 398.0000 - val_loss: 1.1198 - val_accuracy: 0.4414 - val_precision: 0.4414 - val_auc: 0.4248 - val_recall: 0.4414 - val_true_negatives: 64.0000\n",
      "Epoch 81/100\n",
      "3/3 [==============================] - 10s 3s/step - loss: 0.4369 - accuracy: 0.8101 - precision: 0.8101 - auc: 0.8949 - recall: 0.8101 - true_negatives: 401.0000 - val_loss: 1.1258 - val_accuracy: 0.4414 - val_precision: 0.4414 - val_auc: 0.4263 - val_recall: 0.4414 - val_true_negatives: 64.0000\n",
      "Epoch 82/100\n",
      "3/3 [==============================] - 10s 3s/step - loss: 0.4352 - accuracy: 0.8081 - precision: 0.8081 - auc: 0.8957 - recall: 0.8081 - true_negatives: 400.0000 - val_loss: 1.1401 - val_accuracy: 0.4621 - val_precision: 0.4621 - val_auc: 0.4354 - val_recall: 0.4621 - val_true_negatives: 67.0000\n",
      "Epoch 83/100\n",
      "3/3 [==============================] - 11s 4s/step - loss: 0.4332 - accuracy: 0.8020 - precision: 0.8020 - auc: 0.8972 - recall: 0.8020 - true_negatives: 397.0000 - val_loss: 1.1462 - val_accuracy: 0.4621 - val_precision: 0.4621 - val_auc: 0.4370 - val_recall: 0.4621 - val_true_negatives: 67.0000\n",
      "Epoch 84/100\n",
      "3/3 [==============================] - 10s 3s/step - loss: 0.4324 - accuracy: 0.8040 - precision: 0.8040 - auc: 0.8973 - recall: 0.8040 - true_negatives: 398.0000 - val_loss: 1.1480 - val_accuracy: 0.4621 - val_precision: 0.4621 - val_auc: 0.4368 - val_recall: 0.4621 - val_true_negatives: 67.0000\n",
      "Epoch 85/100\n",
      "3/3 [==============================] - 11s 4s/step - loss: 0.4314 - accuracy: 0.8020 - precision: 0.8020 - auc: 0.8979 - recall: 0.8020 - true_negatives: 397.0000 - val_loss: 1.1506 - val_accuracy: 0.4621 - val_precision: 0.4621 - val_auc: 0.4373 - val_recall: 0.4621 - val_true_negatives: 67.0000\n",
      "Epoch 86/100\n",
      "3/3 [==============================] - 11s 4s/step - loss: 0.4302 - accuracy: 0.8040 - precision: 0.8040 - auc: 0.8987 - recall: 0.8040 - true_negatives: 398.0000 - val_loss: 1.1479 - val_accuracy: 0.4552 - val_precision: 0.4552 - val_auc: 0.4340 - val_recall: 0.4552 - val_true_negatives: 66.0000\n",
      "Epoch 87/100\n",
      "3/3 [==============================] - 9s 3s/step - loss: 0.4291 - accuracy: 0.8061 - precision: 0.8061 - auc: 0.8999 - recall: 0.8061 - true_negatives: 399.0000 - val_loss: 1.1494 - val_accuracy: 0.4552 - val_precision: 0.4552 - val_auc: 0.4332 - val_recall: 0.4552 - val_true_negatives: 66.0000\n",
      "Epoch 88/100\n",
      "3/3 [==============================] - 9s 3s/step - loss: 0.4308 - accuracy: 0.8101 - precision: 0.8101 - auc: 0.8981 - recall: 0.8101 - true_negatives: 401.0000 - val_loss: 1.1415 - val_accuracy: 0.4414 - val_precision: 0.4414 - val_auc: 0.4255 - val_recall: 0.4414 - val_true_negatives: 64.0000\n",
      "Epoch 89/100\n",
      "3/3 [==============================] - 12s 4s/step - loss: 0.4287 - accuracy: 0.8222 - precision: 0.8222 - auc: 0.9005 - recall: 0.8222 - true_negatives: 407.0000 - val_loss: 1.1492 - val_accuracy: 0.4483 - val_precision: 0.4483 - val_auc: 0.4312 - val_recall: 0.4483 - val_true_negatives: 65.0000\n",
      "Epoch 90/100\n",
      "3/3 [==============================] - 10s 3s/step - loss: 0.4274 - accuracy: 0.8081 - precision: 0.8081 - auc: 0.9005 - recall: 0.8081 - true_negatives: 400.0000 - val_loss: 1.1726 - val_accuracy: 0.4621 - val_precision: 0.4621 - val_auc: 0.4477 - val_recall: 0.4621 - val_true_negatives: 67.0000\n",
      "Epoch 91/100\n",
      "3/3 [==============================] - 10s 4s/step - loss: 0.4270 - accuracy: 0.8061 - precision: 0.8061 - auc: 0.8990 - recall: 0.8061 - true_negatives: 399.0000 - val_loss: 1.1752 - val_accuracy: 0.4552 - val_precision: 0.4552 - val_auc: 0.4487 - val_recall: 0.4552 - val_true_negatives: 66.0000\n",
      "Epoch 92/100\n",
      "3/3 [==============================] - 9s 3s/step - loss: 0.4250 - accuracy: 0.8040 - precision: 0.8040 - auc: 0.9004 - recall: 0.8040 - true_negatives: 398.0000 - val_loss: 1.1630 - val_accuracy: 0.4552 - val_precision: 0.4552 - val_auc: 0.4394 - val_recall: 0.4552 - val_true_negatives: 66.0000\n",
      "Epoch 93/100\n",
      "3/3 [==============================] - 11s 3s/step - loss: 0.4232 - accuracy: 0.8121 - precision: 0.8121 - auc: 0.9030 - recall: 0.8121 - true_negatives: 402.0000 - val_loss: 1.1541 - val_accuracy: 0.4483 - val_precision: 0.4483 - val_auc: 0.4325 - val_recall: 0.4483 - val_true_negatives: 65.0000\n",
      "Epoch 94/100\n",
      "3/3 [==============================] - 10s 4s/step - loss: 0.4233 - accuracy: 0.8182 - precision: 0.8182 - auc: 0.9028 - recall: 0.8182 - true_negatives: 405.0000 - val_loss: 1.1582 - val_accuracy: 0.4483 - val_precision: 0.4483 - val_auc: 0.4350 - val_recall: 0.4483 - val_true_negatives: 65.0000\n",
      "Epoch 95/100\n",
      "3/3 [==============================] - 10s 3s/step - loss: 0.4210 - accuracy: 0.8141 - precision: 0.8141 - auc: 0.9042 - recall: 0.8141 - true_negatives: 403.0000 - val_loss: 1.1679 - val_accuracy: 0.4552 - val_precision: 0.4552 - val_auc: 0.4417 - val_recall: 0.4552 - val_true_negatives: 66.0000\n",
      "Epoch 96/100\n",
      "3/3 [==============================] - 9s 4s/step - loss: 0.4202 - accuracy: 0.8061 - precision: 0.8061 - auc: 0.9039 - recall: 0.8061 - true_negatives: 399.0000 - val_loss: 1.1732 - val_accuracy: 0.4621 - val_precision: 0.4621 - val_auc: 0.4434 - val_recall: 0.4621 - val_true_negatives: 67.0000\n",
      "Epoch 97/100\n",
      "3/3 [==============================] - 9s 3s/step - loss: 0.4203 - accuracy: 0.8040 - precision: 0.8040 - auc: 0.9033 - recall: 0.8040 - true_negatives: 398.0000 - val_loss: 1.1770 - val_accuracy: 0.4621 - val_precision: 0.4621 - val_auc: 0.4437 - val_recall: 0.4621 - val_true_negatives: 67.0000\n",
      "Epoch 98/100\n",
      "3/3 [==============================] - 10s 4s/step - loss: 0.4190 - accuracy: 0.8121 - precision: 0.8121 - auc: 0.9044 - recall: 0.8121 - true_negatives: 402.0000 - val_loss: 1.1685 - val_accuracy: 0.4483 - val_precision: 0.4483 - val_auc: 0.4324 - val_recall: 0.4483 - val_true_negatives: 65.0000\n",
      "Epoch 99/100\n",
      "3/3 [==============================] - 10s 3s/step - loss: 0.4194 - accuracy: 0.8242 - precision: 0.8242 - auc: 0.9050 - recall: 0.8242 - true_negatives: 408.0000 - val_loss: 1.1716 - val_accuracy: 0.4483 - val_precision: 0.4483 - val_auc: 0.4316 - val_recall: 0.4483 - val_true_negatives: 65.0000\n",
      "Epoch 100/100\n",
      "3/3 [==============================] - 10s 4s/step - loss: 0.4166 - accuracy: 0.8182 - precision: 0.8182 - auc: 0.9067 - recall: 0.8182 - true_negatives: 405.0000 - val_loss: 1.1908 - val_accuracy: 0.4621 - val_precision: 0.4621 - val_auc: 0.4392 - val_recall: 0.4621 - val_true_negatives: 67.0000\n"
     ]
    }
   ],
   "source": [
    "training_images = 495\n",
    "validation_images = 145\n",
    "\n",
    "history = model.fit(training_generator, # this should be equal to total number of images in training set. But to speed up the execution, I am only using 10000 images. Change this for better results. \n",
    "                   epochs = 100,  # change this for better results\n",
    "                   validation_data = validation_generator)  # this should be equal to total number of images in validation set."
   ]
  },
  {
   "cell_type": "code",
   "execution_count": 10,
   "id": "ea387ee7",
   "metadata": {},
   "outputs": [
    {
     "name": "stdout",
     "output_type": "stream",
     "text": [
      "0.7663434338569641\n",
      "0.44875862121582033\n"
     ]
    }
   ],
   "source": [
    "import statistics\n",
    "print (statistics.mean(history.history['accuracy']))\n",
    "print (statistics.mean(history.history['val_accuracy']))"
   ]
  },
  {
   "cell_type": "code",
   "execution_count": 11,
   "id": "af00a540",
   "metadata": {},
   "outputs": [
    {
     "name": "stdout",
     "output_type": "stream",
     "text": [
      "loss\n"
     ]
    },
    {
     "data": {
      "image/png": "[encoded data removed]",
      "text/plain": [
       "<Figure size 432x288 with 1 Axes>"
      ]
     },
     "metadata": {
      "needs_background": "light"
     },
     "output_type": "display_data"
    },
    {
     "data": {
      "image/png": "[encoded data removed]",
      "text/plain": [
       "<Figure size 432x288 with 1 Axes>"
      ]
     },
     "metadata": {
      "needs_background": "light"
     },
     "output_type": "display_data"
    }
   ],
   "source": [
    "#Some visualizations\n",
    "import matplotlib.pyplot as plt\n",
    "#Loss\n",
    "plt.plot(history.history['loss'],label='loss')\n",
    "print('loss')\n",
    "plt.plot(history.history['val_loss'],label='val_loss')\n",
    "plt.legend()\n",
    "plt.show()\n",
    "#Accuracy\n",
    "plt.plot(history.history['accuracy'],label='acc')\n",
    "plt.plot(history.history['val_accuracy'],label='val_acc')\n",
    "plt.legend()\n",
    "plt.show()"
   ]
  },
  {
   "cell_type": "code",
   "execution_count": 12,
   "id": "b7c6dd42",
   "metadata": {},
   "outputs": [
    {
     "name": "stdout",
     "output_type": "stream",
     "text": [
      "1/1 [==============================] - 1s 872ms/step - loss: 0.9713 - accuracy: 0.4697 - precision: 0.4697 - auc: 0.4828 - recall: 0.4697 - true_negatives: 31.0000\n"
     ]
    },
    {
     "data": {
      "text/plain": [
       "[0.9712976217269897,\n",
       " 0.469696968793869,\n",
       " 0.469696968793869,\n",
       " 0.48278239369392395,\n",
       " 0.469696968793869,\n",
       " 31.0]"
      ]
     },
     "execution_count": 12,
     "metadata": {},
     "output_type": "execute_result"
    }
   ],
   "source": [
    "model.evaluate(test_generator)"
   ]
  },
  {
   "cell_type": "code",
   "execution_count": null,
   "id": "3fca3713",
   "metadata": {},
   "outputs": [],
   "source": []
  },
  {
   "cell_type": "code",
   "execution_count": null,
   "id": "c59b54f0",
   "metadata": {},
   "outputs": [],
   "source": []
  }
 ],
 "metadata": {
  "kernelspec": {
   "display_name": "Python 3 (ipykernel)",
   "language": "python",
   "name": "python3"
  },
  "language_info": {
   "codemirror_mode": {
    "name": "ipython",
    "version": 3
   },
   "file_extension": ".py",
   "mimetype": "text/x-python",
   "name": "python",
   "nbconvert_exporter": "python",
   "pygments_lexer": "ipython3",
   "version": "3.8.11"
  }
 },
 "nbformat": 4,
 "nbformat_minor": 5
}
