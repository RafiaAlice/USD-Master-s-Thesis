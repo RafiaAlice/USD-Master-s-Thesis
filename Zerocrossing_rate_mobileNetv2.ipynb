{
 "cells": [
  {
   "cell_type": "markdown",
   "id": "3a2d1a12",
   "metadata": {},
   "source": [
    "# Zerocrossing_rate_mobileNetv2"
   ]
  },
  {
   "cell_type": "code",
   "execution_count": 1,
   "id": "cdf70ba3",
   "metadata": {},
   "outputs": [],
   "source": [
    "import cv2\n",
    "import numpy as np\n",
    "import os\n",
    "from keras.preprocessing.image import ImageDataGenerator\n",
    "from keras import backend as K\n",
    "import keras\n",
    "from keras.models import Sequential, Model,load_model\n",
    "from keras import optimizers, losses, activations, models\n",
    "from keras.callbacks import EarlyStopping,ModelCheckpoint\n",
    "from keras.layers import Input, Add, Dense, Activation, ZeroPadding2D, BatchNormalization, Flatten, Conv2D, AveragePooling2D, MaxPooling2D, GlobalMaxPooling2D,MaxPool2D\n",
    "from keras.preprocessing import image\n",
    "from keras.initializers import glorot_uniform\n",
    "import numpy as np\n",
    "import pandas as pd\n",
    "import matplotlib.pyplot as plt\n",
    "from glob import glob\n",
    "import tensorflow as tf\n",
    "from tensorflow.keras.layers import Input, DepthwiseConv2D\n",
    "from tensorflow.keras.layers import Conv2D, BatchNormalization\n",
    "from tensorflow.keras.layers import ReLU, AvgPool2D, Flatten, Dense\n",
    "from tensorflow.keras import Model\n",
    "import matplotlib.pyplot as plt\n",
    "from keras.preprocessing.image import ImageDataGenerator\n",
    "from tensorflow.keras.applications.mobilenet import MobileNet\n",
    "from keras.layers import Dense\n",
    "from keras import Model\n",
    "from keras.callbacks import ModelCheckpoint\n",
    "from keras.models import load_model"
   ]
  },
  {
   "cell_type": "code",
   "execution_count": 2,
   "id": "2edf6397",
   "metadata": {},
   "outputs": [],
   "source": [
    "train_path= 'C:/Users/ASUS/Desktop/zero_res/train'\n",
    "test_path= 'C:/Users/ASUS/Desktop/zero_res/test'\n",
    "class_names=os.listdir(train_path)\n",
    "class_names_test=os.listdir(test_path)"
   ]
  },
  {
   "cell_type": "code",
   "execution_count": 3,
   "id": "bd79d127",
   "metadata": {},
   "outputs": [
    {
     "name": "stdout",
     "output_type": "stream",
     "text": [
      "['abnormal', 'normal']\n",
      "['abnormal', 'normal']\n"
     ]
    }
   ],
   "source": [
    "print(class_names)\n",
    "print(class_names_test)"
   ]
  },
  {
   "cell_type": "code",
   "execution_count": 4,
   "id": "61459779",
   "metadata": {},
   "outputs": [],
   "source": [
    "train_datagen = ImageDataGenerator(zoom_range=0.15,width_shift_range=0.2,height_shift_range=0.2,shear_range=0.15)\n",
    "test_datagen = ImageDataGenerator()"
   ]
  },
  {
   "cell_type": "code",
   "execution_count": 5,
   "id": "78860d05",
   "metadata": {},
   "outputs": [
    {
     "name": "stdout",
     "output_type": "stream",
     "text": [
      "Found 495 images belonging to 2 classes.\n",
      "Found 211 images belonging to 2 classes.\n"
     ]
    }
   ],
   "source": [
    "train_generator = train_datagen.flow_from_directory('C:/Users/ASUS/Desktop/zero_res/train',target_size=(224, 224),batch_size=32,shuffle=True,class_mode='binary')\n",
    "test_generator = test_datagen.flow_from_directory('C:/Users/ASUS/Desktop/zero_res/test',target_size=(224,224),batch_size=32,shuffle=False,class_mode='binary')"
   ]
  },
  {
   "cell_type": "code",
   "execution_count": 6,
   "id": "a967a4f9",
   "metadata": {},
   "outputs": [
    {
     "name": "stdout",
     "output_type": "stream",
     "text": [
      "Model: \"sequential\"\n",
      "_________________________________________________________________\n",
      " Layer (type)                Output Shape              Param #   \n",
      "=================================================================\n",
      " mobilenetv2_1.00_224 (Funct  (None, 7, 7, 1280)       2257984   \n",
      " ional)                                                          \n",
      "                                                                 \n",
      " flatten (Flatten)           (None, 62720)             0         \n",
      "                                                                 \n",
      " dense (Dense)               (None, 1)                 62721     \n",
      "                                                                 \n",
      "=================================================================\n",
      "Total params: 2,320,705\n",
      "Trainable params: 62,721\n",
      "Non-trainable params: 2,257,984\n",
      "_________________________________________________________________\n"
     ]
    }
   ],
   "source": [
    "from tensorflow.keras.applications.mobilenet_v2 import MobileNetV2\n",
    "\n",
    "mobilenet = MobileNetV2(weights = \"imagenet\",include_top = False,input_shape=(224,224,3))\n",
    "for layer in mobilenet.layers:\n",
    "    layer.trainable = False\n",
    "    \n",
    "    \n",
    "model = Sequential()\n",
    "model.add(mobilenet)\n",
    "# model.add(Dense(128,activation='relu'))\n",
    "# model.add(Dense(128,activation='relu'))\n",
    "# model.add(Dense(128,activation='relu'))\n",
    "# model.add(Dropout(0.2))\n",
    "# model.add(Dense(128,activation='relu'))\n",
    "model.add(Flatten())\n",
    "model.add(Dense(1,activation='sigmoid'))\n",
    "model.summary()"
   ]
  },
  {
   "cell_type": "code",
   "execution_count": 7,
   "id": "dcb8f753",
   "metadata": {},
   "outputs": [],
   "source": [
    "from keras.callbacks import ModelCheckpoint, ReduceLROnPlateau, EarlyStopping\n",
    "# weight_path=\"{}_weights.best.hdf5\".format('spectro_sound_model')\n",
    "checkpoint = ModelCheckpoint(filepath =\"./check.hDf5\", monitor='val_loss', verbose=1, \n",
    "                             save_best_only=True, mode='min', save_weights_only = True)\n",
    "# reduceLROnPlat = ReduceLROnPlateau(monitor='val_loss', \n",
    "#                                    factor=0.8, patience=5, \n",
    "#                                    verbose=1, mode='auto', \n",
    "#                                    epsilon=0.0001, cooldown=5, \n",
    "#                                    min_lr=0.0001)\n",
    "early = EarlyStopping(monitor=\"val_loss\", \n",
    "                      mode=\"min\", \n",
    "                      patience=15) # probably needs to be more patient, but kaggle time is limited\n",
    "callbacks_list = [checkpoint, early]"
   ]
  },
  {
   "cell_type": "code",
   "execution_count": 8,
   "id": "22ce8d8f",
   "metadata": {},
   "outputs": [
    {
     "name": "stderr",
     "output_type": "stream",
     "text": [
      "C:\\Users\\ASUS\\anaconda3\\lib\\site-packages\\keras\\optimizer_v2\\adam.py:105: UserWarning: The `lr` argument is deprecated, use `learning_rate` instead.\n",
      "  super(Adam, self).__init__(name, **kwargs)\n"
     ]
    }
   ],
   "source": [
    "import tensorflow as tf\n",
    "from keras.models import *\n",
    "from keras.layers import *\n",
    "opt = tf.optimizers.Adam(lr=1e-3)\n",
    "model.compile(optimizer=opt, \n",
    "    loss=losses.binary_crossentropy, \n",
    "    metrics=['accuracy', 'Precision', 'AUC', tf.keras.metrics.Recall(), tf.keras.metrics.TrueNegatives()])"
   ]
  },
  {
   "cell_type": "code",
   "execution_count": 9,
   "id": "6d3084f8",
   "metadata": {},
   "outputs": [
    {
     "name": "stderr",
     "output_type": "stream",
     "text": [
      "C:\\Users\\ASUS\\AppData\\Local\\Temp/ipykernel_18028/615836474.py:4: UserWarning: `Model.fit_generator` is deprecated and will be removed in a future version. Please use `Model.fit`, which supports generators.\n",
      "  history = model.fit_generator(train_generator, # this should be equal to total number of images in training set. But to speed up the execution, I am only using 10000 images. Change this for better results.\n"
     ]
    },
    {
     "name": "stdout",
     "output_type": "stream",
     "text": [
      "Epoch 1/50\n",
      "16/16 [==============================] - 37s 2s/step - loss: 2.8721 - accuracy: 0.5354 - precision: 0.5560 - auc: 0.5699 - recall: 0.5731 - true_negatives: 116.0000 - val_loss: 3.8043 - val_accuracy: 0.4882 - val_precision: 0.5926 - val_auc: 0.4421 - val_recall: 0.1416 - val_true_negatives: 87.0000\n",
      "Epoch 2/50\n",
      "16/16 [==============================] - 31s 2s/step - loss: 1.4863 - accuracy: 0.5939 - precision: 0.6175 - auc: 0.6265 - recall: 0.5962 - true_negatives: 139.0000 - val_loss: 1.2496 - val_accuracy: 0.4645 - val_precision: 0.5000 - val_auc: 0.4826 - val_recall: 0.3451 - val_true_negatives: 59.0000\n",
      "Epoch 3/50\n",
      "16/16 [==============================] - 28s 2s/step - loss: 0.9661 - accuracy: 0.6444 - precision: 0.6533 - auc: 0.6608 - recall: 0.6885 - true_negatives: 140.0000 - val_loss: 1.9548 - val_accuracy: 0.3744 - val_precision: 0.3492 - val_auc: 0.4192 - val_recall: 0.1947 - val_true_negatives: 57.0000\n",
      "Epoch 4/50\n",
      "16/16 [==============================] - 31s 2s/step - loss: 0.9175 - accuracy: 0.6343 - precision: 0.6513 - auc: 0.6864 - recall: 0.6538 - true_negatives: 144.0000 - val_loss: 1.0736 - val_accuracy: 0.5118 - val_precision: 0.5379 - val_auc: 0.4726 - val_recall: 0.6283 - val_true_negatives: 37.0000\n",
      "Epoch 5/50\n",
      "16/16 [==============================] - 34s 2s/step - loss: 0.7576 - accuracy: 0.6828 - precision: 0.6929 - auc: 0.7474 - recall: 0.7115 - true_negatives: 153.0000 - val_loss: 1.0887 - val_accuracy: 0.5024 - val_precision: 0.6333 - val_auc: 0.6868 - val_recall: 0.1681 - val_true_negatives: 87.0000\n",
      "Epoch 6/50\n",
      "16/16 [==============================] - 35s 2s/step - loss: 1.3570 - accuracy: 0.5596 - precision: 0.5875 - auc: 0.6271 - recall: 0.5423 - true_negatives: 136.0000 - val_loss: 3.8469 - val_accuracy: 0.5261 - val_precision: 0.5311 - val_auc: 0.3076 - val_recall: 0.9823 - val_true_negatives: 0.0000e+00\n",
      "Epoch 7/50\n",
      "16/16 [==============================] - 33s 2s/step - loss: 1.6365 - accuracy: 0.5919 - precision: 0.6160 - auc: 0.6632 - recall: 0.5923 - true_negatives: 139.0000 - val_loss: 3.0212 - val_accuracy: 0.5355 - val_precision: 0.5369 - val_auc: 0.4623 - val_recall: 0.9646 - val_true_negatives: 4.0000\n",
      "Epoch 8/50\n",
      "16/16 [==============================] - 30s 2s/step - loss: 1.1039 - accuracy: 0.6909 - precision: 0.7004 - auc: 0.7224 - recall: 0.7192 - true_negatives: 155.0000 - val_loss: 1.6301 - val_accuracy: 0.4882 - val_precision: 0.5342 - val_auc: 0.5533 - val_recall: 0.3451 - val_true_negatives: 64.0000\n",
      "Epoch 9/50\n",
      "16/16 [==============================] - 31s 2s/step - loss: 0.8314 - accuracy: 0.7232 - precision: 0.7412 - auc: 0.7699 - recall: 0.7269 - true_negatives: 169.0000 - val_loss: 2.4827 - val_accuracy: 0.4218 - val_precision: 0.4043 - val_auc: 0.4512 - val_recall: 0.1681 - val_true_negatives: 70.0000\n",
      "Epoch 10/50\n",
      "16/16 [==============================] - 29s 2s/step - loss: 0.9756 - accuracy: 0.6545 - precision: 0.6926 - auc: 0.7292 - recall: 0.6154 - true_negatives: 164.0000 - val_loss: 1.7045 - val_accuracy: 0.5592 - val_precision: 0.5495 - val_auc: 0.5403 - val_recall: 0.9823 - val_true_negatives: 7.0000\n",
      "Epoch 11/50\n",
      "16/16 [==============================] - 29s 2s/step - loss: 0.9894 - accuracy: 0.6586 - precision: 0.6631 - auc: 0.7215 - recall: 0.7115 - true_negatives: 141.0000 - val_loss: 1.8015 - val_accuracy: 0.4408 - val_precision: 0.4590 - val_auc: 0.4262 - val_recall: 0.2478 - val_true_negatives: 65.0000\n",
      "Epoch 12/50\n",
      "16/16 [==============================] - 29s 2s/step - loss: 0.8853 - accuracy: 0.7010 - precision: 0.7205 - auc: 0.7583 - recall: 0.7038 - true_negatives: 164.0000 - val_loss: 1.3034 - val_accuracy: 0.6114 - val_precision: 0.5876 - val_auc: 0.5567 - val_recall: 0.9204 - val_true_negatives: 25.0000\n",
      "Epoch 13/50\n",
      "16/16 [==============================] - 31s 2s/step - loss: 0.7616 - accuracy: 0.7071 - precision: 0.7291 - auc: 0.7721 - recall: 0.7038 - true_negatives: 167.0000 - val_loss: 1.8896 - val_accuracy: 0.3839 - val_precision: 0.4248 - val_auc: 0.3664 - val_recall: 0.4248 - val_true_negatives: 33.0000\n",
      "Epoch 14/50\n",
      "16/16 [==============================] - 30s 2s/step - loss: 0.8092 - accuracy: 0.6909 - precision: 0.6960 - auc: 0.7604 - recall: 0.7308 - true_negatives: 152.0000 - val_loss: 2.6247 - val_accuracy: 0.3981 - val_precision: 0.3793 - val_auc: 0.3183 - val_recall: 0.1947 - val_true_negatives: 62.0000\n",
      "Epoch 15/50\n",
      "16/16 [==============================] - 30s 2s/step - loss: 0.9418 - accuracy: 0.6687 - precision: 0.7034 - auc: 0.7476 - recall: 0.6385 - true_negatives: 165.0000 - val_loss: 1.9166 - val_accuracy: 0.5071 - val_precision: 0.5333 - val_auc: 0.4241 - val_recall: 0.6372 - val_true_negatives: 35.0000\n",
      "Epoch 16/50\n",
      "16/16 [==============================] - 28s 2s/step - loss: 0.8175 - accuracy: 0.6768 - precision: 0.6812 - auc: 0.7664 - recall: 0.7231 - true_negatives: 147.0000 - val_loss: 2.5338 - val_accuracy: 0.4123 - val_precision: 0.3922 - val_auc: 0.4202 - val_recall: 0.1770 - val_true_negatives: 67.0000\n",
      "Epoch 17/50\n",
      "16/16 [==============================] - 30s 2s/step - loss: 0.8584 - accuracy: 0.7152 - precision: 0.7333 - auc: 0.7826 - recall: 0.7192 - true_negatives: 167.0000 - val_loss: 2.7780 - val_accuracy: 0.4076 - val_precision: 0.2857 - val_auc: 0.4690 - val_recall: 0.0708 - val_true_negatives: 78.0000\n",
      "Epoch 18/50\n",
      "16/16 [==============================] - 29s 2s/step - loss: 1.8197 - accuracy: 0.6202 - precision: 0.6500 - auc: 0.6662 - recall: 0.6000 - true_negatives: 151.0000 - val_loss: 2.8840 - val_accuracy: 0.4028 - val_precision: 0.4217 - val_auc: 0.3410 - val_recall: 0.3097 - val_true_negatives: 50.0000\n",
      "Epoch 19/50\n",
      "16/16 [==============================] - 33s 2s/step - loss: 1.4302 - accuracy: 0.6465 - precision: 0.6568 - auc: 0.7120 - recall: 0.6846 - true_negatives: 142.0000 - val_loss: 2.0153 - val_accuracy: 0.6161 - val_precision: 0.6231 - val_auc: 0.5771 - val_recall: 0.7168 - val_true_negatives: 49.0000\n",
      "Epoch 20/50\n",
      "16/16 [==============================] - 30s 2s/step - loss: 1.3624 - accuracy: 0.6343 - precision: 0.6436 - auc: 0.6943 - recall: 0.6808 - true_negatives: 137.0000 - val_loss: 2.6896 - val_accuracy: 0.5355 - val_precision: 0.5410 - val_auc: 0.4786 - val_recall: 0.8761 - val_true_negatives: 14.0000\n",
      "Epoch 21/50\n",
      "16/16 [==============================] - 31s 2s/step - loss: 1.1155 - accuracy: 0.6889 - precision: 0.7008 - auc: 0.7417 - recall: 0.7115 - true_negatives: 156.0000 - val_loss: 2.3015 - val_accuracy: 0.4692 - val_precision: 0.5055 - val_auc: 0.4960 - val_recall: 0.4071 - val_true_negatives: 53.0000\n",
      "Epoch 22/50\n",
      "16/16 [==============================] - 29s 2s/step - loss: 0.8577 - accuracy: 0.7172 - precision: 0.7326 - auc: 0.7946 - recall: 0.7269 - true_negatives: 166.0000 - val_loss: 1.8550 - val_accuracy: 0.5118 - val_precision: 0.5385 - val_auc: 0.4418 - val_recall: 0.6195 - val_true_negatives: 38.0000\n",
      "Epoch 23/50\n",
      "16/16 [==============================] - 30s 2s/step - loss: 0.7941 - accuracy: 0.7232 - precision: 0.7431 - auc: 0.7850 - recall: 0.7231 - true_negatives: 170.0000 - val_loss: 1.8683 - val_accuracy: 0.4455 - val_precision: 0.4667 - val_auc: 0.4617 - val_recall: 0.2478 - val_true_negatives: 66.0000\n",
      "Epoch 24/50\n",
      "16/16 [==============================] - 29s 2s/step - loss: 0.9014 - accuracy: 0.6828 - precision: 0.6973 - auc: 0.7596 - recall: 0.7000 - true_negatives: 156.0000 - val_loss: 1.5641 - val_accuracy: 0.5355 - val_precision: 0.5517 - val_auc: 0.4830 - val_recall: 0.7080 - val_true_negatives: 33.0000\n",
      "Epoch 25/50\n",
      "16/16 [==============================] - 32s 2s/step - loss: 0.7943 - accuracy: 0.7515 - precision: 0.7491 - auc: 0.8100 - recall: 0.7923 - true_negatives: 166.0000 - val_loss: 1.4814 - val_accuracy: 0.5735 - val_precision: 0.5966 - val_auc: 0.5233 - val_recall: 0.6283 - val_true_negatives: 50.0000\n",
      "Epoch 26/50\n",
      "16/16 [==============================] - 31s 2s/step - loss: 0.9375 - accuracy: 0.6626 - precision: 0.6824 - auc: 0.7468 - recall: 0.6692 - true_negatives: 154.0000 - val_loss: 3.0834 - val_accuracy: 0.4218 - val_precision: 0.3846 - val_auc: 0.4488 - val_recall: 0.1327 - val_true_negatives: 74.0000\n",
      "Epoch 27/50\n",
      "16/16 [==============================] - 32s 2s/step - loss: 0.6179 - accuracy: 0.7576 - precision: 0.7672 - auc: 0.8386 - recall: 0.7731 - true_negatives: 174.0000 - val_loss: 1.5053 - val_accuracy: 0.4834 - val_precision: 0.5238 - val_auc: 0.4995 - val_recall: 0.3894 - val_true_negatives: 58.0000\n",
      "Epoch 28/50\n",
      "16/16 [==============================] - 32s 2s/step - loss: 0.6201 - accuracy: 0.7576 - precision: 0.7652 - auc: 0.8314 - recall: 0.7769 - true_negatives: 173.0000 - val_loss: 1.3474 - val_accuracy: 0.5024 - val_precision: 0.5588 - val_auc: 0.5255 - val_recall: 0.3363 - val_true_negatives: 68.0000\n",
      "Epoch 29/50\n",
      "16/16 [==============================] - 33s 2s/step - loss: 0.7941 - accuracy: 0.7152 - precision: 0.7212 - auc: 0.7875 - recall: 0.7462 - true_negatives: 160.0000 - val_loss: 2.1625 - val_accuracy: 0.4265 - val_precision: 0.4701 - val_auc: 0.3719 - val_recall: 0.5575 - val_true_negatives: 27.0000\n",
      "Epoch 30/50\n",
      "16/16 [==============================] - 30s 2s/step - loss: 0.7421 - accuracy: 0.7414 - precision: 0.7661 - auc: 0.8076 - recall: 0.7308 - true_negatives: 177.0000 - val_loss: 2.2585 - val_accuracy: 0.4360 - val_precision: 0.4516 - val_auc: 0.5034 - val_recall: 0.2478 - val_true_negatives: 64.0000\n",
      "Epoch 31/50\n",
      "16/16 [==============================] - 31s 2s/step - loss: 0.7975 - accuracy: 0.7273 - precision: 0.7432 - auc: 0.7986 - recall: 0.7346 - true_negatives: 169.0000 - val_loss: 1.5613 - val_accuracy: 0.4834 - val_precision: 0.5200 - val_auc: 0.4625 - val_recall: 0.4602 - val_true_negatives: 50.0000\n",
      "Epoch 32/50\n",
      "16/16 [==============================] - 31s 2s/step - loss: 0.8089 - accuracy: 0.7172 - precision: 0.7273 - auc: 0.7807 - recall: 0.7385 - true_negatives: 163.0000 - val_loss: 1.8844 - val_accuracy: 0.4171 - val_precision: 0.3684 - val_auc: 0.4292 - val_recall: 0.1239 - val_true_negatives: 74.0000\n",
      "Epoch 33/50\n",
      "16/16 [==============================] - 31s 2s/step - loss: 0.7341 - accuracy: 0.7495 - precision: 0.7446 - auc: 0.8055 - recall: 0.7962 - true_negatives: 164.0000 - val_loss: 1.7698 - val_accuracy: 0.4360 - val_precision: 0.4375 - val_auc: 0.5029 - val_recall: 0.1858 - val_true_negatives: 71.0000\n",
      "Epoch 34/50\n",
      "16/16 [==============================] - 30s 2s/step - loss: 0.7980 - accuracy: 0.7071 - precision: 0.7386 - auc: 0.7951 - recall: 0.6846 - true_negatives: 172.0000 - val_loss: 1.7113 - val_accuracy: 0.4550 - val_precision: 0.4839 - val_auc: 0.4985 - val_recall: 0.2655 - val_true_negatives: 66.0000\n",
      "Epoch 35/50\n",
      "16/16 [==============================] - 31s 2s/step - loss: 0.7574 - accuracy: 0.7253 - precision: 0.7348 - auc: 0.7998 - recall: 0.7462 - true_negatives: 165.0000 - val_loss: 2.7917 - val_accuracy: 0.4171 - val_precision: 0.2500 - val_auc: 0.4336 - val_recall: 0.0442 - val_true_negatives: 83.0000\n",
      "Epoch 36/50\n",
      "16/16 [==============================] - 31s 2s/step - loss: 0.8271 - accuracy: 0.7172 - precision: 0.7564 - auc: 0.7864 - recall: 0.6808 - true_negatives: 178.0000 - val_loss: 1.1954 - val_accuracy: 0.5355 - val_precision: 0.5743 - val_auc: 0.5575 - val_recall: 0.5133 - val_true_negatives: 55.0000\n",
      "Epoch 37/50\n",
      "16/16 [==============================] - 32s 2s/step - loss: 1.0821 - accuracy: 0.6970 - precision: 0.6978 - auc: 0.7747 - recall: 0.7462 - true_negatives: 151.0000 - val_loss: 1.2120 - val_accuracy: 0.5782 - val_precision: 0.5882 - val_auc: 0.5413 - val_recall: 0.7080 - val_true_negatives: 42.0000\n",
      "Epoch 38/50\n",
      "16/16 [==============================] - 30s 2s/step - loss: 1.3329 - accuracy: 0.6687 - precision: 0.6739 - auc: 0.7260 - recall: 0.7154 - true_negatives: 145.0000 - val_loss: 4.8551 - val_accuracy: 0.4645 - val_precision: 0.0000e+00 - val_auc: 0.4532 - val_recall: 0.0000e+00 - val_true_negatives: 98.0000\n",
      "Epoch 39/50\n",
      "16/16 [==============================] - 31s 2s/step - loss: 1.8205 - accuracy: 0.6424 - precision: 0.6751 - auc: 0.6955 - recall: 0.6154 - true_negatives: 158.0000 - val_loss: 1.9550 - val_accuracy: 0.4265 - val_precision: 0.4412 - val_auc: 0.4779 - val_recall: 0.2655 - val_true_negatives: 60.0000\n",
      "Epoch 40/50\n",
      "16/16 [==============================] - 33s 2s/step - loss: 0.7314 - accuracy: 0.7556 - precision: 0.7747 - auc: 0.8352 - recall: 0.7538 - true_negatives: 178.0000 - val_loss: 1.5145 - val_accuracy: 0.4882 - val_precision: 0.5316 - val_auc: 0.5400 - val_recall: 0.3717 - val_true_negatives: 61.0000\n",
      "Epoch 41/50\n",
      "16/16 [==============================] - 32s 2s/step - loss: 0.8108 - accuracy: 0.7596 - precision: 0.7701 - auc: 0.8165 - recall: 0.7731 - true_negatives: 175.0000 - val_loss: 2.3681 - val_accuracy: 0.4265 - val_precision: 0.4737 - val_auc: 0.3659 - val_recall: 0.6372 - val_true_negatives: 18.0000\n",
      "Epoch 42/50\n",
      "16/16 [==============================] - 31s 2s/step - loss: 0.7258 - accuracy: 0.7475 - precision: 0.7547 - auc: 0.8210 - recall: 0.7692 - true_negatives: 170.0000 - val_loss: 2.1320 - val_accuracy: 0.5261 - val_precision: 0.5351 - val_auc: 0.4356 - val_recall: 0.8761 - val_true_negatives: 12.0000\n",
      "Epoch 43/50\n",
      "16/16 [==============================] - 31s 2s/step - loss: 1.0203 - accuracy: 0.6808 - precision: 0.6917 - auc: 0.7498 - recall: 0.7077 - true_negatives: 153.0000 - val_loss: 2.3452 - val_accuracy: 0.3981 - val_precision: 0.3750 - val_auc: 0.4311 - val_recall: 0.1858 - val_true_negatives: 63.0000\n",
      "Epoch 44/50\n",
      "16/16 [==============================] - 28s 2s/step - loss: 0.7648 - accuracy: 0.7455 - precision: 0.7659 - auc: 0.8272 - recall: 0.7423 - true_negatives: 176.0000 - val_loss: 1.7170 - val_accuracy: 0.5071 - val_precision: 0.5529 - val_auc: 0.4916 - val_recall: 0.4159 - val_true_negatives: 60.0000\n",
      "Epoch 45/50\n",
      "16/16 [==============================] - 33s 2s/step - loss: 0.7253 - accuracy: 0.7515 - precision: 0.7546 - auc: 0.8248 - recall: 0.7808 - true_negatives: 169.0000 - val_loss: 2.0323 - val_accuracy: 0.4502 - val_precision: 0.4795 - val_auc: 0.4382 - val_recall: 0.3097 - val_true_negatives: 60.0000\n",
      "Epoch 46/50\n",
      "16/16 [==============================] - 32s 2s/step - loss: 0.8479 - accuracy: 0.7455 - precision: 0.7746 - auc: 0.8142 - recall: 0.7269 - true_negatives: 180.0000 - val_loss: 1.5142 - val_accuracy: 0.4645 - val_precision: 0.5000 - val_auc: 0.4643 - val_recall: 0.3894 - val_true_negatives: 54.0000\n",
      "Epoch 47/50\n",
      "16/16 [==============================] - 33s 2s/step - loss: 0.6363 - accuracy: 0.7636 - precision: 0.7638 - auc: 0.8462 - recall: 0.7962 - true_negatives: 171.0000 - val_loss: 1.7818 - val_accuracy: 0.4028 - val_precision: 0.4381 - val_auc: 0.3600 - val_recall: 0.4071 - val_true_negatives: 39.0000\n",
      "Epoch 48/50\n",
      "16/16 [==============================] - 32s 2s/step - loss: 0.6047 - accuracy: 0.7758 - precision: 0.7899 - auc: 0.8528 - recall: 0.7808 - true_negatives: 181.0000 - val_loss: 1.7026 - val_accuracy: 0.4265 - val_precision: 0.4048 - val_auc: 0.4961 - val_recall: 0.1504 - val_true_negatives: 73.0000\n",
      "Epoch 49/50\n",
      "16/16 [==============================] - 33s 2s/step - loss: 0.6468 - accuracy: 0.7697 - precision: 0.7724 - auc: 0.8416 - recall: 0.7962 - true_negatives: 174.0000 - val_loss: 1.8548 - val_accuracy: 0.3839 - val_precision: 0.4105 - val_auc: 0.3306 - val_recall: 0.3451 - val_true_negatives: 42.0000\n",
      "Epoch 50/50\n",
      "16/16 [==============================] - 33s 2s/step - loss: 0.7000 - accuracy: 0.7455 - precision: 0.7597 - auc: 0.8210 - recall: 0.7538 - true_negatives: 173.0000 - val_loss: 2.6318 - val_accuracy: 0.3886 - val_precision: 0.3095 - val_auc: 0.3749 - val_recall: 0.1150 - val_true_negatives: 69.0000\n"
     ]
    }
   ],
   "source": [
    "training_images = 456\n",
    "validation_images = 144 \n",
    "\n",
    "history = model.fit_generator(train_generator, # this should be equal to total number of images in training set. But to speed up the execution, I am only using 10000 images. Change this for better results. \n",
    "                   epochs = 50,  # change this for better results\n",
    "                   validation_data = test_generator)  # this should be equal to total number of images in validation set."
   ]
  },
  {
   "cell_type": "code",
   "execution_count": 10,
   "id": "613d19c9",
   "metadata": {},
   "outputs": [
    {
     "name": "stdout",
     "output_type": "stream",
     "text": [
      "0.6964040386676789\n",
      "0.4693838858604431\n"
     ]
    }
   ],
   "source": [
    "import statistics\n",
    "print (statistics.mean(history.history['accuracy']))\n",
    "print (statistics.mean(history.history['val_accuracy']))"
   ]
  },
  {
   "cell_type": "code",
   "execution_count": 11,
   "id": "72c4d522",
   "metadata": {},
   "outputs": [
    {
     "data": {
      "image/png": "[encoded data removed]",
      "text/plain": [
       "<Figure size 432x288 with 1 Axes>"
      ]
     },
     "metadata": {
      "needs_background": "light"
     },
     "output_type": "display_data"
    },
    {
     "data": {
      "image/png": "[encoded data removed]",
      "text/plain": [
       "<Figure size 432x288 with 1 Axes>"
      ]
     },
     "metadata": {
      "needs_background": "light"
     },
     "output_type": "display_data"
    }
   ],
   "source": [
    "#Some visualizations\n",
    "import matplotlib.pyplot as plt\n",
    "#Loss\n",
    "plt.plot(history.history['loss'],label='loss')\n",
    "plt.plot(history.history['val_loss'],label='val_loss')\n",
    "plt.legend()\n",
    "plt.show()\n",
    "#Accuracy\n",
    "plt.plot(history.history['accuracy'],label='acc')\n",
    "plt.plot(history.history['val_accuracy'],label='val_acc')\n",
    "plt.legend()\n",
    "plt.show()"
   ]
  },
  {
   "cell_type": "code",
   "execution_count": 12,
   "id": "a0a10ce7",
   "metadata": {},
   "outputs": [
    {
     "name": "stdout",
     "output_type": "stream",
     "text": [
      "7/7 [==============================] - 9s 1s/step - loss: 2.6318 - accuracy: 0.3886 - precision: 0.3095 - auc: 0.3749 - recall: 0.1150 - true_negatives: 69.0000     \n"
     ]
    },
    {
     "data": {
      "text/plain": [
       "[2.6317834854125977,\n",
       " 0.3886255919933319,\n",
       " 0.3095238208770752,\n",
       " 0.3748871088027954,\n",
       " 0.1150442510843277,\n",
       " 69.0]"
      ]
     },
     "execution_count": 12,
     "metadata": {},
     "output_type": "execute_result"
    }
   ],
   "source": [
    "model.evaluate(test_generator)"
   ]
  },
  {
   "cell_type": "code",
   "execution_count": null,
   "id": "3552a818",
   "metadata": {},
   "outputs": [],
   "source": []
  },
  {
   "cell_type": "code",
   "execution_count": null,
   "id": "8ff1b890",
   "metadata": {},
   "outputs": [],
   "source": []
  }
 ],
 "metadata": {
  "kernelspec": {
   "display_name": "Python 3 (ipykernel)",
   "language": "python",
   "name": "python3"
  },
  "language_info": {
   "codemirror_mode": {
    "name": "ipython",
    "version": 3
   },
   "file_extension": ".py",
   "mimetype": "text/x-python",
   "name": "python",
   "nbconvert_exporter": "python",
   "pygments_lexer": "ipython3",
   "version": "3.8.11"
  }
 },
 "nbformat": 4,
 "nbformat_minor": 5
}
