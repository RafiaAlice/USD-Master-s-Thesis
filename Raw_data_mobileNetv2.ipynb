{
 "cells": [
  {
   "cell_type": "markdown",
   "id": "bf66c5fb",
   "metadata": {},
   "source": [
    "# Raw_data_mobileNet"
   ]
  },
  {
   "cell_type": "code",
   "execution_count": 1,
   "id": "cdf70ba3",
   "metadata": {},
   "outputs": [],
   "source": [
    "import cv2\n",
    "import numpy as np\n",
    "import os\n",
    "from keras.preprocessing.image import ImageDataGenerator\n",
    "from keras import backend as K\n",
    "import keras\n",
    "from keras.models import Sequential, Model,load_model\n",
    "from keras import optimizers, losses, activations, models\n",
    "from keras.callbacks import EarlyStopping,ModelCheckpoint\n",
    "from keras.layers import Input, Add, Dense, Activation, ZeroPadding2D, BatchNormalization, Flatten, Conv2D, AveragePooling2D, MaxPooling2D, GlobalMaxPooling2D,MaxPool2D\n",
    "from keras.preprocessing import image\n",
    "from keras.initializers import glorot_uniform\n",
    "import numpy as np\n",
    "import pandas as pd\n",
    "import matplotlib.pyplot as plt\n",
    "from glob import glob\n",
    "import tensorflow as tf\n",
    "from tensorflow.keras.layers import Input, DepthwiseConv2D\n",
    "from tensorflow.keras.layers import Conv2D, BatchNormalization\n",
    "from tensorflow.keras.layers import ReLU, AvgPool2D, Flatten, Dense\n",
    "from tensorflow.keras import Model\n",
    "import matplotlib.pyplot as plt\n",
    "from keras.preprocessing.image import ImageDataGenerator\n",
    "from tensorflow.keras.applications.mobilenet import MobileNet\n",
    "from keras.layers import Dense\n",
    "from keras import Model\n",
    "from keras.callbacks import ModelCheckpoint\n",
    "from keras.models import load_model"
   ]
  },
  {
   "cell_type": "code",
   "execution_count": 2,
   "id": "2edf6397",
   "metadata": {},
   "outputs": [],
   "source": [
    "train_path= 'C:/Users/ASUS/Desktop/resWave/train'\n",
    "test_path= 'C:/Users/ASUS/Desktop/resWave/test'\n",
    "class_names=os.listdir(train_path)\n",
    "class_names_test=os.listdir(test_path)"
   ]
  },
  {
   "cell_type": "code",
   "execution_count": 3,
   "id": "bd79d127",
   "metadata": {},
   "outputs": [
    {
     "name": "stdout",
     "output_type": "stream",
     "text": [
      "['abnormal', 'normal']\n",
      "['abnormal', 'normal']\n"
     ]
    }
   ],
   "source": [
    "print(class_names)\n",
    "print(class_names_test)"
   ]
  },
  {
   "cell_type": "code",
   "execution_count": 4,
   "id": "61459779",
   "metadata": {},
   "outputs": [],
   "source": [
    "train_datagen = ImageDataGenerator(zoom_range=0.15,width_shift_range=0.2,height_shift_range=0.2,shear_range=0.15)\n",
    "test_datagen = ImageDataGenerator()"
   ]
  },
  {
   "cell_type": "code",
   "execution_count": 5,
   "id": "78860d05",
   "metadata": {},
   "outputs": [
    {
     "name": "stdout",
     "output_type": "stream",
     "text": [
      "Found 495 images belonging to 2 classes.\n",
      "Found 211 images belonging to 2 classes.\n"
     ]
    }
   ],
   "source": [
    "train_generator = train_datagen.flow_from_directory('C:/Users/ASUS/Desktop/resWave/train',target_size=(224, 224),batch_size=32,shuffle=True,class_mode='binary')\n",
    "test_generator = test_datagen.flow_from_directory('C:/Users/ASUS/Desktop/resWave/test',target_size=(224,224),batch_size=32,shuffle=False,class_mode='binary')"
   ]
  },
  {
   "cell_type": "code",
   "execution_count": 8,
   "id": "a967a4f9",
   "metadata": {},
   "outputs": [
    {
     "name": "stdout",
     "output_type": "stream",
     "text": [
      "Model: \"sequential_1\"\n",
      "_________________________________________________________________\n",
      " Layer (type)                Output Shape              Param #   \n",
      "=================================================================\n",
      " mobilenetv2_1.00_224 (Funct  (None, 7, 7, 1280)       2257984   \n",
      " ional)                                                          \n",
      "                                                                 \n",
      " flatten (Flatten)           (None, 62720)             0         \n",
      "                                                                 \n",
      " dense_3 (Dense)             (None, 1)                 62721     \n",
      "                                                                 \n",
      "=================================================================\n",
      "Total params: 2,320,705\n",
      "Trainable params: 62,721\n",
      "Non-trainable params: 2,257,984\n",
      "_________________________________________________________________\n"
     ]
    }
   ],
   "source": [
    "from tensorflow.keras.applications.mobilenet_v2 import MobileNetV2\n",
    "\n",
    "mobilenet = MobileNetV2(weights = \"imagenet\",include_top = False,input_shape=(224,224,3))\n",
    "for layer in mobilenet.layers:\n",
    "    layer.trainable = False\n",
    "    \n",
    "    \n",
    "model = Sequential()\n",
    "model.add(mobilenet)\n",
    "# model.add(Dense(128,activation='relu'))\n",
    "# model.add(Dense(128,activation='relu'))\n",
    "# model.add(Dense(128,activation='relu'))\n",
    "# model.add(Dropout(0.2))\n",
    "# model.add(Dense(128,activation='relu'))\n",
    "model.add(Flatten())\n",
    "model.add(Dense(1,activation='sigmoid'))\n",
    "model.summary()"
   ]
  },
  {
   "cell_type": "code",
   "execution_count": 9,
   "id": "dcb8f753",
   "metadata": {},
   "outputs": [],
   "source": [
    "from keras.callbacks import ModelCheckpoint, ReduceLROnPlateau, EarlyStopping\n",
    "# weight_path=\"{}_weights.best.hdf5\".format('spectro_sound_model')\n",
    "checkpoint = ModelCheckpoint(filepath =\"./check.hDf5\", monitor='val_loss', verbose=1, \n",
    "                             save_best_only=True, mode='min', save_weights_only = True)\n",
    "# reduceLROnPlat = ReduceLROnPlateau(monitor='val_loss', \n",
    "#                                    factor=0.8, patience=5, \n",
    "#                                    verbose=1, mode='auto', \n",
    "#                                    epsilon=0.0001, cooldown=5, \n",
    "#                                    min_lr=0.0001)\n",
    "early = EarlyStopping(monitor=\"val_loss\", \n",
    "                      mode=\"min\", \n",
    "                      patience=15) # probably needs to be more patient, but kaggle time is limited\n",
    "callbacks_list = [checkpoint, early]"
   ]
  },
  {
   "cell_type": "code",
   "execution_count": 10,
   "id": "22ce8d8f",
   "metadata": {},
   "outputs": [
    {
     "name": "stderr",
     "output_type": "stream",
     "text": [
      "C:\\Users\\ASUS\\anaconda3\\lib\\site-packages\\keras\\optimizer_v2\\adam.py:105: UserWarning: The `lr` argument is deprecated, use `learning_rate` instead.\n",
      "  super(Adam, self).__init__(name, **kwargs)\n"
     ]
    }
   ],
   "source": [
    "import tensorflow as tf\n",
    "from keras.models import *\n",
    "from keras.layers import *\n",
    "opt = tf.optimizers.Adam(lr=1e-3)\n",
    "model.compile(optimizer=opt, \n",
    "    loss=losses.binary_crossentropy, \n",
    "    metrics=['accuracy', 'Precision', 'AUC', tf.keras.metrics.Recall(), tf.keras.metrics.TrueNegatives()])"
   ]
  },
  {
   "cell_type": "code",
   "execution_count": 11,
   "id": "6d3084f8",
   "metadata": {},
   "outputs": [
    {
     "name": "stderr",
     "output_type": "stream",
     "text": [
      "C:\\Users\\ASUS\\AppData\\Local\\Temp/ipykernel_19004/615836474.py:4: UserWarning: `Model.fit_generator` is deprecated and will be removed in a future version. Please use `Model.fit`, which supports generators.\n",
      "  history = model.fit_generator(train_generator, # this should be equal to total number of images in training set. But to speed up the execution, I am only using 10000 images. Change this for better results.\n"
     ]
    },
    {
     "name": "stdout",
     "output_type": "stream",
     "text": [
      "Epoch 1/50\n",
      "16/16 [==============================] - 23s 1s/step - loss: 3.2114 - accuracy: 0.5576 - precision: 0.5817 - auc: 0.5735 - recall: 0.5615 - true_negatives: 130.0000 - val_loss: 2.8387 - val_accuracy: 0.3934 - val_precision: 0.4138 - val_auc: 0.4147 - val_recall: 0.3186 - val_true_negatives: 47.0000\n",
      "Epoch 2/50\n",
      "16/16 [==============================] - 17s 1s/step - loss: 1.4675 - accuracy: 0.6263 - precision: 0.6448 - auc: 0.6811 - recall: 0.6423 - true_negatives: 143.0000 - val_loss: 2.2352 - val_accuracy: 0.4550 - val_precision: 0.4915 - val_auc: 0.4515 - val_recall: 0.5133 - val_true_negatives: 38.0000\n",
      "Epoch 3/50\n",
      "16/16 [==============================] - 17s 1s/step - loss: 0.9394 - accuracy: 0.6970 - precision: 0.7037 - auc: 0.7739 - recall: 0.7308 - true_negatives: 155.0000 - val_loss: 1.7336 - val_accuracy: 0.5498 - val_precision: 0.5511 - val_auc: 0.5363 - val_recall: 0.8584 - val_true_negatives: 19.0000\n",
      "Epoch 4/50\n",
      "16/16 [==============================] - 17s 1s/step - loss: 0.7697 - accuracy: 0.7051 - precision: 0.7111 - auc: 0.7905 - recall: 0.7385 - true_negatives: 157.0000 - val_loss: 1.5938 - val_accuracy: 0.5166 - val_precision: 0.5364 - val_auc: 0.4756 - val_recall: 0.7168 - val_true_negatives: 28.0000\n",
      "Epoch 5/50\n",
      "16/16 [==============================] - 23s 1s/step - loss: 0.7392 - accuracy: 0.7333 - precision: 0.7462 - auc: 0.7872 - recall: 0.7462 - true_negatives: 169.0000 - val_loss: 1.5816 - val_accuracy: 0.4976 - val_precision: 0.5385 - val_auc: 0.5179 - val_recall: 0.4336 - val_true_negatives: 56.0000\n",
      "Epoch 6/50\n",
      "16/16 [==============================] - 24s 1s/step - loss: 0.6042 - accuracy: 0.7556 - precision: 0.7546 - auc: 0.8385 - recall: 0.7923 - true_negatives: 168.0000 - val_loss: 1.9570 - val_accuracy: 0.4455 - val_precision: 0.4583 - val_auc: 0.4801 - val_recall: 0.1947 - val_true_negatives: 72.0000\n",
      "Epoch 7/50\n",
      "16/16 [==============================] - 26s 2s/step - loss: 0.8851 - accuracy: 0.7051 - precision: 0.7436 - auc: 0.7796 - recall: 0.6692 - true_negatives: 175.0000 - val_loss: 1.7350 - val_accuracy: 0.4360 - val_precision: 0.4688 - val_auc: 0.4739 - val_recall: 0.3982 - val_true_negatives: 47.0000\n",
      "Epoch 8/50\n",
      "16/16 [==============================] - 24s 1s/step - loss: 0.6659 - accuracy: 0.7596 - precision: 0.7527 - auc: 0.8249 - recall: 0.8077 - true_negatives: 166.0000 - val_loss: 1.5286 - val_accuracy: 0.5403 - val_precision: 0.5755 - val_auc: 0.5472 - val_recall: 0.5398 - val_true_negatives: 53.0000\n",
      "Epoch 9/50\n",
      "16/16 [==============================] - 24s 1s/step - loss: 1.2128 - accuracy: 0.6727 - precision: 0.6842 - auc: 0.7314 - recall: 0.7000 - true_negatives: 151.0000 - val_loss: 2.8264 - val_accuracy: 0.4550 - val_precision: 0.4667 - val_auc: 0.4550 - val_recall: 0.1239 - val_true_negatives: 82.0000\n",
      "Epoch 10/50\n",
      "16/16 [==============================] - 26s 2s/step - loss: 1.3646 - accuracy: 0.6869 - precision: 0.7059 - auc: 0.7498 - recall: 0.6923 - true_negatives: 160.0000 - val_loss: 2.6889 - val_accuracy: 0.4692 - val_precision: 0.5082 - val_auc: 0.5062 - val_recall: 0.2743 - val_true_negatives: 68.0000\n",
      "Epoch 11/50\n",
      "16/16 [==============================] - 25s 2s/step - loss: 1.2369 - accuracy: 0.6990 - precision: 0.7247 - auc: 0.7645 - recall: 0.6885 - true_negatives: 167.0000 - val_loss: 2.3304 - val_accuracy: 0.4645 - val_precision: 0.5000 - val_auc: 0.5121 - val_recall: 0.2301 - val_true_negatives: 72.0000\n",
      "Epoch 12/50\n",
      "16/16 [==============================] - 26s 2s/step - loss: 0.9100 - accuracy: 0.7455 - precision: 0.7638 - auc: 0.8193 - recall: 0.7462 - true_negatives: 175.0000 - val_loss: 2.2215 - val_accuracy: 0.5735 - val_precision: 0.5673 - val_auc: 0.5313 - val_recall: 0.8584 - val_true_negatives: 24.0000\n",
      "Epoch 13/50\n",
      "16/16 [==============================] - 23s 1s/step - loss: 0.7272 - accuracy: 0.7697 - precision: 0.7786 - auc: 0.8400 - recall: 0.7846 - true_negatives: 177.0000 - val_loss: 1.5441 - val_accuracy: 0.5782 - val_precision: 0.5870 - val_auc: 0.5626 - val_recall: 0.7168 - val_true_negatives: 41.0000\n",
      "Epoch 14/50\n",
      "16/16 [==============================] - 25s 2s/step - loss: 0.5614 - accuracy: 0.8061 - precision: 0.8060 - auc: 0.8783 - recall: 0.8308 - true_negatives: 183.0000 - val_loss: 1.6013 - val_accuracy: 0.5403 - val_precision: 0.6053 - val_auc: 0.5946 - val_recall: 0.4071 - val_true_negatives: 68.0000\n",
      "Epoch 15/50\n",
      "16/16 [==============================] - 24s 1s/step - loss: 0.5800 - accuracy: 0.7859 - precision: 0.7939 - auc: 0.8693 - recall: 0.8000 - true_negatives: 181.0000 - val_loss: 1.9811 - val_accuracy: 0.5308 - val_precision: 0.5625 - val_auc: 0.5580 - val_recall: 0.5575 - val_true_negatives: 49.0000\n",
      "Epoch 16/50\n",
      "16/16 [==============================] - 25s 2s/step - loss: 0.5665 - accuracy: 0.7717 - precision: 0.7712 - auc: 0.8718 - recall: 0.8038 - true_negatives: 173.0000 - val_loss: 2.5155 - val_accuracy: 0.4455 - val_precision: 0.4524 - val_auc: 0.5263 - val_recall: 0.1681 - val_true_negatives: 75.0000\n",
      "Epoch 17/50\n",
      "16/16 [==============================] - 26s 2s/step - loss: 0.9745 - accuracy: 0.7293 - precision: 0.7442 - auc: 0.7992 - recall: 0.7385 - true_negatives: 169.0000 - val_loss: 3.0951 - val_accuracy: 0.4929 - val_precision: 0.5441 - val_auc: 0.5257 - val_recall: 0.3274 - val_true_negatives: 67.0000\n",
      "Epoch 18/50\n",
      "16/16 [==============================] - 25s 2s/step - loss: 0.9553 - accuracy: 0.7455 - precision: 0.7538 - auc: 0.8193 - recall: 0.7654 - true_negatives: 170.0000 - val_loss: 1.7842 - val_accuracy: 0.5829 - val_precision: 0.6000 - val_auc: 0.5936 - val_recall: 0.6637 - val_true_negatives: 48.0000\n",
      "Epoch 19/50\n",
      "16/16 [==============================] - 25s 2s/step - loss: 0.8770 - accuracy: 0.7434 - precision: 0.7529 - auc: 0.8163 - recall: 0.7615 - true_negatives: 170.0000 - val_loss: 2.3935 - val_accuracy: 0.6114 - val_precision: 0.5906 - val_auc: 0.6197 - val_recall: 0.8938 - val_true_negatives: 28.0000\n",
      "Epoch 20/50\n",
      "16/16 [==============================] - 27s 2s/step - loss: 0.8197 - accuracy: 0.7455 - precision: 0.7500 - auc: 0.8422 - recall: 0.7731 - true_negatives: 168.0000 - val_loss: 2.0169 - val_accuracy: 0.5355 - val_precision: 0.5758 - val_auc: 0.5604 - val_recall: 0.5044 - val_true_negatives: 56.0000\n",
      "Epoch 21/50\n",
      "16/16 [==============================] - 26s 2s/step - loss: 0.6242 - accuracy: 0.7960 - precision: 0.8046 - auc: 0.8716 - recall: 0.8077 - true_negatives: 184.0000 - val_loss: 1.8769 - val_accuracy: 0.4834 - val_precision: 0.5256 - val_auc: 0.5380 - val_recall: 0.3628 - val_true_negatives: 61.0000\n",
      "Epoch 22/50\n",
      "16/16 [==============================] - 23s 1s/step - loss: 0.5464 - accuracy: 0.8101 - precision: 0.8120 - auc: 0.8870 - recall: 0.8308 - true_negatives: 185.0000 - val_loss: 1.8577 - val_accuracy: 0.5782 - val_precision: 0.5952 - val_auc: 0.5746 - val_recall: 0.6637 - val_true_negatives: 47.0000\n",
      "Epoch 23/50\n",
      "16/16 [==============================] - 26s 2s/step - loss: 0.4852 - accuracy: 0.8222 - precision: 0.8333 - auc: 0.9003 - recall: 0.8269 - true_negatives: 192.0000 - val_loss: 2.0225 - val_accuracy: 0.5213 - val_precision: 0.5588 - val_auc: 0.5566 - val_recall: 0.5044 - val_true_negatives: 53.0000\n",
      "Epoch 24/50\n",
      "16/16 [==============================] - 24s 2s/step - loss: 0.6016 - accuracy: 0.7919 - precision: 0.8153 - auc: 0.8740 - recall: 0.7808 - true_negatives: 189.0000 - val_loss: 2.2225 - val_accuracy: 0.5877 - val_precision: 0.5730 - val_auc: 0.5793 - val_recall: 0.9027 - val_true_negatives: 22.0000\n",
      "Epoch 25/50\n",
      "16/16 [==============================] - 27s 2s/step - loss: 0.9686 - accuracy: 0.7333 - precision: 0.7353 - auc: 0.8044 - recall: 0.7692 - true_negatives: 163.0000 - val_loss: 3.1030 - val_accuracy: 0.5355 - val_precision: 0.5714 - val_auc: 0.5826 - val_recall: 0.5310 - val_true_negatives: 53.0000\n",
      "Epoch 26/50\n",
      "16/16 [==============================] - 24s 1s/step - loss: 0.7742 - accuracy: 0.7919 - precision: 0.8127 - auc: 0.8616 - recall: 0.7846 - true_negatives: 188.0000 - val_loss: 2.1626 - val_accuracy: 0.5308 - val_precision: 0.5700 - val_auc: 0.5623 - val_recall: 0.5044 - val_true_negatives: 55.0000\n",
      "Epoch 27/50\n",
      "16/16 [==============================] - 25s 2s/step - loss: 0.7336 - accuracy: 0.7737 - precision: 0.7741 - auc: 0.8556 - recall: 0.8038 - true_negatives: 174.0000 - val_loss: 2.5037 - val_accuracy: 0.4976 - val_precision: 0.5493 - val_auc: 0.5549 - val_recall: 0.3451 - val_true_negatives: 66.0000\n",
      "Epoch 28/50\n",
      "16/16 [==============================] - 24s 2s/step - loss: 0.7502 - accuracy: 0.7879 - precision: 0.8063 - auc: 0.8631 - recall: 0.7846 - true_negatives: 186.0000 - val_loss: 2.3530 - val_accuracy: 0.5213 - val_precision: 0.5789 - val_auc: 0.5726 - val_recall: 0.3894 - val_true_negatives: 66.0000\n",
      "Epoch 29/50\n",
      "16/16 [==============================] - 24s 2s/step - loss: 0.4573 - accuracy: 0.8162 - precision: 0.8288 - auc: 0.9119 - recall: 0.8192 - true_negatives: 191.0000 - val_loss: 2.0622 - val_accuracy: 0.4976 - val_precision: 0.5361 - val_auc: 0.5457 - val_recall: 0.4602 - val_true_negatives: 53.0000\n",
      "Epoch 30/50\n",
      "16/16 [==============================] - 25s 2s/step - loss: 0.6533 - accuracy: 0.7697 - precision: 0.7829 - auc: 0.8665 - recall: 0.7769 - true_negatives: 179.0000 - val_loss: 2.0319 - val_accuracy: 0.5166 - val_precision: 0.5647 - val_auc: 0.5622 - val_recall: 0.4248 - val_true_negatives: 61.0000\n",
      "Epoch 31/50\n",
      "16/16 [==============================] - 24s 2s/step - loss: 0.3914 - accuracy: 0.8485 - precision: 0.8517 - auc: 0.9304 - recall: 0.8615 - true_negatives: 196.0000 - val_loss: 2.0882 - val_accuracy: 0.4739 - val_precision: 0.5128 - val_auc: 0.5415 - val_recall: 0.3540 - val_true_negatives: 60.0000\n",
      "Epoch 32/50\n",
      "16/16 [==============================] - 25s 2s/step - loss: 0.6474 - accuracy: 0.7859 - precision: 0.8130 - auc: 0.8754 - recall: 0.7692 - true_negatives: 189.0000 - val_loss: 2.4390 - val_accuracy: 0.5261 - val_precision: 0.5512 - val_auc: 0.5149 - val_recall: 0.6195 - val_true_negatives: 41.0000\n",
      "Epoch 33/50\n",
      "16/16 [==============================] - 25s 2s/step - loss: 0.6371 - accuracy: 0.8081 - precision: 0.8000 - auc: 0.8760 - recall: 0.8462 - true_negatives: 180.0000 - val_loss: 2.1850 - val_accuracy: 0.5782 - val_precision: 0.5923 - val_auc: 0.5611 - val_recall: 0.6814 - val_true_negatives: 45.0000\n",
      "Epoch 34/50\n",
      "16/16 [==============================] - 26s 2s/step - loss: 0.7633 - accuracy: 0.7636 - precision: 0.7761 - auc: 0.8509 - recall: 0.7731 - true_negatives: 177.0000 - val_loss: 2.6446 - val_accuracy: 0.5213 - val_precision: 0.5492 - val_auc: 0.5261 - val_recall: 0.5929 - val_true_negatives: 43.0000\n",
      "Epoch 35/50\n",
      "16/16 [==============================] - 23s 1s/step - loss: 0.5430 - accuracy: 0.8242 - precision: 0.8502 - auc: 0.9007 - recall: 0.8077 - true_negatives: 198.0000 - val_loss: 2.6936 - val_accuracy: 0.5450 - val_precision: 0.5794 - val_auc: 0.5358 - val_recall: 0.5487 - val_true_negatives: 53.0000\n",
      "Epoch 36/50\n",
      "16/16 [==============================] - 25s 2s/step - loss: 0.5378 - accuracy: 0.8222 - precision: 0.8333 - auc: 0.8926 - recall: 0.8269 - true_negatives: 192.0000 - val_loss: 2.2338 - val_accuracy: 0.5213 - val_precision: 0.5462 - val_auc: 0.5259 - val_recall: 0.6283 - val_true_negatives: 39.0000\n",
      "Epoch 37/50\n",
      "16/16 [==============================] - 24s 1s/step - loss: 0.4865 - accuracy: 0.8242 - precision: 0.8289 - auc: 0.9135 - recall: 0.8385 - true_negatives: 190.0000 - val_loss: 2.2077 - val_accuracy: 0.4976 - val_precision: 0.5493 - val_auc: 0.5169 - val_recall: 0.3451 - val_true_negatives: 66.0000\n",
      "Epoch 38/50\n",
      "16/16 [==============================] - 25s 2s/step - loss: 0.6967 - accuracy: 0.7818 - precision: 0.7969 - auc: 0.8513 - recall: 0.7846 - true_negatives: 183.0000 - val_loss: 2.8650 - val_accuracy: 0.4834 - val_precision: 0.5333 - val_auc: 0.5059 - val_recall: 0.2832 - val_true_negatives: 70.0000\n",
      "Epoch 39/50\n",
      "16/16 [==============================] - 24s 1s/step - loss: 0.9431 - accuracy: 0.7717 - precision: 0.7712 - auc: 0.8351 - recall: 0.8038 - true_negatives: 173.0000 - val_loss: 3.5433 - val_accuracy: 0.4739 - val_precision: 0.5227 - val_auc: 0.5036 - val_recall: 0.2035 - val_true_negatives: 77.0000\n",
      "Epoch 40/50\n",
      "16/16 [==============================] - 25s 2s/step - loss: 1.0703 - accuracy: 0.7333 - precision: 0.7645 - auc: 0.8126 - recall: 0.7115 - true_negatives: 178.0000 - val_loss: 2.8166 - val_accuracy: 0.4976 - val_precision: 0.5443 - val_auc: 0.5397 - val_recall: 0.3805 - val_true_negatives: 62.0000\n",
      "Epoch 41/50\n",
      "16/16 [==============================] - 25s 2s/step - loss: 0.4369 - accuracy: 0.8424 - precision: 0.8473 - auc: 0.9238 - recall: 0.8538 - true_negatives: 195.0000 - val_loss: 2.9289 - val_accuracy: 0.4834 - val_precision: 0.5238 - val_auc: 0.5228 - val_recall: 0.3894 - val_true_negatives: 58.0000\n",
      "Epoch 42/50\n",
      "16/16 [==============================] - 24s 2s/step - loss: 0.6272 - accuracy: 0.7960 - precision: 0.8069 - auc: 0.8825 - recall: 0.8038 - true_negatives: 185.0000 - val_loss: 2.4441 - val_accuracy: 0.5071 - val_precision: 0.5529 - val_auc: 0.5406 - val_recall: 0.4159 - val_true_negatives: 60.0000\n",
      "Epoch 43/50\n",
      "16/16 [==============================] - 25s 2s/step - loss: 0.6070 - accuracy: 0.8222 - precision: 0.8333 - auc: 0.8834 - recall: 0.8269 - true_negatives: 192.0000 - val_loss: 2.2201 - val_accuracy: 0.5829 - val_precision: 0.5817 - val_auc: 0.5869 - val_recall: 0.7876 - val_true_negatives: 34.0000\n",
      "Epoch 44/50\n",
      "16/16 [==============================] - 24s 1s/step - loss: 0.5536 - accuracy: 0.8121 - precision: 0.8199 - auc: 0.8893 - recall: 0.8231 - true_negatives: 188.0000 - val_loss: 1.9175 - val_accuracy: 0.5924 - val_precision: 0.6063 - val_auc: 0.6132 - val_recall: 0.6814 - val_true_negatives: 48.0000\n",
      "Epoch 45/50\n",
      "16/16 [==============================] - 25s 2s/step - loss: 0.7697 - accuracy: 0.7737 - precision: 0.7891 - auc: 0.8647 - recall: 0.7769 - true_negatives: 181.0000 - val_loss: 2.4136 - val_accuracy: 0.5071 - val_precision: 0.5517 - val_auc: 0.5535 - val_recall: 0.4248 - val_true_negatives: 59.0000\n",
      "Epoch 46/50\n",
      "16/16 [==============================] - 25s 2s/step - loss: 0.4677 - accuracy: 0.8586 - precision: 0.8598 - auc: 0.9148 - recall: 0.8731 - true_negatives: 198.0000 - val_loss: 2.1695 - val_accuracy: 0.5024 - val_precision: 0.5370 - val_auc: 0.5221 - val_recall: 0.5133 - val_true_negatives: 48.0000\n",
      "Epoch 47/50\n",
      "16/16 [==============================] - 25s 2s/step - loss: 0.4408 - accuracy: 0.8283 - precision: 0.8302 - auc: 0.9207 - recall: 0.8462 - true_negatives: 190.0000 - val_loss: 2.3548 - val_accuracy: 0.5355 - val_precision: 0.5743 - val_auc: 0.5579 - val_recall: 0.5133 - val_true_negatives: 55.0000\n",
      "Epoch 48/50\n",
      "16/16 [==============================] - 23s 1s/step - loss: 0.5796 - accuracy: 0.8242 - precision: 0.8392 - auc: 0.8892 - recall: 0.8231 - true_negatives: 194.0000 - val_loss: 2.1775 - val_accuracy: 0.5261 - val_precision: 0.5823 - val_auc: 0.5596 - val_recall: 0.4071 - val_true_negatives: 65.0000\n",
      "Epoch 49/50\n",
      "16/16 [==============================] - 25s 2s/step - loss: 0.5420 - accuracy: 0.8242 - precision: 0.8392 - auc: 0.8985 - recall: 0.8231 - true_negatives: 194.0000 - val_loss: 2.1885 - val_accuracy: 0.5782 - val_precision: 0.5779 - val_auc: 0.5553 - val_recall: 0.7876 - val_true_negatives: 33.0000\n",
      "Epoch 50/50\n",
      "16/16 [==============================] - 24s 2s/step - loss: 0.5655 - accuracy: 0.8202 - precision: 0.8276 - auc: 0.8983 - recall: 0.8308 - true_negatives: 190.0000 - val_loss: 2.6735 - val_accuracy: 0.5450 - val_precision: 0.5659 - val_auc: 0.5454 - val_recall: 0.6460 - val_true_negatives: 42.0000\n"
     ]
    }
   ],
   "source": [
    "training_images = 456\n",
    "validation_images = 144 \n",
    "\n",
    "history = model.fit_generator(train_generator, # this should be equal to total number of images in training set. But to speed up the execution, I am only using 10000 images. Change this for better results. \n",
    "                   epochs = 50,  # change this for better results\n",
    "                   validation_data = test_generator)  # this should be equal to total number of images in validation set."
   ]
  },
  {
   "cell_type": "code",
   "execution_count": 12,
   "id": "613d19c9",
   "metadata": {},
   "outputs": [
    {
     "name": "stdout",
     "output_type": "stream",
     "text": [
      "0.7699797987937927\n",
      "0.5172511810064315\n"
     ]
    }
   ],
   "source": [
    "import statistics\n",
    "print (statistics.mean(history.history['accuracy']))\n",
    "print (statistics.mean(history.history['val_accuracy']))"
   ]
  },
  {
   "cell_type": "code",
   "execution_count": 13,
   "id": "72c4d522",
   "metadata": {},
   "outputs": [
    {
     "data": {
      "image/png": "[encoded data removed]",
      "text/plain": [
       "<Figure size 432x288 with 1 Axes>"
      ]
     },
     "metadata": {
      "needs_background": "light"
     },
     "output_type": "display_data"
    },
    {
     "data": {
      "image/png": "[encoded data removed]",
      "text/plain": [
       "<Figure size 432x288 with 1 Axes>"
      ]
     },
     "metadata": {
      "needs_background": "light"
     },
     "output_type": "display_data"
    }
   ],
   "source": [
    "#Some visualizations\n",
    "import matplotlib.pyplot as plt\n",
    "#Loss\n",
    "plt.plot(history.history['loss'],label='loss')\n",
    "plt.plot(history.history['val_loss'],label='val_loss')\n",
    "plt.legend()\n",
    "plt.show()\n",
    "#Accuracy\n",
    "plt.plot(history.history['accuracy'],label='acc')\n",
    "plt.plot(history.history['val_accuracy'],label='val_acc')\n",
    "plt.legend()\n",
    "plt.show()"
   ]
  },
  {
   "cell_type": "code",
   "execution_count": 14,
   "id": "a0a10ce7",
   "metadata": {},
   "outputs": [
    {
     "name": "stdout",
     "output_type": "stream",
     "text": [
      "7/7 [==============================] - 5s 703ms/step - loss: 2.6735 - accuracy: 0.5450 - precision: 0.5659 - auc: 0.5454 - recall: 0.6460 - true_negatives: 42.0000  \n"
     ]
    },
    {
     "data": {
      "text/plain": [
       "[2.6734962463378906,\n",
       " 0.5450236797332764,\n",
       " 0.565891444683075,\n",
       " 0.5453765392303467,\n",
       " 0.6460176706314087,\n",
       " 42.0]"
      ]
     },
     "execution_count": 14,
     "metadata": {},
     "output_type": "execute_result"
    }
   ],
   "source": [
    "model.evaluate(test_generator)"
   ]
  },
  {
   "cell_type": "code",
   "execution_count": null,
   "id": "3552a818",
   "metadata": {},
   "outputs": [],
   "source": []
  }
 ],
 "metadata": {
  "kernelspec": {
   "display_name": "Python 3 (ipykernel)",
   "language": "python",
   "name": "python3"
  },
  "language_info": {
   "codemirror_mode": {
    "name": "ipython",
    "version": 3
   },
   "file_extension": ".py",
   "mimetype": "text/x-python",
   "name": "python",
   "nbconvert_exporter": "python",
   "pygments_lexer": "ipython3",
   "version": "3.8.11"
  }
 },
 "nbformat": 4,
 "nbformat_minor": 5
}
